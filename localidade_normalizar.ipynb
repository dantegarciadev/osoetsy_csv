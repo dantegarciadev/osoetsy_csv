{
 "cells": [
  {
   "cell_type": "code",
   "execution_count": 1,
   "metadata": {},
   "outputs": [],
   "source": [
    "import pandas as pd\n",
    "import numpy as np\n",
    "import xlwt\n",
    "import xlrd\n",
    "from tkinter import filedialog\n",
    "import tkinter as tk\n",
    "import customtkinter as ctk\n",
    "from customtkinter import filedialog\n",
    "import funciones\n",
    "import re\n",
    "import openpyxl\n",
    "from datetime  import datetime"
   ]
  },
  {
   "cell_type": "code",
   "execution_count": 4,
   "metadata": {},
   "outputs": [
    {
     "name": "stdout",
     "output_type": "stream",
     "text": [
      "<_io.TextIOWrapper name='G:/Mi unidad/osoetsylra/EFECTORES SOCIALES ALTAS 0405MEPLIFE.xlsx' mode='r' encoding='cp1252'>\n"
     ]
    },
    {
     "name": "stderr",
     "output_type": "stream",
     "text": [
      "c:\\Users\\zickd\\OneDrive\\Documentos\\repositoriosGit\\osoetsy_csv\\.venv\\Lib\\site-packages\\openpyxl\\worksheet\\_reader.py:223: UserWarning: Cell L3176 is marked as a date but the serial value 6671688.0 is outside the limits for dates. The cell will be treated as an error.\n",
      "  warn(msg)\n"
     ]
    },
    {
     "name": "stdout",
     "output_type": "stream",
     "text": [
      "Codigo                        int64\n",
      "CUIT_Empleador                int64\n",
      "CUIL_Titular                  int64\n",
      "Parentesco                    int64\n",
      "CUIL_Familiar               float64\n",
      "Tipo_Doc                     object\n",
      "Nro_Doc                       int64\n",
      "Apellido_                    object\n",
      "Nombre                       object\n",
      "Sexo                         object\n",
      "Estado_Civil                  int64\n",
      "Fch_Nac                      object\n",
      "Nacionalidad                  int64\n",
      "Calle                        object\n",
      "Nro                          object\n",
      "Piso                        float64\n",
      "Dpto                         object\n",
      "Localidad                    object\n",
      "CP                           object\n",
      "Provincia                    object\n",
      "Tipo_domi                    object\n",
      "Telefono                    float64\n",
      "Revista                     float64\n",
      "Incapacidad                   int64\n",
      "Tipo_Beneficiario            object\n",
      "Fch_Alta_OS          datetime64[ns]\n",
      "SEDE                         object\n",
      "dtype: object\n"
     ]
    }
   ],
   "source": [
    "archivo = None\n",
    "while True:\n",
    "    archivo = funciones.seleccionar_archivo()\n",
    "    print(archivo)\n",
    "    if archivo:\n",
    "        ruta_archivo = archivo.name\n",
    "        try:\n",
    "            padon_1 = pd.read_excel(ruta_archivo, engine='openpyxl',sheet_name='MEPLIFE')\n",
    "            #padron = pd.read_csv(archivo, sep=\";\", encoding=\"ISO-8859-1\")Z\n",
    "            print(padon_1.dtypes)\n",
    "            break\n",
    "        except UnicodeDecodeError:\n",
    "            print(\"Error de decodificación de caracteres. Intenta con otra codificación o archivo.\")\n",
    "            continue\n",
    "    else:\n",
    "        print(\"Archivo incorrecto. Por favor, vuelva a cargarlo.\")\n"
   ]
  },
  {
   "cell_type": "code",
   "execution_count": 7,
   "metadata": {},
   "outputs": [],
   "source": [
    "padon_1['Localidad']=padon_1['Localidad'].str.strip()"
   ]
  },
  {
   "cell_type": "code",
   "execution_count": 9,
   "metadata": {},
   "outputs": [],
   "source": [
    "patch =  funciones.seleccionar_directorio()\n",
    "\n",
    "padon_1.to_excel(patch + \"/padron_meplifefinal.xlsx\", index=False)"
   ]
  },
  {
   "cell_type": "code",
   "execution_count": 5,
   "metadata": {},
   "outputs": [
    {
     "data": {
      "text/plain": [
       "False"
      ]
     },
     "execution_count": 5,
     "metadata": {},
     "output_type": "execute_result"
    }
   ],
   "source": [
    "v1 = 1\n",
    "v1 +3 == 2"
   ]
  }
 ],
 "metadata": {
  "kernelspec": {
   "display_name": ".venv",
   "language": "python",
   "name": "python3"
  },
  "language_info": {
   "codemirror_mode": {
    "name": "ipython",
    "version": 3
   },
   "file_extension": ".py",
   "mimetype": "text/x-python",
   "name": "python",
   "nbconvert_exporter": "python",
   "pygments_lexer": "ipython3",
   "version": "3.11.8"
  }
 },
 "nbformat": 4,
 "nbformat_minor": 2
}
