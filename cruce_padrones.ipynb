{
 "cells": [
  {
   "cell_type": "code",
   "execution_count": 1,
   "metadata": {},
   "outputs": [],
   "source": [
    "import pandas as pd\n",
    "import numpy as np\n",
    "import xlwt\n",
    "import xlrd\n",
    "from tkinter import filedialog\n",
    "import tkinter as tk\n",
    "import customtkinter as ctk\n",
    "from customtkinter import filedialog\n",
    "import funciones\n",
    "import re"
   ]
  },
  {
   "attachments": {},
   "cell_type": "markdown",
   "metadata": {},
   "source": [
    "### cargar archivo 1"
   ]
  },
  {
   "cell_type": "code",
   "execution_count": 12,
   "metadata": {},
   "outputs": [
    {
     "name": "stdout",
     "output_type": "stream",
     "text": [
      "<_io.TextIOWrapper name='C:/Users/zickd/Downloads/1ER TANDA ROCIO (SOLO TITULARES) EPV (CUENTA NUEVA).xlsx' mode='r' encoding='cp1252'>\n",
      "      CUIL TITULAR*       CUIL*  APELLIDO*            NOMBRES*  \\\n",
      "0       27417656249         NaN     GALVAN            MICAELA    \n",
      "1       27242534110         NaN     SORIA      ANDREA FERNANDA   \n",
      "2       27317727238         NaN    BENITEZ  GABRIELA FERNANDA    \n",
      "3       27358318555         NaN     SUAREZ              IVVANA   \n",
      "4       20431778824         NaN     PEREZ             RODRIGO    \n",
      "...             ...         ...        ...                 ...   \n",
      "1721  20-23853224-9         NaN    FERRAUR      DANIEL ANTONIO   \n",
      "1722  20-32341107-8         NaN  RODRIGUEZ         JUAN CARLOS   \n",
      "1723  20-16258571-2         NaN   NICOLINI    ESTEBAN ENRRIQUE   \n",
      "1724            NaN  49259513.0   NICOLINI       JAZMIN LUJAN    \n",
      "1725    20313079709         NaN    ARRAYA        PABLO AGUSTIN   \n",
      "\n",
      "         DOMICILIO (calle)* Domicilio (altura)*       LOCALIDAD*    TELEFONO  \\\n",
      "0         LEONARDO DA VINCI                3369           MORENO  1169749801   \n",
      "1            LOPEZ BUCHARDO                2989           MORENO  1162514689   \n",
      "2                  BECQUER                 2200          MORENO   1156407731   \n",
      "3     LA MADRE Y VERDAGUER                 2307           MORENO  1156407731   \n",
      "4           INFANTA ISABEL                 6659          MORENO   1127934655   \n",
      "...                     ...                 ...              ...         ...   \n",
      "1721               MONTIEL                 1011  LOMAS DE ZAMORA         NaN   \n",
      "1722              GRAL PAZ                 3962  LOMAS DE ZAMORA         NaN   \n",
      "1723               ELIZALDE                 NaN  LOMAS DE ZAMORA         NaN   \n",
      "1724               ELIZALDE                 NaN  LOMAS DE ZAMORA         NaN   \n",
      "1725                    NaN                 NaN   S. S. DE JUJUY         NaN   \n",
      "\n",
      "     N° DE FORMULARIO FECHA DE ALTA*       FECHA DE NAC.*  NACIONALIDAD*  \\\n",
      "0            16051101       SI 07/22  1999-02-12 00:00:00           12.0   \n",
      "1            16051132       SI 07/22  1974-11-03 00:00:00           12.0   \n",
      "2            16051885       SI 07/22  1985-09-19 00:00:00           12.0   \n",
      "3            16051899       SI 07/22  1991-03-20 00:00:00           12.0   \n",
      "4            16051663       SI 07/22  2001-02-03 00:00:00           12.0   \n",
      "...               ...            ...                  ...            ...   \n",
      "1721         16046591       SI 07/22                  NaN           12.0   \n",
      "1722         16046441       SI 07/22                  NaN           12.0   \n",
      "1723         16047728       SI 07/22                  NaN           12.0   \n",
      "1724         16047728       SI 07/22                  NaN           12.0   \n",
      "1725              NaN       SI 08/22                  NaN           12.0   \n",
      "\n",
      "     Sexo*  Estado Civil*  Parentesco*  SEDE Discapacidad* Unnamed: 17  \n",
      "0        F            1.0          0.0   NaN           NO          NaN  \n",
      "1        F            1.0          0.0   NaN           NO          NaN  \n",
      "2        F            1.0          0.0   NaN           NO          NaN  \n",
      "3        F            1.0          0.0   NaN           NO          NaN  \n",
      "4        M            1.0          0.0   NaN           NO          NaN  \n",
      "...    ...            ...          ...   ...           ...         ...  \n",
      "1721     M            1.0          0.0   NaN            NO         NaN  \n",
      "1722     M            1.0          0.0   NaN            NO         NaN  \n",
      "1723     M            1.0          0.0   NaN            NO         NaN  \n",
      "1724     F            1.0          2.0   NaN            NO         NaN  \n",
      "1725     M            1.0          0.0   NaN            NO         NaN  \n",
      "\n",
      "[1726 rows x 18 columns]\n"
     ]
    }
   ],
   "source": [
    "archivo = None\n",
    "while True:\n",
    "    archivo = funciones.seleccionar_archivo()\n",
    "    print(archivo)\n",
    "    if archivo:\n",
    "        ruta_archivo = archivo.name\n",
    "        try:\n",
    "            padon_1 = pd.read_excel(ruta_archivo, engine='openpyxl')\n",
    "            #padron = pd.read_csv(archivo, sep=\";\", encoding=\"ISO-8859-1\")\n",
    "            print(padon_1)\n",
    "            break\n",
    "        except UnicodeDecodeError:\n",
    "            print(\"Error de decodificación de caracteres. Intenta con otra codificación o archivo.\")\n",
    "            continue\n",
    "    else:\n",
    "        print(\"Archivo incorrecto. Por favor, vuelva a cargarlo.\")\n"
   ]
  },
  {
   "attachments": {},
   "cell_type": "markdown",
   "metadata": {},
   "source": [
    "### cargar archivo 2"
   ]
  },
  {
   "cell_type": "code",
   "execution_count": 20,
   "metadata": {},
   "outputs": [
    {
     "name": "stdout",
     "output_type": "stream",
     "text": [
      "<_io.TextIOWrapper name='C:/Users/zickd/Downloads/padron_completo_13-06-23.csv' mode='r' encoding='cp1252'>\n",
      "       Nro. OS      Plan del Afiliado Opcion  Nro. Grupo Familiar  \\\n",
      "0            7            Desregulado     SI             26407599   \n",
      "1            7            Desregulado     SI             26407599   \n",
      "2            6               Afiliado     SI             30694069   \n",
      "3           10            Desregulado     SI             31403090   \n",
      "4            1  Monotributista social     NO             36821087   \n",
      "...        ...                    ...    ...                  ...   \n",
      "15296        4            Desregulado     SI             21601831   \n",
      "15297        4            Desregulado     SI             21601831   \n",
      "15298        4            Desregulado     SI             21601831   \n",
      "15299        4            Desregulado     SI             21601831   \n",
      "15300        1               Afiliado     SI             36602782   \n",
      "\n",
      "         Nro. Afiliado Parentesco con el TITULAR Apellido Afiliado  \\\n",
      "0      020-26407599-00                   TITULAR              ABAD   \n",
      "1      020-26407599-02                    Hijo/a             TEVEZ   \n",
      "2      010-30694069-00                   TITULAR             ABADI   \n",
      "3      040-31403090-00                   TITULAR           ABALLAY   \n",
      "4      030-36821087-00                   TITULAR           ABALLAY   \n",
      "...                ...                       ...               ...   \n",
      "15296  030-21601831-04                    Hijo/a            MORTON   \n",
      "15297  030-21601831-05                    Hijo/a          SAFFORES   \n",
      "15298  030-21601831-06                    Hijo/a            MORTON   \n",
      "15299  030-21601831-07                    Hijo/a            MORTON   \n",
      "15300  010-36602782-00                   TITULAR         ZWIERCZYK   \n",
      "\n",
      "              Nombre Afiliado                Tipo Documento  Nro. Documento  \\\n",
      "0                      VANESA  Documento Nacional Identidad        26407599   \n",
      "1                       MATEO  Documento Nacional Identidad        47279801   \n",
      "2                  PEDRO RAUL  Documento Nacional Identidad        30694069   \n",
      "3          VERONICA ALEJANDRA  Documento Nacional Identidad        31403090   \n",
      "4      VICTORIA DULCE DANIELA  Documento Nacional Identidad        36821087   \n",
      "...                       ...                           ...             ...   \n",
      "15296        ANTHONY VALENTIN  Documento Nacional Identidad        54403271   \n",
      "15297          MICAELA XIMENA  Documento Nacional Identidad        48231861   \n",
      "15298         NAIARA CONTANZA  Documento Nacional Identidad        52668909   \n",
      "15299          ISABELLA ANAHI  Documento Nacional Identidad        56631137   \n",
      "15300           HECTOR DAMIAN  Documento Nacional Identidad        36602782   \n",
      "\n",
      "       ... Nro. Puerta Piso Departamento Barrio         Localidad  \\\n",
      "0      ...        3165  NaN          NaN    NaN     VICENTE LOPEZ   \n",
      "1      ...        3165  NaN          NaN    NaN     VICENTE LOPEZ   \n",
      "2      ...        4045  NaN          NaN    NaN             MERLO   \n",
      "3      ...           1  NaN          NaN    NaN  FLORENCIO VARELA   \n",
      "4      ...        1520  NaN          NaN    NaN   VIRREY DEL PINO   \n",
      "...    ...         ...  ...          ...    ...               ...   \n",
      "15296  ...        5523  NaN          NaN    NaN   ISIDRO CASANOVA   \n",
      "15297  ...        5523  NaN          NaN    NaN   ISIDRO CASANOVA   \n",
      "15298  ...        5523  NaN          NaN    NaN   ISIDRO CASANOVA   \n",
      "15299  ...        5523  NaN          NaN    NaN   ISIDRO CASANOVA   \n",
      "15300  ...        3057  NaN          NaN    NaN  FLORENCIO VARELA   \n",
      "\n",
      "          Provincia  Codigo Postal         Telefono        Celular  \\\n",
      "0      BUENOS AIRES           1638                      1135614959   \n",
      "1      BUENOS AIRES           1638              NaN            NaN   \n",
      "2      BUENOS AIRES           1722                    11 5937-8276   \n",
      "3      BUENOS AIRES           1888       1133164359                  \n",
      "4      BUENOS AIRES           1763  11 11 3818-6283                  \n",
      "...             ...            ...              ...            ...   \n",
      "15296  BUENOS AIRES            NaN              NaN            NaN   \n",
      "15297  BUENOS AIRES            NaN              NaN            NaN   \n",
      "15298  BUENOS AIRES            NaN              NaN            NaN   \n",
      "15299  BUENOS AIRES            NaN              NaN            NaN   \n",
      "15300  BUENOS AIRES           1888     11 4221-4317  11 1552280736   \n",
      "\n",
      "                         Email  \n",
      "0                          NaN  \n",
      "1                          NaN  \n",
      "2      pedro_abadi@hotmail.com  \n",
      "3                          NaN  \n",
      "4                          NaN  \n",
      "...                        ...  \n",
      "15296                      NaN  \n",
      "15297                      NaN  \n",
      "15298                      NaN  \n",
      "15299                      NaN  \n",
      "15300                      NaN  \n",
      "\n",
      "[15301 rows x 34 columns]\n"
     ]
    }
   ],
   "source": [
    "archivo = None\n",
    "while True:\n",
    "    archivo = funciones.seleccionar_archivo()\n",
    "    print(archivo)\n",
    "    if archivo:\n",
    "        ruta_archivo = archivo.name\n",
    "        try:\n",
    "            #padron_2 = pd.read_excel(ruta_archivo, engine='xlrd')\n",
    "            padron_2 = pd.read_csv(archivo, sep=\";\", encoding=\"ISO-8859-1\")\n",
    "            print(padron_2)\n",
    "            break\n",
    "        except UnicodeDecodeError:\n",
    "            print(\"Error de decodificación de caracteres. Intenta con otra codificación o archivo.\")\n",
    "            continue\n",
    "    else:\n",
    "        print(\"Archivo incorrecto. Por favor, vuelva a cargarlo.\")\n"
   ]
  },
  {
   "attachments": {},
   "cell_type": "markdown",
   "metadata": {},
   "source": [
    "### Normalizar DNI archivo convenio"
   ]
  },
  {
   "cell_type": "code",
   "execution_count": 9,
   "metadata": {},
   "outputs": [
    {
     "name": "stderr",
     "output_type": "stream",
     "text": [
      "c:\\Users\\zickd\\Documents\\REPOS_GIT\\osoetsylra\\funciones.py:32: UserWarning: Parsing dates in MM/DD/YYYY format when dayfirst=True was specified. This may lead to inconsistently parsed dates! Specify a format to ensure consistent parsing.\n",
      "  df[columna]=pd.to_datetime(df[columna], dayfirst=True, errors='coerce')\n",
      "c:\\Users\\zickd\\Documents\\REPOS_GIT\\osoetsylra\\funciones.py:34: SettingWithCopyWarning: \n",
      "A value is trying to be set on a copy of a slice from a DataFrame.\n",
      "Try using .loc[row_indexer,col_indexer] = value instead\n",
      "\n",
      "See the caveats in the documentation: https://pandas.pydata.org/pandas-docs/stable/user_guide/indexing.html#returning-a-view-versus-a-copy\n",
      "  df[columna] = df[columna].dt.strftime(\"%d/%m/%Y\")\n"
     ]
    }
   ],
   "source": [
    "\n",
    "#armar el camp DNI juntando las los campos cuil titular y cuil familiar\n",
    "padon_1['dni']=padon_1['CUIL TITULAR*'].fillna(padon_1['CUIL*'])\n",
    "#limpiar el nuevo campo dni dejando solo los numeros \n",
    "padon_1['dni']=padon_1['dni'].apply(lambda x: re.sub('[^0-9]', '', str(x)))\n",
    "#dejar solo los numreros eliminar caracteres \n",
    "padon_1['dni2']=padon_1['dni'].apply(lambda x: x[2:10] if len(x)>= 8 else '0')\n",
    "#extraer el dni del cuil y dejar vacios los q son menores  a 8\n",
    "padon_1['dni2']=padon_1['dni2'].astype(int)\n",
    "#pasar el campo a int \n",
    "padon_1['FECHA DE NAC.*']=padon_1['FECHA DE NAC.*'].astype(str)\n",
    "#convertir fecha. \n",
    "print(padon_1['FECHA DE NAC.*'])\n",
    "padon_1=funciones.transformar_fecha(padon_1, 'FECHA DE NAC.*')\n",
    "#print(padon_1[['FECHA DE ALTA*','FECHA DE NAC.*','dni2']].head(30))\n"
   ]
  },
  {
   "cell_type": "code",
   "execution_count": 10,
   "metadata": {},
   "outputs": [
    {
     "name": "stdout",
     "output_type": "stream",
     "text": [
      "0       12/02/1999\n",
      "1       03/11/1974\n",
      "2       19/09/1985\n",
      "3       20/03/1991\n",
      "4       03/02/2001\n",
      "           ...    \n",
      "1586    07/04/2002\n",
      "1587    13/11/1999\n",
      "1588    05/09/1977\n",
      "1589    17/05/1974\n",
      "1590    04/08/2004\n",
      "Name: FECHA DE NAC.*, Length: 1544, dtype: object\n"
     ]
    }
   ],
   "source": [
    "print(padon_1['FECHA DE NAC.*'])\n",
    "padon_1.to_excel(r'C:\\Users\\zickd\\Downloads\\fechas.xlsx', engine='openpyxl', index=False)"
   ]
  },
  {
   "attachments": {},
   "cell_type": "markdown",
   "metadata": {},
   "source": [
    "### Merge archivos x DNI"
   ]
  },
  {
   "cell_type": "code",
   "execution_count": 44,
   "metadata": {},
   "outputs": [],
   "source": [
    "cruce_tis=pd.merge(padon_1, padron_2, left_on='dni2', right_on='Nro. Documento', how='left', indicator=True)\n",
    "#cruce_tis.to_excel(r'C:\\Users\\zickd\\Downloads\\merge.xlsx', engine='openpyxl', index=False)\n",
    "\n",
    "cruce_tis_filtro=cruce_tis[cruce_tis['_merge']=='left_only']\n",
    "\n",
    "#print(cruce_tis_filtro.head(5))"
   ]
  },
  {
   "attachments": {},
   "cell_type": "markdown",
   "metadata": {},
   "source": [
    "### Normalizar Fecha"
   ]
  },
  {
   "cell_type": "code",
   "execution_count": null,
   "metadata": {},
   "outputs": [],
   "source": []
  },
  {
   "attachments": {},
   "cell_type": "markdown",
   "metadata": {},
   "source": [
    "### Errores"
   ]
  },
  {
   "cell_type": "code",
   "execution_count": 49,
   "metadata": {},
   "outputs": [
    {
     "ename": "SyntaxError",
     "evalue": "invalid syntax (2464904157.py, line 1)",
     "output_type": "error",
     "traceback": [
      "\u001b[1;36m  Cell \u001b[1;32mIn[49], line 1\u001b[1;36m\u001b[0m\n\u001b[1;33m    tis_errores=pd.tis_errores[]\u001b[0m\n\u001b[1;37m                               ^\u001b[0m\n\u001b[1;31mSyntaxError\u001b[0m\u001b[1;31m:\u001b[0m invalid syntax\n"
     ]
    }
   ],
   "source": [
    "\n",
    "\n",
    "    \n"
   ]
  },
  {
   "cell_type": "code",
   "execution_count": 48,
   "metadata": {},
   "outputs": [
    {
     "ename": "TypeError",
     "evalue": "list indices must be integers or slices, not str",
     "output_type": "error",
     "traceback": [
      "\u001b[1;31m---------------------------------------------------------------------------\u001b[0m",
      "\u001b[1;31mTypeError\u001b[0m                                 Traceback (most recent call last)",
      "Cell \u001b[1;32mIn[48], line 1\u001b[0m\n\u001b[1;32m----> 1\u001b[0m \u001b[39mprint\u001b[39m(tis_errores[\u001b[39m'\u001b[39;49m\u001b[39merror1\u001b[39;49m\u001b[39m'\u001b[39;49m])\n",
      "\u001b[1;31mTypeError\u001b[0m: list indices must be integers or slices, not str"
     ]
    }
   ],
   "source": [
    "print(tis_errores['error1'])"
   ]
  },
  {
   "attachments": {},
   "cell_type": "markdown",
   "metadata": {},
   "source": [
    "### exportar el cruce"
   ]
  },
  {
   "cell_type": "code",
   "execution_count": 46,
   "metadata": {},
   "outputs": [],
   "source": [
    "save_path = filedialog.askdirectory()\n",
    "#uso iloc por si las columnas tienen el mismo nombre, necesito la primeras 20 columnas\n",
    "cruce_tis_filtro.iloc[:, :18].to_excel(save_path + '\\cruce_tis.xlsx', engine='openpyxl' ,index = False )\n",
    "\n"
   ]
  }
 ],
 "metadata": {
  "kernelspec": {
   "display_name": ".venv",
   "language": "python",
   "name": "python3"
  },
  "language_info": {
   "codemirror_mode": {
    "name": "ipython",
    "version": 3
   },
   "file_extension": ".py",
   "mimetype": "text/x-python",
   "name": "python",
   "nbconvert_exporter": "python",
   "pygments_lexer": "ipython3",
   "version": "3.11.3"
  },
  "orig_nbformat": 4,
  "vscode": {
   "interpreter": {
    "hash": "1f64b729a01f235b3ec02af186f3a50c3d881136f08176a7df610cc16261a174"
   }
  }
 },
 "nbformat": 4,
 "nbformat_minor": 2
}
