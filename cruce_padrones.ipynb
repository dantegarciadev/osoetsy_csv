{
 "cells": [
  {
   "cell_type": "code",
   "execution_count": 1,
   "metadata": {},
   "outputs": [],
   "source": [
    "import pandas as pd\n",
    "import numpy as np\n",
    "import xlwt\n",
    "import xlrd\n",
    "from tkinter import filedialog\n",
    "import tkinter as tk\n",
    "import customtkinter as ctk\n",
    "from customtkinter import filedialog\n",
    "import funciones\n",
    "import datetime\n",
    "import re"
   ]
  },
  {
   "attachments": {},
   "cell_type": "markdown",
   "metadata": {},
   "source": [
    "### cargar archivo 1"
   ]
  },
  {
   "cell_type": "code",
   "execution_count": 5,
   "metadata": {},
   "outputs": [
    {
     "name": "stdout",
     "output_type": "stream",
     "text": [
      "<_io.TextIOWrapper name='C:/Users/zickd/Downloads/UOETSYLRA JUNIO.xlsx' mode='r' encoding='cp1252'>\n",
      "      Codigo  CUIT_Empleador  CUIL_Titular  Parentesco  CUIL_Familiar  \\\n",
      "0     127406     20240830214   20240830214           0    20240830214   \n",
      "1     127406     20119590958   20119590958           0    20119590958   \n",
      "2     127406     27425694192   27425694192           0    27425694192   \n",
      "3     127406     27425694192   27425694192           3    20549159851   \n",
      "4     127406     27270992132   27270992132           0    27270992132   \n",
      "...      ...             ...           ...         ...            ...   \n",
      "1682  127406     20190072577   20190072577           0    20190072577   \n",
      "1683  127406     27321459590   27321459590           0    27321459590   \n",
      "1684  127406     27174774221   27174774221           0    27174774221   \n",
      "1685  127406     27174774221   27174774221           1    20149595150   \n",
      "1686  127406     27316755637   27316755637           0    27316755637   \n",
      "\n",
      "     Tipo_Doc   Nro_Doc       Apellido                      Nombre Sexo  ...  \\\n",
      "0          DU  24083021         ELISII   CHRISTIAN MAURICIO JAVIER    M  ...   \n",
      "1          DU  11959095       PEDEZERT            FERNANDO RICARDO    M  ...   \n",
      "2          DU  42569419   NINA RAMIREZ               TANIA SOLEDAD    F  ...   \n",
      "3          DU  54915985  ANDACABA NINA                ULISES UZIEL    M  ...   \n",
      "4          DU  27099213            RAU             CINTHIA BETIANA    F  ...   \n",
      "...       ...       ...            ...                         ...  ...  ...   \n",
      "1682       DU  19007257        ENRIQUE             MARTIN BENJAMIN    M  ...   \n",
      "1683       DU  32145959       GONZALEZ           ROMINA  ALEJANDRA    F  ...   \n",
      "1684       DU  17477422      MALDONADO                     CLAUDIA    F  ...   \n",
      "1685       DU  14959515    MAC DOUGALL                 SERGIO LUIS    M  ...   \n",
      "1686       DU  31675563          CRACI            VERONICA BEATRIZ    F  ...   \n",
      "\n",
      "        CP  Provincia  Tipo_domi    Telefono Revista Incapacidad  \\\n",
      "0     1650          2          1  1158319409      99           0   \n",
      "1     1628          2          1  1127915604      99           0   \n",
      "2     1627          2          1  1168116908      99           0   \n",
      "3     1627          2          1         NaN      99           0   \n",
      "4     1629          2          1  2304301189      99           0   \n",
      "...    ...        ...        ...         ...     ...         ...   \n",
      "1682  1667          2          1  1164135879      99           0   \n",
      "1683  1865          2          1         NaN      99           0   \n",
      "1684  1611          2          1  1167011882      99           0   \n",
      "1685  1611          2          1         NaN      99           0   \n",
      "1686  1406          2          1         NaN      99           0   \n",
      "\n",
      "     Tipo_Beneficiario Fch_Alta_OS   nro_gpo      nro_sss  \n",
      "0                    4     1112022  20001933  351968327.0  \n",
      "1                    4     1112022  20001941  351994841.0  \n",
      "2                    4     1112022  20001944  351974448.0  \n",
      "3                    4     1112022  20001944  351974448.0  \n",
      "4                    4     1112022  20001946  351989198.0  \n",
      "...                ...         ...       ...          ...  \n",
      "1682                 4     1062023  20005799          NaN  \n",
      "1683                 4     1052023  20005852  352276196.0  \n",
      "1684                 4     1062023  20006025  352691714.0  \n",
      "1685                 4     1062023  20006025  352691714.0  \n",
      "1686                 4     1062023  20006029  352641009.0  \n",
      "\n",
      "[1687 rows x 28 columns]\n"
     ]
    }
   ],
   "source": [
    "archivo = None\n",
    "while True:\n",
    "    archivo = funciones.seleccionar_archivo()\n",
    "    print(archivo)\n",
    "    if archivo:\n",
    "        ruta_archivo = archivo.name\n",
    "        try:\n",
    "            padon_1 = pd.read_excel(ruta_archivo, engine='openpyxl')\n",
    "            #padron = pd.read_csv(archivo, sep=\";\", encoding=\"ISO-8859-1\")\n",
    "            print(padon_1)\n",
    "            break\n",
    "        except UnicodeDecodeError:\n",
    "            print(\"Error de decodificación de caracteres. Intenta con otra codificación o archivo.\")\n",
    "            continue\n",
    "    else:\n",
    "        print(\"Archivo incorrecto. Por favor, vuelva a cargarlo.\")\n"
   ]
  },
  {
   "cell_type": "code",
   "execution_count": 4,
   "metadata": {},
   "outputs": [
    {
     "name": "stdout",
     "output_type": "stream",
     "text": [
      "<class 'pandas.core.frame.DataFrame'>\n",
      "RangeIndex: 1726 entries, 0 to 1725\n",
      "Data columns (total 18 columns):\n",
      " #   Column               Non-Null Count  Dtype  \n",
      "---  ------               --------------  -----  \n",
      " 0   CUIL TITULAR*        1119 non-null   object \n",
      " 1   CUIL*                567 non-null    float64\n",
      " 2   APELLIDO*            1726 non-null   object \n",
      " 3   NOMBRES*             1726 non-null   object \n",
      " 4   DOMICILIO (calle)*   1698 non-null   object \n",
      " 5   Domicilio (altura)*  1667 non-null   object \n",
      " 6   LOCALIDAD*           1705 non-null   object \n",
      " 7   TELEFONO             1215 non-null   object \n",
      " 8   N° DE FORMULARIO     1614 non-null   object \n",
      " 9   FECHA DE ALTA*       1664 non-null   object \n",
      " 10  FECHA DE NAC.*       1549 non-null   object \n",
      " 11  NACIONALIDAD*        1725 non-null   float64\n",
      " 12  Sexo*                1723 non-null   object \n",
      " 13  Estado Civil*        1667 non-null   float64\n",
      " 14  Parentesco*          1711 non-null   float64\n",
      " 15  SEDE                 0 non-null      float64\n",
      " 16  Discapacidad*        1725 non-null   object \n",
      " 17  Unnamed: 17          62 non-null     object \n",
      "dtypes: float64(5), object(13)\n",
      "memory usage: 242.8+ KB\n",
      "None\n"
     ]
    }
   ],
   "source": [
    "print(padon_1.info())"
   ]
  },
  {
   "attachments": {},
   "cell_type": "markdown",
   "metadata": {},
   "source": [
    "### cargar archivo 2"
   ]
  },
  {
   "cell_type": "code",
   "execution_count": 20,
   "metadata": {},
   "outputs": [
    {
     "name": "stdout",
     "output_type": "stream",
     "text": [
      "<_io.TextIOWrapper name='C:/Users/zickd/Downloads/padron_completo_13-06-23.csv' mode='r' encoding='cp1252'>\n",
      "       Nro. OS      Plan del Afiliado Opcion  Nro. Grupo Familiar  \\\n",
      "0            7            Desregulado     SI             26407599   \n",
      "1            7            Desregulado     SI             26407599   \n",
      "2            6               Afiliado     SI             30694069   \n",
      "3           10            Desregulado     SI             31403090   \n",
      "4            1  Monotributista social     NO             36821087   \n",
      "...        ...                    ...    ...                  ...   \n",
      "15296        4            Desregulado     SI             21601831   \n",
      "15297        4            Desregulado     SI             21601831   \n",
      "15298        4            Desregulado     SI             21601831   \n",
      "15299        4            Desregulado     SI             21601831   \n",
      "15300        1               Afiliado     SI             36602782   \n",
      "\n",
      "         Nro. Afiliado Parentesco con el TITULAR Apellido Afiliado  \\\n",
      "0      020-26407599-00                   TITULAR              ABAD   \n",
      "1      020-26407599-02                    Hijo/a             TEVEZ   \n",
      "2      010-30694069-00                   TITULAR             ABADI   \n",
      "3      040-31403090-00                   TITULAR           ABALLAY   \n",
      "4      030-36821087-00                   TITULAR           ABALLAY   \n",
      "...                ...                       ...               ...   \n",
      "15296  030-21601831-04                    Hijo/a            MORTON   \n",
      "15297  030-21601831-05                    Hijo/a          SAFFORES   \n",
      "15298  030-21601831-06                    Hijo/a            MORTON   \n",
      "15299  030-21601831-07                    Hijo/a            MORTON   \n",
      "15300  010-36602782-00                   TITULAR         ZWIERCZYK   \n",
      "\n",
      "              Nombre Afiliado                Tipo Documento  Nro. Documento  \\\n",
      "0                      VANESA  Documento Nacional Identidad        26407599   \n",
      "1                       MATEO  Documento Nacional Identidad        47279801   \n",
      "2                  PEDRO RAUL  Documento Nacional Identidad        30694069   \n",
      "3          VERONICA ALEJANDRA  Documento Nacional Identidad        31403090   \n",
      "4      VICTORIA DULCE DANIELA  Documento Nacional Identidad        36821087   \n",
      "...                       ...                           ...             ...   \n",
      "15296        ANTHONY VALENTIN  Documento Nacional Identidad        54403271   \n",
      "15297          MICAELA XIMENA  Documento Nacional Identidad        48231861   \n",
      "15298         NAIARA CONTANZA  Documento Nacional Identidad        52668909   \n",
      "15299          ISABELLA ANAHI  Documento Nacional Identidad        56631137   \n",
      "15300           HECTOR DAMIAN  Documento Nacional Identidad        36602782   \n",
      "\n",
      "       ... Nro. Puerta Piso Departamento Barrio         Localidad  \\\n",
      "0      ...        3165  NaN          NaN    NaN     VICENTE LOPEZ   \n",
      "1      ...        3165  NaN          NaN    NaN     VICENTE LOPEZ   \n",
      "2      ...        4045  NaN          NaN    NaN             MERLO   \n",
      "3      ...           1  NaN          NaN    NaN  FLORENCIO VARELA   \n",
      "4      ...        1520  NaN          NaN    NaN   VIRREY DEL PINO   \n",
      "...    ...         ...  ...          ...    ...               ...   \n",
      "15296  ...        5523  NaN          NaN    NaN   ISIDRO CASANOVA   \n",
      "15297  ...        5523  NaN          NaN    NaN   ISIDRO CASANOVA   \n",
      "15298  ...        5523  NaN          NaN    NaN   ISIDRO CASANOVA   \n",
      "15299  ...        5523  NaN          NaN    NaN   ISIDRO CASANOVA   \n",
      "15300  ...        3057  NaN          NaN    NaN  FLORENCIO VARELA   \n",
      "\n",
      "          Provincia  Codigo Postal         Telefono        Celular  \\\n",
      "0      BUENOS AIRES           1638                      1135614959   \n",
      "1      BUENOS AIRES           1638              NaN            NaN   \n",
      "2      BUENOS AIRES           1722                    11 5937-8276   \n",
      "3      BUENOS AIRES           1888       1133164359                  \n",
      "4      BUENOS AIRES           1763  11 11 3818-6283                  \n",
      "...             ...            ...              ...            ...   \n",
      "15296  BUENOS AIRES            NaN              NaN            NaN   \n",
      "15297  BUENOS AIRES            NaN              NaN            NaN   \n",
      "15298  BUENOS AIRES            NaN              NaN            NaN   \n",
      "15299  BUENOS AIRES            NaN              NaN            NaN   \n",
      "15300  BUENOS AIRES           1888     11 4221-4317  11 1552280736   \n",
      "\n",
      "                         Email  \n",
      "0                          NaN  \n",
      "1                          NaN  \n",
      "2      pedro_abadi@hotmail.com  \n",
      "3                          NaN  \n",
      "4                          NaN  \n",
      "...                        ...  \n",
      "15296                      NaN  \n",
      "15297                      NaN  \n",
      "15298                      NaN  \n",
      "15299                      NaN  \n",
      "15300                      NaN  \n",
      "\n",
      "[15301 rows x 34 columns]\n"
     ]
    }
   ],
   "source": [
    "archivo = None\n",
    "while True:\n",
    "    archivo = funciones.seleccionar_archivo()\n",
    "    print(archivo)\n",
    "    if archivo:\n",
    "        ruta_archivo = archivo.name\n",
    "        try:\n",
    "            #padron_2 = pd.read_excel(ruta_archivo, engine='xlrd')\n",
    "            padron_2 = pd.read_csv(archivo, sep=\";\", encoding=\"ISO-8859-1\")\n",
    "            print(padron_2)\n",
    "            break\n",
    "        except UnicodeDecodeError:\n",
    "            print(\"Error de decodificación de caracteres. Intenta con otra codificación o archivo.\")\n",
    "            continue\n",
    "    else:\n",
    "        print(\"Archivo incorrecto. Por favor, vuelva a cargarlo.\")\n"
   ]
  },
  {
   "attachments": {},
   "cell_type": "markdown",
   "metadata": {},
   "source": [
    "### Normalizar DNI archivo convenio"
   ]
  },
  {
   "cell_type": "code",
   "execution_count": 21,
   "metadata": {},
   "outputs": [
    {
     "name": "stdout",
     "output_type": "stream",
     "text": [
      "0       1999-02-12 00:00:00\n",
      "1       1974-11-03 00:00:00\n",
      "2       1985-09-19 00:00:00\n",
      "3       1991-03-20 00:00:00\n",
      "4       2001-02-03 00:00:00\n",
      "               ...         \n",
      "1721                    nan\n",
      "1722                    nan\n",
      "1723                    nan\n",
      "1724                    nan\n",
      "1725                    nan\n",
      "Name: FECHA DE NAC.*, Length: 1726, dtype: object\n"
     ]
    },
    {
     "name": "stderr",
     "output_type": "stream",
     "text": [
      "c:\\Users\\zickd\\OneDrive\\Documentos\\repositoriosGit\\osoetsy_csv\\funciones.py:32: UserWarning: Parsing dates in DD/MM/YYYY format when dayfirst=False (the default) was specified. This may lead to inconsistently parsed dates! Specify a format to ensure consistent parsing.\n",
      "  df[columna]=pd.to_datetime(df[columna], dayfirst=False, errors='coerce')\n"
     ]
    }
   ],
   "source": [
    "\n",
    "#armar el camp DNI juntando las los campos cuil titular y cuil familiar\n",
    "padon_1['dni']=padon_1['CUIL TITULAR*'].fillna(padon_1['CUIL*'])\n",
    "#limpiar el nuevo campo dni dejando solo los numeros \n",
    "padon_1['dni']=padon_1['dni'].apply(lambda x: re.sub('[^0-9]', '', str(x)))\n",
    "#dejar solo los numreros eliminar caracteres \n",
    "padon_1['dni2']=padon_1['dni'].apply(lambda x: x[2:10] if len(x)>= 8 else '0')\n",
    "#extraer el dni del cuil y dejar vacios los q son menores  a 8\n",
    "padon_1['dni2']=padon_1['dni2'].astype(int)\n",
    "#pasar el campo a int \n",
    "padon_1['FECHA DE NAC.*']=padon_1['FECHA DE NAC.*'].astype(str)\n",
    "#convertir fecha. \n",
    "print(padon_1['FECHA DE NAC.*'])\n",
    "padon_1=funciones.transformar_fecha(padon_1, 'FECHA DE NAC.*')\n",
    "#print(padon_1[['FECHA DE ALTA*','FECHA DE NAC.*','dni2']].head(30))q   \n"
   ]
  },
  {
   "attachments": {},
   "cell_type": "markdown",
   "metadata": {},
   "source": [
    "### Errores"
   ]
  },
  {
   "cell_type": "code",
   "execution_count": null,
   "metadata": {},
   "outputs": [],
   "source": [
    "condiciones = [\n",
    "    lambda row: row['dni'] is None or len(str(row['dni'])) < 8,\n",
    "    lambda row: row['FECHA DE NAC.*'] is None or (pd.to_datetime('today') - pd.to_datetime(row['FECHA DE NAC.*'])).days // 365.25 > 80,\n",
    "    lambda row: row['CUIL*'] >999999 and (pd.to_datetime('today') - pd.to_datetime(row['FECHA DE NAC.*'])).days / 365.25 > 25,\n",
    "    lambda row: row['LOCALIDAD*'] is None\n",
    "]\n",
    "mensajes = [\n",
    "    'Error en DNI',\n",
    "    'Error en la edad',\n",
    "    'familiar mayor de edad',\n",
    "    'localidad vacía'\n",
    "]\n",
    "\n",
    "def generar_columnas_error(row):\n",
    "    errores = {}\n",
    "    for i in range(len(condiciones)):\n",
    "        if condiciones[i](row):\n",
    "            columna_error = f'error{i+1}'\n",
    "            errores[columna_error] = mensajes[i]\n",
    "    return pd.Series(errores)\n",
    "\n",
    "df_errores = padon_1.apply(generar_columnas_error, axis=1)\n",
    "\n",
    "\n",
    "df_nuevo = pd.concat([padon_1, df_errores], axis=1)\n",
    "\n",
    "df_sin_error = df_nuevo[df_nuevo['error1'].notna() | df_nuevo['error2'].notna() | df_nuevo['error3'].notna()]\n",
    "\n",
    "df_sin_error.to_excel(r'C:\\Users\\zickd\\Downloads\\test_errores.xlsx', engine='openpyxl', index=False)\n",
    "\n",
    "df_sin_errores = df_nuevo[df_nuevo['error1'].isnull() & df_nuevo['error2'].isnull() & df_nuevo['error3'].isnull()]\n",
    "\n",
    "#df_errores.to_excel(r'C:\\Users\\zickd\\Downloads\\sin_errores.xlsx', engine='openpyxl', index=False)\n",
    "\n",
    "df_sin_errores.to_excel(r'C:\\Users\\zickd\\Downloads\\sin_errores.xlsx', engine='openpyxl', index=False)\n"
   ]
  },
  {
   "attachments": {},
   "cell_type": "markdown",
   "metadata": {},
   "source": [
    "### Merge archivos x DNI"
   ]
  },
  {
   "cell_type": "code",
   "execution_count": 44,
   "metadata": {},
   "outputs": [],
   "source": [
    "cruce_tis=pd.merge(padon_1, padron_2, left_on='dni2', right_on='Nro. Documento', how='left', indicator=True)\n",
    "#cruce_tis.to_excel(r'C:\\Users\\zickd\\Downloads\\merge.xlsx', engine='openpyxl', index=False)\n",
    "\n",
    "cruce_tis_filtro=cruce_tis[cruce_tis['_merge']=='left_only']\n",
    "\n",
    "#print(cruce_tis_filtro.head(5))"
   ]
  },
  {
   "attachments": {},
   "cell_type": "markdown",
   "metadata": {},
   "source": [
    "### exportar el cruce"
   ]
  },
  {
   "cell_type": "code",
   "execution_count": 46,
   "metadata": {},
   "outputs": [],
   "source": [
    "save_path = filedialog.askdirectory()\n",
    "#uso iloc por si las columnas tienen el mismo nombre, necesito la primeras 20 columnas\n",
    "cruce_tis_filtro.iloc[:, :18].to_excel(save_path + '\\cruce_tis.xlsx', engine='openpyxl' ,index = False )\n",
    "\n"
   ]
  }
 ],
 "metadata": {
  "kernelspec": {
   "display_name": ".venv",
   "language": "python",
   "name": "python3"
  },
  "language_info": {
   "codemirror_mode": {
    "name": "ipython",
    "version": 3
   },
   "file_extension": ".py",
   "mimetype": "text/x-python",
   "name": "python",
   "nbconvert_exporter": "python",
   "pygments_lexer": "ipython3",
   "version": "3.11.0 (main, Oct 24 2022, 18:26:48) [MSC v.1933 64 bit (AMD64)]"
  },
  "orig_nbformat": 4,
  "vscode": {
   "interpreter": {
    "hash": "1f64b729a01f235b3ec02af186f3a50c3d881136f08176a7df610cc16261a174"
   }
  }
 },
 "nbformat": 4,
 "nbformat_minor": 2
}
