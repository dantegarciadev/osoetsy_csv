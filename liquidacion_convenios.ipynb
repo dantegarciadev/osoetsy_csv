{
 "cells": [
  {
   "cell_type": "code",
   "execution_count": 1,
   "metadata": {},
   "outputs": [],
   "source": [
    "import pandas as pd\n",
    "import numpy as np\n",
    "import xlwt\n",
    "import xlrd\n",
    "from tkinter import filedialog\n",
    "import tkinter as tk\n",
    "import customtkinter as ctk\n",
    "from customtkinter import filedialog\n",
    "import funciones\n",
    "import openpyxl\n",
    "import dbfread\n",
    "import glob\n",
    "from pandastable import Table, TableModel # Importar clases de pandastable\n"
   ]
  },
  {
   "cell_type": "markdown",
   "metadata": {},
   "source": [
    "### cargar la tabla DBF"
   ]
  },
  {
   "cell_type": "code",
   "execution_count": null,
   "metadata": {},
   "outputs": [],
   "source": [
    "archivo = None\n",
    "while True:\n",
    "    archivo=funciones.seleccionar_archivo()\n",
    "    print(archivo)\n",
    "    if archivo:\n",
    "        ruta_archivo = archivo.name\n",
    "        try:\n",
    "            dbf = dbfread(ruta_archivo)\n",
    "            liquidacion = pd.DataFrame(dbf)\n",
    "            break\n",
    "        except UnicodeDecodeError:\n",
    "            print(\"Error de decodificación de caracteres. Intenta con otra codificación o archivo.\")\n",
    "            continue\n",
    "    else:\n",
    "        print(\"Archivo incorrecto. Por favor, vuelva a cargarlo.\")"
   ]
  },
  {
   "cell_type": "code",
   "execution_count": null,
   "metadata": {},
   "outputs": [],
   "source": [
    "liquidacion2 = funciones.subir_dbf()\n",
    "print(liquidacion2)"
   ]
  },
  {
   "cell_type": "code",
   "execution_count": null,
   "metadata": {},
   "outputs": [],
   "source": [
    "print(liquidacion2.head())"
   ]
  },
  {
   "cell_type": "markdown",
   "metadata": {},
   "source": [
    "### cargar el conjunto de liquidaciones"
   ]
  },
  {
   "cell_type": "code",
   "execution_count": null,
   "metadata": {},
   "outputs": [],
   "source": [
    "# Importar librerías\n",
    "\n",
    "# Crear función para seleccionar archivos\n",
    "def select_files():\n",
    "    global files # Variable global para almacenar la lista de archivos\n",
    "    files = filedialog.askopenfilenames(filetypes=[(\"Excel files\", \"*.xls\")]) # Seleccionar solo archivos xlsx\n",
    "    print(files) # Imprimir la lista de archivos\n",
    "\n",
    "# Crear función para leer archivos y crear lista de dataframes\n",
    "def read_files():\n",
    "    global df_list # Variable global para almacenar la lista de dataframes\n",
    "    df_list = [] # Crear lista vacía\n",
    "    for file in files: # Iterar sobre cada archivo\n",
    "        df = pd.read_excel(file) # Leer el archivo y saltar la primera fila\n",
    "        df_list.append(df) # Añadir el dataframe a la lista\n",
    "    print(df_list) # Imprimir la lista de dataframes\n",
    "\n",
    "# Crear función para concatenar dataframes y crear uno nuevo\n",
    "def concat_dfs():\n",
    "    global df_final # Variable global para almacenar el dataframe final\n",
    "    df_final = pd.concat(df_list, ignore_index=True) # Concatenar los dataframes de la lista y reiniciar el índice\n",
    "    print(df_final) # Imprimir el dataframe final\n",
    "\n",
    "# Crear función para mostrar dataframe con pandastable\n",
    "def show_df():\n",
    "    global table # Variable global para almacenar el objeto Table\n",
    "    table = Table(frame, dataframe=df_final, visiblecols=True) # Crear objeto Table dentro del Frame\n",
    "    table.show() # Mostrar la tabla en la ventana\n",
    "\n",
    "# Crear interfaz gráfica\n",
    "window = tk.Tk() # Crear ventana principal\n",
    "window.title(\"Unir archivos excel\") # Asignar título a la ventana\n",
    "window.geometry(\"800x600\") # Ancho 800, alto calculado\n",
    "\n",
    "\n",
    "# Crear un widget Frame dentro de la ventana\n",
    "frame = tk.Frame(window)\n",
    "frame.pack()\n",
    "\n",
    "# Crear botón para seleccionar archivos\n",
    "btn_select = tk.Button(window, text=\"Seleccionar liquidaciones\", command=lambda: [select_files(), read_files(), concat_dfs()])\n",
    "btn_select.pack() # Colocar el botón en la ventana\n",
    "\n",
    "# Crear botón para mostrar dataframe con pandastable\n",
    "btn_show = tk.Button(window, text=\"Mostrar dataframe\", command=show_df)\n",
    "btn_show.pack() # Colocar el botón en la ventana\n",
    "\n",
    "# Crear botón para seleccionar padrón DBF\n",
    "btn_select = tk.Button(window, text=\"Seleccionar padrón\", command= lambda:funciones.subir_dbf())\n",
    "btn_select.pack() # Colocar el botón en la ventana\n",
    "\n",
    "window.mainloop() # Iniciar el bucle principal de la ventana\n",
    "\n"
   ]
  },
  {
   "cell_type": "code",
   "execution_count": null,
   "metadata": {},
   "outputs": [],
   "source": []
  },
  {
   "cell_type": "code",
   "execution_count": null,
   "metadata": {},
   "outputs": [],
   "source": [
    "import pandas as pd\n",
    "from tkinter import Tk, filedialog\n",
    "\n",
    "root = Tk()\n",
    "root.withdraw()\n",
    "\n",
    "filenames = filedialog.askopenfilenames(title=\"Select Excel files\")\n",
    "\n",
    "df = pd.DataFrame()\n",
    "for filename in filenames:\n",
    "    temp_df = pd.read_excel(filename) \n",
    "    df = df.append(temp_df)\n",
    "\n",
    "# Eliminar columnas duplicadas    \n",
    "df.columns = df.columns.drop_duplicates() \n",
    "\n",
    "df.to_excel(\"merged.xlsx\", index=False)"
   ]
  }
 ],
 "metadata": {
  "kernelspec": {
   "display_name": ".venv",
   "language": "python",
   "name": "python3"
  },
  "language_info": {
   "codemirror_mode": {
    "name": "ipython",
    "version": 3
   },
   "file_extension": ".py",
   "mimetype": "text/x-python",
   "name": "python",
   "nbconvert_exporter": "python",
   "pygments_lexer": "ipython3",
   "version": "3.11.4"
  },
  "orig_nbformat": 4
 },
 "nbformat": 4,
 "nbformat_minor": 2
}
