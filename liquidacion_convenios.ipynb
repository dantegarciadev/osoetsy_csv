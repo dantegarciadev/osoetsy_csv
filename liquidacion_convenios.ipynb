{
 "cells": [
  {
   "cell_type": "code",
   "execution_count": 1,
   "metadata": {},
   "outputs": [],
   "source": [
    "import pandas as pd\n",
    "import numpy as np\n",
    "import xlwt\n",
    "import xlrd\n",
    "from tkinter import filedialog\n",
    "import tkinter as tk\n",
    "import customtkinter as ctk\n",
    "from customtkinter import filedialog\n",
    "import funciones\n",
    "import openpyxl\n",
    "import dbfread\n",
    "import glob\n",
    "from pandastable import Table, TableModel # Importar clases de pandastable\n"
   ]
  },
  {
   "cell_type": "markdown",
   "metadata": {},
   "source": [
    "### cargar la tabla DBF"
   ]
  },
  {
   "cell_type": "code",
   "execution_count": null,
   "metadata": {},
   "outputs": [],
   "source": [
    "archivo = None\n",
    "while True:\n",
    "    archivo=funciones.seleccionar_archivo()\n",
    "    print(archivo)\n",
    "    if archivo:\n",
    "        ruta_archivo = archivo.name\n",
    "        try:\n",
    "            dbf = dbfread(ruta_archivo)\n",
    "            liquidacion = pd.DataFrame(dbf)\n",
    "            break\n",
    "        except UnicodeDecodeError:\n",
    "            print(\"Error de decodificación de caracteres. Intenta con otra codificación o archivo.\")\n",
    "            continue\n",
    "    else:\n",
    "        print(\"Archivo incorrecto. Por favor, vuelva a cargarlo.\")"
   ]
  },
  {
   "cell_type": "code",
   "execution_count": 2,
   "metadata": {},
   "outputs": [
    {
     "name": "stdout",
     "output_type": "stream",
     "text": [
      "C:/Users/zickd/OneDrive/Documentos/liquidaciones/CRUCE_TABLA.DBF\n",
      "               APELLIDO  BEN_ID         CUIL              ESTADO_AFI  \\\n",
      "0                 ABACA    6283  20573179626           Con Cobertura   \n",
      "1                  ABAD   75200  27264075993           Con Cobertura   \n",
      "2                 ABADI   60398  20306940695           Con Cobertura   \n",
      "3               ABALLAY   69607  27314030902           Con Cobertura   \n",
      "4               ABALLAY   69608  27368210876           Con Cobertura   \n",
      "...                 ...     ...          ...                     ...   \n",
      "31168  ZUÑIGA FERNANDEZ   53197  27927444122           Con Cobertura   \n",
      "31169  ZUÑIGA FERNANDEZ   53227  27450418779           Con Cobertura   \n",
      "31170      ZUÑIGA TAPIA   17799  20946898016  Sin Cobertura por Baja   \n",
      "31171         ZWIERCZYK   13579  20366027824           Con Cobertura   \n",
      "31172        ÑAHUINCOPA   17741  20946087182  Sin Cobertura por Baja   \n",
      "\n",
      "                                  NOMBRE                 NOMBRES    NRODOC  \\\n",
      "0                     ABACA, JUAN ISMAEL             JUAN ISMAEL  57317962   \n",
      "1                           ABAD, VANESA                  VANESA  26407599   \n",
      "2                      ABADI, PEDRO RAUL              PEDRO RAUL  30694069   \n",
      "3            ABALLAY, VERONICA ALEJANDRA      VERONICA ALEJANDRA  31403090   \n",
      "4        ABALLAY, VICTORIA DULCE DANIELA  VICTORIA DULCE DANIELA  36821087   \n",
      "...                                  ...                     ...       ...   \n",
      "31168  ZUÑIGA FERNANDEZ, CATHERINE WENDY         CATHERINE WENDY  92744412   \n",
      "31169   ZUÑIGA FERNANDEZ, CAMILA NATASHA          CAMILA NATASHA  45041877   \n",
      "31170                 ZUÑIGA TAPIA, RENE                    RENE  94689801   \n",
      "31171           ZWIERCZYK, HECTOR DAMIAN           HECTOR DAMIAN  36602782   \n",
      "31172                  ÑAHUINCOPA, FELIX                   FELIX  94608718   \n",
      "\n",
      "      PARENTESCO  \n",
      "0         HIJO/A  \n",
      "1        TITULAR  \n",
      "2        TITULAR  \n",
      "3        TITULAR  \n",
      "4        TITULAR  \n",
      "...          ...  \n",
      "31168    TITULAR  \n",
      "31169     HIJO/A  \n",
      "31170    TITULAR  \n",
      "31171    TITULAR  \n",
      "31172    TITULAR  \n",
      "\n",
      "[31173 rows x 8 columns]\n",
      "               APELLIDO  BEN_ID         CUIL              ESTADO_AFI  \\\n",
      "0                 ABACA    6283  20573179626           Con Cobertura   \n",
      "1                  ABAD   75200  27264075993           Con Cobertura   \n",
      "2                 ABADI   60398  20306940695           Con Cobertura   \n",
      "3               ABALLAY   69607  27314030902           Con Cobertura   \n",
      "4               ABALLAY   69608  27368210876           Con Cobertura   \n",
      "...                 ...     ...          ...                     ...   \n",
      "31168  ZUÑIGA FERNANDEZ   53197  27927444122           Con Cobertura   \n",
      "31169  ZUÑIGA FERNANDEZ   53227  27450418779           Con Cobertura   \n",
      "31170      ZUÑIGA TAPIA   17799  20946898016  Sin Cobertura por Baja   \n",
      "31171         ZWIERCZYK   13579  20366027824           Con Cobertura   \n",
      "31172        ÑAHUINCOPA   17741  20946087182  Sin Cobertura por Baja   \n",
      "\n",
      "                                  NOMBRE                 NOMBRES    NRODOC  \\\n",
      "0                     ABACA, JUAN ISMAEL             JUAN ISMAEL  57317962   \n",
      "1                           ABAD, VANESA                  VANESA  26407599   \n",
      "2                      ABADI, PEDRO RAUL              PEDRO RAUL  30694069   \n",
      "3            ABALLAY, VERONICA ALEJANDRA      VERONICA ALEJANDRA  31403090   \n",
      "4        ABALLAY, VICTORIA DULCE DANIELA  VICTORIA DULCE DANIELA  36821087   \n",
      "...                                  ...                     ...       ...   \n",
      "31168  ZUÑIGA FERNANDEZ, CATHERINE WENDY         CATHERINE WENDY  92744412   \n",
      "31169   ZUÑIGA FERNANDEZ, CAMILA NATASHA          CAMILA NATASHA  45041877   \n",
      "31170                 ZUÑIGA TAPIA, RENE                    RENE  94689801   \n",
      "31171           ZWIERCZYK, HECTOR DAMIAN           HECTOR DAMIAN  36602782   \n",
      "31172                  ÑAHUINCOPA, FELIX                   FELIX  94608718   \n",
      "\n",
      "      PARENTESCO  \n",
      "0         HIJO/A  \n",
      "1        TITULAR  \n",
      "2        TITULAR  \n",
      "3        TITULAR  \n",
      "4        TITULAR  \n",
      "...          ...  \n",
      "31168    TITULAR  \n",
      "31169     HIJO/A  \n",
      "31170    TITULAR  \n",
      "31171    TITULAR  \n",
      "31172    TITULAR  \n",
      "\n",
      "[31173 rows x 8 columns]\n"
     ]
    }
   ],
   "source": [
    "liquidacion2 = funciones.subir_dbf()\n",
    "print(liquidacion2)"
   ]
  },
  {
   "cell_type": "code",
   "execution_count": 3,
   "metadata": {},
   "outputs": [
    {
     "name": "stdout",
     "output_type": "stream",
     "text": [
      "  APELLIDO  BEN_ID         CUIL     ESTADO_AFI  \\\n",
      "0    ABACA    6283  20573179626  Con Cobertura   \n",
      "1     ABAD   75200  27264075993  Con Cobertura   \n",
      "2    ABADI   60398  20306940695  Con Cobertura   \n",
      "3  ABALLAY   69607  27314030902  Con Cobertura   \n",
      "4  ABALLAY   69608  27368210876  Con Cobertura   \n",
      "\n",
      "                            NOMBRE                 NOMBRES    NRODOC  \\\n",
      "0               ABACA, JUAN ISMAEL             JUAN ISMAEL  57317962   \n",
      "1                     ABAD, VANESA                  VANESA  26407599   \n",
      "2                ABADI, PEDRO RAUL              PEDRO RAUL  30694069   \n",
      "3      ABALLAY, VERONICA ALEJANDRA      VERONICA ALEJANDRA  31403090   \n",
      "4  ABALLAY, VICTORIA DULCE DANIELA  VICTORIA DULCE DANIELA  36821087   \n",
      "\n",
      "  PARENTESCO  \n",
      "0     HIJO/A  \n",
      "1    TITULAR  \n",
      "2    TITULAR  \n",
      "3    TITULAR  \n",
      "4    TITULAR  \n"
     ]
    }
   ],
   "source": [
    "print(liquidacion2.head())"
   ]
  },
  {
   "cell_type": "markdown",
   "metadata": {},
   "source": [
    "### cargar el conjunto de liquidaciones"
   ]
  },
  {
   "cell_type": "code",
   "execution_count": 12,
   "metadata": {},
   "outputs": [
    {
     "ename": "NameError",
     "evalue": "name 'liquidacion' is not defined",
     "output_type": "error",
     "traceback": [
      "\u001b[1;31m---------------------------------------------------------------------------\u001b[0m",
      "\u001b[1;31mNameError\u001b[0m                                 Traceback (most recent call last)",
      "\u001b[1;32mc:\\Users\\zickd\\OneDrive\\Documentos\\repos_git\\osoetsy_csv\\liquidacion_convenios.ipynb Cell 7\u001b[0m line \u001b[0;36m5\n\u001b[0;32m     <a href='vscode-notebook-cell:/c%3A/Users/zickd/OneDrive/Documentos/repos_git/osoetsy_csv/liquidacion_convenios.ipynb#X10sZmlsZQ%3D%3D?line=48'>49</a>\u001b[0m btn_select \u001b[39m=\u001b[39m tk\u001b[39m.\u001b[39mButton(window, text\u001b[39m=\u001b[39m\u001b[39m\"\u001b[39m\u001b[39mSeleccionar padrón\u001b[39m\u001b[39m\"\u001b[39m, command\u001b[39m=\u001b[39m \u001b[39mlambda\u001b[39;00m: funciones\u001b[39m.\u001b[39msubir_dbf())\n\u001b[0;32m     <a href='vscode-notebook-cell:/c%3A/Users/zickd/OneDrive/Documentos/repos_git/osoetsy_csv/liquidacion_convenios.ipynb#X10sZmlsZQ%3D%3D?line=49'>50</a>\u001b[0m btn_select\u001b[39m.\u001b[39mpack() \u001b[39m# Colocar el botón en la ventana\u001b[39;00m\n\u001b[1;32m---> <a href='vscode-notebook-cell:/c%3A/Users/zickd/OneDrive/Documentos/repos_git/osoetsy_csv/liquidacion_convenios.ipynb#X10sZmlsZQ%3D%3D?line=50'>51</a>\u001b[0m \u001b[39mprint\u001b[39m(liquidacion)\n\u001b[0;32m     <a href='vscode-notebook-cell:/c%3A/Users/zickd/OneDrive/Documentos/repos_git/osoetsy_csv/liquidacion_convenios.ipynb#X10sZmlsZQ%3D%3D?line=51'>52</a>\u001b[0m window\u001b[39m.\u001b[39mmainloop() \u001b[39m# Iniciar el bucle principal de la ventana\u001b[39;00m\n",
      "\u001b[1;31mNameError\u001b[0m: name 'liquidacion' is not defined"
     ]
    }
   ],
   "source": [
    "# Importar librerías\n",
    "\n",
    "# Crear función para seleccionar archivos\n",
    "def select_files():\n",
    "    global files # Variable global para almacenar la lista de archivos\n",
    "    files = filedialog.askopenfilenames(filetypes=[(\"Excel files\", \"*.xls\")]) # Seleccionar solo archivos xlsx\n",
    "    print(files) # Imprimir la lista de archivos\n",
    "\n",
    "# Crear función para leer archivos y crear lista de dataframes\n",
    "def read_files():\n",
    "    global df_list # Variable global para almacenar la lista de dataframes\n",
    "    df_list = [] # Crear lista vacía\n",
    "    for file in files: # Iterar sobre cada archivo\n",
    "        df = pd.read_excel(file) # Leer el archivo y saltar la primera fila\n",
    "        df_list.append(df) # Añadir el dataframe a la lista\n",
    "    print(df_list) # Imprimir la lista de dataframes\n",
    "\n",
    "# Crear función para concatenar dataframes y crear uno nuevo\n",
    "def concat_dfs():\n",
    "    global df_final # Variable global para almacenar el dataframe final\n",
    "    df_final = pd.concat(df_list, ignore_index=True) # Concatenar los dataframes de la lista y reiniciar el índice\n",
    "    print(df_final) # Imprimir el dataframe final\n",
    "\n",
    "# Crear función para mostrar dataframe con pandastable\n",
    "def show_df():\n",
    "    global table # Variable global para almacenar el objeto Table\n",
    "    table = Table(frame, dataframe=df_final, visiblecols=True) # Crear objeto Table dentro del Frame\n",
    "    table.show() # Mostrar la tabla en la ventana\n",
    "\n",
    "# Crear interfaz gráfica\n",
    "window = tk.Tk() # Crear ventana principal\n",
    "window.title(\"Unir archivos excel\") # Asignar título a la ventana\n",
    "window.geometry(\"800x600\") # Ancho 800, alto calculado\n",
    "\n",
    "\n",
    "# Crear un widget Frame dentro de la ventana\n",
    "frame = tk.Frame(window)\n",
    "frame.pack()\n",
    "\n",
    "# Crear botón para seleccionar archivos\n",
    "btn_select = tk.Button(window, text=\"Seleccionar liquidaciones\", command=lambda: [select_files(), read_files(), concat_dfs()])\n",
    "btn_select.pack() # Colocar el botón en la ventana\n",
    "\n",
    "# Crear botón para mostrar dataframe con pandastable\n",
    "btn_show = tk.Button(window, text=\"Mostrar dataframe\", command=show_df)\n",
    "btn_show.pack() # Colocar el botón en la ventana\n",
    "\n",
    "# Crear botón para seleccionar padrón DBF\n",
    "btn_select = tk.Button(window, text=\"Seleccionar padrón\", command= lambda:funciones.subir_dbf())\n",
    "btn_select.pack() # Colocar el botón en la ventana\n",
    "\n",
    "window.mainloop() # Iniciar el bucle principal de la ventana\n",
    "\n"
   ]
  },
  {
   "cell_type": "code",
   "execution_count": null,
   "metadata": {},
   "outputs": [],
   "source": []
  },
  {
   "cell_type": "code",
   "execution_count": 24,
   "metadata": {},
   "outputs": [
    {
     "name": "stdout",
     "output_type": "stream",
     "text": [
      "WARNING *** OLE2 inconsistency: SSCS size is 0 but SSAT size is non-zero\n",
      "*** No CODEPAGE record, no encoding_override: will use 'iso-8859-1'\n",
      "*** No CODEPAGE record, no encoding_override: will use 'iso-8859-1'\n",
      "WARNING *** OLE2 inconsistency: SSCS size is 0 but SSAT size is non-zero\n",
      "*** No CODEPAGE record, no encoding_override: will use 'iso-8859-1'\n",
      "*** No CODEPAGE record, no encoding_override: will use 'iso-8859-1'\n"
     ]
    },
    {
     "name": "stderr",
     "output_type": "stream",
     "text": [
      "C:\\Users\\zickd\\AppData\\Local\\Temp\\ipykernel_15144\\3003643813.py:12: FutureWarning: The frame.append method is deprecated and will be removed from pandas in a future version. Use pandas.concat instead.\n",
      "  df = df.append(temp_df)\n",
      "C:\\Users\\zickd\\AppData\\Local\\Temp\\ipykernel_15144\\3003643813.py:12: FutureWarning: The frame.append method is deprecated and will be removed from pandas in a future version. Use pandas.concat instead.\n",
      "  df = df.append(temp_df)\n",
      "C:\\Users\\zickd\\AppData\\Local\\Temp\\ipykernel_15144\\3003643813.py:12: FutureWarning: The frame.append method is deprecated and will be removed from pandas in a future version. Use pandas.concat instead.\n",
      "  df = df.append(temp_df)\n",
      "C:\\Users\\zickd\\AppData\\Local\\Temp\\ipykernel_15144\\3003643813.py:12: FutureWarning: The frame.append method is deprecated and will be removed from pandas in a future version. Use pandas.concat instead.\n",
      "  df = df.append(temp_df)\n"
     ]
    }
   ],
   "source": [
    "import pandas as pd\n",
    "from tkinter import Tk, filedialog\n",
    "\n",
    "root = Tk()\n",
    "root.withdraw()\n",
    "\n",
    "filenames = filedialog.askopenfilenames(title=\"Select Excel files\")\n",
    "\n",
    "df = pd.DataFrame()\n",
    "for filename in filenames:\n",
    "    temp_df = pd.read_excel(filename) \n",
    "    df = df.append(temp_df)\n",
    "\n",
    "# Eliminar columnas duplicadas    \n",
    "df.columns = df.columns.drop_duplicates() \n",
    "\n",
    "df.to_excel(\"merged.xlsx\", index=False)"
   ]
  }
 ],
 "metadata": {
  "kernelspec": {
   "display_name": ".venv",
   "language": "python",
   "name": "python3"
  },
  "language_info": {
   "codemirror_mode": {
    "name": "ipython",
    "version": 3
   },
   "file_extension": ".py",
   "mimetype": "text/x-python",
   "name": "python",
   "nbconvert_exporter": "python",
   "pygments_lexer": "ipython3",
   "version": "3.11.4"
  },
  "orig_nbformat": 4
 },
 "nbformat": 4,
 "nbformat_minor": 2
}
