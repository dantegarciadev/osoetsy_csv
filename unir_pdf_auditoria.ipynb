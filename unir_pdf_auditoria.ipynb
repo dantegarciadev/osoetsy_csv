{
 "cells": [
  {
   "cell_type": "code",
   "execution_count": 2,
   "metadata": {},
   "outputs": [],
   "source": [
    "import os\n",
    "from PyPDF2 import PdfMerger"
   ]
  },
  {
   "cell_type": "code",
   "execution_count": null,
   "metadata": {},
   "outputs": [],
   "source": [
    "\n",
    "def find_pdfs(directory):\n",
    "    pdf_files = []\n",
    "    for root, _, files in os.walk(directory):\n",
    "        for file in files:\n",
    "            if file.endswith(\".pdf\"):\n",
    "                pdf_files.append(os.path.join(root, file))\n",
    "    return pdf_files\n",
    "\n",
    "def merge_pdfs(pdf_files, output_path):\n",
    "    merger = PdfMerger()\n",
    "    for pdf in pdf_files:\n",
    "        merger.append(pdf)\n",
    "    merger.write(output_path)\n",
    "    merger.close()\n",
    "\n",
    "def main(directory, output_path):\n",
    "    pdf_files = find_pdfs(directory)\n",
    "    merge_pdfs(pdf_files, output_path)\n",
    "    print(f\"PDFs merged into {output_path}\")\n",
    "\n",
    "if __name__ == \"__main__\":\n",
    "    directory = \"//192.168.2.110/auditoria medica/TODO DISCAPACIDAD/AA requerimiento SSS 2024/MAIL PARA ENVIAR COMPRIMIDOS jesi/PALACIO FABRICIO ok\"  # Cambia esto por la ruta de tu carpeta\n",
    "    output_path = \"C:/Users/zickd/Downloads/comprimidos/PALACIO FABRICIO.pdf\"  # Cambia esto por la ruta de salida del archivo unido\n",
    "    main(directory, output_path)\n"
   ]
  }
 ],
 "metadata": {
  "kernelspec": {
   "display_name": ".venv",
   "language": "python",
   "name": "python3"
  },
  "language_info": {
   "codemirror_mode": {
    "name": "ipython",
    "version": 3
   },
   "file_extension": ".py",
   "mimetype": "text/x-python",
   "name": "python",
   "nbconvert_exporter": "python",
   "pygments_lexer": "ipython3",
   "version": "3.11.8"
  }
 },
 "nbformat": 4,
 "nbformat_minor": 2
}
