{
 "cells": [
  {
   "cell_type": "code",
   "execution_count": 1,
   "metadata": {},
   "outputs": [],
   "source": [
    "import pandas as pd\n",
    "import numpy as np\n",
    "import xlwt\n",
    "import xlrd\n",
    "from tkinter import filedialog\n",
    "import tkinter as tk\n",
    "import customtkinter as ctk\n",
    "from customtkinter import filedialog\n",
    "import funciones\n",
    "import re\n",
    "import openpyxl"
   ]
  },
  {
   "cell_type": "code",
   "execution_count": 9,
   "metadata": {},
   "outputs": [
    {
     "name": "stdout",
     "output_type": "stream",
     "text": [
      "<_io.TextIOWrapper name='C:/Users/zickd/Downloads/8342_septiembre.xlsx' mode='r' encoding='cp1252'>\n",
      "         Afil.  Benef.              Apellido             Nombre  \\\n",
      "0      22942.0   21101                AGUERO         Jorge Luis   \n",
      "1      22942.0   21101    +GUERRERO ESPINOLA         DORY ALICE   \n",
      "2      24634.0   24860               ALARCON      LUCAS ARMANDO   \n",
      "3      19047.0   18240                BORDON       Anibal Jorge   \n",
      "4      19047.0   18240            +VILLAFAÑE    Estela Patricia   \n",
      "...        ...     ...                   ...                ...   \n",
      "16495  28356.0   26793               SONEYRA         JORGE OMAR   \n",
      "16496      NaN   38000                TORRES      WALTER JAVIER   \n",
      "16497      NaN   36276                 FERRE             ALICIA   \n",
      "16498      NaN   25082                BURELA  DANIELA DEL VALLE   \n",
      "16499      NaN   26205                 NEILD  CHRISTIAN MARCELO   \n",
      "\n",
      "            Cuil/DNI Parentesco(Edad) FechaNacimiento Sexo EstadoCivil  \\\n",
      "0      20-94455219-8     Titular (39)      1984-04-23    M   Soltero/a   \n",
      "1      27-94746952-0  Concubino/a(55)      1967-11-01    F   Soltero/a   \n",
      "2      20-38257639-0     Titular (29)      1994-04-04    M   Soltero/a   \n",
      "3      20-21142907-1     Titular (53)      1969-12-18    M    Casado/a   \n",
      "4      27-27734133-1     Esposo/a(53)      1970-04-28    F    Casado/a   \n",
      "...              ...              ...             ...  ...         ...   \n",
      "16495  20-17228097-9     Titular (58)      1964-12-29    M   Soltero/a   \n",
      "16496  20-36088840-2     Titular (33)      1990-01-01    M   Soltero/a   \n",
      "16497  27-20203434-4     Titular (32)      1991-01-01    F   Soltero/a   \n",
      "16498  27-39643715-0     Titular (27)      1996-06-08    F   Soltero/a   \n",
      "16499  23-25559178-9     Titular (34)      1988-10-23    M   Soltero/a   \n",
      "\n",
      "                     Empresa  ...               Sede     Provincia  \\\n",
      "0      4 DE NOVIEMBRE S.R.L.  ...   BsAs - San Justo  BUENOS AIRES   \n",
      "1                        NaN  ...   BsAs - San Justo  BUENOS AIRES   \n",
      "2      4 DE NOVIEMBRE S.R.L.  ...   BsAs - San Justo  BUENOS AIRES   \n",
      "3      4 DE NOVIEMBRE S.R.L.  ...   BsAs - San Justo  BUENOS AIRES   \n",
      "4                        NaN  ...   BsAs - San Justo  BUENOS AIRES   \n",
      "...                      ...  ...                ...           ...   \n",
      "16495       ZELCAR WASH S.A.  ...   BsAs - San Justo  BUENOS AIRES   \n",
      "16496       ZELCAR WASH S.A.  ...   BsAs - San Justo  BUENOS AIRES   \n",
      "16497            ZHANG YULIN  ...       BsAs - Chile  BUENOS AIRES   \n",
      "16498  ZINI MAURO CESAR JOSE  ...  BsAs - San Martin  BUENOS AIRES   \n",
      "16499  ZINI MAURO CESAR JOSE  ...  BsAs - San Martin  BUENOS AIRES   \n",
      "\n",
      "                  Localidad Tel_prefijo            Tel_numero  Cel_prefijo  \\\n",
      "0           CAPITAL FEDERAL         0.0  1126767712 concubina          NaN   \n",
      "1           CAPITAL FEDERAL         0.0  1126767712 concubina          NaN   \n",
      "2      SAN FRANCISCO SOLANO         NaN              42126327          NaN   \n",
      "3                     MERLO        -1.0            2204864756          NaN   \n",
      "4                     MERLO        -1.0            2204864756          NaN   \n",
      "...                     ...         ...                   ...          ...   \n",
      "16495               CASEROS         NaN                   NaN          NaN   \n",
      "16496               CASEROS         NaN                   NaN          NaN   \n",
      "16497       CAPITAL FEDERAL         NaN                   NaN          NaN   \n",
      "16498                 MUNRO        11.0                   NaN         11.0   \n",
      "16499                 MUNRO         NaN                   NaN          NaN   \n",
      "\n",
      "         Cel_numero                       Email                Condicion  \\\n",
      "0        1165662960     luisaguero344@gmail.com  Relacion de dependencia   \n",
      "1        1165662960                              Relacion de dependencia   \n",
      "2        1169319346  luca1994alarcon@gamail.com  Relacion de dependencia   \n",
      "3        1166791358  anibalbordon_7@hotmail.com  Relacion de dependencia   \n",
      "4        1166791358                              Relacion de dependencia   \n",
      "...             ...                         ...                      ...   \n",
      "16495    1174837129                         NaN  Relacion de dependencia   \n",
      "16496          4750                         NaN  Relacion de dependencia   \n",
      "16497           NaN                         NaN  Relacion de dependencia   \n",
      "16498     2596-8642    bureladaniela1@gmail.com  Relacion de dependencia   \n",
      "16499  11-3251-5138                         NaN  Relacion de dependencia   \n",
      "\n",
      "       Padron Afiliados  \n",
      "0       OS - Sede Todas  \n",
      "1       OS - Sede Todas  \n",
      "2       OS - Sede Todas  \n",
      "3       OS - Sede Todas  \n",
      "4       OS - Sede Todas  \n",
      "...                 ...  \n",
      "16495   OS - Sede Todas  \n",
      "16496   OS - Sede Todas  \n",
      "16497   OS - Sede Todas  \n",
      "16498   OS - Sede Todas  \n",
      "16499   OS - Sede Todas  \n",
      "\n",
      "[16500 rows x 29 columns]\n"
     ]
    }
   ],
   "source": [
    "#cargar primero el excel o csv\n",
    "archivo = None\n",
    "while True:\n",
    "    archivo = funciones.seleccionar_archivo()\n",
    "    print(archivo)\n",
    "    if archivo:\n",
    "        ruta_archivo = archivo.name\n",
    "        try:\n",
    "            #padronCapita = pd.read_csv(ruta_archivo, encoding='ISO-8859-1', sep=';')\n",
    "            padron_capita = pd.read_excel(ruta_archivo)\n",
    "            print(padron_capita)\n",
    "            break\n",
    "        except UnicodeDecodeError:\n",
    "            print(\"Error de decodificación de caracteres. Intenta con otra codificación o archivo.\")\n",
    "            continue\n",
    "    else:\n",
    "        print(\"Archivo incorrecto. Por favor, vuelva a cargarlo.\")"
   ]
  },
  {
   "cell_type": "code",
   "execution_count": 10,
   "metadata": {},
   "outputs": [],
   "source": [
    "diccionario ={'/a':'',\n",
    "            'Concubino'\t:\t'familiar'\t,\n",
    "            'Esposo'\t:\t'familiar'\t,\n",
    "            'Hijo'\t:\t'familiar'\t,\n",
    "            'familiar Discapacitado'\t:\t'familiar',\n",
    "            'familiar a cargo'\t:\t'familiar',\n",
    "            'Familiar a cargo'  : 'familiar',\n",
    "            'Hijo a cargo'\t: 'familiar',\n",
    "            'familiar Discapacitado'  : 'familiar'\n",
    "              }      \n",
    "padron_capita['Parentesco(Edad)']=padron_capita['Parentesco(Edad)'].str.replace('\\d|\\(|\\)', '', regex=True)\n",
    "padron_capita['Parentesco(Edad)']=padron_capita['Parentesco(Edad)'].replace(diccionario, regex=True)"
   ]
  },
  {
   "cell_type": "code",
   "execution_count": 11,
   "metadata": {},
   "outputs": [],
   "source": [
    "condicionFiltro=['Monotributo social DESREGULADO MEP','Monotributo social DESREGULADO EPV','Monotributo social DESREGULADO SD',\n",
    "               'Monotributo social DESREGULADO TIS','Monotributo social DESREGULADO MEP','Desempleado']\n",
    "filtro = padron_capita['Condicion'].isin(condicionFiltro)\n",
    "padronCapita = padron_capita.drop(padron_capita[filtro].index)"
   ]
  },
  {
   "cell_type": "code",
   "execution_count": 7,
   "metadata": {},
   "outputs": [
    {
     "name": "stdout",
     "output_type": "stream",
     "text": [
      "     Afil.  Benef.              Apellido           Nombre       Cuil/DNI  \\\n",
      "0  22942.0   21101                AGUERO       Jorge Luis  20-94455219-8   \n",
      "1  22942.0   21101    +GUERRERO ESPINOLA       DORY ALICE  27-94746952-0   \n",
      "2  24634.0   24860               ALARCON    LUCAS ARMANDO  20-38257639-0   \n",
      "3  19047.0   18240                BORDON     Anibal Jorge  20-21142907-1   \n",
      "4  19047.0   18240            +VILLAFAÑE  Estela Patricia  27-27734133-1   \n",
      "\n",
      "  Parentesco(Edad) FechaNacimiento Sexo EstadoCivil                Empresa  \\\n",
      "0         Titular       1984-04-23    M   Soltero/a  4 DE NOVIEMBRE S.R.L.   \n",
      "1         familiar      1967-11-01    F   Soltero/a                    NaN   \n",
      "2         Titular       1994-04-04    M   Soltero/a  4 DE NOVIEMBRE S.R.L.   \n",
      "3         Titular       1969-12-18    M    Casado/a  4 DE NOVIEMBRE S.R.L.   \n",
      "4         familiar      1970-04-28    F    Casado/a                    NaN   \n",
      "\n",
      "   ...              Sede     Provincia             Localidad Tel_prefijo  \\\n",
      "0  ...  BsAs - San Justo  BUENOS AIRES       CAPITAL FEDERAL         0.0   \n",
      "1  ...  BsAs - San Justo  BUENOS AIRES       CAPITAL FEDERAL         0.0   \n",
      "2  ...  BsAs - San Justo  BUENOS AIRES  SAN FRANCISCO SOLANO         NaN   \n",
      "3  ...  BsAs - San Justo  BUENOS AIRES                 MERLO        -1.0   \n",
      "4  ...  BsAs - San Justo  BUENOS AIRES                 MERLO        -1.0   \n",
      "\n",
      "             Tel_numero  Cel_prefijo  Cel_numero                       Email  \\\n",
      "0  1126767712 concubina          NaN  1165662960     luisaguero344@gmail.com   \n",
      "1  1126767712 concubina          NaN  1165662960                               \n",
      "2              42126327          NaN  1169319346  luca1994alarcon@gamail.com   \n",
      "3            2204864756          NaN  1166791358  anibalbordon_7@hotmail.com   \n",
      "4            2204864756          NaN  1166791358                               \n",
      "\n",
      "                 Condicion  Padron Afiliados  \n",
      "0  Relacion de dependencia   OS - Sede Todas  \n",
      "1  Relacion de dependencia   OS - Sede Todas  \n",
      "2  Relacion de dependencia   OS - Sede Todas  \n",
      "3  Relacion de dependencia   OS - Sede Todas  \n",
      "4  Relacion de dependencia   OS - Sede Todas  \n",
      "\n",
      "[5 rows x 29 columns]\n"
     ]
    }
   ],
   "source": [
    "print(padronCapita.head(5))"
   ]
  },
  {
   "cell_type": "code",
   "execution_count": 12,
   "metadata": {},
   "outputs": [],
   "source": [
    "save_path = filedialog.askdirectory()\n",
    "padronCapita.to_excel(save_path + '\\capitasagosto.xlsx', engine='openpyxl', index=False)"
   ]
  }
 ],
 "metadata": {
  "kernelspec": {
   "display_name": ".venv",
   "language": "python",
   "name": "python3"
  },
  "language_info": {
   "codemirror_mode": {
    "name": "ipython",
    "version": 3
   },
   "file_extension": ".py",
   "mimetype": "text/x-python",
   "name": "python",
   "nbconvert_exporter": "python",
   "pygments_lexer": "ipython3",
   "version": "3.11.4"
  },
  "orig_nbformat": 4,
  "vscode": {
   "interpreter": {
    "hash": "1f64b729a01f235b3ec02af186f3a50c3d881136f08176a7df610cc16261a174"
   }
  }
 },
 "nbformat": 4,
 "nbformat_minor": 2
}
