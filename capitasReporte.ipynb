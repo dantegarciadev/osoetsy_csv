{
 "cells": [
  {
   "cell_type": "code",
   "execution_count": 1,
   "metadata": {},
   "outputs": [],
   "source": [
    "import pandas as pd\n",
    "import numpy as np\n",
    "import xlwt\n",
    "import xlrd\n",
    "from tkinter import filedialog\n",
    "import tkinter as tk\n",
    "import customtkinter as ctk\n",
    "from customtkinter import filedialog\n",
    "import funciones\n",
    "import re\n",
    "import openpyxl"
   ]
  },
  {
   "cell_type": "code",
   "execution_count": 2,
   "metadata": {},
   "outputs": [
    {
     "name": "stdout",
     "output_type": "stream",
     "text": [
      "<_io.TextIOWrapper name='E:/Mi unidad/osoetsylra/importaciones_TIS_SD_ETC_a_sidefi/EVP/junio final/nombre/EPV JUNIO.xlsx' mode='r' encoding='cp1252'>\n"
     ]
    },
    {
     "ename": "ParserError",
     "evalue": "Error tokenizing data. C error: Expected 3 fields in line 106, saw 4\n",
     "output_type": "error",
     "traceback": [
      "\u001b[1;31m---------------------------------------------------------------------------\u001b[0m",
      "\u001b[1;31mParserError\u001b[0m                               Traceback (most recent call last)",
      "Cell \u001b[1;32mIn[2], line 9\u001b[0m\n\u001b[0;32m      7\u001b[0m ruta_archivo \u001b[39m=\u001b[39m archivo\u001b[39m.\u001b[39mname\n\u001b[0;32m      8\u001b[0m \u001b[39mtry\u001b[39;00m:\n\u001b[1;32m----> 9\u001b[0m     padronCapita \u001b[39m=\u001b[39m pd\u001b[39m.\u001b[39;49mread_csv(ruta_archivo, encoding\u001b[39m=\u001b[39;49m\u001b[39m'\u001b[39;49m\u001b[39mISO-8859-1\u001b[39;49m\u001b[39m'\u001b[39;49m, sep\u001b[39m=\u001b[39;49m\u001b[39m'\u001b[39;49m\u001b[39m;\u001b[39;49m\u001b[39m'\u001b[39;49m)\n\u001b[0;32m     10\u001b[0m     \u001b[39m#padron = pd.read_csv(archivo, sep=\";\", encoding=\"ISO-8859-1\")\u001b[39;00m\n\u001b[0;32m     11\u001b[0m     \u001b[39mprint\u001b[39m(padronCapita)\n",
      "File \u001b[1;32mc:\\Users\\zickd\\OneDrive\\Documentos\\repositoriosGit\\osoetsy_csv\\.venv\\Lib\\site-packages\\pandas\\util\\_decorators.py:211\u001b[0m, in \u001b[0;36mdeprecate_kwarg.<locals>._deprecate_kwarg.<locals>.wrapper\u001b[1;34m(*args, **kwargs)\u001b[0m\n\u001b[0;32m    209\u001b[0m     \u001b[39melse\u001b[39;00m:\n\u001b[0;32m    210\u001b[0m         kwargs[new_arg_name] \u001b[39m=\u001b[39m new_arg_value\n\u001b[1;32m--> 211\u001b[0m \u001b[39mreturn\u001b[39;00m func(\u001b[39m*\u001b[39;49margs, \u001b[39m*\u001b[39;49m\u001b[39m*\u001b[39;49mkwargs)\n",
      "File \u001b[1;32mc:\\Users\\zickd\\OneDrive\\Documentos\\repositoriosGit\\osoetsy_csv\\.venv\\Lib\\site-packages\\pandas\\util\\_decorators.py:331\u001b[0m, in \u001b[0;36mdeprecate_nonkeyword_arguments.<locals>.decorate.<locals>.wrapper\u001b[1;34m(*args, **kwargs)\u001b[0m\n\u001b[0;32m    325\u001b[0m \u001b[39mif\u001b[39;00m \u001b[39mlen\u001b[39m(args) \u001b[39m>\u001b[39m num_allow_args:\n\u001b[0;32m    326\u001b[0m     warnings\u001b[39m.\u001b[39mwarn(\n\u001b[0;32m    327\u001b[0m         msg\u001b[39m.\u001b[39mformat(arguments\u001b[39m=\u001b[39m_format_argument_list(allow_args)),\n\u001b[0;32m    328\u001b[0m         \u001b[39mFutureWarning\u001b[39;00m,\n\u001b[0;32m    329\u001b[0m         stacklevel\u001b[39m=\u001b[39mfind_stack_level(),\n\u001b[0;32m    330\u001b[0m     )\n\u001b[1;32m--> 331\u001b[0m \u001b[39mreturn\u001b[39;00m func(\u001b[39m*\u001b[39;49margs, \u001b[39m*\u001b[39;49m\u001b[39m*\u001b[39;49mkwargs)\n",
      "File \u001b[1;32mc:\\Users\\zickd\\OneDrive\\Documentos\\repositoriosGit\\osoetsy_csv\\.venv\\Lib\\site-packages\\pandas\\io\\parsers\\readers.py:950\u001b[0m, in \u001b[0;36mread_csv\u001b[1;34m(filepath_or_buffer, sep, delimiter, header, names, index_col, usecols, squeeze, prefix, mangle_dupe_cols, dtype, engine, converters, true_values, false_values, skipinitialspace, skiprows, skipfooter, nrows, na_values, keep_default_na, na_filter, verbose, skip_blank_lines, parse_dates, infer_datetime_format, keep_date_col, date_parser, dayfirst, cache_dates, iterator, chunksize, compression, thousands, decimal, lineterminator, quotechar, quoting, doublequote, escapechar, comment, encoding, encoding_errors, dialect, error_bad_lines, warn_bad_lines, on_bad_lines, delim_whitespace, low_memory, memory_map, float_precision, storage_options)\u001b[0m\n\u001b[0;32m    935\u001b[0m kwds_defaults \u001b[39m=\u001b[39m _refine_defaults_read(\n\u001b[0;32m    936\u001b[0m     dialect,\n\u001b[0;32m    937\u001b[0m     delimiter,\n\u001b[1;32m   (...)\u001b[0m\n\u001b[0;32m    946\u001b[0m     defaults\u001b[39m=\u001b[39m{\u001b[39m\"\u001b[39m\u001b[39mdelimiter\u001b[39m\u001b[39m\"\u001b[39m: \u001b[39m\"\u001b[39m\u001b[39m,\u001b[39m\u001b[39m\"\u001b[39m},\n\u001b[0;32m    947\u001b[0m )\n\u001b[0;32m    948\u001b[0m kwds\u001b[39m.\u001b[39mupdate(kwds_defaults)\n\u001b[1;32m--> 950\u001b[0m \u001b[39mreturn\u001b[39;00m _read(filepath_or_buffer, kwds)\n",
      "File \u001b[1;32mc:\\Users\\zickd\\OneDrive\\Documentos\\repositoriosGit\\osoetsy_csv\\.venv\\Lib\\site-packages\\pandas\\io\\parsers\\readers.py:611\u001b[0m, in \u001b[0;36m_read\u001b[1;34m(filepath_or_buffer, kwds)\u001b[0m\n\u001b[0;32m    608\u001b[0m     \u001b[39mreturn\u001b[39;00m parser\n\u001b[0;32m    610\u001b[0m \u001b[39mwith\u001b[39;00m parser:\n\u001b[1;32m--> 611\u001b[0m     \u001b[39mreturn\u001b[39;00m parser\u001b[39m.\u001b[39;49mread(nrows)\n",
      "File \u001b[1;32mc:\\Users\\zickd\\OneDrive\\Documentos\\repositoriosGit\\osoetsy_csv\\.venv\\Lib\\site-packages\\pandas\\io\\parsers\\readers.py:1778\u001b[0m, in \u001b[0;36mTextFileReader.read\u001b[1;34m(self, nrows)\u001b[0m\n\u001b[0;32m   1771\u001b[0m nrows \u001b[39m=\u001b[39m validate_integer(\u001b[39m\"\u001b[39m\u001b[39mnrows\u001b[39m\u001b[39m\"\u001b[39m, nrows)\n\u001b[0;32m   1772\u001b[0m \u001b[39mtry\u001b[39;00m:\n\u001b[0;32m   1773\u001b[0m     \u001b[39m# error: \"ParserBase\" has no attribute \"read\"\u001b[39;00m\n\u001b[0;32m   1774\u001b[0m     (\n\u001b[0;32m   1775\u001b[0m         index,\n\u001b[0;32m   1776\u001b[0m         columns,\n\u001b[0;32m   1777\u001b[0m         col_dict,\n\u001b[1;32m-> 1778\u001b[0m     ) \u001b[39m=\u001b[39m \u001b[39mself\u001b[39;49m\u001b[39m.\u001b[39;49m_engine\u001b[39m.\u001b[39;49mread(  \u001b[39m# type: ignore[attr-defined]\u001b[39;49;00m\n\u001b[0;32m   1779\u001b[0m         nrows\n\u001b[0;32m   1780\u001b[0m     )\n\u001b[0;32m   1781\u001b[0m \u001b[39mexcept\u001b[39;00m \u001b[39mException\u001b[39;00m:\n\u001b[0;32m   1782\u001b[0m     \u001b[39mself\u001b[39m\u001b[39m.\u001b[39mclose()\n",
      "File \u001b[1;32mc:\\Users\\zickd\\OneDrive\\Documentos\\repositoriosGit\\osoetsy_csv\\.venv\\Lib\\site-packages\\pandas\\io\\parsers\\c_parser_wrapper.py:230\u001b[0m, in \u001b[0;36mCParserWrapper.read\u001b[1;34m(self, nrows)\u001b[0m\n\u001b[0;32m    228\u001b[0m \u001b[39mtry\u001b[39;00m:\n\u001b[0;32m    229\u001b[0m     \u001b[39mif\u001b[39;00m \u001b[39mself\u001b[39m\u001b[39m.\u001b[39mlow_memory:\n\u001b[1;32m--> 230\u001b[0m         chunks \u001b[39m=\u001b[39m \u001b[39mself\u001b[39;49m\u001b[39m.\u001b[39;49m_reader\u001b[39m.\u001b[39;49mread_low_memory(nrows)\n\u001b[0;32m    231\u001b[0m         \u001b[39m# destructive to chunks\u001b[39;00m\n\u001b[0;32m    232\u001b[0m         data \u001b[39m=\u001b[39m _concatenate_chunks(chunks)\n",
      "File \u001b[1;32mc:\\Users\\zickd\\OneDrive\\Documentos\\repositoriosGit\\osoetsy_csv\\.venv\\Lib\\site-packages\\pandas\\_libs\\parsers.pyx:808\u001b[0m, in \u001b[0;36mpandas._libs.parsers.TextReader.read_low_memory\u001b[1;34m()\u001b[0m\n",
      "File \u001b[1;32mc:\\Users\\zickd\\OneDrive\\Documentos\\repositoriosGit\\osoetsy_csv\\.venv\\Lib\\site-packages\\pandas\\_libs\\parsers.pyx:866\u001b[0m, in \u001b[0;36mpandas._libs.parsers.TextReader._read_rows\u001b[1;34m()\u001b[0m\n",
      "File \u001b[1;32mc:\\Users\\zickd\\OneDrive\\Documentos\\repositoriosGit\\osoetsy_csv\\.venv\\Lib\\site-packages\\pandas\\_libs\\parsers.pyx:852\u001b[0m, in \u001b[0;36mpandas._libs.parsers.TextReader._tokenize_rows\u001b[1;34m()\u001b[0m\n",
      "File \u001b[1;32mc:\\Users\\zickd\\OneDrive\\Documentos\\repositoriosGit\\osoetsy_csv\\.venv\\Lib\\site-packages\\pandas\\_libs\\parsers.pyx:1973\u001b[0m, in \u001b[0;36mpandas._libs.parsers.raise_parser_error\u001b[1;34m()\u001b[0m\n",
      "\u001b[1;31mParserError\u001b[0m: Error tokenizing data. C error: Expected 3 fields in line 106, saw 4\n"
     ]
    }
   ],
   "source": [
    "#cargar primero el excel o csv\n",
    "archivo = None\n",
    "while True:\n",
    "    archivo = funciones.seleccionar_archivo()\n",
    "    print(archivo)\n",
    "    if archivo:\n",
    "        ruta_archivo = archivo.name\n",
    "        try:\n",
    "            padronCapita = pd.read_csv(ruta_archivo, encoding='ISO-8859-1', sep=';')\n",
    "            #padron = pd.read_csv(archivo, sep=\";\", encoding=\"ISO-8859-1\")\n",
    "            print(padronCapita)\n",
    "            break\n",
    "        except UnicodeDecodeError:\n",
    "            print(\"Error de decodificación de caracteres. Intenta con otra codificación o archivo.\")\n",
    "            continue\n",
    "    else:\n",
    "        print(\"Archivo incorrecto. Por favor, vuelva a cargarlo.\")"
   ]
  },
  {
   "cell_type": "code",
   "execution_count": 11,
   "metadata": {},
   "outputs": [],
   "source": [
    "diccionario ={'/a':'',\n",
    "            'Concubino'\t:\t'familiar'\t,\n",
    "            'Esposo'\t:\t'familiar'\t,\n",
    "            'Hijo'\t:\t'familiar'\t,\n",
    "            'familiar Discapacitado'\t:\t'familiar'\t,\n",
    "            'familiar a cargo'\t:\t'familiar'\t,\n",
    "            'Hijo a cargo'\t:\t'familiar'\t\n",
    "\n",
    "              }      \n",
    "padronCapita['Parentesco(Edad)']=padronCapita['Parentesco(Edad)'].str.replace('\\d|\\(|\\)', '', regex=True)\n",
    "padronCapita['Parentesco(Edad)']=padronCapita['Parentesco(Edad)'].replace(diccionario, regex=True)"
   ]
  },
  {
   "cell_type": "code",
   "execution_count": 12,
   "metadata": {},
   "outputs": [],
   "source": [
    "condicionFiltro=['Monotributo social DESREGULADO MEP','Monotributo social DESREGULADO EPV','Monotributo social DESREGULADO SD',\n",
    "               'Monotributo social DESREGULADO TIS','Monotributo social DESREGULADO MEP','Desempleado']\n",
    "filtro = padronCapita['Condicion'].isin(condicionFiltro)\n",
    "padronCapita = padronCapita.drop(padronCapita[filtro].index)"
   ]
  },
  {
   "cell_type": "code",
   "execution_count": 59,
   "metadata": {},
   "outputs": [
    {
     "name": "stdout",
     "output_type": "stream",
     "text": [
      "     Afil.  Benef.              Apellido           Nombre       Cuil/DNI  \\\n",
      "0  22942.0   21101                AGUERO       Jorge Luis  20-94455219-8   \n",
      "1  22942.0   21101    +GUERRERO ESPINOLA       DORY ALICE  27-94746952-0   \n",
      "2  24634.0   24860               ALARCON    LUCAS ARMANDO  20-38257639-0   \n",
      "3  19047.0   18240                BORDON     Anibal Jorge  20-21142907-1   \n",
      "4  19047.0   18240            +VILLAFAÑE  Estela Patricia  27-27734133-1   \n",
      "\n",
      "  Parentesco(Edad) FechaNacimiento Sexo EstadoCivil                Empresa  \\\n",
      "0         Titular        23/4/1984    M   Soltero/a  4 DE NOVIEMBRE S.R.L.   \n",
      "1         familiar       1/11/1967    F   Soltero/a                    NaN   \n",
      "2         Titular         4/4/1994    M   Soltero/a  4 DE NOVIEMBRE S.R.L.   \n",
      "3         Titular       18/12/1969    M    Casado/a  4 DE NOVIEMBRE S.R.L.   \n",
      "4         familiar       28/4/1970    F    Casado/a                    NaN   \n",
      "\n",
      "   ...              Sede     Provincia             Localidad Tel_prefijo  \\\n",
      "0  ...  BsAs - San Justo  BUENOS AIRES       CAPITAL FEDERAL         0.0   \n",
      "1  ...  BsAs - San Justo  BUENOS AIRES       CAPITAL FEDERAL         0.0   \n",
      "2  ...  BsAs - San Justo  BUENOS AIRES  SAN FRANCISCO SOLANO         NaN   \n",
      "3  ...  BsAs - San Justo  BUENOS AIRES                 MERLO        -1.0   \n",
      "4  ...  BsAs - San Justo  BUENOS AIRES                 MERLO        -1.0   \n",
      "\n",
      "             Tel_numero  Cel_prefijo  Cel_numero                       Email  \\\n",
      "0  1126767712 concubina          NaN  1165662960     luisaguero344@gmail.com   \n",
      "1  1126767712 concubina          NaN  1165662960                               \n",
      "2              42126327          NaN  1169319346  luca1994alarcon@gamail.com   \n",
      "3            2204864756          NaN  1166791358  anibalbordon_7@hotmail.com   \n",
      "4            2204864756          NaN  1166791358                               \n",
      "\n",
      "                 Condicion  Padron Afiliados  \n",
      "0  Relacion de dependencia   OS - Sede Todas  \n",
      "1  Relacion de dependencia   OS - Sede Todas  \n",
      "2  Relacion de dependencia   OS - Sede Todas  \n",
      "3  Relacion de dependencia   OS - Sede Todas  \n",
      "4  Relacion de dependencia   OS - Sede Todas  \n",
      "\n",
      "[5 rows x 29 columns]\n"
     ]
    }
   ],
   "source": [
    "print(padronCapita.head(5))"
   ]
  },
  {
   "cell_type": "code",
   "execution_count": 13,
   "metadata": {},
   "outputs": [],
   "source": [
    "save_path = filedialog.askdirectory()\n",
    "padronCapita.to_excel(save_path + '\\capitasjulio.xlsx', engine='openpyxl', index=False)"
   ]
  }
 ],
 "metadata": {
  "kernelspec": {
   "display_name": ".venv",
   "language": "python",
   "name": "python3"
  },
  "language_info": {
   "codemirror_mode": {
    "name": "ipython",
    "version": 3
   },
   "file_extension": ".py",
   "mimetype": "text/x-python",
   "name": "python",
   "nbconvert_exporter": "python",
   "pygments_lexer": "ipython3",
   "version": "3.11.0 (main, Oct 24 2022, 18:26:48) [MSC v.1933 64 bit (AMD64)]"
  },
  "orig_nbformat": 4,
  "vscode": {
   "interpreter": {
    "hash": "1f64b729a01f235b3ec02af186f3a50c3d881136f08176a7df610cc16261a174"
   }
  }
 },
 "nbformat": 4,
 "nbformat_minor": 2
}
