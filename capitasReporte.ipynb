{
 "cells": [
  {
   "cell_type": "code",
   "execution_count": 1,
   "metadata": {},
   "outputs": [],
   "source": [
    "import pandas as pd\n",
    "import numpy as np\n",
    "import xlwt\n",
    "import xlrd\n",
    "from tkinter import filedialog\n",
    "import tkinter as tk\n",
    "import customtkinter as ctk\n",
    "from customtkinter import filedialog\n",
    "import funciones\n",
    "import re\n",
    "import openpyxl"
   ]
  },
  {
   "cell_type": "code",
   "execution_count": null,
   "metadata": {},
   "outputs": [],
   "source": [
    "#cargar primero el excel o csv\n",
    "archivo = None\n",
    "while True:\n",
    "    archivo = funciones.seleccionar_archivo()\n",
    "    print(archivo)\n",
    "    if archivo:\n",
    "        ruta_archivo = archivo.name\n",
    "        try:\n",
    "            padron_capita = pd.read_csv(ruta_archivo, encoding='ISO-8859-1', sep=';')\n",
    "            #padron_capita = pd.read_excel(ruta_archivo)\n",
    "            print(padron_capita)\n",
    "            break\n",
    "        except UnicodeDecodeError:\n",
    "            print(\"Error de decodificación de caracteres. Intenta con otra codificación o archivo.\")\n",
    "            continue\n",
    "    else:\n",
    "        print(\"Archivo incorrecto. Por favor, vuelva a cargarlo.\")"
   ]
  },
  {
   "cell_type": "code",
   "execution_count": 6,
   "metadata": {},
   "outputs": [],
   "source": [
    "diccionario ={'/a':'',\n",
    "            'Concubino'\t:\t'familiar'\t,\n",
    "            'Esposo'\t:\t'familiar'\t,\n",
    "            'Hijo'\t:\t'familiar'\t,\n",
    "            'familiar Discapacitado'\t:\t'familiar',\n",
    "            'familiar a cargo'\t:\t'familiar',\n",
    "            'Familiar a cargo'  : 'familiar',\n",
    "            'Hijo a cargo'\t: 'familiar',\n",
    "            'familiar Discapacitado'  : 'familiar'\n",
    "              }      \n",
    "padron_capita['Parentesco(Edad)']=padron_capita['Parentesco(Edad)'].str.replace('\\d|\\(|\\)', '', regex=True)\n",
    "padron_capita['Parentesco(Edad)']=padron_capita['Parentesco(Edad)'].replace(diccionario, regex=True)"
   ]
  },
  {
   "cell_type": "code",
   "execution_count": 7,
   "metadata": {},
   "outputs": [],
   "source": [
    "condicionFiltro=['Monotributo social DESREGULADO MEP','Monotributo social DESREGULADO EPV','Monotributo social DESREGULADO SD',\n",
    "               'Monotributo social DESREGULADO TIS','Monotributo social DESREGULADO MEP','Desempleado']\n",
    "filtro = padron_capita['Condicion'].isin(condicionFiltro)\n",
    "padronCapita = padron_capita.drop(padron_capita[filtro].index)"
   ]
  },
  {
   "cell_type": "code",
   "execution_count": null,
   "metadata": {},
   "outputs": [],
   "source": [
    "print(padronCapita.head(5))"
   ]
  },
  {
   "cell_type": "code",
   "execution_count": 12,
   "metadata": {},
   "outputs": [],
   "source": [
    "save_path = filedialog.askdirectory()\n",
    "padronCapita.to_excel(save_path + '\\capitasagosto.xlsx', engine='openpyxl', index=False)"
   ]
  }
 ],
 "metadata": {
  "kernelspec": {
   "display_name": ".venv",
   "language": "python",
   "name": "python3"
  },
  "language_info": {
   "codemirror_mode": {
    "name": "ipython",
    "version": 3
   },
   "file_extension": ".py",
   "mimetype": "text/x-python",
   "name": "python",
   "nbconvert_exporter": "python",
   "pygments_lexer": "ipython3",
   "version": "3.11.4"
  },
  "orig_nbformat": 4,
  "vscode": {
   "interpreter": {
    "hash": "1f64b729a01f235b3ec02af186f3a50c3d881136f08176a7df610cc16261a174"
   }
  }
 },
 "nbformat": 4,
 "nbformat_minor": 2
}
