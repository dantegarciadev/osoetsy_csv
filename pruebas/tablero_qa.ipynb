{
 "cells": [
  {
   "cell_type": "code",
   "execution_count": 1,
   "metadata": {},
   "outputs": [],
   "source": [
    "import pandas as pd\n",
    "import numpy as np\n"
   ]
  },
  {
   "cell_type": "code",
   "execution_count": 14,
   "metadata": {},
   "outputs": [
    {
     "name": "stderr",
     "output_type": "stream",
     "text": [
      "C:\\Users\\zickd\\AppData\\Local\\Temp\\ipykernel_14856\\3431978572.py:1: DtypeWarning: Columns (0,126) have mixed types. Specify dtype option on import or set low_memory=False.\n",
      "  autorizaciones = pd.read_csv(r\"C:\\Users\\zickd\\Downloads\\PRACTICAS_TOTALES.CSV\", sep = \";\", encoding=\"ISO-8859-1\")\n"
     ]
    }
   ],
   "source": [
    "autorizaciones = pd.read_csv(r\"C:\\Users\\zickd\\Downloads\\PRACTICAS_TOTALES.CSV\", sep = \";\", encoding=\"ISO-8859-1\")"
   ]
  },
  {
   "cell_type": "code",
   "execution_count": 15,
   "metadata": {},
   "outputs": [
    {
     "data": {
      "text/plain": [
       "57441"
      ]
     },
     "execution_count": 15,
     "metadata": {},
     "output_type": "execute_result"
    }
   ],
   "source": [
    "valore_unicos = len(pd.unique(autorizaciones[\"ord_id\"]))\n",
    "valore_unicos"
   ]
  },
  {
   "cell_type": "code",
   "execution_count": null,
   "metadata": {},
   "outputs": [],
   "source": []
  }
 ],
 "metadata": {
  "kernelspec": {
   "display_name": ".venv",
   "language": "python",
   "name": "python3"
  },
  "language_info": {
   "codemirror_mode": {
    "name": "ipython",
    "version": 3
   },
   "file_extension": ".py",
   "mimetype": "text/x-python",
   "name": "python",
   "nbconvert_exporter": "python",
   "pygments_lexer": "ipython3",
   "version": "3.11.8"
  }
 },
 "nbformat": 4,
 "nbformat_minor": 2
}
