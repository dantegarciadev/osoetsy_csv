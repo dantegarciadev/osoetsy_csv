{
 "cells": [
  {
   "cell_type": "markdown",
   "metadata": {},
   "source": [
    "### QA HC pacientes"
   ]
  },
  {
   "cell_type": "code",
   "execution_count": 1,
   "metadata": {},
   "outputs": [],
   "source": [
    "import pandas as pd\n",
    "import numpy as np\n",
    "import xlrd\n",
    "import xlwt\n",
    "from tkinter import filedialog\n",
    "import tkinter as tk\n",
    "import customtkinter as ctk\n",
    "from customtkinter import filedialog\n",
    "import re\n",
    "import openpyxl"
   ]
  },
  {
   "cell_type": "markdown",
   "metadata": {},
   "source": [
    "#### Funcion para subir archivo"
   ]
  },
  {
   "cell_type": "code",
   "execution_count": 2,
   "metadata": {},
   "outputs": [],
   "source": [
    "def seleccionar_archivo():\n",
    "    root = tk.Tk()\n",
    "    root.withdraw()\n",
    "    root.attributes('-topmost', True)\n",
    "    file_path = filedialog.askopenfile()\n",
    "    return file_path\n",
    "    "
   ]
  },
  {
   "cell_type": "code",
   "execution_count": 3,
   "metadata": {},
   "outputs": [
    {
     "name": "stdout",
     "output_type": "stream",
     "text": [
      "tipo_doc       object\n",
      "fic_nrodoc      int64\n",
      "Nro_hc          int64\n",
      "Fecha          object\n",
      "Hora           object\n",
      "AsMatricula     int64\n",
      "Profesion      object\n",
      "texto          object\n",
      "dtype: object\n"
     ]
    }
   ],
   "source": [
    "archivo = seleccionar_archivo()\n",
    "if archivo:\n",
    "    historias_clinicas = pd.read_csv(archivo, sep=';', encoding='ISO-8859-1')\n",
    "print(historias_clinicas.dtypes)"
   ]
  },
  {
   "cell_type": "code",
   "execution_count": 5,
   "metadata": {},
   "outputs": [
    {
     "data": {
      "text/plain": [
       "0        FN = 13/01/2010\\n,FA = 14/01/2010\\n,T = 56.00\\...\n",
       "1                                             hola\\r\\nhola\n",
       "2                                                     hola\n",
       "3        pacte. de 14 años . MC control de salud. peso:...\n",
       "4        eDAD:12 AÑOS. mc: cONTROL DE SALUD. eso37.800,...\n",
       "                               ...                        \n",
       "66267              Col de Diu  Doy azitro x 3  Pido eco tv\n",
       "66268                       Pap neg trof  Control Q en 6 m\n",
       "66269    Metrorragia desde 2/24 x miomatosis  Derivo nu...\n",
       "66270    TAC (12/23) Recidiva activa en colon + multipl...\n",
       "66271    PC 20/1   (RN vivo, masc, 3310 gr) L+  condon ...\n",
       "Name: texto, Length: 66272, dtype: object"
      ]
     },
     "execution_count": 5,
     "metadata": {},
     "output_type": "execute_result"
    },
    {
     "ename": "",
     "evalue": "",
     "output_type": "error",
     "traceback": [
      "\u001b[1;31mEl kernel se bloqueó al ejecutar código en la celda actual o en una celda anterior. \n",
      "\u001b[1;31mRevise el código de las celdas para identificar una posible causa del error. \n",
      "\u001b[1;31mHaga clic <a href='https://aka.ms/vscodeJupyterKernelCrash'>aquí</a> para obtener más información. \n",
      "\u001b[1;31mVea Jupyter <a href='command:jupyter.viewOutput'>log</a> para obtener más detalles."
     ]
    }
   ],
   "source": [
    "historias_clinicas['texto'] = historias_clinicas['texto'].astype(str)\n",
    "#historias_clinicas['texto'] = historias_clinicas['texto'].apply(lambda x: re.sub(r'\\n+', ' ', str(x)))\n",
    "historias_clinicas['texto'] = historias_clinicas['texto'].replace('\\')\n",
    "historias_clinicas['texto']"
   ]
  }
 ],
 "metadata": {
  "kernelspec": {
   "display_name": ".venv",
   "language": "python",
   "name": "python3"
  },
  "language_info": {
   "codemirror_mode": {
    "name": "ipython",
    "version": 3
   },
   "file_extension": ".py",
   "mimetype": "text/x-python",
   "name": "python",
   "nbconvert_exporter": "python",
   "pygments_lexer": "ipython3",
   "version": "3.11.8"
  }
 },
 "nbformat": 4,
 "nbformat_minor": 2
}
