{
  "cells": [
    {
      "cell_type": "code",
      "execution_count": 1,
      "metadata": {
        "id": "SMKfKFO_xVV1"
      },
      "outputs": [],
      "source": [
        "#instalar xlwt \n",
        "import pandas as pd\n",
        "import numpy as np\n",
        "import xlwt\n",
        "from tkinter import filedialog\n",
        "import tkinter as tk\n",
        "from datetime import datetime"
      ]
    },
    {
      "cell_type": "code",
      "execution_count": 3,
      "metadata": {
        "colab": {
          "base_uri": "https://localhost:8080/",
          "height": 73,
          "resources": {
            "http://localhost:8080/nbextensions/google.colab/files.js": {
              "data": "Ly8gQ29weXJpZ2h0IDIwMTcgR29vZ2xlIExMQwovLwovLyBMaWNlbnNlZCB1bmRlciB0aGUgQXBhY2hlIExpY2Vuc2UsIFZlcnNpb24gMi4wICh0aGUgIkxpY2Vuc2UiKTsKLy8geW91IG1heSBub3QgdXNlIHRoaXMgZmlsZSBleGNlcHQgaW4gY29tcGxpYW5jZSB3aXRoIHRoZSBMaWNlbnNlLgovLyBZb3UgbWF5IG9idGFpbiBhIGNvcHkgb2YgdGhlIExpY2Vuc2UgYXQKLy8KLy8gICAgICBodHRwOi8vd3d3LmFwYWNoZS5vcmcvbGljZW5zZXMvTElDRU5TRS0yLjAKLy8KLy8gVW5sZXNzIHJlcXVpcmVkIGJ5IGFwcGxpY2FibGUgbGF3IG9yIGFncmVlZCB0byBpbiB3cml0aW5nLCBzb2Z0d2FyZQovLyBkaXN0cmlidXRlZCB1bmRlciB0aGUgTGljZW5zZSBpcyBkaXN0cmlidXRlZCBvbiBhbiAiQVMgSVMiIEJBU0lTLAovLyBXSVRIT1VUIFdBUlJBTlRJRVMgT1IgQ09ORElUSU9OUyBPRiBBTlkgS0lORCwgZWl0aGVyIGV4cHJlc3Mgb3IgaW1wbGllZC4KLy8gU2VlIHRoZSBMaWNlbnNlIGZvciB0aGUgc3BlY2lmaWMgbGFuZ3VhZ2UgZ292ZXJuaW5nIHBlcm1pc3Npb25zIGFuZAovLyBsaW1pdGF0aW9ucyB1bmRlciB0aGUgTGljZW5zZS4KCi8qKgogKiBAZmlsZW92ZXJ2aWV3IEhlbHBlcnMgZm9yIGdvb2dsZS5jb2xhYiBQeXRob24gbW9kdWxlLgogKi8KKGZ1bmN0aW9uKHNjb3BlKSB7CmZ1bmN0aW9uIHNwYW4odGV4dCwgc3R5bGVBdHRyaWJ1dGVzID0ge30pIHsKICBjb25zdCBlbGVtZW50ID0gZG9jdW1lbnQuY3JlYXRlRWxlbWVudCgnc3BhbicpOwogIGVsZW1lbnQudGV4dENvbnRlbnQgPSB0ZXh0OwogIGZvciAoY29uc3Qga2V5IG9mIE9iamVjdC5rZXlzKHN0eWxlQXR0cmlidXRlcykpIHsKICAgIGVsZW1lbnQuc3R5bGVba2V5XSA9IHN0eWxlQXR0cmlidXRlc1trZXldOwogIH0KICByZXR1cm4gZWxlbWVudDsKfQoKLy8gTWF4IG51bWJlciBvZiBieXRlcyB3aGljaCB3aWxsIGJlIHVwbG9hZGVkIGF0IGEgdGltZS4KY29uc3QgTUFYX1BBWUxPQURfU0laRSA9IDEwMCAqIDEwMjQ7CgpmdW5jdGlvbiBfdXBsb2FkRmlsZXMoaW5wdXRJZCwgb3V0cHV0SWQpIHsKICBjb25zdCBzdGVwcyA9IHVwbG9hZEZpbGVzU3RlcChpbnB1dElkLCBvdXRwdXRJZCk7CiAgY29uc3Qgb3V0cHV0RWxlbWVudCA9IGRvY3VtZW50LmdldEVsZW1lbnRCeUlkKG91dHB1dElkKTsKICAvLyBDYWNoZSBzdGVwcyBvbiB0aGUgb3V0cHV0RWxlbWVudCB0byBtYWtlIGl0IGF2YWlsYWJsZSBmb3IgdGhlIG5leHQgY2FsbAogIC8vIHRvIHVwbG9hZEZpbGVzQ29udGludWUgZnJvbSBQeXRob24uCiAgb3V0cHV0RWxlbWVudC5zdGVwcyA9IHN0ZXBzOwoKICByZXR1cm4gX3VwbG9hZEZpbGVzQ29udGludWUob3V0cHV0SWQpOwp9CgovLyBUaGlzIGlzIHJvdWdobHkgYW4gYXN5bmMgZ2VuZXJhdG9yIChub3Qgc3VwcG9ydGVkIGluIHRoZSBicm93c2VyIHlldCksCi8vIHdoZXJlIHRoZXJlIGFyZSBtdWx0aXBsZSBhc3luY2hyb25vdXMgc3RlcHMgYW5kIHRoZSBQeXRob24gc2lkZSBpcyBnb2luZwovLyB0byBwb2xsIGZvciBjb21wbGV0aW9uIG9mIGVhY2ggc3RlcC4KLy8gVGhpcyB1c2VzIGEgUHJvbWlzZSB0byBibG9jayB0aGUgcHl0aG9uIHNpZGUgb24gY29tcGxldGlvbiBvZiBlYWNoIHN0ZXAsCi8vIHRoZW4gcGFzc2VzIHRoZSByZXN1bHQgb2YgdGhlIHByZXZpb3VzIHN0ZXAgYXMgdGhlIGlucHV0IHRvIHRoZSBuZXh0IHN0ZXAuCmZ1bmN0aW9uIF91cGxvYWRGaWxlc0NvbnRpbnVlKG91dHB1dElkKSB7CiAgY29uc3Qgb3V0cHV0RWxlbWVudCA9IGRvY3VtZW50LmdldEVsZW1lbnRCeUlkKG91dHB1dElkKTsKICBjb25zdCBzdGVwcyA9IG91dHB1dEVsZW1lbnQuc3RlcHM7CgogIGNvbnN0IG5leHQgPSBzdGVwcy5uZXh0KG91dHB1dEVsZW1lbnQubGFzdFByb21pc2VWYWx1ZSk7CiAgcmV0dXJuIFByb21pc2UucmVzb2x2ZShuZXh0LnZhbHVlLnByb21pc2UpLnRoZW4oKHZhbHVlKSA9PiB7CiAgICAvLyBDYWNoZSB0aGUgbGFzdCBwcm9taXNlIHZhbHVlIHRvIG1ha2UgaXQgYXZhaWxhYmxlIHRvIHRoZSBuZXh0CiAgICAvLyBzdGVwIG9mIHRoZSBnZW5lcmF0b3IuCiAgICBvdXRwdXRFbGVtZW50Lmxhc3RQcm9taXNlVmFsdWUgPSB2YWx1ZTsKICAgIHJldHVybiBuZXh0LnZhbHVlLnJlc3BvbnNlOwogIH0pOwp9CgovKioKICogR2VuZXJhdG9yIGZ1bmN0aW9uIHdoaWNoIGlzIGNhbGxlZCBiZXR3ZWVuIGVhY2ggYXN5bmMgc3RlcCBvZiB0aGUgdXBsb2FkCiAqIHByb2Nlc3MuCiAqIEBwYXJhbSB7c3RyaW5nfSBpbnB1dElkIEVsZW1lbnQgSUQgb2YgdGhlIGlucHV0IGZpbGUgcGlja2VyIGVsZW1lbnQuCiAqIEBwYXJhbSB7c3RyaW5nfSBvdXRwdXRJZCBFbGVtZW50IElEIG9mIHRoZSBvdXRwdXQgZGlzcGxheS4KICogQHJldHVybiB7IUl0ZXJhYmxlPCFPYmplY3Q+fSBJdGVyYWJsZSBvZiBuZXh0IHN0ZXBzLgogKi8KZnVuY3Rpb24qIHVwbG9hZEZpbGVzU3RlcChpbnB1dElkLCBvdXRwdXRJZCkgewogIGNvbnN0IGlucHV0RWxlbWVudCA9IGRvY3VtZW50LmdldEVsZW1lbnRCeUlkKGlucHV0SWQpOwogIGlucHV0RWxlbWVudC5kaXNhYmxlZCA9IGZhbHNlOwoKICBjb25zdCBvdXRwdXRFbGVtZW50ID0gZG9jdW1lbnQuZ2V0RWxlbWVudEJ5SWQob3V0cHV0SWQpOwogIG91dHB1dEVsZW1lbnQuaW5uZXJIVE1MID0gJyc7CgogIGNvbnN0IHBpY2tlZFByb21pc2UgPSBuZXcgUHJvbWlzZSgocmVzb2x2ZSkgPT4gewogICAgaW5wdXRFbGVtZW50LmFkZEV2ZW50TGlzdGVuZXIoJ2NoYW5nZScsIChlKSA9PiB7CiAgICAgIHJlc29sdmUoZS50YXJnZXQuZmlsZXMpOwogICAgfSk7CiAgfSk7CgogIGNvbnN0IGNhbmNlbCA9IGRvY3VtZW50LmNyZWF0ZUVsZW1lbnQoJ2J1dHRvbicpOwogIGlucHV0RWxlbWVudC5wYXJlbnRFbGVtZW50LmFwcGVuZENoaWxkKGNhbmNlbCk7CiAgY2FuY2VsLnRleHRDb250ZW50ID0gJ0NhbmNlbCB1cGxvYWQnOwogIGNvbnN0IGNhbmNlbFByb21pc2UgPSBuZXcgUHJvbWlzZSgocmVzb2x2ZSkgPT4gewogICAgY2FuY2VsLm9uY2xpY2sgPSAoKSA9PiB7CiAgICAgIHJlc29sdmUobnVsbCk7CiAgICB9OwogIH0pOwoKICAvLyBXYWl0IGZvciB0aGUgdXNlciB0byBwaWNrIHRoZSBmaWxlcy4KICBjb25zdCBmaWxlcyA9IHlpZWxkIHsKICAgIHByb21pc2U6IFByb21pc2UucmFjZShbcGlja2VkUHJvbWlzZSwgY2FuY2VsUHJvbWlzZV0pLAogICAgcmVzcG9uc2U6IHsKICAgICAgYWN0aW9uOiAnc3RhcnRpbmcnLAogICAgfQogIH07CgogIGNhbmNlbC5yZW1vdmUoKTsKCiAgLy8gRGlzYWJsZSB0aGUgaW5wdXQgZWxlbWVudCBzaW5jZSBmdXJ0aGVyIHBpY2tzIGFyZSBub3QgYWxsb3dlZC4KICBpbnB1dEVsZW1lbnQuZGlzYWJsZWQgPSB0cnVlOwoKICBpZiAoIWZpbGVzKSB7CiAgICByZXR1cm4gewogICAgICByZXNwb25zZTogewogICAgICAgIGFjdGlvbjogJ2NvbXBsZXRlJywKICAgICAgfQogICAgfTsKICB9CgogIGZvciAoY29uc3QgZmlsZSBvZiBmaWxlcykgewogICAgY29uc3QgbGkgPSBkb2N1bWVudC5jcmVhdGVFbGVtZW50KCdsaScpOwogICAgbGkuYXBwZW5kKHNwYW4oZmlsZS5uYW1lLCB7Zm9udFdlaWdodDogJ2JvbGQnfSkpOwogICAgbGkuYXBwZW5kKHNwYW4oCiAgICAgICAgYCgke2ZpbGUudHlwZSB8fCAnbi9hJ30pIC0gJHtmaWxlLnNpemV9IGJ5dGVzLCBgICsKICAgICAgICBgbGFzdCBtb2RpZmllZDogJHsKICAgICAgICAgICAgZmlsZS5sYXN0TW9kaWZpZWREYXRlID8gZmlsZS5sYXN0TW9kaWZpZWREYXRlLnRvTG9jYWxlRGF0ZVN0cmluZygpIDoKICAgICAgICAgICAgICAgICAgICAgICAgICAgICAgICAgICAgJ24vYSd9IC0gYCkpOwogICAgY29uc3QgcGVyY2VudCA9IHNwYW4oJzAlIGRvbmUnKTsKICAgIGxpLmFwcGVuZENoaWxkKHBlcmNlbnQpOwoKICAgIG91dHB1dEVsZW1lbnQuYXBwZW5kQ2hpbGQobGkpOwoKICAgIGNvbnN0IGZpbGVEYXRhUHJvbWlzZSA9IG5ldyBQcm9taXNlKChyZXNvbHZlKSA9PiB7CiAgICAgIGNvbnN0IHJlYWRlciA9IG5ldyBGaWxlUmVhZGVyKCk7CiAgICAgIHJlYWRlci5vbmxvYWQgPSAoZSkgPT4gewogICAgICAgIHJlc29sdmUoZS50YXJnZXQucmVzdWx0KTsKICAgICAgfTsKICAgICAgcmVhZGVyLnJlYWRBc0FycmF5QnVmZmVyKGZpbGUpOwogICAgfSk7CiAgICAvLyBXYWl0IGZvciB0aGUgZGF0YSB0byBiZSByZWFkeS4KICAgIGxldCBmaWxlRGF0YSA9IHlpZWxkIHsKICAgICAgcHJvbWlzZTogZmlsZURhdGFQcm9taXNlLAogICAgICByZXNwb25zZTogewogICAgICAgIGFjdGlvbjogJ2NvbnRpbnVlJywKICAgICAgfQogICAgfTsKCiAgICAvLyBVc2UgYSBjaHVua2VkIHNlbmRpbmcgdG8gYXZvaWQgbWVzc2FnZSBzaXplIGxpbWl0cy4gU2VlIGIvNjIxMTU2NjAuCiAgICBsZXQgcG9zaXRpb24gPSAwOwogICAgZG8gewogICAgICBjb25zdCBsZW5ndGggPSBNYXRoLm1pbihmaWxlRGF0YS5ieXRlTGVuZ3RoIC0gcG9zaXRpb24sIE1BWF9QQVlMT0FEX1NJWkUpOwogICAgICBjb25zdCBjaHVuayA9IG5ldyBVaW50OEFycmF5KGZpbGVEYXRhLCBwb3NpdGlvbiwgbGVuZ3RoKTsKICAgICAgcG9zaXRpb24gKz0gbGVuZ3RoOwoKICAgICAgY29uc3QgYmFzZTY0ID0gYnRvYShTdHJpbmcuZnJvbUNoYXJDb2RlLmFwcGx5KG51bGwsIGNodW5rKSk7CiAgICAgIHlpZWxkIHsKICAgICAgICByZXNwb25zZTogewogICAgICAgICAgYWN0aW9uOiAnYXBwZW5kJywKICAgICAgICAgIGZpbGU6IGZpbGUubmFtZSwKICAgICAgICAgIGRhdGE6IGJhc2U2NCwKICAgICAgICB9LAogICAgICB9OwoKICAgICAgbGV0IHBlcmNlbnREb25lID0gZmlsZURhdGEuYnl0ZUxlbmd0aCA9PT0gMCA/CiAgICAgICAgICAxMDAgOgogICAgICAgICAgTWF0aC5yb3VuZCgocG9zaXRpb24gLyBmaWxlRGF0YS5ieXRlTGVuZ3RoKSAqIDEwMCk7CiAgICAgIHBlcmNlbnQudGV4dENvbnRlbnQgPSBgJHtwZXJjZW50RG9uZX0lIGRvbmVgOwoKICAgIH0gd2hpbGUgKHBvc2l0aW9uIDwgZmlsZURhdGEuYnl0ZUxlbmd0aCk7CiAgfQoKICAvLyBBbGwgZG9uZS4KICB5aWVsZCB7CiAgICByZXNwb25zZTogewogICAgICBhY3Rpb246ICdjb21wbGV0ZScsCiAgICB9CiAgfTsKfQoKc2NvcGUuZ29vZ2xlID0gc2NvcGUuZ29vZ2xlIHx8IHt9OwpzY29wZS5nb29nbGUuY29sYWIgPSBzY29wZS5nb29nbGUuY29sYWIgfHwge307CnNjb3BlLmdvb2dsZS5jb2xhYi5fZmlsZXMgPSB7CiAgX3VwbG9hZEZpbGVzLAogIF91cGxvYWRGaWxlc0NvbnRpbnVlLAp9Owp9KShzZWxmKTsK",
              "headers": [
                [
                  "content-type",
                  "application/javascript"
                ]
              ],
              "ok": true,
              "status": 200,
              "status_text": ""
            }
          }
        },
        "id": "JOeGq67R6B-r",
        "outputId": "b0570e96-ed7a-4359-e67b-dcf46e4a0c1a"
      },
      "outputs": [
        {
          "name": "stdout",
          "output_type": "stream",
          "text": [
            "La carpeta seleccionada es: <_io.TextIOWrapper name='G:/Mi unidad/osoetsylra/importaciones_TIS_SD_ETC_a_sidefi/importacion_total_gecros_22-04-2023/total_afiliados_sidefi_2023-04-22.csv' mode='r' encoding='cp1252'>\n"
          ]
        }
      ],
      "source": [
        "root = tk.Tk()\n",
        "root.withdraw()\n",
        "\n",
        "file_path = filedialog.askopenfile()\n",
        "\n",
        "print(\"La carpeta seleccionada es:\", file_path)\n"
      ]
    },
    {
      "attachments": {},
      "cell_type": "markdown",
      "metadata": {},
      "source": [
        "#### Pasar a DATAFRAME"
      ]
    },
    {
      "cell_type": "code",
      "execution_count": null,
      "metadata": {},
      "outputs": [],
      "source": [
        "padron = pd.read_csv(file_path, sep=\";\", encoding=\"ISO-8859-1\")\n"
      ]
    },
    {
      "attachments": {},
      "cell_type": "markdown",
      "metadata": {},
      "source": [
        "#### calcular edades"
      ]
    },
    {
      "cell_type": "code",
      "execution_count": 23,
      "metadata": {},
      "outputs": [],
      "source": [
        "def find_error(date_str):\n",
        "    if not isinstance(date_str, str):\n",
        "        date_str = str(date_str)\n",
        "    if '\"' in date_str:\n",
        "        return date_str.find('\"')\n",
        "    else:\n",
        "        return -1  # Devuelve -1 si no se encuentra el caracter problemático\n",
        "padron['error_position'] = padron['Fecha Nacimiento'].apply(find_error)\n",
        "registros_con_error = padron[padron['error_position'] != -1]\n",
        "\n",
        "file_path = filedialog.asksaveasfilename(defaultextension='.csv')\n",
        "\n",
        "# Si se seleccionó un archivo, guarda el dataframe en la ruta seleccionada\n",
        "if file_path:\n",
        "    if file_path.endswith('.csv'):\n",
        "        registros_con_error.to_csv(file_path, sep = \";\", encoding = \"ISO-8859-1\",index=False)\n",
        "    elif file_path.endswith('.xlsx'):\n",
        "        writer = pd.ExcelWriter(file_path, engine='xlsxwriter')\n",
        "        registros_con_error.to_excel(writer, sheet_name='Hoja1', index=False)\n",
        "        writer.save()\n",
        "    else:\n",
        "        print('Extensión de archivo no válida.')\n"
      ]
    },
    {
      "attachments": {},
      "cell_type": "markdown",
      "metadata": {},
      "source": [
        "### corregir fechas"
      ]
    },
    {
      "cell_type": "code",
      "execution_count": 24,
      "metadata": {},
      "outputs": [
        {
          "name": "stdout",
          "output_type": "stream",
          "text": [
            "   Nro. OS Plan del Afiliado  Nro. Grupo Familiar    Nro. Afiliado  \\\n",
            "0      3.0          Afiliado           30851327.0              NaN   \n",
            "1      6.0          Afiliado           30694069.0  010-30694069-00   \n",
            "2      1.0          Afiliado           32479768.0              NaN   \n",
            "3      1.0          Afiliado           10961767.0              NaN   \n",
            "4      1.0          Afiliado           30034293.0              NaN   \n",
            "5      1.0          Afiliado           25084989.0              NaN   \n",
            "6      1.0          Afiliado           21981341.0              NaN   \n",
            "\n",
            "  Parentesco con el TITULAR Apellido Afiliado    Nombre Afiliado  \\\n",
            "0                   TITULAR             ABACA            MARCELO   \n",
            "1                   TITULAR             ABADI         PEDRO RAUL   \n",
            "2                   TITULAR            ABADIE      BRENDA ROXANA   \n",
            "3                   TITULAR            ABADIE      MONICA ISABEL   \n",
            "4                   TITULAR              ABAL     NATALIA ANDREA   \n",
            "5                   TITULAR              ABAL  ROXANA EVANGELINA   \n",
            "6                   TITULAR            ABALDE     ANDREA FABIANA   \n",
            "\n",
            "                 Tipo Documento Nro. Documento    Nro. CUIL  ... Departamento  \\\n",
            "0  Documento Nacional Identidad       30851327  20308513271  ...          NaN   \n",
            "1  Documento Nacional Identidad       30694069  20306940695  ...          NaN   \n",
            "2  Documento Nacional Identidad       32479768  27324797683  ...          NaN   \n",
            "3  Documento Nacional Identidad       10961767  27109617674  ...            2   \n",
            "4  Documento Nacional Identidad       30034293  27300342936  ...          NaN   \n",
            "5  Documento Nacional Identidad       25084989  27250849899  ...          NaN   \n",
            "6  Documento Nacional Identidad       21981341  23219813414  ...          NaN   \n",
            "\n",
            "  Barrio        Localidad     Provincia Codigo Postal     Telefono  \\\n",
            "0    NaN  CAPITAL FEDERAL  BUENOS AIRES           NaN            0   \n",
            "1    NaN            MERLO  BUENOS AIRES          1722                \n",
            "2    NaN  CAPITAL FEDERAL  BUENOS AIRES           NaN            0   \n",
            "3    NaN  CAPITAL FEDERAL  BUENOS AIRES          1430   0 45426377   \n",
            "4    NaN     DON TORCUATO  BUENOS AIRES           NaN            0   \n",
            "5    NaN     SAN FERNANDO  BUENOS AIRES          1644  0 4744-7654   \n",
            "6    NaN  VALENTIN ALSINA  BUENOS AIRES          1822  0 4209-7508   \n",
            "\n",
            "        Celular                    Email edad  error_position  \n",
            "0                                    NaN  122              -1  \n",
            "1  11 5937-8276  pedro_abadi@hotmail.com   39              -1  \n",
            "2                                    NaN   36              -1  \n",
            "3                                    NaN   69              -1  \n",
            "4                                    NaN   40              -1  \n",
            "5                                    NaN   47              -1  \n",
            "6                                    NaN   52              -1  \n",
            "\n",
            "[7 rows x 35 columns]\n"
          ]
        }
      ],
      "source": [
        "\n",
        "#fecha de nacimiento calcular edad\n",
        "def calcular_edad(fecha_nacimiento):\n",
        "    if pd.isnull(fecha_nacimiento):\n",
        "        return None\n",
        "    try:\n",
        "        fecha_nacimiento = datetime.strptime(str(fecha_nacimiento), \"%d/%m/%Y\")\n",
        "        edad = int((datetime.now() - fecha_nacimiento).days / 365.25)\n",
        "        return edad\n",
        "    except ValueError:\n",
        "        return \"Error: formato de fecha inválido\"\n",
        "\n",
        "# Ejemplo de uso\n",
        "padron['edad'] = padron['Fecha Nacimiento'].apply(calcular_edad)\n",
        "print(padron.head(7))\n",
        "edades = padron[['edad','Fecha Nacimiento','Apellido Afiliado','Nombre Afiliado','Nro. Documento']]\n",
        "\n",
        "file_path = filedialog.asksaveasfilename(defaultextension='.csv')\n",
        "\n",
        "# Si se seleccionó un archivo, guarda el dataframe en la ruta seleccionada\n",
        "if file_path:\n",
        "    if file_path.endswith('.csv'):\n",
        "        edades.to_csv(file_path, sep = \";\", encoding = \"cp1252\",index=False)\n",
        "    elif file_path.endswith('.xlsx'):\n",
        "        writer = pd.ExcelWriter(file_path, engine='xlsxwriter')\n",
        "        edades.to_excel(writer, sheet_name='Hoja1', index=False)\n",
        "        writer.save()\n",
        "    else:\n",
        "        print('Extensión de archivo no válida.')\n",
        "\n",
        "\n",
        "\n"
      ]
    },
    {
      "attachments": {},
      "cell_type": "markdown",
      "metadata": {},
      "source": [
        "### mostrar duplicados"
      ]
    },
    {
      "cell_type": "code",
      "execution_count": null,
      "metadata": {},
      "outputs": [],
      "source": [
        "#duplicados exportar\n",
        "duplicados = padron[padron.duplicated(subset=['Nro. Documento'], keep=False)]\n",
        "print(\"Los valores duplicados en la Nro. Documento son:\")\n",
        "duplicadodf = (duplicados['Nro. Documento'].unique())\n",
        "\n",
        "duplicados.to_csv('C:\\padrones\\duplicados.csv', sep = \";\", encoding=\"ISO-8859-1\", index=False)"
      ]
    },
    {
      "attachments": {},
      "cell_type": "markdown",
      "metadata": {},
      "source": [
        "### Transformacion del padron para Gecros"
      ]
    },
    {
      "cell_type": "code",
      "execution_count": 5,
      "metadata": {
        "id": "3o7wxExR9wd-"
      },
      "outputs": [],
      "source": [
        "padron = pd.read_csv(file_path, sep=\";\", encoding=\"ISO-8859-1\")\n",
        "#delete col 'opcion' not required for gecros format. \n",
        "padron = padron.drop('Opcion', axis = 1)\n",
        "#replace all columns that generate errors on import staging\n",
        "padron['Departamento'] = [''] * len(padron)\n",
        "padron['Telefono'] = [''] * len(padron)\n",
        "padron['Celular'] = [''] * len(padron)\n",
        "padron['Codigo Postal'] = [''] * len(padron)\n",
        "#replace columns 'Tipo Documento' equivalences ---> DNI, CI, LE\n",
        "diccionario_dni = {'Documento Nacional Identidad': 'DNI', 'Cedula Identidad': 'CI','00-00-0000': '01-01-2020'}\n",
        "padron[['Tipo Documento','Fecha Alta']] = padron[['Tipo Documento','Fecha Alta']].replace(diccionario_dni)\n",
        "#print(padron.head(5))"
      ]
    },
    {
      "cell_type": "code",
      "execution_count": 9,
      "metadata": {
        "colab": {
          "base_uri": "https://localhost:8080/",
          "height": 17
        },
        "id": "ukOx_1NlFkWZ",
        "outputId": "763ad14c-14fe-49a1-e7ed-339f11794f87"
      },
      "outputs": [
        {
          "name": "stderr",
          "output_type": "stream",
          "text": [
            "C:\\Users\\zickd\\AppData\\Local\\Temp\\ipykernel_4304\\3499769349.py:2: FutureWarning: As the xlwt package is no longer maintained, the xlwt engine will be removed in a future version of pandas. This is the only engine in pandas that supports writing in the xls format. Install openpyxl and write to an xlsx file instead. You can set the option io.excel.xls.writer to 'xlwt' to silence this warning. While this option is deprecated and will also raise a warning, it can be globally set and the warning suppressed.\n",
            "  padron1.to_excel('C:\\padrones\\osoetsylra.xls',index = False )\n"
          ]
        }
      ],
      "source": [
        "padron1 = padron[padron['Nro. OS'] == 1]\n",
        "padron1.to_excel('C:\\padrones\\osoetsylra.xls',index = False )\n",
        "#padron1.to_csv('C:\\padrones\\osoetsylra.csv', index = False, sep = '|' )"
      ]
    },
    {
      "cell_type": "code",
      "execution_count": 10,
      "metadata": {
        "id": "TVIZMFGAFmMN"
      },
      "outputs": [
        {
          "name": "stderr",
          "output_type": "stream",
          "text": [
            "C:\\Users\\zickd\\AppData\\Local\\Temp\\ipykernel_4304\\2629869373.py:2: FutureWarning: As the xlwt package is no longer maintained, the xlwt engine will be removed in a future version of pandas. This is the only engine in pandas that supports writing in the xls format. Install openpyxl and write to an xlsx file instead. You can set the option io.excel.xls.writer to 'xlwt' to silence this warning. While this option is deprecated and will also raise a warning, it can be globally set and the warning suppressed.\n",
            "  padron2.to_excel('C:\\padrones\\otros.xls', engine='xlwt' ,index = False )\n"
          ]
        }
      ],
      "source": [
        "padron2 = padron[padron['Nro. OS'] == 2]\n",
        "padron2.to_excel('C:\\padrones\\otros.xls', engine='xlwt' ,index = False )"
      ]
    },
    {
      "cell_type": "code",
      "execution_count": 11,
      "metadata": {
        "colab": {
          "base_uri": "https://localhost:8080/",
          "height": 17
        },
        "id": "9ab6_fLGFxXz",
        "outputId": "e51335a9-db03-465d-947d-65d8ecb3ff26"
      },
      "outputs": [
        {
          "name": "stderr",
          "output_type": "stream",
          "text": [
            "C:\\Users\\zickd\\AppData\\Local\\Temp\\ipykernel_4304\\3434180392.py:2: FutureWarning: As the xlwt package is no longer maintained, the xlwt engine will be removed in a future version of pandas. This is the only engine in pandas that supports writing in the xls format. Install openpyxl and write to an xlsx file instead. You can set the option io.excel.xls.writer to 'xlwt' to silence this warning. While this option is deprecated and will also raise a warning, it can be globally set and the warning suppressed.\n",
            "  padron3.to_excel('C:\\padrones\\pvisitar.xls', engine='xlwt' ,index = False )\n"
          ]
        }
      ],
      "source": [
        "padron3 = padron[padron['Nro. OS'] == 3]\n",
        "padron3.to_excel('C:\\padrones\\pvisitar.xls', engine='xlwt' ,index = False )"
      ]
    },
    {
      "cell_type": "code",
      "execution_count": 12,
      "metadata": {
        "id": "2rJvvUtgF0Vc"
      },
      "outputs": [
        {
          "name": "stderr",
          "output_type": "stream",
          "text": [
            "C:\\Users\\zickd\\AppData\\Local\\Temp\\ipykernel_4304\\1691951161.py:2: FutureWarning: As the xlwt package is no longer maintained, the xlwt engine will be removed in a future version of pandas. This is the only engine in pandas that supports writing in the xls format. Install openpyxl and write to an xlsx file instead. You can set the option io.excel.xls.writer to 'xlwt' to silence this warning. While this option is deprecated and will also raise a warning, it can be globally set and the warning suppressed.\n",
            "  padron4.to_excel('C:\\padrones\\sd.xls', index = False )\n"
          ]
        }
      ],
      "source": [
        "padron4 = padron[padron['Nro. OS'] == 4]\n",
        "padron4.to_excel('C:\\padrones\\sd.xls', index = False )\n",
        "# workbook and sheet\n",
        "#book4 = xlwt.Workbook(encoding=\"utf-8\")\n",
        "#sheet = book4.add_sheet(\"sd\")\n",
        "# Escribimos los encabezados de columna\n",
        "\n",
        "#for i, header in enumerate(padron4.columns):\n",
        " #   sheet.write(0, i, header)\n",
        "# Escribimos los datos en la hoja de trabajo\n",
        "#for r, row in enumerate(padron4.values):\n",
        " #   for c, val in enumerate(row):\n",
        "  #      sheet.write(r+1, c, val)\n",
        "#book4.save('C:\\padrones\\sd.xls')"
      ]
    },
    {
      "cell_type": "code",
      "execution_count": 13,
      "metadata": {
        "id": "FMGWzzI6F2lF"
      },
      "outputs": [
        {
          "name": "stderr",
          "output_type": "stream",
          "text": [
            "C:\\Users\\zickd\\AppData\\Local\\Temp\\ipykernel_4304\\3980072344.py:2: FutureWarning: As the xlwt package is no longer maintained, the xlwt engine will be removed in a future version of pandas. This is the only engine in pandas that supports writing in the xls format. Install openpyxl and write to an xlsx file instead. You can set the option io.excel.xls.writer to 'xlwt' to silence this warning. While this option is deprecated and will also raise a warning, it can be globally set and the warning suppressed.\n",
            "  padron5.to_excel('C:\\padrones\\ptis.xls', index = False )\n"
          ]
        }
      ],
      "source": [
        "padron5 = padron[padron['Nro. OS'] == 5]\n",
        "padron5.to_excel('C:\\padrones\\ptis.xls', index = False )"
      ]
    },
    {
      "cell_type": "code",
      "execution_count": 14,
      "metadata": {
        "id": "b1ZDlTBcG2nr"
      },
      "outputs": [
        {
          "name": "stderr",
          "output_type": "stream",
          "text": [
            "C:\\Users\\zickd\\AppData\\Local\\Temp\\ipykernel_4304\\3816216975.py:2: FutureWarning: As the xlwt package is no longer maintained, the xlwt engine will be removed in a future version of pandas. This is the only engine in pandas that supports writing in the xls format. Install openpyxl and write to an xlsx file instead. You can set the option io.excel.xls.writer to 'xlwt' to silence this warning. While this option is deprecated and will also raise a warning, it can be globally set and the warning suppressed.\n",
            "  padron6.to_excel('C:\\padrones\\gerensal.xls', index = False )\n"
          ]
        }
      ],
      "source": [
        "padron6 = padron[padron['Nro. OS'] == 6]\n",
        "padron6.to_excel('C:\\padrones\\gerensal.xls', index = False )"
      ]
    }
  ],
  "metadata": {
    "colab": {
      "provenance": []
    },
    "kernelspec": {
      "display_name": "Python 3",
      "language": "python",
      "name": "python3"
    },
    "language_info": {
      "codemirror_mode": {
        "name": "ipython",
        "version": 3
      },
      "file_extension": ".py",
      "mimetype": "text/x-python",
      "name": "python",
      "nbconvert_exporter": "python",
      "pygments_lexer": "ipython3",
      "version": "3.11.0"
    },
    "vscode": {
      "interpreter": {
        "hash": "c261aea317cc0286b3b3261fbba9abdec21eaa57589985bb7a274bf54d6cc0a7"
      }
    }
  },
  "nbformat": 4,
  "nbformat_minor": 0
}
