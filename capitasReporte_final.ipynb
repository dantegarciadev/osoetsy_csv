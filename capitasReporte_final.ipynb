{
 "cells": [
  {
   "cell_type": "code",
   "execution_count": 6,
   "metadata": {},
   "outputs": [],
   "source": [
    "import pandas as pd\n",
    "import numpy as np\n",
    "import xlwt\n",
    "import xlrd\n",
    "from tkinter import filedialog\n",
    "import tkinter as tk\n",
    "import customtkinter as ctk\n",
    "from customtkinter import filedialog\n",
    "import funciones\n",
    "import re\n",
    "import openpyxl"
   ]
  },
  {
   "cell_type": "code",
   "execution_count": 7,
   "metadata": {},
   "outputs": [
    {
     "name": "stdout",
     "output_type": "stream",
     "text": [
      "<_io.TextIOWrapper name='C:/Users/zickd/Downloads/odontologia (3).csv' mode='r' encoding='cp1252'>\n",
      "              n_afi  parentesco                          nombre       dni  \\\n",
      "0     1002682185800           0  LUGO RUBEN OMAR                 19780915   \n",
      "1     1003766928700           0  VELAZQUEZ MAXIMILIANO LEONEL    19930208   \n",
      "2     1001712668200           0  CAMPOS Sandra Raquel            19640424   \n",
      "3     1002493263700           0  ARRIOLA DIEGO ALBERTO           19751225   \n",
      "4     1002213898100           0  TORO PATRICIA DEL CARMEN        19710809   \n",
      "...             ...         ...                             ...       ...   \n",
      "4840   402600705903           2  ENRIQUEZ MAGALI MACARENA        20040612   \n",
      "4841   402600705904           2  ENRIQUEZ EZEQUIEL BENICIO       20070225   \n",
      "4842   403693794502           2  FERREYRA UMA GERALDINE          20100610   \n",
      "4843   403693794503           2  FERREYRA THIAGO NEYEN           20090119   \n",
      "4844   403191136802           2  BARRAGAN LEANDRO                20050522   \n",
      "\n",
      "      no_se      dni2  plan  plan2 sexo         localidad     provincia  \n",
      "0         1  26821858   100    100    M   VIRREY DEL PINO  BUENOS AIRES  \n",
      "1         1  37669287   100    100    M  FLORENCIO VARELA  BUENOS AIRES  \n",
      "2         1  17126682   100    100    F           MENDOZA       MENDOZA  \n",
      "3         1  24932637   100    100    M         LAS HERAS       MENDOZA  \n",
      "4         1  22138981   100    100    F           NEUQUEN       NEUQUEN  \n",
      "...     ...       ...   ...    ...  ...               ...           ...  \n",
      "4840      1  45911825   100    100    F             LANUS  BUENOS AIRES  \n",
      "4841      1  47864012   100    100    M             LANUS  BUENOS AIRES  \n",
      "4842      1  50152689   100    100    F          BANFIELD  BUENOS AIRES  \n",
      "4843      1  50894372   100    100    M          BANFIELD  BUENOS AIRES  \n",
      "4844      1  46626919   100    100    M          CLAYPOLE  BUENOS AIRES  \n",
      "\n",
      "[4845 rows x 11 columns]\n"
     ]
    }
   ],
   "source": [
    "#cargar primero el excel o csv\n",
    "archivo = None\n",
    "while True:\n",
    "    archivo = funciones.seleccionar_archivo()\n",
    "    nombre_col = ['n_afi', 'parentesco','nombre','dni','no_se','dni2','plan','plan2','sexo','localidad','provincia']\n",
    "    print(archivo)\n",
    "    if archivo:\n",
    "        ruta_archivo = archivo.name\n",
    "        try:\n",
    "            padron_capita= pd.read_csv(ruta_archivo, encoding='ISO-8859-1', sep=';', names=nombre_col)\n",
    "            #padron_capita = pd.read_excel(ruta_archivo)\n",
    "            print(padron_capita)\n",
    "            break\n",
    "        except UnicodeDecodeError:\n",
    "            print(\"Error de decodificación de caracteres. Intenta con otra codificación o archivo.\")\n",
    "            continue\n",
    "    else:\n",
    "        print(\"Archivo incorrecto. Por favor, vuelva a cargarlo.\")"
   ]
  },
  {
   "cell_type": "code",
   "execution_count": 8,
   "metadata": {},
   "outputs": [],
   "source": [
    "diccionario ={'0':'titular',\n",
    "              '1':'familiar',\n",
    "              '2':'familiar',\n",
    "              '3':'familiar',\n",
    "              '4':'familiar',\n",
    "              '5':'familiar',\n",
    "              '6':'familiar',\n",
    "              '7':'familiar',\n",
    "              '8':'familiar'\n",
    "              }      \n",
    "#padron_capita['parentesco']=padron_capita['parentesco'].str.replace('\\d|\\(|\\)', '', regex=True)\n",
    "padron_capita['parentesco']=padron_capita['parentesco'].astype(str).replace(diccionario)"
   ]
  },
  {
   "cell_type": "code",
   "execution_count": 9,
   "metadata": {},
   "outputs": [],
   "source": [
    "sedes={\n",
    "'010': 'CABA',\n",
    "'020': 'ZONA NORTE Y NOROESTE',\n",
    "'030': 'ZONA OESTE',\n",
    "'040': 'ZONA SUR',\n",
    "'050': 'LA PLATA',\n",
    "'060': 'MAR DEL PLATA',\n",
    "'070': 'PERGAMINO',\n",
    "'080': 'SANTA FE',\n",
    "'090': 'CORDOBA',\n",
    "'100':'MENDOZA',\n",
    "'110':'TUCUMAN'\n",
    "}\n",
    "padron_capita['n_afi']=padron_capita['n_afi'].astype(str).str.zfill(13)\n",
    "padron_capita['sede']=padron_capita['n_afi'].str[:3].replace(sedes)\n",
    "\n"
   ]
  },
  {
   "cell_type": "code",
   "execution_count": 5,
   "metadata": {},
   "outputs": [],
   "source": [
    "save_path = filedialog.askdirectory()\n",
    "padron_capita.to_excel(save_path + '\\capitasagosto.xlsx', engine='openpyxl', index=False)"
   ]
  },
  {
   "cell_type": "code",
   "execution_count": 10,
   "metadata": {},
   "outputs": [
    {
     "name": "stdout",
     "output_type": "stream",
     "text": [
      "Index(['n_afi', 'parentesco', 'nombre', 'dni', 'no_se', 'dni2', 'plan',\n",
      "       'plan2', 'sexo', 'localidad', 'provincia', 'sede'],\n",
      "      dtype='object')\n"
     ]
    }
   ],
   "source": [
    "print(padron_capita.columns)"
   ]
  },
  {
   "cell_type": "markdown",
   "metadata": {},
   "source": [
    "### armar la tabla dinamica"
   ]
  },
  {
   "cell_type": "code",
   "execution_count": 19,
   "metadata": {},
   "outputs": [
    {
     "data": {
      "text/plain": [
       "Index(['familiar', 'titular', 'Total'], dtype='object', name='parentesco')"
      ]
     },
     "execution_count": 19,
     "metadata": {},
     "output_type": "execute_result"
    }
   ],
   "source": [
    "df_pivot = padron_capita.pivot_table(index='sede', columns='parentesco', values='dni', aggfunc='count')\n",
    "df_pivot.loc['Total', :] = df_pivot.sum(axis=0)\n",
    "df_pivot.loc[:, 'Total'] = df_pivot.sum(axis=1)\n",
    "\n",
    "\n",
    "\n",
    "df_pivot.columns"
   ]
  },
  {
   "cell_type": "code",
   "execution_count": 21,
   "metadata": {},
   "outputs": [
    {
     "ename": "",
     "evalue": "",
     "output_type": "error",
     "traceback": [
      "\u001b[1;31mThe Kernel crashed while executing code in the the current cell or a previous cell. Please review the code in the cell(s) to identify a possible cause of the failure. Click <a href='https://aka.ms/vscodeJupyterKernelCrash'>here</a> for more info. View Jupyter <a href='command:jupyter.viewOutput'>log</a> for further details."
     ]
    }
   ],
   "source": [
    "save_path = filedialog.askdirectory()\n",
    "df_pivot.to_excel(save_path + '\\capitas_diciembre_Final.xlsx', engine='openpyxl', index=True)"
   ]
  }
 ],
 "metadata": {
  "kernelspec": {
   "display_name": ".venv",
   "language": "python",
   "name": "python3"
  },
  "language_info": {
   "codemirror_mode": {
    "name": "ipython",
    "version": 3
   },
   "file_extension": ".py",
   "mimetype": "text/x-python",
   "name": "python",
   "nbconvert_exporter": "python",
   "pygments_lexer": "ipython3",
   "version": "3.11.4"
  },
  "orig_nbformat": 4,
  "vscode": {
   "interpreter": {
    "hash": "1f64b729a01f235b3ec02af186f3a50c3d881136f08176a7df610cc16261a174"
   }
  }
 },
 "nbformat": 4,
 "nbformat_minor": 2
}
