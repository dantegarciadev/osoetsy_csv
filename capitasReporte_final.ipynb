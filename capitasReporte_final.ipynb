{
 "cells": [
  {
   "cell_type": "code",
   "execution_count": 1,
   "metadata": {},
   "outputs": [],
   "source": [
    "import pandas as pd\n",
    "import numpy as np\n",
    "import xlwt\n",
    "import xlrd\n",
    "from tkinter import filedialog\n",
    "import tkinter as tk\n",
    "import customtkinter as ctk\n",
    "from customtkinter import filedialog\n",
    "import funciones\n",
    "import re\n",
    "import openpyxl\n",
    "from datetime  import datetime"
   ]
  },
  {
   "cell_type": "code",
   "execution_count": null,
   "metadata": {},
   "outputs": [],
   "source": [
    "#cargar primero el excel o csv\n",
    "archivo = None\n",
    "while True:\n",
    "    archivo = funciones.seleccionar_archivo()\n",
    "    nombre_col = ['n_afi', 'parentesco','nombre','dni','no_se','dni2','plan','plan2','sexo','localidad','provincia']\n",
    "    print(archivo)\n",
    "    if archivo:\n",
    "        ruta_archivo = archivo.name\n",
    "        try:\n",
    "            padron_capita= pd.read_csv(ruta_archivo, encoding='ISO-8859-1', sep=';', names=nombre_col)\n",
    "            #padron_capita = pd.read_excel(ruta_archivo)\n",
    "            print(padron_capita)\n",
    "            break\n",
    "        except UnicodeDecodeError:\n",
    "            print(\"Error de decodificación de caracteres. Intenta con otra codificación o archivo.\")\n",
    "            continue\n",
    "    else:\n",
    "        print(\"Archivo incorrecto. Por favor, vuelva a cargarlo.\")"
   ]
  },
  {
   "cell_type": "code",
   "execution_count": 3,
   "metadata": {},
   "outputs": [],
   "source": [
    "diccionario ={'0':'titular',\n",
    "              '1':'familiar',\n",
    "              '2':'familiar',\n",
    "              '3':'familiar',\n",
    "              '4':'familiar',\n",
    "              '5':'familiar',\n",
    "              '6':'familiar',\n",
    "              '7':'familiar',\n",
    "              '8':'familiar'\n",
    "              }      \n",
    "#padron_capita['parentesco']=padron_capita['parentesco'].str.replace('\\d|\\(|\\)', '', regex=True)\n",
    "padron_capita['parentesco']=padron_capita['parentesco'].astype(str).replace(diccionario)"
   ]
  },
  {
   "cell_type": "code",
   "execution_count": 4,
   "metadata": {},
   "outputs": [],
   "source": [
    "sedes={\n",
    "'010': 'CABA',\n",
    "'020': 'ZONA NORTE Y NOROESTE',\n",
    "'030': 'ZONA OESTE',\n",
    "'040': 'ZONA SUR',\n",
    "'050': 'LA PLATA',\n",
    "'060': 'MAR DEL PLATA',\n",
    "'070': 'PERGAMINO',\n",
    "'080': 'SANTA FE',\n",
    "'090': 'CORDOBA',\n",
    "'100':'MENDOZA',\n",
    "'110':'TUCUMAN'\n",
    "}\n",
    "padron_capita['n_afi']=padron_capita['n_afi'].astype(str).str.zfill(13)\n",
    "padron_capita['sede']=padron_capita['n_afi'].str[:3].replace(sedes)\n",
    "\n"
   ]
  },
  {
   "cell_type": "code",
   "execution_count": 21,
   "metadata": {},
   "outputs": [],
   "source": [
    "save_path = filedialog.askdirectory()\n",
    "padron_capita.to_excel(save_path + '\\capitasagosto.xlsx', engine='openpyxl', index=False)"
   ]
  },
  {
   "cell_type": "code",
   "execution_count": null,
   "metadata": {},
   "outputs": [],
   "source": [
    "print(padron_capita.columns)"
   ]
  },
  {
   "cell_type": "markdown",
   "metadata": {},
   "source": [
    "### armar la tabla dinamica"
   ]
  },
  {
   "cell_type": "code",
   "execution_count": null,
   "metadata": {},
   "outputs": [],
   "source": [
    "df_pivot = padron_capita.pivot_table(index='sede', columns='parentesco', values='dni', aggfunc='count')\n",
    "df_pivot.loc['Total', :] = df_pivot.sum(axis=0)\n",
    "df_pivot.loc[:, 'Total'] = df_pivot.sum(axis=1)\n",
    "\n",
    "\n",
    "\n",
    "df_pivot.columns"
   ]
  },
  {
   "cell_type": "code",
   "execution_count": 7,
   "metadata": {},
   "outputs": [],
   "source": [
    "fecha = datetime.now()\n",
    "nombre_mes = fecha.strftime(\"%B %Y\")\n",
    "save_path = filedialog.askdirectory()\n",
    "df_pivot.to_excel(save_path + '\\\\' + nombre_mes + '.xlsx', engine='openpyxl', index=True)"
   ]
  }
 ],
 "metadata": {
  "kernelspec": {
   "display_name": ".venv",
   "language": "python",
   "name": "python3"
  },
  "language_info": {
   "codemirror_mode": {
    "name": "ipython",
    "version": 3
   },
   "file_extension": ".py",
   "mimetype": "text/x-python",
   "name": "python",
   "nbconvert_exporter": "python",
   "pygments_lexer": "ipython3",
   "version": "3.11.8"
  },
  "orig_nbformat": 4,
  "vscode": {
   "interpreter": {
    "hash": "1f64b729a01f235b3ec02af186f3a50c3d881136f08176a7df610cc16261a174"
   }
  }
 },
 "nbformat": 4,
 "nbformat_minor": 2
}
