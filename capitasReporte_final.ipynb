{
 "cells": [
  {
   "cell_type": "code",
   "execution_count": 1,
   "metadata": {},
   "outputs": [],
   "source": [
    "import pandas as pd\n",
    "import numpy as np\n",
    "import xlwt\n",
    "import xlrd\n",
    "from tkinter import filedialog\n",
    "import tkinter as tk\n",
    "import customtkinter as ctk\n",
    "from customtkinter import filedialog\n",
    "import funciones\n",
    "import re\n",
    "import openpyxl"
   ]
  },
  {
   "cell_type": "code",
   "execution_count": 2,
   "metadata": {},
   "outputs": [
    {
     "name": "stdout",
     "output_type": "stream",
     "text": [
      "None\n",
      "Archivo incorrecto. Por favor, vuelva a cargarlo.\n",
      "None\n",
      "Archivo incorrecto. Por favor, vuelva a cargarlo.\n",
      "None\n",
      "Archivo incorrecto. Por favor, vuelva a cargarlo.\n"
     ]
    },
    {
     "ename": "KeyboardInterrupt",
     "evalue": "",
     "output_type": "error",
     "traceback": [
      "\u001b[1;31m---------------------------------------------------------------------------\u001b[0m",
      "\u001b[1;31mKeyboardInterrupt\u001b[0m                         Traceback (most recent call last)",
      "\u001b[1;32mc:\\Users\\zickd\\OneDrive\\Documentos\\repos_git\\osoetsy_csv\\capitasReporte_final.ipynb Cell 2\u001b[0m line \u001b[0;36m4\n\u001b[0;32m      <a href='vscode-notebook-cell:/c%3A/Users/zickd/OneDrive/Documentos/repos_git/osoetsy_csv/capitasReporte_final.ipynb#W1sZmlsZQ%3D%3D?line=1'>2</a>\u001b[0m archivo \u001b[39m=\u001b[39m \u001b[39mNone\u001b[39;00m\n\u001b[0;32m      <a href='vscode-notebook-cell:/c%3A/Users/zickd/OneDrive/Documentos/repos_git/osoetsy_csv/capitasReporte_final.ipynb#W1sZmlsZQ%3D%3D?line=2'>3</a>\u001b[0m \u001b[39mwhile\u001b[39;00m \u001b[39mTrue\u001b[39;00m:\n\u001b[1;32m----> <a href='vscode-notebook-cell:/c%3A/Users/zickd/OneDrive/Documentos/repos_git/osoetsy_csv/capitasReporte_final.ipynb#W1sZmlsZQ%3D%3D?line=3'>4</a>\u001b[0m     archivo \u001b[39m=\u001b[39m funciones\u001b[39m.\u001b[39;49mseleccionar_archivo()\n\u001b[0;32m      <a href='vscode-notebook-cell:/c%3A/Users/zickd/OneDrive/Documentos/repos_git/osoetsy_csv/capitasReporte_final.ipynb#W1sZmlsZQ%3D%3D?line=4'>5</a>\u001b[0m     nombre_col \u001b[39m=\u001b[39m [\u001b[39m'\u001b[39m\u001b[39mn_afi\u001b[39m\u001b[39m'\u001b[39m, \u001b[39m'\u001b[39m\u001b[39mparentesco\u001b[39m\u001b[39m'\u001b[39m,\u001b[39m'\u001b[39m\u001b[39mnombre\u001b[39m\u001b[39m'\u001b[39m,\u001b[39m'\u001b[39m\u001b[39mdni\u001b[39m\u001b[39m'\u001b[39m,\u001b[39m'\u001b[39m\u001b[39mno_se\u001b[39m\u001b[39m'\u001b[39m,\u001b[39m'\u001b[39m\u001b[39mdni2\u001b[39m\u001b[39m'\u001b[39m,\u001b[39m'\u001b[39m\u001b[39mplan\u001b[39m\u001b[39m'\u001b[39m,\u001b[39m'\u001b[39m\u001b[39mplan2\u001b[39m\u001b[39m'\u001b[39m,\u001b[39m'\u001b[39m\u001b[39msexo\u001b[39m\u001b[39m'\u001b[39m,\u001b[39m'\u001b[39m\u001b[39mlocalidad\u001b[39m\u001b[39m'\u001b[39m,\u001b[39m'\u001b[39m\u001b[39mprovincia\u001b[39m\u001b[39m'\u001b[39m]\n\u001b[0;32m      <a href='vscode-notebook-cell:/c%3A/Users/zickd/OneDrive/Documentos/repos_git/osoetsy_csv/capitasReporte_final.ipynb#W1sZmlsZQ%3D%3D?line=5'>6</a>\u001b[0m     \u001b[39mprint\u001b[39m(archivo)\n",
      "File \u001b[1;32mc:\\Users\\zickd\\OneDrive\\Documentos\\repos_git\\osoetsy_csv\\funciones.py:19\u001b[0m, in \u001b[0;36mseleccionar_archivo\u001b[1;34m()\u001b[0m\n\u001b[0;32m     17\u001b[0m root\u001b[39m.\u001b[39mwithdraw()\n\u001b[0;32m     18\u001b[0m root\u001b[39m.\u001b[39mattributes(\u001b[39m'\u001b[39m\u001b[39m-topmost\u001b[39m\u001b[39m'\u001b[39m, \u001b[39mTrue\u001b[39;00m)\n\u001b[1;32m---> 19\u001b[0m file_path \u001b[39m=\u001b[39m filedialog\u001b[39m.\u001b[39;49maskopenfile()\n\u001b[0;32m     20\u001b[0m \u001b[39mreturn\u001b[39;00m file_path\n",
      "File \u001b[1;32m~\\AppData\\Local\\Programs\\Python\\Python311\\Lib\\tkinter\\filedialog.py:408\u001b[0m, in \u001b[0;36maskopenfile\u001b[1;34m(mode, **options)\u001b[0m\n\u001b[0;32m    405\u001b[0m \u001b[39mdef\u001b[39;00m \u001b[39maskopenfile\u001b[39m(mode \u001b[39m=\u001b[39m \u001b[39m\"\u001b[39m\u001b[39mr\u001b[39m\u001b[39m\"\u001b[39m, \u001b[39m*\u001b[39m\u001b[39m*\u001b[39moptions):\n\u001b[0;32m    406\u001b[0m     \u001b[39m\"\u001b[39m\u001b[39mAsk for a filename to open, and returned the opened file\u001b[39m\u001b[39m\"\u001b[39m\n\u001b[1;32m--> 408\u001b[0m     filename \u001b[39m=\u001b[39m Open(\u001b[39m*\u001b[39;49m\u001b[39m*\u001b[39;49moptions)\u001b[39m.\u001b[39;49mshow()\n\u001b[0;32m    409\u001b[0m     \u001b[39mif\u001b[39;00m filename:\n\u001b[0;32m    410\u001b[0m         \u001b[39mreturn\u001b[39;00m \u001b[39mopen\u001b[39m(filename, mode)\n",
      "File \u001b[1;32m~\\AppData\\Local\\Programs\\Python\\Python311\\Lib\\tkinter\\commondialog.py:45\u001b[0m, in \u001b[0;36mDialog.show\u001b[1;34m(self, **options)\u001b[0m\n\u001b[0;32m     43\u001b[0m \u001b[39mtry\u001b[39;00m:\n\u001b[0;32m     44\u001b[0m     \u001b[39mself\u001b[39m\u001b[39m.\u001b[39m_test_callback(master)  \u001b[39m# The function below is replaced for some tests.\u001b[39;00m\n\u001b[1;32m---> 45\u001b[0m     s \u001b[39m=\u001b[39m master\u001b[39m.\u001b[39;49mtk\u001b[39m.\u001b[39;49mcall(\u001b[39mself\u001b[39;49m\u001b[39m.\u001b[39;49mcommand, \u001b[39m*\u001b[39;49mmaster\u001b[39m.\u001b[39;49m_options(\u001b[39mself\u001b[39;49m\u001b[39m.\u001b[39;49moptions))\n\u001b[0;32m     46\u001b[0m     s \u001b[39m=\u001b[39m \u001b[39mself\u001b[39m\u001b[39m.\u001b[39m_fixresult(master, s)\n\u001b[0;32m     47\u001b[0m \u001b[39mfinally\u001b[39;00m:\n",
      "\u001b[1;31mKeyboardInterrupt\u001b[0m: "
     ]
    }
   ],
   "source": [
    "#cargar primero el excel o csv\n",
    "archivo = None\n",
    "while True:\n",
    "    archivo = funciones.seleccionar_archivo()\n",
    "    nombre_col = ['n_afi', 'parentesco','nombre','dni','no_se','dni2','plan','plan2','sexo','localidad','provincia']\n",
    "    print(archivo)\n",
    "    if archivo:\n",
    "        ruta_archivo = archivo.name\n",
    "        try:\n",
    "            padron_capita= pd.read_csv(ruta_archivo, encoding='ISO-8859-1', sep=';', names=nombre_col)\n",
    "            #padron_capita = pd.read_excel(ruta_archivo)\n",
    "            print(padron_capita)\n",
    "            break\n",
    "        except UnicodeDecodeError:\n",
    "            print(\"Error de decodificación de caracteres. Intenta con otra codificación o archivo.\")\n",
    "            continue\n",
    "    else:\n",
    "        print(\"Archivo incorrecto. Por favor, vuelva a cargarlo.\")"
   ]
  },
  {
   "cell_type": "code",
   "execution_count": 15,
   "metadata": {},
   "outputs": [],
   "source": [
    "diccionario ={'0':'titular',\n",
    "              '1':'familiar',\n",
    "              '2':'familiar',\n",
    "              '3':'familiar',\n",
    "              '4':'familiar',\n",
    "              '5':'familiar',\n",
    "              '6':'familiar',\n",
    "              '7':'familiar',\n",
    "              '8':'familiar'\n",
    "              }      \n",
    "#padron_capita['parentesco']=padron_capita['parentesco'].str.replace('\\d|\\(|\\)', '', regex=True)\n",
    "padron_capita['parentesco']=padron_capita['parentesco'].astype(str).replace(diccionario)"
   ]
  },
  {
   "cell_type": "code",
   "execution_count": 22,
   "metadata": {},
   "outputs": [],
   "source": [
    "sedes={\n",
    "'010': 'CABA',\n",
    "'020': 'ZONA NORTE Y NOROESTE',\n",
    "'030': 'ZONA OESTE',\n",
    "'040': 'ZONA SUR',\n",
    "'050': 'LA PLATA',\n",
    "'060': 'MAR DEL PLATA',\n",
    "'070': 'PERGAMINO',\n",
    "'080': 'SANTA FE',\n",
    "'090': 'CORDOBA',\n",
    "'100':'MENDOZA',\n",
    "'110':'TUCUMAN'\n",
    "}\n",
    "padron_capita['n_afi']=padron_capita['n_afi'].astype(str).str.zfill(13)\n",
    "padron_capita['sede']=padron_capita['n_afi'].str[:3].replace(sedes)\n",
    "\n"
   ]
  },
  {
   "cell_type": "code",
   "execution_count": 12,
   "metadata": {},
   "outputs": [],
   "source": [
    "save_path = filedialog.askdirectory()\n",
    "padron_capita.to_excel(save_path + '\\capitasagosto.xlsx', engine='openpyxl', index=False)"
   ]
  }
 ],
 "metadata": {
  "kernelspec": {
   "display_name": ".venv",
   "language": "python",
   "name": "python3"
  },
  "language_info": {
   "codemirror_mode": {
    "name": "ipython",
    "version": 3
   },
   "file_extension": ".py",
   "mimetype": "text/x-python",
   "name": "python",
   "nbconvert_exporter": "python",
   "pygments_lexer": "ipython3",
   "version": "3.11.4"
  },
  "orig_nbformat": 4,
  "vscode": {
   "interpreter": {
    "hash": "1f64b729a01f235b3ec02af186f3a50c3d881136f08176a7df610cc16261a174"
   }
  }
 },
 "nbformat": 4,
 "nbformat_minor": 2
}
