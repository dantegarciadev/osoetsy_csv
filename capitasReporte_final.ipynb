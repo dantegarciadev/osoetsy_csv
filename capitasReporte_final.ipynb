{
 "cells": [
  {
   "cell_type": "code",
   "execution_count": 2,
   "metadata": {},
   "outputs": [],
   "source": [
    "import pandas as pd\n",
    "import numpy as np\n",
    "import xlwt\n",
    "import xlrd\n",
    "from tkinter import filedialog\n",
    "import tkinter as tk\n",
    "import customtkinter as ctk\n",
    "from customtkinter import filedialog\n",
    "import funciones\n",
    "import re\n",
    "import openpyxl"
   ]
  },
  {
   "cell_type": "code",
   "execution_count": 3,
   "metadata": {},
   "outputs": [
    {
     "name": "stdout",
     "output_type": "stream",
     "text": [
      "<_io.TextIOWrapper name='C:/Users/zickd/Downloads/odontologia (1).csv' mode='r' encoding='cp1252'>\n",
      "              n_afi  parentesco                          nombre       dni  \\\n",
      "0     1002682185800           0  LUGO RUBEN OMAR                 19780915   \n",
      "1     1003766928700           0  VELAZQUEZ MAXIMILIANO LEONEL    19930208   \n",
      "2     1001712668200           0  CAMPOS Sandra Raquel            19640424   \n",
      "3     1002399314500           0  AHUMADA ALBERTO ORLANDO         19740809   \n",
      "4     1003281958600           0  PELAYES LEONARDO DAMIAN         19860912   \n",
      "...             ...         ...                             ...       ...   \n",
      "5041   403451270601           1  ROJAS ROCIO CECILIA             19971105   \n",
      "5042   403451270602           2  DE LIMA ULISES ROMAN            20170810   \n",
      "5043   403451270603           2  DE LIMA LAUTARO ANDRES          20140109   \n",
      "5044   403698885902           2  FEGO GIANLUCA BENJAMIN          20211207   \n",
      "5045   403840299602           2  LOPEZ FRUTO MELODY SOFIA        20220718   \n",
      "\n",
      "      no_se      dni2  plan  plan2 sexo         localidad     provincia  \n",
      "0         1  26821858   100    100    M   VIRREY DEL PINO  BUENOS AIRES  \n",
      "1         1  37669287   100    100    M  FLORENCIO VARELA  BUENOS AIRES  \n",
      "2         1  17126682   100    100    F           MENDOZA       MENDOZA  \n",
      "3         1  23993145   100    100    M         LAS HERAS       MENDOZA  \n",
      "4         1  32819586   100    100    M         LAS HERAS       MENDOZA  \n",
      "...     ...       ...   ...    ...  ...               ...           ...  \n",
      "5041      1  40857814   100    100    F  FLORENCIO VARELA  BUENOS AIRES  \n",
      "5042      1  56417758   100    100    M  FLORENCIO VARELA  BUENOS AIRES  \n",
      "5043      1  53982786   100    100    M  FLORENCIO VARELA  BUENOS AIRES  \n",
      "5044      1  59084266   100    100    M       BERAZATEGUI  BUENOS AIRES  \n",
      "5045      1  59459248   100    100    F         TEMPERLEY  BUENOS AIRES  \n",
      "\n",
      "[5046 rows x 11 columns]\n"
     ]
    }
   ],
   "source": [
    "#cargar primero el excel o csv\n",
    "archivo = None\n",
    "while True:\n",
    "    archivo = funciones.seleccionar_archivo()\n",
    "    nombre_col = ['n_afi', 'parentesco','nombre','dni','no_se','dni2','plan','plan2','sexo','localidad','provincia']\n",
    "    print(archivo)\n",
    "    if archivo:\n",
    "        ruta_archivo = archivo.name\n",
    "        try:\n",
    "            padron_capita= pd.read_csv(ruta_archivo, encoding='ISO-8859-1', sep=';', names=nombre_col)\n",
    "            #padron_capita = pd.read_excel(ruta_archivo)\n",
    "            print(padron_capita)\n",
    "            break\n",
    "        except UnicodeDecodeError:\n",
    "            print(\"Error de decodificación de caracteres. Intenta con otra codificación o archivo.\")\n",
    "            continue\n",
    "    else:\n",
    "        print(\"Archivo incorrecto. Por favor, vuelva a cargarlo.\")"
   ]
  },
  {
   "cell_type": "code",
   "execution_count": 15,
   "metadata": {},
   "outputs": [],
   "source": [
    "diccionario ={'0':'titular',\n",
    "              '1':'familiar',\n",
    "              '2':'familiar',\n",
    "              '3':'familiar',\n",
    "              '4':'familiar',\n",
    "              '5':'familiar',\n",
    "              '6':'familiar',\n",
    "              '7':'familiar',\n",
    "              '8':'familiar'\n",
    "              }      \n",
    "#padron_capita['parentesco']=padron_capita['parentesco'].str.replace('\\d|\\(|\\)', '', regex=True)\n",
    "padron_capita['parentesco']=padron_capita['parentesco'].astype(str).replace(diccionario)"
   ]
  },
  {
   "cell_type": "code",
   "execution_count": 22,
   "metadata": {},
   "outputs": [],
   "source": [
    "sedes={\n",
    "'010': 'CABA',\n",
    "'020': 'ZONA NORTE Y NOROESTE',\n",
    "'030': 'ZONA OESTE',\n",
    "'040': 'ZONA SUR',\n",
    "'050': 'LA PLATA',\n",
    "'060': 'MAR DEL PLATA',\n",
    "'070': 'PERGAMINO',\n",
    "'080': 'SANTA FE',\n",
    "'090': 'CORDOBA',\n",
    "'100':'MENDOZA',\n",
    "'110':'TUCUMAN'\n",
    "}\n",
    "padron_capita['n_afi']=padron_capita['n_afi'].astype(str).str.zfill(13)\n",
    "padron_capita['sede']=padron_capita['n_afi'].str[:3].replace(sedes)\n",
    "\n"
   ]
  },
  {
   "cell_type": "code",
   "execution_count": 12,
   "metadata": {},
   "outputs": [],
   "source": [
    "save_path = filedialog.askdirectory()\n",
    "padron_capita.to_excel(save_path + '\\capitasagosto.xlsx', engine='openpyxl', index=False)"
   ]
  }
 ],
 "metadata": {
  "kernelspec": {
   "display_name": ".venv",
   "language": "python",
   "name": "python3"
  },
  "language_info": {
   "codemirror_mode": {
    "name": "ipython",
    "version": 3
   },
   "file_extension": ".py",
   "mimetype": "text/x-python",
   "name": "python",
   "nbconvert_exporter": "python",
   "pygments_lexer": "ipython3",
   "version": "3.11.4"
  },
  "orig_nbformat": 4,
  "vscode": {
   "interpreter": {
    "hash": "1f64b729a01f235b3ec02af186f3a50c3d881136f08176a7df610cc16261a174"
   }
  }
 },
 "nbformat": 4,
 "nbformat_minor": 2
}
