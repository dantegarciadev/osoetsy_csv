{
 "cells": [
  {
   "cell_type": "code",
   "execution_count": 1,
   "metadata": {},
   "outputs": [],
   "source": [
    "import pandas as pd\n",
    "import numpy as np\n",
    "import xlwt\n",
    "import xlrd\n",
    "from tkinter import filedialog\n",
    "import tkinter as tk\n",
    "import customtkinter as ctk\n",
    "from customtkinter import filedialog\n",
    "import funciones\n",
    "import re\n",
    "import openpyxl\n",
    "from datetime  import datetime"
   ]
  },
  {
   "cell_type": "code",
   "execution_count": 2,
   "metadata": {},
   "outputs": [
    {
     "name": "stdout",
     "output_type": "stream",
     "text": [
      "<_io.TextIOWrapper name='C:/Users/zickd/Downloads/odontologia (12).csv' mode='r' encoding='cp1252'>\n",
      "              n_afi  parentesco                          nombre       dni  \\\n",
      "0     1002682185800           0  LUGO RUBEN OMAR                 19780915   \n",
      "1     1002493263700           0  ARRIOLA DIEGO ALBERTO           19751225   \n",
      "2     1002213898100           0  TORO PATRICIA DEL CARMEN        19710809   \n",
      "3     1002155616300           0  VILCA DIONICIO CARLOS           19710508   \n",
      "4     1002252095300           0  ROCCA CARLOS JAVIER             19730706   \n",
      "...             ...         ...                             ...       ...   \n",
      "4245   403970471304           2  GOMEZ BAUTISTA TAHIEL           20180827   \n",
      "4246   403080024402           2  JUAREZ DANTE BENJAMIN           20150518   \n",
      "4247   409464120902           2  MENEZES TAIEL EITAN             20080709   \n",
      "4248   403371628802           2  RODRIGUEZ VICTORIA ABIGAIL      20240524   \n",
      "4249   403975763202           2  GOMEZ VALENCIA LUCAS NAHUEL     20141211   \n",
      "\n",
      "      no_se      dni2  plan  plan2 sexo        localidad     provincia  \n",
      "0         1  26821858   100    100    M  VIRREY DEL PINO  BUENOS AIRES  \n",
      "1         1  24932637   100    100    M        LAS HERAS       MENDOZA  \n",
      "2         1  22138981   100    100    F          NEUQUEN       NEUQUEN  \n",
      "3         1  21556163   100    100    M        HUMAHUACA         JUJUY  \n",
      "4         1  22520953   100    100    M          MENDOZA       MENDOZA  \n",
      "...     ...       ...   ...    ...  ...              ...           ...  \n",
      "4245      1  57236668   100    100    M      BERAZATEGUI  BUENOS AIRES  \n",
      "4246      1  54825715   100    100    M     MONTE GRANDE  BUENOS AIRES  \n",
      "4247      1  48705929   100    100    M  CAPITAL FEDERAL  BUENOS AIRES  \n",
      "4248      1  70201838   100    100    F  VALENTIN ALSINA  BUENOS AIRES  \n",
      "4249      1  54379276   100    100    M  INGENIERO BUDGE  BUENOS AIRES  \n",
      "\n",
      "[4250 rows x 11 columns]\n"
     ]
    }
   ],
   "source": [
    "#cargar primero el excel o csv\n",
    "archivo = None\n",
    "while True:\n",
    "    archivo = funciones.seleccionar_archivo()\n",
    "    nombre_col = ['n_afi', 'parentesco','nombre','dni','no_se','dni2','plan','plan2','sexo','localidad','provincia']\n",
    "    print(archivo)\n",
    "    if archivo:\n",
    "        ruta_archivo = archivo.name\n",
    "        try:\n",
    "            padron_capita= pd.read_csv(ruta_archivo, encoding='ISO-8859-1', sep=';', names=nombre_col)\n",
    "            #padron_capita = pd.read_excel(ruta_archivo)\n",
    "            print(padron_capita)\n",
    "            break\n",
    "        except UnicodeDecodeError:\n",
    "            print(\"Error de decodificación de caracteres. Intenta con otra codificación o archivo.\")\n",
    "            continue\n",
    "    else:\n",
    "        print(\"Archivo incorrecto. Por favor, vuelva a cargarlo.\")"
   ]
  },
  {
   "cell_type": "code",
   "execution_count": 3,
   "metadata": {},
   "outputs": [],
   "source": [
    "diccionario ={'0':'titular',\n",
    "              '1':'familiar',\n",
    "              '2':'familiar',\n",
    "              '3':'familiar',\n",
    "              '4':'familiar',\n",
    "              '5':'familiar',\n",
    "              '6':'familiar',\n",
    "              '7':'familiar',\n",
    "              '8':'familiar'\n",
    "              }      \n",
    "#padron_capita['parentesco']=padron_capita['parentesco'].str.replace('\\d|\\(|\\)', '', regex=True)\n",
    "padron_capita['parentesco']=padron_capita['parentesco'].astype(str).replace(diccionario)"
   ]
  },
  {
   "cell_type": "code",
   "execution_count": 4,
   "metadata": {},
   "outputs": [],
   "source": [
    "sedes={\n",
    "'010': 'CABA',\n",
    "'020': 'ZONA NORTE Y NOROESTE',\n",
    "'030': 'ZONA OESTE',\n",
    "'040': 'ZONA SUR',\n",
    "'050': 'LA PLATA',\n",
    "'060': 'MAR DEL PLATA',\n",
    "'070': 'PERGAMINO',\n",
    "'080': 'SANTA FE',\n",
    "'090': 'CORDOBA',\n",
    "'100':'MENDOZA',\n",
    "'110':'TUCUMAN'\n",
    "}\n",
    "padron_capita['n_afi']=padron_capita['n_afi'].astype(str).str.zfill(13)\n",
    "padron_capita['sede']=padron_capita['n_afi'].str[:3].replace(sedes)\n",
    "\n"
   ]
  },
  {
   "cell_type": "code",
   "execution_count": 21,
   "metadata": {},
   "outputs": [],
   "source": [
    "save_path = filedialog.askdirectory()\n",
    "padron_capita.to_excel(save_path + '\\capitasagosto.xlsx', engine='openpyxl', index=False)"
   ]
  },
  {
   "cell_type": "code",
   "execution_count": 5,
   "metadata": {},
   "outputs": [
    {
     "name": "stdout",
     "output_type": "stream",
     "text": [
      "Index(['n_afi', 'parentesco', 'nombre', 'dni', 'no_se', 'dni2', 'plan',\n",
      "       'plan2', 'sexo', 'localidad', 'provincia', 'sede'],\n",
      "      dtype='object')\n"
     ]
    }
   ],
   "source": [
    "print(padron_capita.columns)"
   ]
  },
  {
   "cell_type": "markdown",
   "metadata": {},
   "source": [
    "### armar la tabla dinamica"
   ]
  },
  {
   "cell_type": "code",
   "execution_count": 6,
   "metadata": {},
   "outputs": [
    {
     "data": {
      "text/plain": [
       "Index(['familiar', 'titular', 'Total'], dtype='object', name='parentesco')"
      ]
     },
     "execution_count": 6,
     "metadata": {},
     "output_type": "execute_result"
    }
   ],
   "source": [
    "df_pivot = padron_capita.pivot_table(index='sede', columns='parentesco', values='dni', aggfunc='count')\n",
    "df_pivot.loc['Total', :] = df_pivot.sum(axis=0)\n",
    "df_pivot.loc[:, 'Total'] = df_pivot.sum(axis=1)\n",
    "\n",
    "\n",
    "\n",
    "df_pivot.columns"
   ]
  },
  {
   "cell_type": "code",
   "execution_count": 7,
   "metadata": {},
   "outputs": [],
   "source": [
    "fecha = datetime.now()\n",
    "nombre_mes = fecha.strftime(\"%B %Y\")\n",
    "save_path = filedialog.askdirectory()\n",
    "df_pivot.to_excel(save_path + '\\\\' + nombre_mes + '.xlsx', engine='openpyxl', index=True)"
   ]
  }
 ],
 "metadata": {
  "kernelspec": {
   "display_name": ".venv",
   "language": "python",
   "name": "python3"
  },
  "language_info": {
   "codemirror_mode": {
    "name": "ipython",
    "version": 3
   },
   "file_extension": ".py",
   "mimetype": "text/x-python",
   "name": "python",
   "nbconvert_exporter": "python",
   "pygments_lexer": "ipython3",
   "version": "3.11.8"
  },
  "orig_nbformat": 4,
  "vscode": {
   "interpreter": {
    "hash": "1f64b729a01f235b3ec02af186f3a50c3d881136f08176a7df610cc16261a174"
   }
  }
 },
 "nbformat": 4,
 "nbformat_minor": 2
}
