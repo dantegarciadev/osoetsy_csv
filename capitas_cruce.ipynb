{
 "cells": [
  {
   "cell_type": "code",
   "execution_count": 1,
   "metadata": {},
   "outputs": [],
   "source": [
    "import pandas as pd\n",
    "import numpy as np\n",
    "import xlwt\n",
    "import xlrd\n",
    "from tkinter import filedialog\n",
    "import tkinter as tk\n",
    "import customtkinter as ctk\n",
    "from customtkinter import filedialog\n",
    "import funciones\n",
    "import re\n",
    "import openpyxl"
   ]
  },
  {
   "cell_type": "code",
   "execution_count": 3,
   "metadata": {},
   "outputs": [
    {
     "name": "stdout",
     "output_type": "stream",
     "text": [
      "<_io.TextIOWrapper name='G:/Mi unidad/GOADDS/OSOETSYLRA/carga_gecros_ddjj/PADRON_FINAL_SIDEFI_BAJAS.csv' mode='r' encoding='cp1252'>\n",
      "       Nro. OS          Plan del Afiliado Opcion  Nro. Grupo Familiar  \\\n",
      "0            1                   Afiliado     NO             30851327   \n",
      "1            7  Monotributista social EPV     SI             26407599   \n",
      "2            7  Monotributista social EPV     SI             26407599   \n",
      "3            1                   Afiliado     SI             30694069   \n",
      "4            1                   Afiliado     NO             32479768   \n",
      "...        ...                        ...    ...                  ...   \n",
      "69348        1                   Afiliado     NO             31679484   \n",
      "69349        1                   Afiliado     NO             30960682   \n",
      "69350        1                   Afiliado     NO             95019056   \n",
      "69351        1                   Afiliado     NO             28437197   \n",
      "69352        1                   Afiliado     SI             36602782   \n",
      "\n",
      "         Nro. Afiliado Parentesco con el TITULAR Apellido Afiliado  \\\n",
      "0                  NaN                   TITULAR             ABACA   \n",
      "1      020-26407599-00                   TITULAR              ABAD   \n",
      "2      020-26407599-02                    Hijo/a             TEVEZ   \n",
      "3                  NaN                   TITULAR             ABADI   \n",
      "4                  NaN                   TITULAR            ABADIE   \n",
      "...                ...                       ...               ...   \n",
      "69348              NaN                   TITULAR            ZURITA   \n",
      "69349              NaN                   TITULAR           ZUYGART   \n",
      "69350              NaN                   TITULAR          ZUZUNAGA   \n",
      "69351              NaN                   TITULAR            ZWANIK   \n",
      "69352  010-36602782-00                   TITULAR         ZWIERCZYK   \n",
      "\n",
      "      Nombre Afiliado                Tipo Documento  Nro. Documento  ... Piso  \\\n",
      "0             MARCELO  Documento Nacional Identidad        30851327  ...  0.0   \n",
      "1              VANESA  Documento Nacional Identidad        26407599  ...  NaN   \n",
      "2               MATEO  Documento Nacional Identidad        47279801  ...  NaN   \n",
      "3          PEDRO RAUL  Documento Nacional Identidad        30694069  ...  NaN   \n",
      "4       BRENDA ROXANA  Documento Nacional Identidad        32479768  ...  0.0   \n",
      "...               ...                           ...             ...  ...  ...   \n",
      "69348   WALTER DAMIAN  Documento Nacional Identidad        31679484  ...  NaN   \n",
      "69349   CLAUDIO DARIO  Documento Nacional Identidad        30960682  ...  0.0   \n",
      "69350    JOSE ENRIQUE  Documento Nacional Identidad        95019056  ...  NaN   \n",
      "69351    JACOBO CESAR  Documento Nacional Identidad        28437197  ...  1.0   \n",
      "69352   HECTOR DAMIAN  Documento Nacional Identidad        36602782  ...  NaN   \n",
      "\n",
      "      Departamento Barrio         Localidad     Provincia Codigo Postal  \\\n",
      "0              NaN    NaN   CAPITAL FEDERAL  BUENOS AIRES           NaN   \n",
      "1              NaN    NaN     VICENTE LOPEZ  BUENOS AIRES           NaN   \n",
      "2              NaN    NaN     VICENTE LOPEZ  BUENOS AIRES           NaN   \n",
      "3              NaN    NaN             MERLO  BUENOS AIRES           NaN   \n",
      "4              NaN    NaN   CAPITAL FEDERAL  BUENOS AIRES           NaN   \n",
      "...            ...    ...               ...           ...           ...   \n",
      "69348          NaN    NaN   CAPITAL FEDERAL  BUENOS AIRES           NaN   \n",
      "69349          NaN    NaN             PILAR  BUENOS AIRES           NaN   \n",
      "69350          NaN    NaN             MORON  BUENOS AIRES           NaN   \n",
      "69351            4    NaN   CAPITAL FEDERAL  BUENOS AIRES           NaN   \n",
      "69352          NaN    NaN  FLORENCIO VARELA  BUENOS AIRES           NaN   \n",
      "\n",
      "       Telefono Celular Email Unnamed: 34  \n",
      "0           NaN     NaN   NaN         NaN  \n",
      "1           NaN     NaN   NaN         NaN  \n",
      "2           NaN     NaN   NaN         NaN  \n",
      "3           NaN     NaN   NaN         NaN  \n",
      "4           NaN     NaN   NaN         NaN  \n",
      "...         ...     ...   ...         ...  \n",
      "69348       NaN     NaN   NaN         NaN  \n",
      "69349       NaN     NaN   NaN         NaN  \n",
      "69350       NaN     NaN   NaN         NaN  \n",
      "69351       NaN     NaN   NaN         NaN  \n",
      "69352       NaN     NaN   NaN         NaN  \n",
      "\n",
      "[69353 rows x 35 columns]\n"
     ]
    },
    {
     "name": "stderr",
     "output_type": "stream",
     "text": [
      "C:\\Users\\zickd\\AppData\\Local\\Temp\\ipykernel_10028\\768054402.py:9: DtypeWarning: Columns (10,20,24,34) have mixed types. Specify dtype option on import or set low_memory=False.\n",
      "  padron_sidefi = pd.read_csv(ruta_archivo, encoding='ISO-8859-1', sep=';')\n"
     ]
    }
   ],
   "source": [
    "#cargar primero el excel o csv\n",
    "archivo = None\n",
    "while True:\n",
    "    archivo = funciones.seleccionar_archivo()\n",
    "    print(archivo)\n",
    "    if archivo:\n",
    "        ruta_archivo = archivo.name\n",
    "        try:\n",
    "            padron_sidefi = pd.read_csv(ruta_archivo, encoding='ISO-8859-1', sep=';')\n",
    "            #padron = pd.read_csv(archivo, sep=\";\", encoding=\"ISO-8859-1\")\n",
    "            print(padron_sidefi)\n",
    "            break\n",
    "        except UnicodeDecodeError:\n",
    "            print(\"Error de decodificación de caracteres. Intenta con otra codificación o archivo.\")\n",
    "            continue\n",
    "    else:\n",
    "        print(\"Archivo incorrecto. Por favor, vuelva a cargarlo.\")"
   ]
  },
  {
   "cell_type": "code",
   "execution_count": 4,
   "metadata": {},
   "outputs": [
    {
     "name": "stdout",
     "output_type": "stream",
     "text": [
      "<_io.TextIOWrapper name='G:/Mi unidad/GOADDS/OSOETSYLRA/carga_gecros_ddjj/errores ddjj desde 01-05-2023 al 14-09-2023 sin duplicados.xlsx' mode='r' encoding='cp1252'>\n",
      "     codosoc  periodo         cuit         cuil   remosimp  imposad  zona  \\\n",
      "0     127406     2308  30630656245  20125836357  253131.24     0.00     2   \n",
      "1     127406     2201  23955798244  20127311510       0.00     0.00     2   \n",
      "2     127406      908  30643729543  20160923807    2148.78     0.00     7   \n",
      "3     127406     2306  33715492089  20163038545    9650.00     0.00     1   \n",
      "4     127406     2304  33715492089  20170271867    4260.00     0.00     1   \n",
      "..       ...      ...          ...          ...        ...      ...   ...   \n",
      "834   127406     2308  27940794558  27951155875  177104.36     0.00     1   \n",
      "835   127406     2304  23180703934  27953057757   18929.00  4315.74     3   \n",
      "836   127406     2308  20307118131  27960081116  220000.00     0.00     1   \n",
      "837   127406     2307  20950584263  27962658127  160540.50     0.00     2   \n",
      "838   127406     2308  20950212536  27963034178  150349.44     0.00     2   \n",
      "\n",
      "     grpfam  nogrpfam  secoblig  ...  esposa  excosapo  indret  indexccon  \\\n",
      "0         0         0         1  ...       0         0       N          N   \n",
      "1         0         0         1  ...       0         0       N          N   \n",
      "2         0         0        10  ...       0         0       S          N   \n",
      "3         0         0         1  ...       0         0       S          N   \n",
      "4         0         0         1  ...       0         0       S          N   \n",
      "..      ...       ...       ...  ...     ...       ...     ...        ...   \n",
      "834       0         0         1  ...       0         0       N          N   \n",
      "835       0         0         1  ...       0         0       N          N   \n",
      "836       0         0         1  ...       0         0       N          N   \n",
      "837       0         0         1  ...       0         0       N          N   \n",
      "838       0         0         1  ...       0         0       N          N   \n",
      "\n",
      "     fecpresent     fecproc  origrect    remcont  release_ver  \\\n",
      "0    2023-09-09  2023-09-11         0  253131.24           12   \n",
      "1    2023-05-18  2023-05-19         0       0.00           10   \n",
      "2    2023-05-09  2023-05-11         1    2148.78           10   \n",
      "3    2023-07-08  2023-07-10         0    9650.00           10   \n",
      "4    2023-05-10  2023-05-11         0    4260.00           10   \n",
      "..          ...         ...       ...        ...          ...   \n",
      "834  2023-09-11  2023-09-13         0  177104.36           12   \n",
      "835  2023-09-07  2023-09-08         0   18929.00           11   \n",
      "836  2023-09-08  2023-09-11         0  220000.00           12   \n",
      "837  2023-08-07  2023-08-08         0  160540.50           11   \n",
      "838  2023-09-10  2023-09-12         0  150349.44           12   \n",
      "\n",
      "                                               mensaje  \n",
      "0    Registro Grabado pero el CUIL  20125836357 NO ...  \n",
      "1    Registro Grabado pero el CUIL  20127311510 NO ...  \n",
      "2    Registro Grabado pero el CUIL  20160923807 NO ...  \n",
      "3    Registro Grabado pero el CUIL  20163038545 NO ...  \n",
      "4    Registro Grabado pero el CUIL  20170271867 NO ...  \n",
      "..                                                 ...  \n",
      "834  Registro Grabado pero el CUIL  27951155875 NO ...  \n",
      "835  Registro Grabado pero el CUIL  27953057757 NO ...  \n",
      "836  Registro Grabado pero el CUIL  27960081116 NO ...  \n",
      "837  Registro Grabado pero el CUIL  27962658127 NO ...  \n",
      "838  Registro Grabado pero el CUIL  27963034178 NO ...  \n",
      "\n",
      "[839 rows x 28 columns]\n"
     ]
    }
   ],
   "source": [
    "#cargar primero el excel o csv\n",
    "archivo = None\n",
    "while True:\n",
    "    archivo = funciones.seleccionar_archivo()\n",
    "    print(archivo)\n",
    "    if archivo:\n",
    "        ruta_archivo = archivo.name\n",
    "        columnas = ['Tipo','Formulario','CUIL del Titular','Apellido y Nombre','Perido de vigencia','telefono de contacto','correo electrico','codigo postal','localidad','provincia','obra social origen','fin']\n",
    "        try:\n",
    "            #altas_sss = pd.read_csv(ruta_archivo, encoding='utf-8', sep='|', names=columnas)\n",
    "            errores = pd.read_excel(ruta_archivo, engine='openpyxl')\n",
    "            print(errores)\n",
    "            break\n",
    "        except UnicodeDecodeError:\n",
    "            print(\"Error de decodificación de caracteres. Intenta con otra codificación o archivo.\")\n",
    "            continue\n",
    "    else:\n",
    "        print(\"Archivo incorrecto. Por favor, vuelva a cargarlo.\")"
   ]
  },
  {
   "cell_type": "code",
   "execution_count": 5,
   "metadata": {},
   "outputs": [],
   "source": [
    "cruce_sidefi=pd.merge(errores, padron_sidefi, left_on='cuil', right_on='Nro. CUIL', how='left', indicator=True )\n"
   ]
  },
  {
   "cell_type": "code",
   "execution_count": 40,
   "metadata": {},
   "outputs": [],
   "source": [
    "cruce_sidefi.to_excel(r'C:\\Users\\zickd\\Downloads\\prueba_opcion_cambio.xlsx', engine='openpyxl', index=False)"
   ]
  }
 ],
 "metadata": {
  "kernelspec": {
   "display_name": ".venv",
   "language": "python",
   "name": "python3"
  },
  "language_info": {
   "codemirror_mode": {
    "name": "ipython",
    "version": 3
   },
   "file_extension": ".py",
   "mimetype": "text/x-python",
   "name": "python",
   "nbconvert_exporter": "python",
   "pygments_lexer": "ipython3",
   "version": "3.11.5"
  },
  "orig_nbformat": 4,
  "vscode": {
   "interpreter": {
    "hash": "1f64b729a01f235b3ec02af186f3a50c3d881136f08176a7df610cc16261a174"
   }
  }
 },
 "nbformat": 4,
 "nbformat_minor": 2
}
