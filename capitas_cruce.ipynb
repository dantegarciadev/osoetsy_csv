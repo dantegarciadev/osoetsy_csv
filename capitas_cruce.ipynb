{
 "cells": [
  {
   "cell_type": "code",
   "execution_count": 28,
   "metadata": {},
   "outputs": [],
   "source": [
    "import pandas as pd\n",
    "import numpy as np\n",
    "import xlwt\n",
    "import xlrd\n",
    "from tkinter import filedialog\n",
    "import tkinter as tk\n",
    "import customtkinter as ctk\n",
    "from customtkinter import filedialog\n",
    "import funciones\n",
    "import re\n",
    "import openpyxl"
   ]
  },
  {
   "cell_type": "code",
   "execution_count": 33,
   "metadata": {},
   "outputs": [
    {
     "name": "stdout",
     "output_type": "stream",
     "text": [
      "<_io.TextIOWrapper name='C:/Users/zickd/Downloads/PADRON_FINAL_SIDEFI_LIMPIO.csv' mode='r' encoding='cp1252'>\n",
      "       Nro. OS          Plan del Afiliado Opcion Apellido Afiliado  \\\n",
      "0            1                   Afiliado     SI            YBARRA   \n",
      "1            1                   Afiliado     NO    MEDINA SERVIAN   \n",
      "2            1                   Afiliado     NO           ALVAREZ   \n",
      "3            1                   Afiliado     NO             ZARZA   \n",
      "4            1                   Afiliado     NO            RITTER   \n",
      "...        ...                        ...    ...               ...   \n",
      "69348        1                   Afiliado     NO            RIFFEL   \n",
      "69349        1                   Afiliado     NO            AQUINO   \n",
      "69350        4   Monotributista social SD     SI         SANTILLAN   \n",
      "69351        1                   Afiliado     NO             GOMEZ   \n",
      "69352        7  Monotributista social EPV     SI           RAMIREZ   \n",
      "\n",
      "              Nombre Afiliado  Nro. Documento    Nro. CUIL  Tipo Afiliado  \\\n",
      "0                MIRIAM MABEL              12            0              0   \n",
      "1                  MIA JAZMIN           52931            0              0   \n",
      "2                ALFREDO JOSE        10599993   2010599993              0   \n",
      "3                SERGIO DARIO        30042039   2030042398              0   \n",
      "4              LUCAS EZEQUIEL        38030469   2038030469              0   \n",
      "...                       ...             ...          ...            ...   \n",
      "69348       EDUARDO GUILLERMO        70725896  30707258965              0   \n",
      "69349            HECTOR DARIO        70825573  30708255730              0   \n",
      "69350  NICOLÁS CARLOS ALBERTO        27269343  23272693439              0   \n",
      "69351             DIEGO RUBEN        35619032   2435619032              0   \n",
      "69352           LUCAS NICOLAS        48177286  2O481772860              0   \n",
      "\n",
      "       Dependencia        Localidad     Provincia  \n",
      "0               40      JOSE MARMOL  BUENOS AIRES  \n",
      "1               40        EL JAGUEL  BUENOS AIRES  \n",
      "2               10            TIGRE  BUENOS AIRES  \n",
      "3               20  CAPITAL FEDERAL  BUENOS AIRES  \n",
      "4               30          CASEROS  BUENOS AIRES  \n",
      "...            ...              ...           ...  \n",
      "69348           40      BERAZATEGUI  BUENOS AIRES  \n",
      "69349           10  LOMAS DE ZAMORA  BUENOS AIRES  \n",
      "69350           20  CAPITAL FEDERAL  BUENOS AIRES  \n",
      "69351           60    MAR DEL PLATA  BUENOS AIRES  \n",
      "69352           20           BECCAR  BUENOS AIRES  \n",
      "\n",
      "[69353 rows x 11 columns]\n"
     ]
    },
    {
     "name": "stderr",
     "output_type": "stream",
     "text": [
      "C:\\Users\\zickd\\AppData\\Local\\Temp\\ipykernel_9820\\768054402.py:9: DtypeWarning: Columns (6) have mixed types. Specify dtype option on import or set low_memory=False.\n",
      "  padron_sidefi = pd.read_csv(ruta_archivo, encoding='ISO-8859-1', sep=';')\n"
     ]
    }
   ],
   "source": [
    "#cargar primero el excel o csv\n",
    "archivo = None\n",
    "while True:\n",
    "    archivo = funciones.seleccionar_archivo()\n",
    "    print(archivo)\n",
    "    if archivo:\n",
    "        ruta_archivo = archivo.name\n",
    "        try:\n",
    "            padron_sidefi = pd.read_csv(ruta_archivo, encoding='ISO-8859-1', sep=';')\n",
    "            #padron = pd.read_csv(archivo, sep=\";\", encoding=\"ISO-8859-1\")\n",
    "            print(padron_sidefi)\n",
    "            break\n",
    "        except UnicodeDecodeError:\n",
    "            print(\"Error de decodificación de caracteres. Intenta con otra codificación o archivo.\")\n",
    "            continue\n",
    "    else:\n",
    "        print(\"Archivo incorrecto. Por favor, vuelva a cargarlo.\")"
   ]
  },
  {
   "cell_type": "code",
   "execution_count": 37,
   "metadata": {},
   "outputs": [
    {
     "name": "stdout",
     "output_type": "stream",
     "text": [
      "<_io.TextIOWrapper name='C:/Users/zickd/Downloads/agosto2023_127406-.txt' mode='r' encoding='cp1252'>\n",
      "  Tipo  Formulario  CUIL del Titular             Apellido y Nombre  \\\n",
      "0   M    353274927       20136434099            CANARINI ADALBERTO   \n",
      "1   M    353247534       20169117587         SERAFINI SERGIO ARIEL   \n",
      "2   M    353303531       27170052485         GODOY LILIANA BEATRIZ   \n",
      "3   M    353325640       27177329407          BELMONTE ELBA SUSANA   \n",
      "4   ED   353260267       27239393654        PIZARRO ROSANA PETRONA   \n",
      "5   ED   353241694       27310426208            RUIZ RAFAELA EDITH   \n",
      "6   M    353322784       27944314526         ZARATE AVALOS CECILIA   \n",
      "7   ED   353323120       27945965695            BAEZ SALINA GLADIS   \n",
      "8   ED   353268474       27950070043    CAZANA REJANO JULIA ELVIRA   \n",
      "9   ED   353250558       27957371138  MORA MARICUTO CLAURELIA ROSA   \n",
      "\n",
      "   Perido de vigencia  telefono de contacto  \\\n",
      "0              202311            2477534419   \n",
      "1              202311            2477569453   \n",
      "2              202311            1154655735   \n",
      "3              202311            1165407811   \n",
      "4              202308            1123015325   \n",
      "5              202311            3388529214   \n",
      "6              202311            1126785630   \n",
      "7              202308            1331914761   \n",
      "8              202308            1125067124   \n",
      "9              202308           11277870240   \n",
      "\n",
      "                          correo electrico  codigo postal  \\\n",
      "0              adalbertocanarini@gmail.com           2700   \n",
      "1                    seraafini90@gmail.com           2700   \n",
      "2                lilianagodoy871@gmail.com           1832   \n",
      "3  emma.n.uelpast.or.e.l.lo+8y1d@gmail.com           1824   \n",
      "4               pizarroroxana617@gmail.com           1629   \n",
      "5      tab.ordam.i.l.to.n24+mpnm@gmail.com           6230   \n",
      "6                 Cecizarate1999@gmail.com           1667   \n",
      "7                      brisat273@gmail.com           1629   \n",
      "8                zara.cazana1234@gmail.com           1716   \n",
      "9                  claureliamora@gmail.com           1828   \n",
      "\n",
      "                        localidad     provincia  obra social origen  fin  \n",
      "0                       PERGAMINO  BUENOS AIRES              126205  NaN  \n",
      "1                       PERGAMINO  BUENOS AIRES              126205  NaN  \n",
      "2                 LOMAS DE ZAMORA  BUENOS AIRES              106302  NaN  \n",
      "3                           LANUS  BUENOS AIRES              123909  NaN  \n",
      "4                           PILAR  BUENOS AIRES              103600  NaN  \n",
      "5                GENERAL VILLEGAS  BUENOS AIRES              126205  NaN  \n",
      "6  KM. 40 ,TORTUGUITAS, PTDO. PIL  BUENOS AIRES              126502  NaN  \n",
      "7                           PILAR  BUENOS AIRES              103600  NaN  \n",
      "8                        LIBERTAD  BUENOS AIRES              103600  NaN  \n",
      "9                 LOMAS DE ZAMORA  BUENOS AIRES              103600  NaN  \n"
     ]
    }
   ],
   "source": [
    "#cargar primero el excel o csv\n",
    "archivo = None\n",
    "while True:\n",
    "    archivo = funciones.seleccionar_archivo()\n",
    "    print(archivo)\n",
    "    if archivo:\n",
    "        ruta_archivo = archivo.name\n",
    "        columnas = ['Tipo','Formulario','CUIL del Titular','Apellido y Nombre','Perido de vigencia','telefono de contacto','correo electrico','codigo postal','localidad','provincia','obra social origen','fin']\n",
    "        try:\n",
    "            altas_sss = pd.read_csv(ruta_archivo, encoding='utf-8', sep='|', names=columnas)\n",
    "            #padron = pd.read_excel(ruta_archivo, engine='openpyxl')\n",
    "            print(altas_sss)\n",
    "            break\n",
    "        except UnicodeDecodeError:\n",
    "            print(\"Error de decodificación de caracteres. Intenta con otra codificación o archivo.\")\n",
    "            continue\n",
    "    else:\n",
    "        print(\"Archivo incorrecto. Por favor, vuelva a cargarlo.\")"
   ]
  },
  {
   "cell_type": "code",
   "execution_count": 38,
   "metadata": {},
   "outputs": [],
   "source": [
    "cruce_sidefi=pd.merge(padron_sidefi, altas_sss, left_on='Nro. CUIL', right_on='CUIL del Titular', how='right', indicator=True )\n",
    "cruce_sidefi=cruce_sidefi[['Nro. OS','Plan del Afiliado','Opcion','Dependencia','Localidad','Provincia','Tipo','Formulario','CUIL del Titular','Apellido y Nombre','Perido de vigencia','telefono de contacto','correo electrico','codigo postal','localidad','provincia','obra social origen','fin']]"
   ]
  },
  {
   "cell_type": "code",
   "execution_count": 40,
   "metadata": {},
   "outputs": [],
   "source": [
    "cruce_sidefi.to_excel('prueba_opcion_cambio.xlsx', engine='openpyxl', index=False)"
   ]
  }
 ],
 "metadata": {
  "kernelspec": {
   "display_name": ".venv",
   "language": "python",
   "name": "python3"
  },
  "language_info": {
   "codemirror_mode": {
    "name": "ipython",
    "version": 3
   },
   "file_extension": ".py",
   "mimetype": "text/x-python",
   "name": "python",
   "nbconvert_exporter": "python",
   "pygments_lexer": "ipython3",
   "version": "3.11.5"
  },
  "orig_nbformat": 4,
  "vscode": {
   "interpreter": {
    "hash": "1f64b729a01f235b3ec02af186f3a50c3d881136f08176a7df610cc16261a174"
   }
  }
 },
 "nbformat": 4,
 "nbformat_minor": 2
}
