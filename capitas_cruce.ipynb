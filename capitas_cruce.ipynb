{
 "cells": [
  {
   "cell_type": "code",
   "execution_count": null,
   "metadata": {},
   "outputs": [],
   "source": [
    "import pandas as pd\n",
    "import numpy as np\n",
    "import xlwt\n",
    "import xlrd\n",
    "from tkinter import filedialog\n",
    "import tkinter as tk\n",
    "import customtkinter as ctk\n",
    "from customtkinter import filedialog\n",
    "import funciones\n",
    "import re\n",
    "import openpyxl"
   ]
  },
  {
   "cell_type": "code",
   "execution_count": 9,
   "metadata": {},
   "outputs": [
    {
     "name": "stdout",
     "output_type": "stream",
     "text": [
      "<_io.TextIOWrapper name='C:/Users/zickd/Downloads/femeba (1).csv' mode='r' encoding='cp1252'>\n",
      "             cred sexo              nombre             apellido fam       dni  \\\n",
      "0     1,00268E+12    M          RUBEN OMAR                 LUGO   3  26821858   \n",
      "1     1,00377E+12    M  MAXIMILIANO LEONEL            VELAZQUEZ   3  37669287   \n",
      "2     1,00171E+12    F       Sandra Raquel               CAMPOS   3  17126682   \n",
      "3      1,0024E+12    M     ALBERTO ORLANDO              AHUMADA   3  23993145   \n",
      "4     1,00328E+12    M     LEONARDO DAMIAN              PELAYES   3  32819586   \n",
      "...           ...  ...                 ...                  ...  ..       ...   \n",
      "5035  4,03451E+11    M        ULISES ROMAN              DE LIMA   3  56417758   \n",
      "5036  4,03451E+11    M      LAUTARO ANDRES              DE LIMA   3  53982786   \n",
      "5037  4,03699E+11    M   GIANLUCA BENJAMIN                 FEGO   3  59084266   \n",
      "5038   4,0384E+11    F        MELODY SOFIA          LOPEZ FRUTO   3  59459248   \n",
      "5039  7,03235E+11    M       ENZO EZEQUIEL  RODRIGUEZ D ONOFRIO   4  57111164   \n",
      "\n",
      "       fecha_nac             local nos_se plan  sindato  sindao2  \n",
      "0     1978.09.15   VIRREY DEL PINO   1763  100        0        0  \n",
      "1     1993.02.08  FLORENCIO VARELA   1888  100        0        0  \n",
      "2     1964.04.24           MENDOZA    669  100        0        0  \n",
      "3     1974.08.09         LAS HERAS   5539  100        0        0  \n",
      "4     1986.09.12         LAS HERAS   5539  100        0        0  \n",
      "...          ...               ...    ...  ...      ...      ...  \n",
      "5035  2017.08.10  FLORENCIO VARELA   1888  100        0        0  \n",
      "5036  2014.01.09  FLORENCIO VARELA   1888  100        0        0  \n",
      "5037  2021.12.07       BERAZATEGUI   1885  100        0        0  \n",
      "5038  2022.07.18         TEMPERLEY      .  100        0        0  \n",
      "5039  2018.07.19         PERGAMINO   2700  100        0        0  \n",
      "\n",
      "[5040 rows x 12 columns]\n"
     ]
    }
   ],
   "source": [
    "#cargar primero el excel o csv\n",
    "archivo = None\n",
    "while True:\n",
    "    archivo = funciones.seleccionar_archivo()\n",
    "    print(archivo)\n",
    "    if archivo:\n",
    "        ruta_archivo = archivo.name\n",
    "        try:\n",
    "            report_sifeme = pd.read_csv(ruta_archivo, encoding='ISO-8859-1', sep=';')\n",
    "            #padron = pd.read_csv(archivo, sep=\";\", encoding=\"ISO-8859-1\")\n",
    "            print(report_sifeme)\n",
    "            break\n",
    "        except UnicodeDecodeError:\n",
    "            print(\"Error de decodificación de caracteres. Intenta con otra codificación o archivo.\")\n",
    "            continue\n",
    "    else:\n",
    "        print(\"Archivo incorrecto. Por favor, vuelva a cargarlo.\")"
   ]
  },
  {
   "cell_type": "code",
   "execution_count": 10,
   "metadata": {},
   "outputs": [
    {
     "name": "stdout",
     "output_type": "stream",
     "text": [
      "<_io.TextIOWrapper name='C:/Users/zickd/Downloads/capita_sidefijulio.xlsx' mode='r' encoding='cp1252'>\n",
      "        Afil.  Benef.              Apellido             Nombre       Cuil/DNI  \\\n",
      "0     22942.0   21101                AGUERO         Jorge Luis  20-94455219-8   \n",
      "1     22942.0   21101    +GUERRERO ESPINOLA         DORY ALICE  27-94746952-0   \n",
      "2     24634.0   24860               ALARCON      LUCAS ARMANDO  20-38257639-0   \n",
      "3     19047.0   18240                BORDON       Anibal Jorge  20-21142907-1   \n",
      "4     19047.0   18240            +VILLAFAÑE    Estela Patricia  27-27734133-1   \n",
      "...       ...     ...                   ...                ...            ...   \n",
      "5055      NaN   36237             RODRIGUEZ        TOMAS ALEJO  20-43735703-0   \n",
      "5056  28356.0   26793               SONEYRA         JORGE OMAR  20-17228097-9   \n",
      "5057      NaN   36276                 FERRE             ALICIA  27-20203434-4   \n",
      "5058      NaN   25082                BURELA  DANIELA DEL VALLE  27-39643715-0   \n",
      "5059      NaN   26205                 NEILD  CHRISTIAN MARCELO  23-25559178-9   \n",
      "\n",
      "           DNI Parentesco(Edad)  FechaNacimiento Sexo EstadoCivil  ...  \\\n",
      "0     94455219     Titular (39)            30795    M   Soltero/a  ...   \n",
      "1     94746952  Concubino/a(55)            24777    F   Soltero/a  ...   \n",
      "2     38257639     Titular (29)            34428    M   Soltero/a  ...   \n",
      "3     21142907     Titular (53)            25555    M    Casado/a  ...   \n",
      "4     27734133     Esposo/a(53)            25686    F    Casado/a  ...   \n",
      "...        ...              ...              ...  ...         ...  ...   \n",
      "5055  43735703     Titular (33)            32874    M   Soltero/a  ...   \n",
      "5056  17228097     Titular (58)            23740    M   Soltero/a  ...   \n",
      "5057  20203434     Titular (32)            33239    F   Soltero/a  ...   \n",
      "5058  39643715     Titular (27)            35224    F   Soltero/a  ...   \n",
      "5059  25559178     Titular (34)            32439    M   Soltero/a  ...   \n",
      "\n",
      "                   Sede     Provincia             Localidad  Tel_prefijo  \\\n",
      "0      BsAs - San Justo  BUENOS AIRES       CAPITAL FEDERAL          0.0   \n",
      "1      BsAs - San Justo  BUENOS AIRES       CAPITAL FEDERAL          0.0   \n",
      "2      BsAs - San Justo  BUENOS AIRES  SAN FRANCISCO SOLANO          NaN   \n",
      "3      BsAs - San Justo  BUENOS AIRES                 MERLO         -1.0   \n",
      "4      BsAs - San Justo  BUENOS AIRES                 MERLO         -1.0   \n",
      "...                 ...           ...                   ...          ...   \n",
      "5055   BsAs - San Justo  BUENOS AIRES               CASEROS          NaN   \n",
      "5056   BsAs - San Justo  BUENOS AIRES               CASEROS          NaN   \n",
      "5057       BsAs - Chile  BUENOS AIRES       CAPITAL FEDERAL          NaN   \n",
      "5058  BsAs - San Martin  BUENOS AIRES                 MUNRO          NaN   \n",
      "5059  BsAs - San Martin  BUENOS AIRES                 MUNRO          NaN   \n",
      "\n",
      "                Tel_numero Cel_prefijo    Cel_numero  \\\n",
      "0     1126767712 concubina         NaN    1165662960   \n",
      "1     1126767712 concubina         NaN    1165662960   \n",
      "2                 42126327         NaN    1169319346   \n",
      "3               2204864756         NaN    1166791358   \n",
      "4               2204864756         NaN    1166791358   \n",
      "...                    ...         ...           ...   \n",
      "5055                   NaN         NaN           NaN   \n",
      "5056                   NaN         NaN    1174837129   \n",
      "5057                   NaN         NaN           NaN   \n",
      "5058                   NaN         NaN    1521178787   \n",
      "5059                   NaN         NaN  11-3251-5138   \n",
      "\n",
      "                           Email                Condicion  Padron Afiliados  \n",
      "0        luisaguero344@gmail.com  Relacion de dependencia   OS - Sede Todas  \n",
      "1                                 Relacion de dependencia   OS - Sede Todas  \n",
      "2     luca1994alarcon@gamail.com  Relacion de dependencia   OS - Sede Todas  \n",
      "3     anibalbordon_7@hotmail.com  Relacion de dependencia   OS - Sede Todas  \n",
      "4                                 Relacion de dependencia   OS - Sede Todas  \n",
      "...                          ...                      ...               ...  \n",
      "5055                         NaN  Relacion de dependencia   OS - Sede Todas  \n",
      "5056                         NaN  Relacion de dependencia   OS - Sede Todas  \n",
      "5057                         NaN  Relacion de dependencia   OS - Sede Todas  \n",
      "5058  ladanielitha--@hotmail.com  Relacion de dependencia   OS - Sede Todas  \n",
      "5059                         NaN  Relacion de dependencia   OS - Sede Todas  \n",
      "\n",
      "[5060 rows x 30 columns]\n"
     ]
    }
   ],
   "source": [
    "#cargar primero el excel o csv\n",
    "archivo = None\n",
    "while True:\n",
    "    archivo = funciones.seleccionar_archivo()\n",
    "    print(archivo)\n",
    "    if archivo:\n",
    "        ruta_archivo = archivo.name\n",
    "        try:\n",
    "            #capita_sidefi = pd.read_csv(ruta_archivo, encoding='ISO-8859-1', sep=';')\n",
    "            padron = pd.read_excel(ruta_archivo, engine='openpyxl')\n",
    "            print(padron)\n",
    "            break\n",
    "        except UnicodeDecodeError:\n",
    "            print(\"Error de decodificación de caracteres. Intenta con otra codificación o archivo.\")\n",
    "            continue\n",
    "    else:\n",
    "        print(\"Archivo incorrecto. Por favor, vuelva a cargarlo.\")"
   ]
  },
  {
   "cell_type": "code",
   "execution_count": 11,
   "metadata": {},
   "outputs": [],
   "source": [
    "cruce_sidefi=pd.merge(report_sifeme, padron, left_on='dni', right_on='DNI', how='left', indicator=True )"
   ]
  },
  {
   "cell_type": "code",
   "execution_count": 13,
   "metadata": {},
   "outputs": [],
   "source": [
    "cruce_sidefi.to_excel('crucejulio.xlsx', engine='openpyxl', index=False)"
   ]
  }
 ],
 "metadata": {
  "kernelspec": {
   "display_name": ".venv",
   "language": "python",
   "name": "python3"
  },
  "language_info": {
   "codemirror_mode": {
    "name": "ipython",
    "version": 3
   },
   "file_extension": ".py",
   "mimetype": "text/x-python",
   "name": "python",
   "nbconvert_exporter": "python",
   "pygments_lexer": "ipython3",
   "version": "3.11.4"
  },
  "orig_nbformat": 4,
  "vscode": {
   "interpreter": {
    "hash": "1f64b729a01f235b3ec02af186f3a50c3d881136f08176a7df610cc16261a174"
   }
  }
 },
 "nbformat": 4,
 "nbformat_minor": 2
}
