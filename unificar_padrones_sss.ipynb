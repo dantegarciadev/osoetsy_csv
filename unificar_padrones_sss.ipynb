{
 "cells": [
  {
   "cell_type": "code",
   "execution_count": 27,
   "metadata": {},
   "outputs": [],
   "source": [
    "import pandas as pd\n",
    "import numpy as np\n",
    "import datetime as dt\n",
    "import tkinter as tk\n",
    "import customtkinter as ctk\n",
    "import funciones"
   ]
  },
  {
   "cell_type": "markdown",
   "metadata": {},
   "source": [
    "### subir y formatear los txt de la sss"
   ]
  },
  {
   "cell_type": "code",
   "execution_count": null,
   "metadata": {},
   "outputs": [],
   "source": [
    "archivo = None\n",
    "while True:\n",
    "    archivo = funciones.seleccionar_archivo()\n",
    "    print(archivo)\n",
    "    if archivo:\n",
    "        ruta_archivo = archivo.name\n",
    "        columnas = ['Código de Obra Social','CUIT del empleador','CUIL del Titular','Código de Parentesco','Cuil','Tipo Documento',\t'Número Documento',\t'Apellido y Nombre','Sexo',\t'Estado Civil','Fecha de Nacimiento',\n",
    "                    'Nacionalidad',\t'Calle','Número de puerta',\t'Piso',\t'Departamento',\t'Localidad','Código Postal','Provincia','Tipo de Domicilio','Teléfono',\t'Situación revista','Incapacidad','Tipo de beneficiario titular','Fecha de alta en la Obra Social',\n",
    "                    'Fecha de cierre de la presentación','Código de Movimiento']\n",
    "        try:\n",
    "            txt_a = pd.read_csv(ruta_archivo, sep = '|', encoding=  'ISO-8859-1', names = columnas)\n",
    "            print(txt_a)\n",
    "            break\n",
    "        except UnicodeDecodeError:\n",
    "            print(\"Error de decodificación de caracteres. Intenta con otra codificación o archivo.\")\n",
    "            continue\n",
    "    else:\n",
    "        print(\"archivo incorrecto por favor vuelva a cargarlo.\")"
   ]
  },
  {
   "cell_type": "markdown",
   "metadata": {},
   "source": [
    "#### cargar 2do padron sss"
   ]
  },
  {
   "cell_type": "code",
   "execution_count": null,
   "metadata": {},
   "outputs": [],
   "source": [
    "archivo = None\n",
    "while True:\n",
    "    archivo = funciones.seleccionar_archivo()\n",
    "    print(archivo)\n",
    "    if archivo:\n",
    "        ruta_archivo = archivo.name\n",
    "        columnas = ['Código de Obra Social','CUIT del empleador','CUIL del Titular','Código de Parentesco','Cuil','Tipo Documento',\t'Número Documento',\t'Apellido y Nombre','Sexo',\t'Estado Civil','Fecha de Nacimiento',\n",
    "                    'Nacionalidad',\t'Calle','Número de puerta',\t'Piso',\t'Departamento',\t'Localidad','Código Postal','Provincia','Tipo de Domicilio','Teléfono',\t'Situación revista','Incapacidad','Tipo de beneficiario titular','Fecha de alta en la Obra Social', 'Fecha de cierre de la presentación','Código de Movimiento']\n",
    "        try:\n",
    "            txt_b = pd.read_csv(ruta_archivo, sep = '|', encoding=  'ISO-8859-1', names = columnas)\n",
    "            print(txt_b)\n",
    "            break\n",
    "        except UnicodeDecodeError:\n",
    "            print(\"Error de decodificación de caracteres. Intenta con otra codificación o archivo.\")\n",
    "            continue\n",
    "    else:\n",
    "        print(\"archivo incorrecto por favor vuelva a cargarlo.\")"
   ]
  },
  {
   "cell_type": "code",
   "execution_count": null,
   "metadata": {},
   "outputs": [],
   "source": [
    "print(txt_a.info())"
   ]
  },
  {
   "cell_type": "markdown",
   "metadata": {},
   "source": [
    "####  Unificar los padrones"
   ]
  },
  {
   "cell_type": "code",
   "execution_count": 25,
   "metadata": {},
   "outputs": [],
   "source": [
    "txt_right = pd.merge(txt_b, txt_a, left_on= 'Número Documento', right_on= 'Número Documento', how= 'left', indicator= True)\n",
    "txt_pasado = txt_right[txt_right['_merge'] == 'left_only']\n",
    "#txt_pasado = txt_pasado[txt_pasado['_merge'] == 'righ_only']\n",
    "txt_pasado = txt_pasado.iloc[:, :27]\n",
    "#txt_pasado.drop(0, axis=0, inplace= True)\n",
    "\n",
    "path = funciones.seleccionar_directorio()\n",
    "txt_pasado.to_csv(path + '/txt_final.txt', index= False, sep = '|')"
   ]
  },
  {
   "cell_type": "code",
   "execution_count": null,
   "metadata": {},
   "outputs": [],
   "source": [
    "print(txt_pasado)"
   ]
  }
 ],
 "metadata": {
  "kernelspec": {
   "display_name": ".venv",
   "language": "python",
   "name": "python3"
  },
  "language_info": {
   "codemirror_mode": {
    "name": "ipython",
    "version": 3
   },
   "file_extension": ".py",
   "mimetype": "text/x-python",
   "name": "python",
   "nbconvert_exporter": "python",
   "pygments_lexer": "ipython3",
   "version": "3.11.8"
  }
 },
 "nbformat": 4,
 "nbformat_minor": 2
}
