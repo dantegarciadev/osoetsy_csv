{
 "cells": [
  {
   "cell_type": "code",
   "execution_count": 23,
   "metadata": {},
   "outputs": [],
   "source": [
    "import pandas as pd\n",
    "import numpy as np\n",
    "import xlwt\n",
    "import xlrd\n",
    "from tkinter import filedialog\n",
    "import tkinter as tk\n",
    "import customtkinter as ctk\n",
    "from customtkinter import filedialog\n",
    "import funciones"
   ]
  },
  {
   "cell_type": "code",
   "execution_count": 24,
   "metadata": {},
   "outputs": [],
   "source": [
    "#cargar primero el excel o csv\n",
    "archivo = None\n",
    "while True:\n",
    "    archivo = funciones.seleccionar_archivo()\n",
    "    print(archivo)\n",
    "    if archivo:\n",
    "        ruta_archivo = archivo.name\n",
    "        try:\n",
    "            farmacia = pd.read_excel(ruta_archivo, engine='openpyxl')\n",
    "            #padron = pd.read_csv(archivo, sep=\";\", encoding=\"ISO-8859-1\")\n",
    "            print(farmacia)\n",
    "            break\n",
    "        except UnicodeDecodeError:\n",
    "            print(\"Error de decodificación de caracteres. Intenta con otra codificación o archivo.\")\n",
    "            continue\n",
    "    else:\n",
    "        print(\"Archivo incorrecto. Por favor, vuelva a cargarlo.\")\n"
   ]
  },
  {
   "attachments": {},
   "cell_type": "markdown",
   "metadata": {},
   "source": [
    "#### cargar el txt  de la sss"
   ]
  },
  {
   "cell_type": "code",
   "execution_count": 18,
   "metadata": {},
   "outputs": [
    {
     "name": "stdout",
     "output_type": "stream",
     "text": [
      "<_io.TextIOWrapper name='C:/Users/zickd/OneDrive/Escritorio/CARTILLAS MONOTRIBUTISTAS/PADRON TOTAL.csv' mode='r' encoding='cp1252'>\n",
      "       Nro. OS      Plan del Afiliado Opcion  Nro. Grupo Familiar  \\\n",
      "0            6               Afiliado     SI             30694069   \n",
      "1           10            Desregulado     SI             31403090   \n",
      "2            1  Monotributista social     NO             36821087   \n",
      "3           10            Desregulado     SI             31015657   \n",
      "4            1               Afiliado     NO             35995281   \n",
      "...        ...                    ...    ...                  ...   \n",
      "15633        4            Desregulado     SI             21601831   \n",
      "15634        4            Desregulado     SI             21601831   \n",
      "15635        4            Desregulado     SI             21601831   \n",
      "15636        4            Desregulado     SI             21601831   \n",
      "15637        1               Afiliado     SI             36602782   \n",
      "\n",
      "         Nro. Afiliado Parentesco con el TITULAR Apellido Afiliado  \\\n",
      "0      010-30694069-00                   TITULAR             ABADI   \n",
      "1      040-31403090-00                   TITULAR           ABALLAY   \n",
      "2      030-36821087-00                   TITULAR           ABALLAY   \n",
      "3      010-31015657-00                   TITULAR            ABALOS   \n",
      "4      010-35995281-00                   TITULAR             ABATE   \n",
      "...                ...                       ...               ...   \n",
      "15633  030-21601831-04                    Hijo/a            MORTON   \n",
      "15634  030-21601831-05                    Hijo/a          SAFFORES   \n",
      "15635  030-21601831-06                    Hijo/a            MORTON   \n",
      "15636  030-21601831-07                    Hijo/a            MORTON   \n",
      "15637  010-36602782-00                   TITULAR         ZWIERCZYK   \n",
      "\n",
      "              Nombre Afiliado                Tipo Documento  Nro. Documento  \\\n",
      "0                  PEDRO RAUL  Documento Nacional Identidad        30694069   \n",
      "1          VERONICA ALEJANDRA  Documento Nacional Identidad        31403090   \n",
      "2      VICTORIA DULCE DANIELA  Documento Nacional Identidad        36821087   \n",
      "3             CLAUDIO ALBERTO  Documento Nacional Identidad        31015657   \n",
      "4                GISELA NOELI  Documento Nacional Identidad        35995281   \n",
      "...                       ...                           ...             ...   \n",
      "15633        ANTHONY VALENTIN  Documento Nacional Identidad        54403271   \n",
      "15634          MICAELA XIMENA  Documento Nacional Identidad        48231861   \n",
      "15635         NAIARA CONTANZA  Documento Nacional Identidad        52668909   \n",
      "15636          ISABELLA ANAHI  Documento Nacional Identidad        56631137   \n",
      "15637           HECTOR DAMIAN  Documento Nacional Identidad        36602782   \n",
      "\n",
      "       ... Nro. Puerta Piso Departamento Barrio         Localidad  \\\n",
      "0      ...        4045  NaN          NaN    NaN             MERLO   \n",
      "1      ...           1  NaN          NaN    NaN  FLORENCIO VARELA   \n",
      "2      ...        1520  NaN          NaN    NaN   VIRREY DEL PINO   \n",
      "3      ...           0  NaN          NaN    NaN   CAPITAL FEDERAL   \n",
      "4      ...        2083  1.0            3    NaN          DOCK SUD   \n",
      "...    ...         ...  ...          ...    ...               ...   \n",
      "15633  ...        5523  NaN          NaN    NaN   ISIDRO CASANOVA   \n",
      "15634  ...        5523  NaN          NaN    NaN   ISIDRO CASANOVA   \n",
      "15635  ...        5523  NaN          NaN    NaN   ISIDRO CASANOVA   \n",
      "15636  ...        5523  NaN          NaN    NaN   ISIDRO CASANOVA   \n",
      "15637  ...        3057  NaN          NaN    NaN  FLORENCIO VARELA   \n",
      "\n",
      "          Provincia  Codigo Postal         Telefono        Celular  \\\n",
      "0      BUENOS AIRES           1722                    11 5937-8276   \n",
      "1      BUENOS AIRES           1888       1133164359                  \n",
      "2      BUENOS AIRES           1763  11 11 3818-6283                  \n",
      "3      BUENOS AIRES            NaN                                   \n",
      "4      BUENOS AIRES           1871                      1132674912   \n",
      "...             ...            ...              ...            ...   \n",
      "15633  BUENOS AIRES            NaN              NaN            NaN   \n",
      "15634  BUENOS AIRES            NaN              NaN            NaN   \n",
      "15635  BUENOS AIRES            NaN              NaN            NaN   \n",
      "15636  BUENOS AIRES            NaN              NaN            NaN   \n",
      "15637  BUENOS AIRES           1888     11 4221-4317  11 1552280736   \n",
      "\n",
      "                         Email  \n",
      "0      pedro_abadi@hotmail.com  \n",
      "1                          NaN  \n",
      "2                          NaN  \n",
      "3                          NaN  \n",
      "4          gisetobi@gmail.com   \n",
      "...                        ...  \n",
      "15633                      NaN  \n",
      "15634                      NaN  \n",
      "15635                      NaN  \n",
      "15636                      NaN  \n",
      "15637                      NaN  \n",
      "\n",
      "[15638 rows x 34 columns]\n"
     ]
    }
   ],
   "source": [
    "#cargar primero el excel o csv\n",
    "archivo = None\n",
    "while True:\n",
    "    archivo = funciones.seleccionar_archivo()\n",
    "    print(archivo)\n",
    "    if archivo:\n",
    "        ruta_archivo = archivo.name\n",
    "        try:\n",
    "            #padron = pd.read_excel(ruta_archivo, engine='openpyxl')\n",
    "            padron = pd.read_csv(archivo, sep=\";\", encoding=\"ISO-8859-1\")\n",
    "            print(padron)\n",
    "            break\n",
    "        except UnicodeDecodeError:\n",
    "            print(\"Error de decodificación de caracteres. Intenta con otra codificación o archivo.\")\n",
    "            continue\n",
    "    else:\n",
    "        print(\"Archivo incorrecto. Por favor, vuelva a cargarlo.\")\n"
   ]
  },
  {
   "attachments": {},
   "cell_type": "markdown",
   "metadata": {},
   "source": [
    "#### diccionario de errores"
   ]
  },
  {
   "cell_type": "code",
   "execution_count": 19,
   "metadata": {},
   "outputs": [],
   "source": [
    "obraSocial = {\n",
    "1:\"osoetsylra\",\n",
    "2:\"otros\",\n",
    "3:\"visitar\",\n",
    "4:\"SD\",\n",
    "5:\"tis\",\n",
    "6:\"gerensal\",\n",
    "7:\"evp\",\n",
    "10:\"meplife\"\n",
    "}"
   ]
  },
  {
   "attachments": {},
   "cell_type": "markdown",
   "metadata": {},
   "source": [
    "#### joinear los 2 dataframes"
   ]
  },
  {
   "cell_type": "code",
   "execution_count": 21,
   "metadata": {},
   "outputs": [],
   "source": [
    "resultado = pd.merge(farmacia, padron, left_on = 'DNI', right_on = 'Nro. Documento', how=\"left\")\n",
    "resultado[\"Nro. OS\"] = resultado[\"Nro. OS\"] .replace(obraSocial)"
   ]
  },
  {
   "cell_type": "code",
   "execution_count": 22,
   "metadata": {},
   "outputs": [],
   "source": [
    "save_path = filedialog.askdirectory()\n",
    "resultado.iloc[:, [0,\n",
    "1,\n",
    "2,\n",
    "3,\n",
    "4,\n",
    "5,\n",
    "6,\n",
    "7,\n",
    "8,\n",
    "9,\n",
    "10,\n",
    "11,\n",
    "12,\n",
    "13,\n",
    "14,\n",
    "15,\n",
    "16,\n",
    "17,\n",
    "18,\n",
    "19,\n",
    "20,\n",
    "21,\n",
    "22,\n",
    "23,\n",
    "24,\n",
    "25,\n",
    "26,\n",
    "27,\n",
    "28,\n",
    "29,\n",
    "30,\n",
    "31,\n",
    "32,\n",
    "33,\n",
    "34,\n",
    "35,\n",
    "36,\n",
    "46,\n",
    "37,38,42,43,44,65,66\n",
    "]].to_excel(save_path + '\\cruceConsumoCompFarmaceutica.xlsx', engine='openpyxl' ,index = False )"
   ]
  },
  {
   "cell_type": "code",
   "execution_count": 16,
   "metadata": {},
   "outputs": [
    {
     "data": {
      "text/plain": [
       "COD INT REC               int64\n",
       "COD                       int64\n",
       "PERIODO          datetime64[ns]\n",
       "REG AB                  float64\n",
       "CLAVE CSF                 int64\n",
       "                      ...      \n",
       "Provincia                object\n",
       "Codigo Postal            object\n",
       "Telefono                 object\n",
       "Celular                  object\n",
       "Email                    object\n",
       "Length: 71, dtype: object"
      ]
     },
     "execution_count": 16,
     "metadata": {},
     "output_type": "execute_result"
    }
   ],
   "source": [
    "resultado.dtypes"
   ]
  }
 ],
 "metadata": {
  "kernelspec": {
   "display_name": ".venv",
   "language": "python",
   "name": "python3"
  },
  "language_info": {
   "codemirror_mode": {
    "name": "ipython",
    "version": 3
   },
   "file_extension": ".py",
   "mimetype": "text/x-python",
   "name": "python",
   "nbconvert_exporter": "python",
   "pygments_lexer": "ipython3",
   "version": "3.11.2"
  },
  "orig_nbformat": 4,
  "vscode": {
   "interpreter": {
    "hash": "1f64b729a01f235b3ec02af186f3a50c3d881136f08176a7df610cc16261a174"
   }
  }
 },
 "nbformat": 4,
 "nbformat_minor": 2
}
