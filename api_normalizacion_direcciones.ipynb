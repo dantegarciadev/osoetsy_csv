{
 "cells": [
  {
   "cell_type": "code",
   "execution_count": null,
   "metadata": {},
   "outputs": [],
   "source": [
    "\n",
    "import requests\n",
    "import urllib\n",
    "from urllib.parse import urlencode\n",
    "API_BASE_URL = \"https://apis.datos.gob.ar/georef/api/\"\n",
    "\n",
    "def get_similar(endpoint, direccion, **kwargs):\n",
    "    kwargs[\"direccion\"] = direccion\n",
    "    url = \"{}{}?{}\".format(API_BASE_URL, endpoint, urllib.parse.urlencode(kwargs))\n",
    "    return requests.get(url).json()[endpoint]\n",
    "\n",
    "provincias = get_similar(\"direcciones\",\"Urquiza 400\")\n",
    "print(provincias)\n",
    "\n",
    "\n",
    "print(provincias)"
   ]
  },
  {
   "cell_type": "code",
   "execution_count": null,
   "metadata": {},
   "outputs": [],
   "source": []
  }
 ],
 "metadata": {
  "kernelspec": {
   "display_name": ".venv",
   "language": "python",
   "name": "python3"
  },
  "language_info": {
   "codemirror_mode": {
    "name": "ipython",
    "version": 3
   },
   "file_extension": ".py",
   "mimetype": "text/x-python",
   "name": "python",
   "nbconvert_exporter": "python",
   "pygments_lexer": "ipython3",
   "version": "3.11.8"
  }
 },
 "nbformat": 4,
 "nbformat_minor": 2
}
