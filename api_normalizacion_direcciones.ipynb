{
 "cells": [
  {
   "cell_type": "code",
   "execution_count": 26,
   "metadata": {},
   "outputs": [
    {
     "name": "stdout",
     "output_type": "stream",
     "text": [
      "[{'altura': {'unidad': None, 'valor': 400}, 'calle': {'categoria': 'CALLE', 'id': '4215401000240', 'nombre': 'URQUIZA'}, 'calle_cruce_1': {'categoria': None, 'id': None, 'nombre': None}, 'calle_cruce_2': {'categoria': None, 'id': None, 'nombre': None}, 'departamento': {'id': '42154', 'nombre': 'Utracán'}, 'localidad_censal': {'id': '42154010', 'nombre': 'Ataliva Roca'}, 'nomenclatura': 'URQUIZA 400, Utracán, La Pampa', 'piso': None, 'provincia': {'id': '42', 'nombre': 'La Pampa'}, 'ubicacion': {'lat': -37.02130573233897, 'lon': -64.2789679329652}}, {'altura': {'unidad': None, 'valor': 400}, 'calle': {'categoria': 'CALLE', 'id': '8204222000745', 'nombre': 'URQUIZA'}, 'calle_cruce_1': {'categoria': None, 'id': None, 'nombre': None}, 'calle_cruce_2': {'categoria': None, 'id': None, 'nombre': None}, 'departamento': {'id': '82042', 'nombre': 'General López'}, 'localidad_censal': {'id': '82042220', 'nombre': 'Rufino'}, 'nomenclatura': 'URQUIZA 400, General López, Santa Fe', 'piso': None, 'provincia': {'id': '82', 'nombre': 'Santa Fe'}, 'ubicacion': {'lat': -34.252462883463515, 'lon': -62.72175746958591}}, {'altura': {'unidad': None, 'valor': 400}, 'calle': {'categoria': 'CALLE', 'id': '4212601000155', 'nombre': 'URQUIZA'}, 'calle_cruce_1': {'categoria': None, 'id': None, 'nombre': None}, 'calle_cruce_2': {'categoria': None, 'id': None, 'nombre': None}, 'departamento': {'id': '42126', 'nombre': 'Rancul'}, 'localidad_censal': {'id': '42126010', 'nombre': 'Caleufú'}, 'nomenclatura': 'URQUIZA 400, Rancul, La Pampa', 'piso': None, 'provincia': {'id': '42', 'nombre': 'La Pampa'}, 'ubicacion': {'lat': -35.5961869392696, 'lon': -64.5535347877389}}, {'altura': {'unidad': None, 'valor': 400}, 'calle': {'categoria': 'CALLE', 'id': '4207001000205', 'nombre': 'URQUIZA'}, 'calle_cruce_1': {'categoria': None, 'id': None, 'nombre': None}, 'calle_cruce_2': {'categoria': None, 'id': None, 'nombre': None}, 'departamento': {'id': '42070', 'nombre': 'Guatraché'}, 'localidad_censal': {'id': '42070010', 'nombre': 'Alpachiri'}, 'nomenclatura': 'URQUIZA 400, Guatraché, La Pampa', 'piso': None, 'provincia': {'id': '42', 'nombre': 'La Pampa'}, 'ubicacion': {'lat': -37.3764801042308, 'lon': -63.7726700636715}}, {'altura': {'unidad': None, 'valor': 400}, 'calle': {'categoria': 'CALLE', 'id': '8208415000360', 'nombre': 'URQUIZA'}, 'calle_cruce_1': {'categoria': None, 'id': None, 'nombre': None}, 'calle_cruce_2': {'categoria': None, 'id': None, 'nombre': None}, 'departamento': {'id': '82084', 'nombre': 'Rosario'}, 'localidad_censal': {'id': '82084150', 'nombre': 'General Lagos'}, 'nomenclatura': 'URQUIZA 400, Rosario, Santa Fe', 'piso': None, 'provincia': {'id': '82', 'nombre': 'Santa Fe'}, 'ubicacion': {'lat': -33.1082471123615, 'lon': -60.5538757763242}}, {'altura': {'unidad': None, 'valor': 400}, 'calle': {'categoria': 'CALLE', 'id': '1802801000280', 'nombre': 'URQUIZA'}, 'calle_cruce_1': {'categoria': None, 'id': None, 'nombre': None}, 'calle_cruce_2': {'categoria': None, 'id': None, 'nombre': None}, 'departamento': {'id': '18028', 'nombre': 'Concepción'}, 'localidad_censal': {'id': '18028010', 'nombre': 'Concepción del Yaguareté Corá'}, 'nomenclatura': 'URQUIZA 400, Concepción, Corrientes', 'piso': None, 'provincia': {'id': '18', 'nombre': 'Corrientes'}, 'ubicacion': {'lat': -28.3913051450794, 'lon': -57.8925943376615}}, {'altura': {'unidad': None, 'valor': 400}, 'calle': {'categoria': 'CALLE', 'id': '8204225000200', 'nombre': 'URQUIZA'}, 'calle_cruce_1': {'categoria': None, 'id': None, 'nombre': None}, 'calle_cruce_2': {'categoria': None, 'id': None, 'nombre': None}, 'departamento': {'id': '82042', 'nombre': 'General López'}, 'localidad_censal': {'id': '82042250', 'nombre': 'San Gregorio'}, 'nomenclatura': 'URQUIZA 400, General López, Santa Fe', 'piso': None, 'provincia': {'id': '82', 'nombre': 'Santa Fe'}, 'ubicacion': {'lat': -34.3268837435611, 'lon': -62.030651386257}}, {'altura': {'unidad': None, 'valor': 400}, 'calle': {'categoria': 'CALLE', 'id': '8212614000555', 'nombre': 'URQUIZA'}, 'calle_cruce_1': {'categoria': None, 'id': None, 'nombre': None}, 'calle_cruce_2': {'categoria': None, 'id': None, 'nombre': None}, 'departamento': {'id': '82126', 'nombre': 'San Martín'}, 'localidad_censal': {'id': '82126140', 'nombre': 'San Jorge'}, 'nomenclatura': 'URQUIZA 400, San Martín, Santa Fe', 'piso': None, 'provincia': {'id': '82', 'nombre': 'Santa Fe'}, 'ubicacion': {'lat': -31.9044262128039, 'lon': -61.8583717031234}}, {'altura': {'unidad': None, 'valor': 400}, 'calle': {'categoria': 'CALLE', 'id': '3803508001480', 'nombre': 'URQUIZA'}, 'calle_cruce_1': {'categoria': None, 'id': None, 'nombre': None}, 'calle_cruce_2': {'categoria': None, 'id': None, 'nombre': None}, 'departamento': {'id': '38035', 'nombre': 'Ledesma'}, 'localidad_censal': {'id': '38035080', 'nombre': 'Libertador General San Martín'}, 'nomenclatura': 'URQUIZA 400, Ledesma, Jujuy', 'piso': None, 'provincia': {'id': '38', 'nombre': 'Jujuy'}, 'ubicacion': {'lat': -23.817024721070787, 'lon': -64.79017658007984}}, {'altura': {'unidad': None, 'valor': 400}, 'calle': {'categoria': 'CALLE', 'id': '8202818000065', 'nombre': 'URQUIZA'}, 'calle_cruce_1': {'categoria': None, 'id': None, 'nombre': None}, 'calle_cruce_2': {'categoria': None, 'id': None, 'nombre': None}, 'departamento': {'id': '82028', 'nombre': 'Constitución'}, 'localidad_censal': {'id': '82028180', 'nombre': 'Rueda'}, 'nomenclatura': 'URQUIZA 400, Constitución, Santa Fe', 'piso': None, 'provincia': {'id': '82', 'nombre': 'Santa Fe'}, 'ubicacion': {'lat': -33.3355211094278, 'lon': -60.4634509899453}}]\n",
      "[{'altura': {'unidad': None, 'valor': 400}, 'calle': {'categoria': 'CALLE', 'id': '4215401000240', 'nombre': 'URQUIZA'}, 'calle_cruce_1': {'categoria': None, 'id': None, 'nombre': None}, 'calle_cruce_2': {'categoria': None, 'id': None, 'nombre': None}, 'departamento': {'id': '42154', 'nombre': 'Utracán'}, 'localidad_censal': {'id': '42154010', 'nombre': 'Ataliva Roca'}, 'nomenclatura': 'URQUIZA 400, Utracán, La Pampa', 'piso': None, 'provincia': {'id': '42', 'nombre': 'La Pampa'}, 'ubicacion': {'lat': -37.02130573233897, 'lon': -64.2789679329652}}, {'altura': {'unidad': None, 'valor': 400}, 'calle': {'categoria': 'CALLE', 'id': '8204222000745', 'nombre': 'URQUIZA'}, 'calle_cruce_1': {'categoria': None, 'id': None, 'nombre': None}, 'calle_cruce_2': {'categoria': None, 'id': None, 'nombre': None}, 'departamento': {'id': '82042', 'nombre': 'General López'}, 'localidad_censal': {'id': '82042220', 'nombre': 'Rufino'}, 'nomenclatura': 'URQUIZA 400, General López, Santa Fe', 'piso': None, 'provincia': {'id': '82', 'nombre': 'Santa Fe'}, 'ubicacion': {'lat': -34.252462883463515, 'lon': -62.72175746958591}}, {'altura': {'unidad': None, 'valor': 400}, 'calle': {'categoria': 'CALLE', 'id': '4212601000155', 'nombre': 'URQUIZA'}, 'calle_cruce_1': {'categoria': None, 'id': None, 'nombre': None}, 'calle_cruce_2': {'categoria': None, 'id': None, 'nombre': None}, 'departamento': {'id': '42126', 'nombre': 'Rancul'}, 'localidad_censal': {'id': '42126010', 'nombre': 'Caleufú'}, 'nomenclatura': 'URQUIZA 400, Rancul, La Pampa', 'piso': None, 'provincia': {'id': '42', 'nombre': 'La Pampa'}, 'ubicacion': {'lat': -35.5961869392696, 'lon': -64.5535347877389}}, {'altura': {'unidad': None, 'valor': 400}, 'calle': {'categoria': 'CALLE', 'id': '4207001000205', 'nombre': 'URQUIZA'}, 'calle_cruce_1': {'categoria': None, 'id': None, 'nombre': None}, 'calle_cruce_2': {'categoria': None, 'id': None, 'nombre': None}, 'departamento': {'id': '42070', 'nombre': 'Guatraché'}, 'localidad_censal': {'id': '42070010', 'nombre': 'Alpachiri'}, 'nomenclatura': 'URQUIZA 400, Guatraché, La Pampa', 'piso': None, 'provincia': {'id': '42', 'nombre': 'La Pampa'}, 'ubicacion': {'lat': -37.3764801042308, 'lon': -63.7726700636715}}, {'altura': {'unidad': None, 'valor': 400}, 'calle': {'categoria': 'CALLE', 'id': '8208415000360', 'nombre': 'URQUIZA'}, 'calle_cruce_1': {'categoria': None, 'id': None, 'nombre': None}, 'calle_cruce_2': {'categoria': None, 'id': None, 'nombre': None}, 'departamento': {'id': '82084', 'nombre': 'Rosario'}, 'localidad_censal': {'id': '82084150', 'nombre': 'General Lagos'}, 'nomenclatura': 'URQUIZA 400, Rosario, Santa Fe', 'piso': None, 'provincia': {'id': '82', 'nombre': 'Santa Fe'}, 'ubicacion': {'lat': -33.1082471123615, 'lon': -60.5538757763242}}, {'altura': {'unidad': None, 'valor': 400}, 'calle': {'categoria': 'CALLE', 'id': '1802801000280', 'nombre': 'URQUIZA'}, 'calle_cruce_1': {'categoria': None, 'id': None, 'nombre': None}, 'calle_cruce_2': {'categoria': None, 'id': None, 'nombre': None}, 'departamento': {'id': '18028', 'nombre': 'Concepción'}, 'localidad_censal': {'id': '18028010', 'nombre': 'Concepción del Yaguareté Corá'}, 'nomenclatura': 'URQUIZA 400, Concepción, Corrientes', 'piso': None, 'provincia': {'id': '18', 'nombre': 'Corrientes'}, 'ubicacion': {'lat': -28.3913051450794, 'lon': -57.8925943376615}}, {'altura': {'unidad': None, 'valor': 400}, 'calle': {'categoria': 'CALLE', 'id': '8204225000200', 'nombre': 'URQUIZA'}, 'calle_cruce_1': {'categoria': None, 'id': None, 'nombre': None}, 'calle_cruce_2': {'categoria': None, 'id': None, 'nombre': None}, 'departamento': {'id': '82042', 'nombre': 'General López'}, 'localidad_censal': {'id': '82042250', 'nombre': 'San Gregorio'}, 'nomenclatura': 'URQUIZA 400, General López, Santa Fe', 'piso': None, 'provincia': {'id': '82', 'nombre': 'Santa Fe'}, 'ubicacion': {'lat': -34.3268837435611, 'lon': -62.030651386257}}, {'altura': {'unidad': None, 'valor': 400}, 'calle': {'categoria': 'CALLE', 'id': '8212614000555', 'nombre': 'URQUIZA'}, 'calle_cruce_1': {'categoria': None, 'id': None, 'nombre': None}, 'calle_cruce_2': {'categoria': None, 'id': None, 'nombre': None}, 'departamento': {'id': '82126', 'nombre': 'San Martín'}, 'localidad_censal': {'id': '82126140', 'nombre': 'San Jorge'}, 'nomenclatura': 'URQUIZA 400, San Martín, Santa Fe', 'piso': None, 'provincia': {'id': '82', 'nombre': 'Santa Fe'}, 'ubicacion': {'lat': -31.9044262128039, 'lon': -61.8583717031234}}, {'altura': {'unidad': None, 'valor': 400}, 'calle': {'categoria': 'CALLE', 'id': '3803508001480', 'nombre': 'URQUIZA'}, 'calle_cruce_1': {'categoria': None, 'id': None, 'nombre': None}, 'calle_cruce_2': {'categoria': None, 'id': None, 'nombre': None}, 'departamento': {'id': '38035', 'nombre': 'Ledesma'}, 'localidad_censal': {'id': '38035080', 'nombre': 'Libertador General San Martín'}, 'nomenclatura': 'URQUIZA 400, Ledesma, Jujuy', 'piso': None, 'provincia': {'id': '38', 'nombre': 'Jujuy'}, 'ubicacion': {'lat': -23.817024721070787, 'lon': -64.79017658007984}}, {'altura': {'unidad': None, 'valor': 400}, 'calle': {'categoria': 'CALLE', 'id': '8202818000065', 'nombre': 'URQUIZA'}, 'calle_cruce_1': {'categoria': None, 'id': None, 'nombre': None}, 'calle_cruce_2': {'categoria': None, 'id': None, 'nombre': None}, 'departamento': {'id': '82028', 'nombre': 'Constitución'}, 'localidad_censal': {'id': '82028180', 'nombre': 'Rueda'}, 'nomenclatura': 'URQUIZA 400, Constitución, Santa Fe', 'piso': None, 'provincia': {'id': '82', 'nombre': 'Santa Fe'}, 'ubicacion': {'lat': -33.3355211094278, 'lon': -60.4634509899453}}]\n"
     ]
    }
   ],
   "source": [
    "\n",
    "import requests\n",
    "import urllib\n",
    "from urllib.parse import urlencode\n",
    "API_BASE_URL = \"https://apis.datos.gob.ar/georef/api/\"\n",
    "\n",
    "def get_similar(endpoint, direccion, **kwargs):\n",
    "    kwargs[\"direccion\"] = direccion\n",
    "    url = \"{}{}?{}\".format(API_BASE_URL, endpoint, urllib.parse.urlencode(kwargs))\n",
    "    return requests.get(url).json()[endpoint]\n",
    "\n",
    "provincias = get_similar(\"direcciones\",\"Urquiza 400\")\n",
    "print(provincias)\n",
    "\n",
    "\n",
    "print(provincias)"
   ]
  },
  {
   "cell_type": "code",
   "execution_count": null,
   "metadata": {},
   "outputs": [],
   "source": []
  }
 ],
 "metadata": {
  "kernelspec": {
   "display_name": ".venv",
   "language": "python",
   "name": "python3"
  },
  "language_info": {
   "codemirror_mode": {
    "name": "ipython",
    "version": 3
   },
   "file_extension": ".py",
   "mimetype": "text/x-python",
   "name": "python",
   "nbconvert_exporter": "python",
   "pygments_lexer": "ipython3",
   "version": "3.11.5"
  }
 },
 "nbformat": 4,
 "nbformat_minor": 2
}
