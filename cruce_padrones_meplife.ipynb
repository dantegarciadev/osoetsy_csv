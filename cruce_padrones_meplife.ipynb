{
 "cells": [
  {
   "cell_type": "code",
   "execution_count": 1,
   "metadata": {},
   "outputs": [],
   "source": [
    "import pandas as pd\n",
    "import numpy as np\n",
    "import xlwt\n",
    "import xlrd\n",
    "from tkinter import filedialog\n",
    "import tkinter as tk\n",
    "import customtkinter as ctk\n",
    "from customtkinter import filedialog\n",
    "import funciones\n",
    "import datetime\n",
    "from datetime import datetime\n",
    "import re"
   ]
  },
  {
   "attachments": {},
   "cell_type": "markdown",
   "metadata": {},
   "source": [
    "### cargar archivo 1"
   ]
  },
  {
   "cell_type": "code",
   "execution_count": 7,
   "metadata": {},
   "outputs": [
    {
     "name": "stdout",
     "output_type": "stream",
     "text": [
      "<_io.TextIOWrapper name='C:/Users/23336058929/Downloads/mepli/padon1.xlsx' mode='r' encoding='cp1252'>\n",
      "      Unnamed: 0  Codigo  CUIT_Empleador  CUIL_Titular  Parentesco  \\\n",
      "0              0  127406     20240830214   20240830214           0   \n",
      "1              1  127406     20119590958   20119590958           0   \n",
      "2              2  127406     27425694192   27425694192           0   \n",
      "3              3  127406     27425694192   27425694192           3   \n",
      "4              4  127406     27270992132   27270992132           0   \n",
      "...          ...     ...             ...           ...         ...   \n",
      "1682        1682  127406     20190072577   20190072577           0   \n",
      "1683        1683  127406     27321459590   27321459590           0   \n",
      "1684        1684  127406     27174774221   27174774221           0   \n",
      "1685        1685  127406     27174774221   27174774221           1   \n",
      "1686        1686  127406     27316755637   27316755637           0   \n",
      "\n",
      "      CUIL_Familiar Tipo_Doc   Nro_Doc       Apellido  \\\n",
      "0       20240830214       DU  24083021         ELISII   \n",
      "1       20119590958       DU  11959095       PEDEZERT   \n",
      "2       27425694192       DU  42569419   NINA RAMIREZ   \n",
      "3       20549159851       DU  54915985  ANDACABA NINA   \n",
      "4       27270992132       DU  27099213            RAU   \n",
      "...             ...      ...       ...            ...   \n",
      "1682    20190072577       DU  19007257        ENRIQUE   \n",
      "1683    27321459590       DU  32145959       GONZALEZ   \n",
      "1684    27174774221       DU  17477422      MALDONADO   \n",
      "1685    20149595150       DU  14959515    MAC DOUGALL   \n",
      "1686    27316755637       DU  31675563          CRACI   \n",
      "\n",
      "                          Nombre  ... Revista  Incapacidad Tipo_Beneficiario  \\\n",
      "0      CHRISTIAN MAURICIO JAVIER  ...      99            0                 4   \n",
      "1               FERNANDO RICARDO  ...      99            0                 4   \n",
      "2                  TANIA SOLEDAD  ...      99            0                 4   \n",
      "3                   ULISES UZIEL  ...      99            0                 4   \n",
      "4                CINTHIA BETIANA  ...      99            0                 4   \n",
      "...                          ...  ...     ...          ...               ...   \n",
      "1682             MARTIN BENJAMIN  ...      99            0                 4   \n",
      "1683           ROMINA  ALEJANDRA  ...      99            0                 4   \n",
      "1684                     CLAUDIA  ...      99            0                 4   \n",
      "1685                 SERGIO LUIS  ...      99            0                 4   \n",
      "1686            VERONICA BEATRIZ  ...      99            0                 4   \n",
      "\n",
      "      Fch_Alta_OS   nro_gpo      nro_sss          dni      dni2  \\\n",
      "0         1112022  20001933  351968327.0  20240830214  24083021   \n",
      "1         1112022  20001941  351994841.0  20119590958  11959095   \n",
      "2         1112022  20001944  351974448.0  27425694192  42569419   \n",
      "3         1112022  20001944  351974448.0  20549159851  54915985   \n",
      "4         1112022  20001946  351989198.0  27270992132  27099213   \n",
      "...           ...       ...          ...          ...       ...   \n",
      "1682      1062023  20005799          NaN  20190072577  19007257   \n",
      "1683      1052023  20005852  352276196.0  27321459590  32145959   \n",
      "1684      1062023  20006025  352691714.0  27174774221  17477422   \n",
      "1685      1062023  20006025  352691714.0  20149595150  14959515   \n",
      "1686      1062023  20006029  352641009.0  27316755637  31675563   \n",
      "\n",
      "            provincia2       localidad  \n",
      "0        Buenos Aires     Billinghurst  \n",
      "1        Buenos Aires       Loma Verde  \n",
      "2        Buenos Aires           Matheu  \n",
      "3        Buenos Aires           Matheu  \n",
      "4        Buenos Aires            Pilar  \n",
      "...                ...             ...  \n",
      "1682     Buenos Aires          Alberti  \n",
      "1683     Buenos Aires      San Vicente  \n",
      "1684     Buenos Aires     Don Torcuato  \n",
      "1685     Buenos Aires     Don Torcuato  \n",
      "1686  Capital Federal    CABA - Flores  \n",
      "\n",
      "[1687 rows x 33 columns]\n"
     ]
    }
   ],
   "source": [
    "archivo = None\n",
    "while True:\n",
    "    archivo = funciones.seleccionar_archivo()\n",
    "    print(archivo)\n",
    "    if archivo:\n",
    "        ruta_archivo = archivo.name\n",
    "        try:\n",
    "            padon_1 = pd.read_excel(ruta_archivo, engine='openpyxl')\n",
    "            #padron = pd.read_csv(archivo, sep=\";\", encoding=\"ISO-8859-1\")\n",
    "            print(padon_1)\n",
    "            break\n",
    "        except UnicodeDecodeError:\n",
    "            print(\"Error de decodificación de caracteres. Intenta con otra codificación o archivo.\")\n",
    "            continue\n",
    "    else:\n",
    "        print(\"Archivo incorrecto. Por favor, vuelva a cargarlo.\")\n"
   ]
  },
  {
   "attachments": {},
   "cell_type": "markdown",
   "metadata": {},
   "source": [
    "### cargar archivo 2"
   ]
  },
  {
   "cell_type": "code",
   "execution_count": null,
   "metadata": {},
   "outputs": [],
   "source": [
    "archivo = None\n",
    "while True:\n",
    "    archivo = funciones.seleccionar_archivo()\n",
    "    print(archivo)\n",
    "    if archivo:\n",
    "        ruta_archivo = archivo.name\n",
    "        try:\n",
    "            #padron_2 = pd.read_excel(ruta_archivo, engine='xlrd')\n",
    "            padron_2 = pd.read_csv(archivo, sep=\";\", encoding=\"ISO-8859-1\")\n",
    "            print(padron_2)\n",
    "            break\n",
    "        except UnicodeDecodeError:\n",
    "            print(\"Error de decodificación de caracteres. Intenta con otra codificación o archivo.\")\n",
    "            continue\n",
    "    else:\n",
    "        print(\"Archivo incorrecto. Por favor, vuelva a cargarlo.\")\n"
   ]
  },
  {
   "attachments": {},
   "cell_type": "markdown",
   "metadata": {},
   "source": [
    "### Normalizar DNI archivo convenio"
   ]
  },
  {
   "cell_type": "code",
   "execution_count": 3,
   "metadata": {},
   "outputs": [
    {
     "name": "stdout",
     "output_type": "stream",
     "text": [
      "0       01071974\n",
      "1       25021958\n",
      "2       20121997\n",
      "3       12082015\n",
      "4       01011979\n",
      "          ...   \n",
      "1682    17051992\n",
      "1683    04051986\n",
      "1684    08011965\n",
      "1685    03071962\n",
      "1686    18051985\n",
      "Name: Fch_Nac, Length: 1687, dtype: object\n",
      "<class 'pandas.core.frame.DataFrame'>\n",
      "RangeIndex: 1687 entries, 0 to 1686\n",
      "Data columns (total 32 columns):\n",
      " #   Column             Non-Null Count  Dtype  \n",
      "---  ------             --------------  -----  \n",
      " 0   Codigo             1687 non-null   int64  \n",
      " 1   CUIT_Empleador     1687 non-null   int64  \n",
      " 2   CUIL_Titular       1687 non-null   int64  \n",
      " 3   Parentesco         1687 non-null   int64  \n",
      " 4   CUIL_Familiar      1687 non-null   int64  \n",
      " 5   Tipo_Doc           1687 non-null   object \n",
      " 6   Nro_Doc            1687 non-null   int64  \n",
      " 7   Apellido           1687 non-null   object \n",
      " 8   Nombre             1687 non-null   object \n",
      " 9   Sexo               1687 non-null   object \n",
      " 10  Estado_Civil       1687 non-null   int64  \n",
      " 11  Fch_Nac            1687 non-null   object \n",
      " 12  Nacionalidad       1687 non-null   int64  \n",
      " 13  Calle              1687 non-null   object \n",
      " 14  Nro                203 non-null    object \n",
      " 15  Piso               20 non-null     object \n",
      " 16  Dpto               17 non-null     object \n",
      " 17  Localidad          1687 non-null   object \n",
      " 18  CP                 1687 non-null   object \n",
      " 19  Provincia          1687 non-null   object \n",
      " 20  Tipo_domi          1687 non-null   object \n",
      " 21  Telefono           217 non-null    object \n",
      " 22  Revista            1687 non-null   int64  \n",
      " 23  Incapacidad        1687 non-null   int64  \n",
      " 24  Tipo_Beneficiario  1687 non-null   int64  \n",
      " 25  Fch_Alta_OS        1687 non-null   int64  \n",
      " 26  nro_gpo            1687 non-null   int64  \n",
      " 27  nro_sss            1682 non-null   float64\n",
      " 28  dni                1687 non-null   object \n",
      " 29  dni2               1687 non-null   int32  \n",
      " 30  provincia2         1687 non-null   object \n",
      " 31  localidad          1652 non-null   object \n",
      "dtypes: float64(1), int32(1), int64(13), object(17)\n",
      "memory usage: 415.3+ KB\n",
      "None\n"
     ]
    }
   ],
   "source": [
    "\n",
    "#armar el camp DNI juntando las los campos cuil titular y cuil familiar\n",
    "padon_1['dni']=padon_1['CUIL_Familiar'].fillna(padon_1['CUIL_Titular'])\n",
    "#limpiar el nuevo campo dni dejando solo los numeros \n",
    "padon_1['dni']=padon_1['dni'].apply(lambda x: re.sub('[^0-9]', '', str(x)))\n",
    "#dejar solo los numreros eliminar caracteres \n",
    "padon_1['dni2']=padon_1['dni'].apply(lambda x: x[2:10] if len(x)>= 8 else '0')\n",
    "#extraer el dni del cuil y dejar vacios los q son menores  a 8\n",
    "padon_1['dni2']=padon_1['dni2'].astype(int)\n",
    "#pasar el campo a int \n",
    "padon_1['Fch_Nac']=padon_1['Fch_Nac'].astype(str).str.zfill(8)\n",
    "#padon_1['Fch_Nac']=padon_1['Fch_Nac'].astype(str)\n",
    "#convertir fecha. \n",
    "print(padon_1['Fch_Nac'])\n",
    "#padon_1=funciones.transformar_fecha(padon_1, 'Fch_Nac')\n",
    "\n",
    "#Función para normalizar la fecha\n",
    "def normalizar_fecha(fecha):\n",
    "    fecha_normalizada = datetime.strptime(fecha, \"%d%m%Y\").strftime(\"%d/%m/%Y\")\n",
    "    return fecha_normalizada\n",
    "\n",
    "#Aplicar la función a la columna \"fech_nacimiento\"\n",
    "padon_1['Fch_Nac'] = padon_1['Fch_Nac'].apply(normalizar_fecha)\n",
    "padon_1['Fch_Nac'] = padon_1['Fch_Nac'].astype(str)\n",
    "padon_1[['provincia2','localidad']] = padon_1['Localidad'].str.split('-',expand = True, n=1)\n",
    "print(padon_1.info(10))\n",
    "\n",
    "\n",
    "padon_1.to_excel(r\"C:\\Users\\23336058929\\Downloads\\mepli\\padon1.xlsx\", engine='openpyxl')"
   ]
  },
  {
   "attachments": {},
   "cell_type": "markdown",
   "metadata": {},
   "source": [
    "### Errores"
   ]
  },
  {
   "cell_type": "code",
   "execution_count": 6,
   "metadata": {},
   "outputs": [
    {
     "name": "stderr",
     "output_type": "stream",
     "text": [
      "C:\\Users\\23336058929\\AppData\\Local\\Temp\\ipykernel_23892\\3870773481.py:23: FutureWarning: The default dtype for empty Series will be 'object' instead of 'float64' in a future version. Specify a dtype explicitly to silence this warning.\n",
      "  return pd.Series()\n",
      "C:\\Users\\23336058929\\AppData\\Local\\Temp\\ipykernel_23892\\3870773481.py:23: FutureWarning: The default dtype for empty Series will be 'object' instead of 'float64' in a future version. Specify a dtype explicitly to silence this warning.\n",
      "  return pd.Series()\n",
      "C:\\Users\\23336058929\\AppData\\Local\\Temp\\ipykernel_23892\\3870773481.py:23: FutureWarning: The default dtype for empty Series will be 'object' instead of 'float64' in a future version. Specify a dtype explicitly to silence this warning.\n",
      "  return pd.Series()\n",
      "C:\\Users\\23336058929\\AppData\\Local\\Temp\\ipykernel_23892\\3870773481.py:23: FutureWarning: The default dtype for empty Series will be 'object' instead of 'float64' in a future version. Specify a dtype explicitly to silence this warning.\n",
      "  return pd.Series()\n",
      "C:\\Users\\23336058929\\AppData\\Local\\Temp\\ipykernel_23892\\3870773481.py:23: FutureWarning: The default dtype for empty Series will be 'object' instead of 'float64' in a future version. Specify a dtype explicitly to silence this warning.\n",
      "  return pd.Series()\n",
      "C:\\Users\\23336058929\\AppData\\Local\\Temp\\ipykernel_23892\\3870773481.py:23: FutureWarning: The default dtype for empty Series will be 'object' instead of 'float64' in a future version. Specify a dtype explicitly to silence this warning.\n",
      "  return pd.Series()\n",
      "C:\\Users\\23336058929\\AppData\\Local\\Temp\\ipykernel_23892\\3870773481.py:23: FutureWarning: The default dtype for empty Series will be 'object' instead of 'float64' in a future version. Specify a dtype explicitly to silence this warning.\n",
      "  return pd.Series()\n",
      "C:\\Users\\23336058929\\AppData\\Local\\Temp\\ipykernel_23892\\3870773481.py:23: FutureWarning: The default dtype for empty Series will be 'object' instead of 'float64' in a future version. Specify a dtype explicitly to silence this warning.\n",
      "  return pd.Series()\n",
      "C:\\Users\\23336058929\\AppData\\Local\\Temp\\ipykernel_23892\\3870773481.py:23: FutureWarning: The default dtype for empty Series will be 'object' instead of 'float64' in a future version. Specify a dtype explicitly to silence this warning.\n",
      "  return pd.Series()\n",
      "C:\\Users\\23336058929\\AppData\\Local\\Temp\\ipykernel_23892\\3870773481.py:23: FutureWarning: The default dtype for empty Series will be 'object' instead of 'float64' in a future version. Specify a dtype explicitly to silence this warning.\n",
      "  return pd.Series()\n",
      "C:\\Users\\23336058929\\AppData\\Local\\Temp\\ipykernel_23892\\3870773481.py:23: FutureWarning: The default dtype for empty Series will be 'object' instead of 'float64' in a future version. Specify a dtype explicitly to silence this warning.\n",
      "  return pd.Series()\n",
      "C:\\Users\\23336058929\\AppData\\Local\\Temp\\ipykernel_23892\\3870773481.py:23: FutureWarning: The default dtype for empty Series will be 'object' instead of 'float64' in a future version. Specify a dtype explicitly to silence this warning.\n",
      "  return pd.Series()\n"
     ]
    },
    {
     "ename": "OutOfBoundsDatetime",
     "evalue": "Out of bounds nanosecond timestamp: 91-05-09 00:00:00",
     "output_type": "error",
     "traceback": [
      "\u001b[1;31m---------------------------------------------------------------------------\u001b[0m",
      "\u001b[1;31mOutOfBoundsDatetime\u001b[0m                       Traceback (most recent call last)",
      "Cell \u001b[1;32mIn[6], line 25\u001b[0m\n\u001b[0;32m     22\u001b[0m     \u001b[39melse\u001b[39;00m:\n\u001b[0;32m     23\u001b[0m         \u001b[39mreturn\u001b[39;00m pd\u001b[39m.\u001b[39mSeries()\n\u001b[1;32m---> 25\u001b[0m df_errores \u001b[39m=\u001b[39m padon_1\u001b[39m.\u001b[39;49mapply(generar_columnas_error, axis\u001b[39m=\u001b[39;49m\u001b[39m1\u001b[39;49m)\n\u001b[0;32m     26\u001b[0m \u001b[39mprint\u001b[39m(df_errores\u001b[39m.\u001b[39mhead(\u001b[39m20\u001b[39m))\n\u001b[0;32m     27\u001b[0m df_nuevo \u001b[39m=\u001b[39m pd\u001b[39m.\u001b[39mconcat([padon_1, df_errores],axis\u001b[39m=\u001b[39m\u001b[39m1\u001b[39m)\n",
      "File \u001b[1;32mc:\\Users\\23336058929\\Documents\\REPOSITORIOS_GIT\\osoetsy_csv\\.venv\\Lib\\site-packages\\pandas\\core\\frame.py:9568\u001b[0m, in \u001b[0;36mDataFrame.apply\u001b[1;34m(self, func, axis, raw, result_type, args, **kwargs)\u001b[0m\n\u001b[0;32m   9557\u001b[0m \u001b[39mfrom\u001b[39;00m \u001b[39mpandas\u001b[39;00m\u001b[39m.\u001b[39;00m\u001b[39mcore\u001b[39;00m\u001b[39m.\u001b[39;00m\u001b[39mapply\u001b[39;00m \u001b[39mimport\u001b[39;00m frame_apply\n\u001b[0;32m   9559\u001b[0m op \u001b[39m=\u001b[39m frame_apply(\n\u001b[0;32m   9560\u001b[0m     \u001b[39mself\u001b[39m,\n\u001b[0;32m   9561\u001b[0m     func\u001b[39m=\u001b[39mfunc,\n\u001b[1;32m   (...)\u001b[0m\n\u001b[0;32m   9566\u001b[0m     kwargs\u001b[39m=\u001b[39mkwargs,\n\u001b[0;32m   9567\u001b[0m )\n\u001b[1;32m-> 9568\u001b[0m \u001b[39mreturn\u001b[39;00m op\u001b[39m.\u001b[39;49mapply()\u001b[39m.\u001b[39m__finalize__(\u001b[39mself\u001b[39m, method\u001b[39m=\u001b[39m\u001b[39m\"\u001b[39m\u001b[39mapply\u001b[39m\u001b[39m\"\u001b[39m)\n",
      "File \u001b[1;32mc:\\Users\\23336058929\\Documents\\REPOSITORIOS_GIT\\osoetsy_csv\\.venv\\Lib\\site-packages\\pandas\\core\\apply.py:764\u001b[0m, in \u001b[0;36mFrameApply.apply\u001b[1;34m(self)\u001b[0m\n\u001b[0;32m    761\u001b[0m \u001b[39melif\u001b[39;00m \u001b[39mself\u001b[39m\u001b[39m.\u001b[39mraw:\n\u001b[0;32m    762\u001b[0m     \u001b[39mreturn\u001b[39;00m \u001b[39mself\u001b[39m\u001b[39m.\u001b[39mapply_raw()\n\u001b[1;32m--> 764\u001b[0m \u001b[39mreturn\u001b[39;00m \u001b[39mself\u001b[39;49m\u001b[39m.\u001b[39;49mapply_standard()\n",
      "File \u001b[1;32mc:\\Users\\23336058929\\Documents\\REPOSITORIOS_GIT\\osoetsy_csv\\.venv\\Lib\\site-packages\\pandas\\core\\apply.py:891\u001b[0m, in \u001b[0;36mFrameApply.apply_standard\u001b[1;34m(self)\u001b[0m\n\u001b[0;32m    890\u001b[0m \u001b[39mdef\u001b[39;00m \u001b[39mapply_standard\u001b[39m(\u001b[39mself\u001b[39m):\n\u001b[1;32m--> 891\u001b[0m     results, res_index \u001b[39m=\u001b[39m \u001b[39mself\u001b[39;49m\u001b[39m.\u001b[39;49mapply_series_generator()\n\u001b[0;32m    893\u001b[0m     \u001b[39m# wrap results\u001b[39;00m\n\u001b[0;32m    894\u001b[0m     \u001b[39mreturn\u001b[39;00m \u001b[39mself\u001b[39m\u001b[39m.\u001b[39mwrap_results(results, res_index)\n",
      "File \u001b[1;32mc:\\Users\\23336058929\\Documents\\REPOSITORIOS_GIT\\osoetsy_csv\\.venv\\Lib\\site-packages\\pandas\\core\\apply.py:907\u001b[0m, in \u001b[0;36mFrameApply.apply_series_generator\u001b[1;34m(self)\u001b[0m\n\u001b[0;32m    904\u001b[0m \u001b[39mwith\u001b[39;00m option_context(\u001b[39m\"\u001b[39m\u001b[39mmode.chained_assignment\u001b[39m\u001b[39m\"\u001b[39m, \u001b[39mNone\u001b[39;00m):\n\u001b[0;32m    905\u001b[0m     \u001b[39mfor\u001b[39;00m i, v \u001b[39min\u001b[39;00m \u001b[39menumerate\u001b[39m(series_gen):\n\u001b[0;32m    906\u001b[0m         \u001b[39m# ignore SettingWithCopy here in case the user mutates\u001b[39;00m\n\u001b[1;32m--> 907\u001b[0m         results[i] \u001b[39m=\u001b[39m \u001b[39mself\u001b[39;49m\u001b[39m.\u001b[39;49mf(v)\n\u001b[0;32m    908\u001b[0m         \u001b[39mif\u001b[39;00m \u001b[39misinstance\u001b[39m(results[i], ABCSeries):\n\u001b[0;32m    909\u001b[0m             \u001b[39m# If we have a view on v, we need to make a copy because\u001b[39;00m\n\u001b[0;32m    910\u001b[0m             \u001b[39m#  series_generator will swap out the underlying data\u001b[39;00m\n\u001b[0;32m    911\u001b[0m             results[i] \u001b[39m=\u001b[39m results[i]\u001b[39m.\u001b[39mcopy(deep\u001b[39m=\u001b[39m\u001b[39mFalse\u001b[39;00m)\n",
      "Cell \u001b[1;32mIn[6], line 17\u001b[0m, in \u001b[0;36mgenerar_columnas_error\u001b[1;34m(row)\u001b[0m\n\u001b[0;32m     15\u001b[0m errores \u001b[39m=\u001b[39m {}\n\u001b[0;32m     16\u001b[0m \u001b[39mfor\u001b[39;00m i \u001b[39min\u001b[39;00m \u001b[39mrange\u001b[39m(\u001b[39mlen\u001b[39m(condiciones)):\n\u001b[1;32m---> 17\u001b[0m     \u001b[39mif\u001b[39;00m condiciones[i](row):\n\u001b[0;32m     18\u001b[0m         columna_error \u001b[39m=\u001b[39m \u001b[39mf\u001b[39m\u001b[39m'\u001b[39m\u001b[39merror\u001b[39m\u001b[39m{\u001b[39;00mi\u001b[39m+\u001b[39m\u001b[39m1\u001b[39m\u001b[39m}\u001b[39;00m\u001b[39m'\u001b[39m\n\u001b[0;32m     19\u001b[0m         errores[columna_error] \u001b[39m=\u001b[39m mensajes[i]\n",
      "Cell \u001b[1;32mIn[6], line 3\u001b[0m, in \u001b[0;36m<lambda>\u001b[1;34m(row)\u001b[0m\n\u001b[0;32m      1\u001b[0m condiciones \u001b[39m=\u001b[39m [\n\u001b[0;32m      2\u001b[0m     \u001b[39mlambda\u001b[39;00m row: row[\u001b[39m'\u001b[39m\u001b[39mdni2\u001b[39m\u001b[39m'\u001b[39m] \u001b[39mis\u001b[39;00m \u001b[39mNone\u001b[39;00m \u001b[39mor\u001b[39;00m \u001b[39mlen\u001b[39m(\u001b[39mstr\u001b[39m(row[\u001b[39m'\u001b[39m\u001b[39mdni2\u001b[39m\u001b[39m'\u001b[39m])) \u001b[39m<\u001b[39m \u001b[39m8\u001b[39m,\n\u001b[1;32m----> 3\u001b[0m     \u001b[39mlambda\u001b[39;00m row: row[\u001b[39m'\u001b[39m\u001b[39mFch_Nac\u001b[39m\u001b[39m'\u001b[39m] \u001b[39mis\u001b[39;00m \u001b[39mNone\u001b[39;00m \u001b[39mor\u001b[39;00m (pd\u001b[39m.\u001b[39mto_datetime(\u001b[39m'\u001b[39m\u001b[39mtoday\u001b[39m\u001b[39m'\u001b[39m) \u001b[39m-\u001b[39m pd\u001b[39m.\u001b[39;49mto_datetime(row[\u001b[39m'\u001b[39;49m\u001b[39mFch_Nac\u001b[39;49m\u001b[39m'\u001b[39;49m], \u001b[39mformat\u001b[39;49m\u001b[39m=\u001b[39;49m\u001b[39m'\u001b[39;49m\u001b[39m%d\u001b[39;49;00m\u001b[39m/\u001b[39;49m\u001b[39m%\u001b[39;49m\u001b[39mm/\u001b[39;49m\u001b[39m%\u001b[39;49m\u001b[39mY\u001b[39;49m\u001b[39m'\u001b[39;49m))\u001b[39m.\u001b[39mdays \u001b[39m/\u001b[39m\u001b[39m/\u001b[39m \u001b[39m365.25\u001b[39m \u001b[39m>\u001b[39m \u001b[39m80\u001b[39m,\n\u001b[0;32m      4\u001b[0m     \u001b[39mlambda\u001b[39;00m row: row[\u001b[39m'\u001b[39m\u001b[39mdni2\u001b[39m\u001b[39m'\u001b[39m] \u001b[39m>\u001b[39m\u001b[39m999999\u001b[39m \u001b[39mand\u001b[39;00m (pd\u001b[39m.\u001b[39mto_datetime(\u001b[39m'\u001b[39m\u001b[39mtoday\u001b[39m\u001b[39m'\u001b[39m) \u001b[39m-\u001b[39m pd\u001b[39m.\u001b[39mto_datetime(row[\u001b[39m'\u001b[39m\u001b[39mFch_Nac\u001b[39m\u001b[39m'\u001b[39m], \u001b[39mformat\u001b[39m\u001b[39m=\u001b[39m\u001b[39m'\u001b[39m\u001b[39m%d\u001b[39;00m\u001b[39m/\u001b[39m\u001b[39m%\u001b[39m\u001b[39mm/\u001b[39m\u001b[39m%\u001b[39m\u001b[39mY\u001b[39m\u001b[39m'\u001b[39m))\u001b[39m.\u001b[39mdays \u001b[39m/\u001b[39m\u001b[39m/\u001b[39m \u001b[39m365.25\u001b[39m \u001b[39m>\u001b[39m \u001b[39m25\u001b[39m,\n\u001b[0;32m      5\u001b[0m     \u001b[39mlambda\u001b[39;00m row: row[\u001b[39m'\u001b[39m\u001b[39mlocalidad\u001b[39m\u001b[39m'\u001b[39m] \u001b[39mis\u001b[39;00m \u001b[39mNone\u001b[39;00m\n\u001b[0;32m      6\u001b[0m ]\n\u001b[0;32m      7\u001b[0m mensajes \u001b[39m=\u001b[39m [\n\u001b[0;32m      8\u001b[0m     \u001b[39m'\u001b[39m\u001b[39mfamiliar mayor de edad\u001b[39m\u001b[39m'\u001b[39m,\n\u001b[0;32m      9\u001b[0m     \u001b[39m'\u001b[39m\u001b[39mError en DNI\u001b[39m\u001b[39m'\u001b[39m,\n\u001b[0;32m     10\u001b[0m     \u001b[39m'\u001b[39m\u001b[39mError en la edad\u001b[39m\u001b[39m'\u001b[39m,\n\u001b[0;32m     11\u001b[0m     \u001b[39m'\u001b[39m\u001b[39mlocalidad vacía\u001b[39m\u001b[39m'\u001b[39m\n\u001b[0;32m     12\u001b[0m ]\n\u001b[0;32m     14\u001b[0m \u001b[39mdef\u001b[39;00m \u001b[39mgenerar_columnas_error\u001b[39m(row):\n",
      "File \u001b[1;32mc:\\Users\\23336058929\\Documents\\REPOSITORIOS_GIT\\osoetsy_csv\\.venv\\Lib\\site-packages\\pandas\\core\\tools\\datetimes.py:1102\u001b[0m, in \u001b[0;36mto_datetime\u001b[1;34m(arg, errors, dayfirst, yearfirst, utc, format, exact, unit, infer_datetime_format, origin, cache)\u001b[0m\n\u001b[0;32m   1100\u001b[0m         result \u001b[39m=\u001b[39m convert_listlike(argc, \u001b[39mformat\u001b[39m)\n\u001b[0;32m   1101\u001b[0m \u001b[39melse\u001b[39;00m:\n\u001b[1;32m-> 1102\u001b[0m     result \u001b[39m=\u001b[39m convert_listlike(np\u001b[39m.\u001b[39;49marray([arg]), \u001b[39mformat\u001b[39;49m)[\u001b[39m0\u001b[39m]\n\u001b[0;32m   1103\u001b[0m     \u001b[39mif\u001b[39;00m \u001b[39misinstance\u001b[39m(arg, \u001b[39mbool\u001b[39m) \u001b[39mand\u001b[39;00m \u001b[39misinstance\u001b[39m(result, np\u001b[39m.\u001b[39mbool_):\n\u001b[0;32m   1104\u001b[0m         result \u001b[39m=\u001b[39m \u001b[39mbool\u001b[39m(result)  \u001b[39m# TODO: avoid this kludge.\u001b[39;00m\n",
      "File \u001b[1;32mc:\\Users\\23336058929\\Documents\\REPOSITORIOS_GIT\\osoetsy_csv\\.venv\\Lib\\site-packages\\pandas\\core\\tools\\datetimes.py:430\u001b[0m, in \u001b[0;36m_convert_listlike_datetimes\u001b[1;34m(arg, format, name, tz, unit, errors, infer_datetime_format, dayfirst, yearfirst, exact)\u001b[0m\n\u001b[0;32m    427\u001b[0m         \u001b[39mformat\u001b[39m \u001b[39m=\u001b[39m \u001b[39mNone\u001b[39;00m\n\u001b[0;32m    429\u001b[0m \u001b[39mif\u001b[39;00m \u001b[39mformat\u001b[39m \u001b[39mis\u001b[39;00m \u001b[39mnot\u001b[39;00m \u001b[39mNone\u001b[39;00m:\n\u001b[1;32m--> 430\u001b[0m     res \u001b[39m=\u001b[39m _to_datetime_with_format(\n\u001b[0;32m    431\u001b[0m         arg, orig_arg, name, tz, \u001b[39mformat\u001b[39;49m, exact, errors, infer_datetime_format\n\u001b[0;32m    432\u001b[0m     )\n\u001b[0;32m    433\u001b[0m     \u001b[39mif\u001b[39;00m res \u001b[39mis\u001b[39;00m \u001b[39mnot\u001b[39;00m \u001b[39mNone\u001b[39;00m:\n\u001b[0;32m    434\u001b[0m         \u001b[39mreturn\u001b[39;00m res\n",
      "File \u001b[1;32mc:\\Users\\23336058929\\Documents\\REPOSITORIOS_GIT\\osoetsy_csv\\.venv\\Lib\\site-packages\\pandas\\core\\tools\\datetimes.py:538\u001b[0m, in \u001b[0;36m_to_datetime_with_format\u001b[1;34m(arg, orig_arg, name, tz, fmt, exact, errors, infer_datetime_format)\u001b[0m\n\u001b[0;32m    535\u001b[0m         \u001b[39mreturn\u001b[39;00m _box_as_indexlike(result, utc\u001b[39m=\u001b[39mutc, name\u001b[39m=\u001b[39mname)\n\u001b[0;32m    537\u001b[0m \u001b[39m# fallback\u001b[39;00m\n\u001b[1;32m--> 538\u001b[0m res \u001b[39m=\u001b[39m _array_strptime_with_fallback(\n\u001b[0;32m    539\u001b[0m     arg, name, tz, fmt, exact, errors, infer_datetime_format\n\u001b[0;32m    540\u001b[0m )\n\u001b[0;32m    541\u001b[0m \u001b[39mreturn\u001b[39;00m res\n",
      "File \u001b[1;32mc:\\Users\\23336058929\\Documents\\REPOSITORIOS_GIT\\osoetsy_csv\\.venv\\Lib\\site-packages\\pandas\\core\\tools\\datetimes.py:473\u001b[0m, in \u001b[0;36m_array_strptime_with_fallback\u001b[1;34m(arg, name, tz, fmt, exact, errors, infer_datetime_format)\u001b[0m\n\u001b[0;32m    470\u001b[0m utc \u001b[39m=\u001b[39m tz \u001b[39m==\u001b[39m \u001b[39m\"\u001b[39m\u001b[39mutc\u001b[39m\u001b[39m\"\u001b[39m\n\u001b[0;32m    472\u001b[0m \u001b[39mtry\u001b[39;00m:\n\u001b[1;32m--> 473\u001b[0m     result, timezones \u001b[39m=\u001b[39m array_strptime(arg, fmt, exact\u001b[39m=\u001b[39;49mexact, errors\u001b[39m=\u001b[39;49merrors)\n\u001b[0;32m    474\u001b[0m \u001b[39mexcept\u001b[39;00m OutOfBoundsDatetime:\n\u001b[0;32m    475\u001b[0m     \u001b[39mif\u001b[39;00m errors \u001b[39m==\u001b[39m \u001b[39m\"\u001b[39m\u001b[39mraise\u001b[39m\u001b[39m\"\u001b[39m:\n",
      "File \u001b[1;32mc:\\Users\\23336058929\\Documents\\REPOSITORIOS_GIT\\osoetsy_csv\\.venv\\Lib\\site-packages\\pandas\\_libs\\tslibs\\strptime.pyx:344\u001b[0m, in \u001b[0;36mpandas._libs.tslibs.strptime.array_strptime\u001b[1;34m()\u001b[0m\n",
      "File \u001b[1;32mc:\\Users\\23336058929\\Documents\\REPOSITORIOS_GIT\\osoetsy_csv\\.venv\\Lib\\site-packages\\pandas\\_libs\\tslibs\\strptime.pyx:339\u001b[0m, in \u001b[0;36mpandas._libs.tslibs.strptime.array_strptime\u001b[1;34m()\u001b[0m\n",
      "File \u001b[1;32mc:\\Users\\23336058929\\Documents\\REPOSITORIOS_GIT\\osoetsy_csv\\.venv\\Lib\\site-packages\\pandas\\_libs\\tslibs\\np_datetime.pyx:212\u001b[0m, in \u001b[0;36mpandas._libs.tslibs.np_datetime.check_dts_bounds\u001b[1;34m()\u001b[0m\n",
      "\u001b[1;31mOutOfBoundsDatetime\u001b[0m: Out of bounds nanosecond timestamp: 91-05-09 00:00:00"
     ]
    }
   ],
   "source": [
    "\n",
    "\n",
    "condiciones = [\n",
    "    lambda row: row['dni2'] is None or len(str(row['dni2'])) < 8,\n",
    "    lambda row: row['Fch_Nac'] is None or (pd.to_datetime('today') - pd.to_datetime(row['Fch_Nac'], format='%d/%m/%Y')).days // 365.25 > 80,\n",
    "    lambda row: row['dni2'] >999999 and (pd.to_datetime('today') - pd.to_datetime(row['Fch_Nac'], format='%d/%m/%Y')).days // 365.25 > 25,\n",
    "    lambda row: row['localidad'] is None\n",
    "]\n",
    "mensajes = [\n",
    "    'familiar mayor de edad',\n",
    "    'Error en DNI',\n",
    "    'Error en la edad',\n",
    "    'localidad vacía'\n",
    "]\n",
    "\n",
    "def generar_columnas_error(row):\n",
    "    errores = {}\n",
    "    for i in range(len(condiciones)):\n",
    "        if condiciones[i](row):\n",
    "            columna_error = f'error{i+1}'\n",
    "            errores[columna_error] = mensajes[i]\n",
    "    if errores:\n",
    "        return pd.Series(errores)\n",
    "    else:\n",
    "        return pd.Series()\n",
    "\n",
    "df_errores = padon_1.apply(generar_columnas_error, axis=1)\n",
    "print(df_errores.head(20))\n",
    "df_nuevo = pd.concat([padon_1, df_errores],axis=1)\n",
    "df_sin_error = df_nuevo[df_errores.any(axis=1)]\n",
    "\n",
    "\n",
    "#df_sin_error = df_nuevo[df_nuevo['error1'].notna() | df_nuevo['error2'].notna() | df_nuevo['error3'].notna()]\n",
    "\n",
    "df_sin_error.to_excel(r'C:\\Users\\23336058929\\Downloads\\mepli\\test_errores.xlsx', engine='openpyxl', index=False)\n",
    "\n",
    "#df_sin_errores = df_nuevo[df_nuevo['error1'].isnull() & df_nuevo['error2'].isnull() & df_nuevo['error3'].isnull()]\n",
    "\n",
    "#df_errores.to_excel(r'C:\\Users\\zickd\\Downloads\\sin_errores.xlsx', engine='openpyxl', index=False)\n",
    "\n",
    "#df_sin_errores.to_excel(r'C:\\Users\\zickd\\Downloads\\meplife\\sin_errores.xlsx', engine='openpyxl', index=False)\n"
   ]
  },
  {
   "attachments": {},
   "cell_type": "markdown",
   "metadata": {},
   "source": [
    "### Merge archivos x DNI"
   ]
  },
  {
   "cell_type": "code",
   "execution_count": null,
   "metadata": {},
   "outputs": [],
   "source": [
    "cruce_tis=pd.merge(padon_1, padron_2, left_on='dni2', right_on='Nro. Documento', how='left', indicator=True)\n",
    "#cruce_tis.to_excel(r'C:\\Users\\zickd\\Downloads\\merge.xlsx', engine='openpyxl', index=False)\n",
    "\n",
    "cruce_tis_filtro=cruce_tis[cruce_tis['_merge']=='left_only']\n",
    "\n",
    "#print(cruce_tis_filtro.head(5))"
   ]
  },
  {
   "attachments": {},
   "cell_type": "markdown",
   "metadata": {},
   "source": [
    "### exportar el cruce"
   ]
  },
  {
   "cell_type": "code",
   "execution_count": null,
   "metadata": {},
   "outputs": [],
   "source": [
    "save_path = filedialog.askdirectory()\n",
    "#uso iloc por si las columnas tienen el mismo nombre, necesito la primeras 20 columnas\n",
    "cruce_tis_filtro.iloc[:, :28].to_excel(save_path + '\\cruce_meplife.xlsx', engine='openpyxl' ,index = False )\n",
    "\n"
   ]
  },
  {
   "cell_type": "code",
   "execution_count": 7,
   "metadata": {},
   "outputs": [
    {
     "name": "stderr",
     "output_type": "stream",
     "text": [
      "C:\\Users\\23336058929\\AppData\\Local\\Temp\\ipykernel_21844\\2035666616.py:3: UserWarning: Parsing dates in DD/MM/YYYY format when dayfirst=False (the default) was specified. This may lead to inconsistently parsed dates! Specify a format to ensure consistent parsing.\n",
      "  fecha_correg= (pd.to_datetime('today') - pd.to_datetime(padon_1['Fch_Nac'])).days // 365.25 > 50\n"
     ]
    },
    {
     "ename": "OutOfBoundsDatetime",
     "evalue": "Out of bounds nanosecond timestamp: 91-09-05 00:00:00 present at position 39",
     "output_type": "error",
     "traceback": [
      "\u001b[1;31m---------------------------------------------------------------------------\u001b[0m",
      "\u001b[1;31mOutOfBoundsDatetime\u001b[0m                       Traceback (most recent call last)",
      "Cell \u001b[1;32mIn[7], line 3\u001b[0m\n\u001b[0;32m      1\u001b[0m fecha\u001b[39m=\u001b[39m \u001b[39m'\u001b[39m\u001b[39m01/01/1974\u001b[39m\u001b[39m'\u001b[39m\n\u001b[1;32m----> 3\u001b[0m fecha_correg\u001b[39m=\u001b[39m (pd\u001b[39m.\u001b[39mto_datetime(\u001b[39m'\u001b[39m\u001b[39mtoday\u001b[39m\u001b[39m'\u001b[39m) \u001b[39m-\u001b[39m pd\u001b[39m.\u001b[39;49mto_datetime(padon_1[\u001b[39m'\u001b[39;49m\u001b[39mFch_Nac\u001b[39;49m\u001b[39m'\u001b[39;49m]))\u001b[39m.\u001b[39mdays \u001b[39m/\u001b[39m\u001b[39m/\u001b[39m \u001b[39m365.25\u001b[39m \u001b[39m>\u001b[39m \u001b[39m50\u001b[39m\n\u001b[0;32m      5\u001b[0m edad\u001b[39m=\u001b[39m (pd\u001b[39m.\u001b[39mto_datetime(\u001b[39m'\u001b[39m\u001b[39mtoday\u001b[39m\u001b[39m'\u001b[39m) \u001b[39m-\u001b[39m pd\u001b[39m.\u001b[39mto_datetime(fecha))\u001b[39m.\u001b[39mdays \u001b[39m/\u001b[39m\u001b[39m/\u001b[39m \u001b[39m365.25\u001b[39m\n\u001b[0;32m      7\u001b[0m \u001b[39mprint\u001b[39m(fecha_correg)\n",
      "File \u001b[1;32mc:\\Users\\23336058929\\Documents\\REPOSITORIOS_GIT\\osoetsy_csv\\.venv\\Lib\\site-packages\\pandas\\core\\tools\\datetimes.py:1068\u001b[0m, in \u001b[0;36mto_datetime\u001b[1;34m(arg, errors, dayfirst, yearfirst, utc, format, exact, unit, infer_datetime_format, origin, cache)\u001b[0m\n\u001b[0;32m   1066\u001b[0m         result \u001b[39m=\u001b[39m arg\u001b[39m.\u001b[39mmap(cache_array)\n\u001b[0;32m   1067\u001b[0m     \u001b[39melse\u001b[39;00m:\n\u001b[1;32m-> 1068\u001b[0m         values \u001b[39m=\u001b[39m convert_listlike(arg\u001b[39m.\u001b[39;49m_values, \u001b[39mformat\u001b[39;49m)\n\u001b[0;32m   1069\u001b[0m         result \u001b[39m=\u001b[39m arg\u001b[39m.\u001b[39m_constructor(values, index\u001b[39m=\u001b[39marg\u001b[39m.\u001b[39mindex, name\u001b[39m=\u001b[39marg\u001b[39m.\u001b[39mname)\n\u001b[0;32m   1070\u001b[0m \u001b[39melif\u001b[39;00m \u001b[39misinstance\u001b[39m(arg, (ABCDataFrame, abc\u001b[39m.\u001b[39mMutableMapping)):\n",
      "File \u001b[1;32mc:\\Users\\23336058929\\Documents\\REPOSITORIOS_GIT\\osoetsy_csv\\.venv\\Lib\\site-packages\\pandas\\core\\tools\\datetimes.py:438\u001b[0m, in \u001b[0;36m_convert_listlike_datetimes\u001b[1;34m(arg, format, name, tz, unit, errors, infer_datetime_format, dayfirst, yearfirst, exact)\u001b[0m\n\u001b[0;32m    436\u001b[0m \u001b[39massert\u001b[39;00m \u001b[39mformat\u001b[39m \u001b[39mis\u001b[39;00m \u001b[39mNone\u001b[39;00m \u001b[39mor\u001b[39;00m infer_datetime_format\n\u001b[0;32m    437\u001b[0m utc \u001b[39m=\u001b[39m tz \u001b[39m==\u001b[39m \u001b[39m\"\u001b[39m\u001b[39mutc\u001b[39m\u001b[39m\"\u001b[39m\n\u001b[1;32m--> 438\u001b[0m result, tz_parsed \u001b[39m=\u001b[39m objects_to_datetime64ns(\n\u001b[0;32m    439\u001b[0m     arg,\n\u001b[0;32m    440\u001b[0m     dayfirst\u001b[39m=\u001b[39;49mdayfirst,\n\u001b[0;32m    441\u001b[0m     yearfirst\u001b[39m=\u001b[39;49myearfirst,\n\u001b[0;32m    442\u001b[0m     utc\u001b[39m=\u001b[39;49mutc,\n\u001b[0;32m    443\u001b[0m     errors\u001b[39m=\u001b[39;49merrors,\n\u001b[0;32m    444\u001b[0m     require_iso8601\u001b[39m=\u001b[39;49mrequire_iso8601,\n\u001b[0;32m    445\u001b[0m     allow_object\u001b[39m=\u001b[39;49m\u001b[39mTrue\u001b[39;49;00m,\n\u001b[0;32m    446\u001b[0m )\n\u001b[0;32m    448\u001b[0m \u001b[39mif\u001b[39;00m tz_parsed \u001b[39mis\u001b[39;00m \u001b[39mnot\u001b[39;00m \u001b[39mNone\u001b[39;00m:\n\u001b[0;32m    449\u001b[0m     \u001b[39m# We can take a shortcut since the datetime64 numpy array\u001b[39;00m\n\u001b[0;32m    450\u001b[0m     \u001b[39m# is in UTC\u001b[39;00m\n\u001b[0;32m    451\u001b[0m     dta \u001b[39m=\u001b[39m DatetimeArray(result, dtype\u001b[39m=\u001b[39mtz_to_dtype(tz_parsed))\n",
      "File \u001b[1;32mc:\\Users\\23336058929\\Documents\\REPOSITORIOS_GIT\\osoetsy_csv\\.venv\\Lib\\site-packages\\pandas\\core\\arrays\\datetimes.py:2177\u001b[0m, in \u001b[0;36mobjects_to_datetime64ns\u001b[1;34m(data, dayfirst, yearfirst, utc, errors, require_iso8601, allow_object, allow_mixed)\u001b[0m\n\u001b[0;32m   2175\u001b[0m order: Literal[\u001b[39m\"\u001b[39m\u001b[39mF\u001b[39m\u001b[39m\"\u001b[39m, \u001b[39m\"\u001b[39m\u001b[39mC\u001b[39m\u001b[39m\"\u001b[39m] \u001b[39m=\u001b[39m \u001b[39m\"\u001b[39m\u001b[39mF\u001b[39m\u001b[39m\"\u001b[39m \u001b[39mif\u001b[39;00m flags\u001b[39m.\u001b[39mf_contiguous \u001b[39melse\u001b[39;00m \u001b[39m\"\u001b[39m\u001b[39mC\u001b[39m\u001b[39m\"\u001b[39m\n\u001b[0;32m   2176\u001b[0m \u001b[39mtry\u001b[39;00m:\n\u001b[1;32m-> 2177\u001b[0m     result, tz_parsed \u001b[39m=\u001b[39m tslib\u001b[39m.\u001b[39;49marray_to_datetime(\n\u001b[0;32m   2178\u001b[0m         data\u001b[39m.\u001b[39;49mravel(\u001b[39m\"\u001b[39;49m\u001b[39mK\u001b[39;49m\u001b[39m\"\u001b[39;49m),\n\u001b[0;32m   2179\u001b[0m         errors\u001b[39m=\u001b[39;49merrors,\n\u001b[0;32m   2180\u001b[0m         utc\u001b[39m=\u001b[39;49mutc,\n\u001b[0;32m   2181\u001b[0m         dayfirst\u001b[39m=\u001b[39;49mdayfirst,\n\u001b[0;32m   2182\u001b[0m         yearfirst\u001b[39m=\u001b[39;49myearfirst,\n\u001b[0;32m   2183\u001b[0m         require_iso8601\u001b[39m=\u001b[39;49mrequire_iso8601,\n\u001b[0;32m   2184\u001b[0m         allow_mixed\u001b[39m=\u001b[39;49mallow_mixed,\n\u001b[0;32m   2185\u001b[0m     )\n\u001b[0;32m   2186\u001b[0m     result \u001b[39m=\u001b[39m result\u001b[39m.\u001b[39mreshape(data\u001b[39m.\u001b[39mshape, order\u001b[39m=\u001b[39morder)\n\u001b[0;32m   2187\u001b[0m \u001b[39mexcept\u001b[39;00m \u001b[39mOverflowError\u001b[39;00m \u001b[39mas\u001b[39;00m err:\n\u001b[0;32m   2188\u001b[0m     \u001b[39m# Exception is raised when a part of date is greater than 32 bit signed int\u001b[39;00m\n",
      "File \u001b[1;32mc:\\Users\\23336058929\\Documents\\REPOSITORIOS_GIT\\osoetsy_csv\\.venv\\Lib\\site-packages\\pandas\\_libs\\tslib.pyx:427\u001b[0m, in \u001b[0;36mpandas._libs.tslib.array_to_datetime\u001b[1;34m()\u001b[0m\n",
      "File \u001b[1;32mc:\\Users\\23336058929\\Documents\\REPOSITORIOS_GIT\\osoetsy_csv\\.venv\\Lib\\site-packages\\pandas\\_libs\\tslib.pyx:678\u001b[0m, in \u001b[0;36mpandas._libs.tslib.array_to_datetime\u001b[1;34m()\u001b[0m\n",
      "File \u001b[1;32mc:\\Users\\23336058929\\Documents\\REPOSITORIOS_GIT\\osoetsy_csv\\.venv\\Lib\\site-packages\\pandas\\_libs\\tslib.pyx:674\u001b[0m, in \u001b[0;36mpandas._libs.tslib.array_to_datetime\u001b[1;34m()\u001b[0m\n",
      "File \u001b[1;32mc:\\Users\\23336058929\\Documents\\REPOSITORIOS_GIT\\osoetsy_csv\\.venv\\Lib\\site-packages\\pandas\\_libs\\tslib.pyx:628\u001b[0m, in \u001b[0;36mpandas._libs.tslib.array_to_datetime\u001b[1;34m()\u001b[0m\n",
      "File \u001b[1;32mc:\\Users\\23336058929\\Documents\\REPOSITORIOS_GIT\\osoetsy_csv\\.venv\\Lib\\site-packages\\pandas\\_libs\\tslibs\\conversion.pyx:391\u001b[0m, in \u001b[0;36mpandas._libs.tslibs.conversion.convert_datetime_to_tsobject\u001b[1;34m()\u001b[0m\n",
      "File \u001b[1;32mc:\\Users\\23336058929\\Documents\\REPOSITORIOS_GIT\\osoetsy_csv\\.venv\\Lib\\site-packages\\pandas\\_libs\\tslibs\\np_datetime.pyx:212\u001b[0m, in \u001b[0;36mpandas._libs.tslibs.np_datetime.check_dts_bounds\u001b[1;34m()\u001b[0m\n",
      "\u001b[1;31mOutOfBoundsDatetime\u001b[0m: Out of bounds nanosecond timestamp: 91-09-05 00:00:00 present at position 39"
     ]
    }
   ],
   "source": [
    "fecha= '01/01/1974'\n",
    "\n",
    "fecha_correg= (pd.to_datetime('today') - pd.to_datetime(padon_1['Fch_Nac'])).days // 365.25 > 50\n",
    "\n",
    "edad= (pd.to_datetime('today') - pd.to_datetime(fecha)).days // 365.25\n",
    "\n",
    "print(fecha_correg)\n"
   ]
  }
 ],
 "metadata": {
  "kernelspec": {
   "display_name": ".venv",
   "language": "python",
   "name": "python3"
  },
  "language_info": {
   "codemirror_mode": {
    "name": "ipython",
    "version": 3
   },
   "file_extension": ".py",
   "mimetype": "text/x-python",
   "name": "python",
   "nbconvert_exporter": "python",
   "pygments_lexer": "ipython3",
   "version": "3.11.3"
  },
  "orig_nbformat": 4,
  "vscode": {
   "interpreter": {
    "hash": "1f64b729a01f235b3ec02af186f3a50c3d881136f08176a7df610cc16261a174"
   }
  }
 },
 "nbformat": 4,
 "nbformat_minor": 2
}
