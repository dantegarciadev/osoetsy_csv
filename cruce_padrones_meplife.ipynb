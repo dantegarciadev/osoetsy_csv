{
 "cells": [
  {
   "cell_type": "code",
   "execution_count": 1,
   "metadata": {},
   "outputs": [],
   "source": [
    "import pandas as pd\n",
    "import numpy as np\n",
    "import xlwt\n",
    "import xlrd\n",
    "from tkinter import filedialog\n",
    "import tkinter as tk\n",
    "import customtkinter as ctk\n",
    "from customtkinter import filedialog\n",
    "import funciones\n",
    "import datetime\n",
    "from datetime import datetime\n",
    "import re"
   ]
  },
  {
   "attachments": {},
   "cell_type": "markdown",
   "metadata": {},
   "source": [
    "### cargar archivo 1"
   ]
  },
  {
   "cell_type": "code",
   "execution_count": 8,
   "metadata": {},
   "outputs": [
    {
     "name": "stdout",
     "output_type": "stream",
     "text": [
      "<_io.TextIOWrapper name='C:/Users/zickd/Downloads/UOETSYLRA JUNIO.xlsx' mode='r' encoding='cp1252'>\n",
      "      Codigo  CUIT_Empleador  CUIL_Titular  Parentesco  CUIL_Familiar  \\\n",
      "0     127406     20240830214   20240830214           0    20240830214   \n",
      "1     127406     20119590958   20119590958           0    20119590958   \n",
      "2     127406     27425694192   27425694192           0    27425694192   \n",
      "3     127406     27425694192   27425694192           3    20549159851   \n",
      "4     127406     27270992132   27270992132           0    27270992132   \n",
      "...      ...             ...           ...         ...            ...   \n",
      "1682  127406     20190072577   20190072577           0    20190072577   \n",
      "1683  127406     27321459590   27321459590           0    27321459590   \n",
      "1684  127406     27174774221   27174774221           0    27174774221   \n",
      "1685  127406     27174774221   27174774221           1    20149595150   \n",
      "1686  127406     27316755637   27316755637           0    27316755637   \n",
      "\n",
      "     Tipo_Doc   Nro_Doc       Apellido                      Nombre Sexo  ...  \\\n",
      "0          DU  24083021         ELISII   CHRISTIAN MAURICIO JAVIER    M  ...   \n",
      "1          DU  11959095       PEDEZERT            FERNANDO RICARDO    M  ...   \n",
      "2          DU  42569419   NINA RAMIREZ               TANIA SOLEDAD    F  ...   \n",
      "3          DU  54915985  ANDACABA NINA                ULISES UZIEL    M  ...   \n",
      "4          DU  27099213            RAU             CINTHIA BETIANA    F  ...   \n",
      "...       ...       ...            ...                         ...  ...  ...   \n",
      "1682       DU  19007257        ENRIQUE             MARTIN BENJAMIN    M  ...   \n",
      "1683       DU  32145959       GONZALEZ           ROMINA  ALEJANDRA    F  ...   \n",
      "1684       DU  17477422      MALDONADO                     CLAUDIA    F  ...   \n",
      "1685       DU  14959515    MAC DOUGALL                 SERGIO LUIS    M  ...   \n",
      "1686       DU  31675563          CRACI            VERONICA BEATRIZ    F  ...   \n",
      "\n",
      "        CP  Provincia  Tipo_domi    Telefono Revista Incapacidad  \\\n",
      "0     1650          2          1  1158319409      99           0   \n",
      "1     1628          2          1  1127915604      99           0   \n",
      "2     1627          2          1  1168116908      99           0   \n",
      "3     1627          2          1         NaN      99           0   \n",
      "4     1629          2          1  2304301189      99           0   \n",
      "...    ...        ...        ...         ...     ...         ...   \n",
      "1682  1667          2          1  1164135879      99           0   \n",
      "1683  1865          2          1         NaN      99           0   \n",
      "1684  1611          2          1  1167011882      99           0   \n",
      "1685  1611          2          1         NaN      99           0   \n",
      "1686  1406          2          1         NaN      99           0   \n",
      "\n",
      "     Tipo_Beneficiario Fch_Alta_OS   nro_gpo      nro_sss  \n",
      "0                    4     1112022  20001933  351968327.0  \n",
      "1                    4     1112022  20001941  351994841.0  \n",
      "2                    4     1112022  20001944  351974448.0  \n",
      "3                    4     1112022  20001944  351974448.0  \n",
      "4                    4     1112022  20001946  351989198.0  \n",
      "...                ...         ...       ...          ...  \n",
      "1682                 4     1062023  20005799          NaN  \n",
      "1683                 4     1052023  20005852  352276196.0  \n",
      "1684                 4     1062023  20006025  352691714.0  \n",
      "1685                 4     1062023  20006025  352691714.0  \n",
      "1686                 4     1062023  20006029  352641009.0  \n",
      "\n",
      "[1687 rows x 28 columns]\n"
     ]
    }
   ],
   "source": [
    "archivo = None\n",
    "while True:\n",
    "    archivo = funciones.seleccionar_archivo()\n",
    "    print(archivo)\n",
    "    if archivo:\n",
    "        ruta_archivo = archivo.name\n",
    "        try:\n",
    "            padon_1 = pd.read_excel(ruta_archivo, engine='openpyxl')\n",
    "            #padron = pd.read_csv(archivo, sep=\";\", encoding=\"ISO-8859-1\")\n",
    "            print(padon_1)\n",
    "            break\n",
    "        except UnicodeDecodeError:\n",
    "            print(\"Error de decodificación de caracteres. Intenta con otra codificación o archivo.\")\n",
    "            continue\n",
    "    else:\n",
    "        print(\"Archivo incorrecto. Por favor, vuelva a cargarlo.\")\n"
   ]
  },
  {
   "attachments": {},
   "cell_type": "markdown",
   "metadata": {},
   "source": [
    "### cargar archivo 2"
   ]
  },
  {
   "cell_type": "code",
   "execution_count": 9,
   "metadata": {},
   "outputs": [
    {
     "name": "stdout",
     "output_type": "stream",
     "text": [
      "<_io.TextIOWrapper name='C:/Users/zickd/Downloads/sidefitotaljunio.csv' mode='r' encoding='cp1252'>\n",
      "       Nro. OS      Plan del Afiliado Opcion  Nro. Grupo Familiar  \\\n",
      "0            7            Desregulado     SI             26407599   \n",
      "1            7            Desregulado     SI             26407599   \n",
      "2            6               Afiliado     SI             30694069   \n",
      "3           10            Desregulado     SI             31403090   \n",
      "4            1  Monotributista social     NO             36821087   \n",
      "...        ...                    ...    ...                  ...   \n",
      "15523        4            Desregulado     SI             21601831   \n",
      "15524        4            Desregulado     SI             21601831   \n",
      "15525        4            Desregulado     SI             21601831   \n",
      "15526        4            Desregulado     SI             21601831   \n",
      "15527        1               Afiliado     SI             36602782   \n",
      "\n",
      "         Nro. Afiliado Parentesco con el TITULAR Apellido Afiliado  \\\n",
      "0      020-26407599-00                   TITULAR              ABAD   \n",
      "1      020-26407599-02                    Hijo/a             TEVEZ   \n",
      "2      010-30694069-00                   TITULAR             ABADI   \n",
      "3      040-31403090-00                   TITULAR           ABALLAY   \n",
      "4      030-36821087-00                   TITULAR           ABALLAY   \n",
      "...                ...                       ...               ...   \n",
      "15523  030-21601831-04                    Hijo/a            MORTON   \n",
      "15524  030-21601831-05                    Hijo/a          SAFFORES   \n",
      "15525  030-21601831-06                    Hijo/a            MORTON   \n",
      "15526  030-21601831-07                    Hijo/a            MORTON   \n",
      "15527  010-36602782-00                   TITULAR         ZWIERCZYK   \n",
      "\n",
      "              Nombre Afiliado                Tipo Documento  Nro. Documento  \\\n",
      "0                      VANESA  Documento Nacional Identidad        26407599   \n",
      "1                       MATEO  Documento Nacional Identidad        47279801   \n",
      "2                  PEDRO RAUL  Documento Nacional Identidad        30694069   \n",
      "3          VERONICA ALEJANDRA  Documento Nacional Identidad        31403090   \n",
      "4      VICTORIA DULCE DANIELA  Documento Nacional Identidad        36821087   \n",
      "...                       ...                           ...             ...   \n",
      "15523        ANTHONY VALENTIN  Documento Nacional Identidad        54403271   \n",
      "15524          MICAELA XIMENA  Documento Nacional Identidad        48231861   \n",
      "15525         NAIARA CONTANZA  Documento Nacional Identidad        52668909   \n",
      "15526          ISABELLA ANAHI  Documento Nacional Identidad        56631137   \n",
      "15527           HECTOR DAMIAN  Documento Nacional Identidad        36602782   \n",
      "\n",
      "       ... Nro. Puerta Piso Departamento Barrio         Localidad  \\\n",
      "0      ...        3165  NaN          NaN    NaN     VICENTE LOPEZ   \n",
      "1      ...        3165  NaN          NaN    NaN     VICENTE LOPEZ   \n",
      "2      ...        4045  NaN          NaN    NaN             MERLO   \n",
      "3      ...           1  NaN          NaN    NaN  FLORENCIO VARELA   \n",
      "4      ...        1520  NaN          NaN    NaN   VIRREY DEL PINO   \n",
      "...    ...         ...  ...          ...    ...               ...   \n",
      "15523  ...        5523  NaN          NaN    NaN   ISIDRO CASANOVA   \n",
      "15524  ...        5523  NaN          NaN    NaN   ISIDRO CASANOVA   \n",
      "15525  ...        5523  NaN          NaN    NaN   ISIDRO CASANOVA   \n",
      "15526  ...        5523  NaN          NaN    NaN   ISIDRO CASANOVA   \n",
      "15527  ...        3057  NaN          NaN    NaN  FLORENCIO VARELA   \n",
      "\n",
      "          Provincia  Codigo Postal         Telefono        Celular  \\\n",
      "0      BUENOS AIRES           1638                      1135614959   \n",
      "1      BUENOS AIRES           1638              NaN            NaN   \n",
      "2      BUENOS AIRES           1722                    11 5937-8276   \n",
      "3      BUENOS AIRES           1888       1133164359                  \n",
      "4      BUENOS AIRES           1763  11 11 3818-6283                  \n",
      "...             ...            ...              ...            ...   \n",
      "15523  BUENOS AIRES            NaN              NaN            NaN   \n",
      "15524  BUENOS AIRES            NaN              NaN            NaN   \n",
      "15525  BUENOS AIRES            NaN              NaN            NaN   \n",
      "15526  BUENOS AIRES            NaN              NaN            NaN   \n",
      "15527  BUENOS AIRES           1888     11 4221-4317  11 1552280736   \n",
      "\n",
      "                         Email  \n",
      "0                          NaN  \n",
      "1                          NaN  \n",
      "2      pedro_abadi@hotmail.com  \n",
      "3                          NaN  \n",
      "4                          NaN  \n",
      "...                        ...  \n",
      "15523                      NaN  \n",
      "15524                      NaN  \n",
      "15525                      NaN  \n",
      "15526                      NaN  \n",
      "15527                      NaN  \n",
      "\n",
      "[15528 rows x 34 columns]\n"
     ]
    }
   ],
   "source": [
    "archivo = None\n",
    "while True:\n",
    "    archivo = funciones.seleccionar_archivo()\n",
    "    print(archivo)\n",
    "    if archivo:\n",
    "        ruta_archivo = archivo.name\n",
    "        try:\n",
    "            #padron_2 = pd.read_excel(ruta_archivo, engine='xlrd')\n",
    "            padron_2 = pd.read_csv(archivo, sep=\";\", encoding=\"ISO-8859-1\")\n",
    "            print(padron_2)\n",
    "            break\n",
    "        except UnicodeDecodeError:\n",
    "            print(\"Error de decodificación de caracteres. Intenta con otra codificación o archivo.\")\n",
    "            continue\n",
    "    else:\n",
    "        print(\"Archivo incorrecto. Por favor, vuelva a cargarlo.\")\n"
   ]
  },
  {
   "attachments": {},
   "cell_type": "markdown",
   "metadata": {},
   "source": [
    "### Normalizar DNI archivo convenio"
   ]
  },
  {
   "cell_type": "code",
   "execution_count": 14,
   "metadata": {},
   "outputs": [
    {
     "name": "stdout",
     "output_type": "stream",
     "text": [
      "<class 'pandas.core.frame.DataFrame'>\n",
      "RangeIndex: 1687 entries, 0 to 1686\n",
      "Data columns (total 30 columns):\n",
      " #   Column             Non-Null Count  Dtype  \n",
      "---  ------             --------------  -----  \n",
      " 0   Codigo             1687 non-null   int64  \n",
      " 1   CUIT_Empleador     1687 non-null   int64  \n",
      " 2   CUIL_Titular       1687 non-null   int64  \n",
      " 3   Parentesco         1687 non-null   int64  \n",
      " 4   CUIL_Familiar      1687 non-null   int64  \n",
      " 5   Tipo_Doc           1687 non-null   object \n",
      " 6   Nro_Doc            1687 non-null   int64  \n",
      " 7   Apellido           1687 non-null   object \n",
      " 8   Nombre             1687 non-null   object \n",
      " 9   Sexo               1687 non-null   object \n",
      " 10  Estado_Civil       1687 non-null   int64  \n",
      " 11  Fch_Nac            1687 non-null   int64  \n",
      " 12  Nacionalidad       1687 non-null   int64  \n",
      " 13  Calle              1687 non-null   object \n",
      " 14  Nro                203 non-null    object \n",
      " 15  Piso               20 non-null     object \n",
      " 16  Dpto               17 non-null     object \n",
      " 17  Localidad          1687 non-null   object \n",
      " 18  CP                 1687 non-null   object \n",
      " 19  Provincia          1687 non-null   object \n",
      " 20  Tipo_domi          1687 non-null   object \n",
      " 21  Telefono           217 non-null    object \n",
      " 22  Revista            1687 non-null   int64  \n",
      " 23  Incapacidad        1687 non-null   int64  \n",
      " 24  Tipo_Beneficiario  1687 non-null   int64  \n",
      " 25  Fch_Alta_OS        1687 non-null   int64  \n",
      " 26  nro_gpo            1687 non-null   int64  \n",
      " 27  nro_sss            1682 non-null   float64\n",
      " 28  dni                1687 non-null   object \n",
      " 29  dni2               1687 non-null   int32  \n",
      "dtypes: float64(1), int32(1), int64(14), object(14)\n",
      "memory usage: 388.9+ KB\n",
      "None\n"
     ]
    }
   ],
   "source": [
    "print(padon_1.info())"
   ]
  },
  {
   "cell_type": "code",
   "execution_count": 18,
   "metadata": {},
   "outputs": [
    {
     "ename": "AttributeError",
     "evalue": "module 'datetime' has no attribute 'strptime'",
     "output_type": "error",
     "traceback": [
      "\u001b[1;31m---------------------------------------------------------------------------\u001b[0m",
      "\u001b[1;31mAttributeError\u001b[0m                            Traceback (most recent call last)",
      "Cell \u001b[1;32mIn[18], line 19\u001b[0m\n\u001b[0;32m     16\u001b[0m     \u001b[39mreturn\u001b[39;00m fecha_normalizada\n\u001b[0;32m     18\u001b[0m \u001b[39m# Aplicar la función a la columna \"fecha\"\u001b[39;00m\n\u001b[1;32m---> 19\u001b[0m padon_1[\u001b[39m'\u001b[39m\u001b[39mFch_Nac\u001b[39m\u001b[39m'\u001b[39m] \u001b[39m=\u001b[39m padon_1[\u001b[39m'\u001b[39;49m\u001b[39mFch_Nac\u001b[39;49m\u001b[39m'\u001b[39;49m]\u001b[39m.\u001b[39;49mapply(normalizar_fecha)\n\u001b[0;32m     20\u001b[0m \u001b[39mprint\u001b[39m(padon_1[[\u001b[39m'\u001b[39m\u001b[39mFch_Nac\u001b[39m\u001b[39m'\u001b[39m,\u001b[39m'\u001b[39m\u001b[39mdni2\u001b[39m\u001b[39m'\u001b[39m]]\u001b[39m.\u001b[39mhead(\u001b[39m30\u001b[39m))\n",
      "File \u001b[1;32mc:\\Users\\zickd\\OneDrive\\Documentos\\repositoriosGit\\osoetsy_csv\\.venv\\Lib\\site-packages\\pandas\\core\\series.py:4771\u001b[0m, in \u001b[0;36mSeries.apply\u001b[1;34m(self, func, convert_dtype, args, **kwargs)\u001b[0m\n\u001b[0;32m   4661\u001b[0m \u001b[39mdef\u001b[39;00m \u001b[39mapply\u001b[39m(\n\u001b[0;32m   4662\u001b[0m     \u001b[39mself\u001b[39m,\n\u001b[0;32m   4663\u001b[0m     func: AggFuncType,\n\u001b[1;32m   (...)\u001b[0m\n\u001b[0;32m   4666\u001b[0m     \u001b[39m*\u001b[39m\u001b[39m*\u001b[39mkwargs,\n\u001b[0;32m   4667\u001b[0m ) \u001b[39m-\u001b[39m\u001b[39m>\u001b[39m DataFrame \u001b[39m|\u001b[39m Series:\n\u001b[0;32m   4668\u001b[0m \u001b[39m    \u001b[39m\u001b[39m\"\"\"\u001b[39;00m\n\u001b[0;32m   4669\u001b[0m \u001b[39m    Invoke function on values of Series.\u001b[39;00m\n\u001b[0;32m   4670\u001b[0m \n\u001b[1;32m   (...)\u001b[0m\n\u001b[0;32m   4769\u001b[0m \u001b[39m    dtype: float64\u001b[39;00m\n\u001b[0;32m   4770\u001b[0m \u001b[39m    \"\"\"\u001b[39;00m\n\u001b[1;32m-> 4771\u001b[0m     \u001b[39mreturn\u001b[39;00m SeriesApply(\u001b[39mself\u001b[39;49m, func, convert_dtype, args, kwargs)\u001b[39m.\u001b[39;49mapply()\n",
      "File \u001b[1;32mc:\\Users\\zickd\\OneDrive\\Documentos\\repositoriosGit\\osoetsy_csv\\.venv\\Lib\\site-packages\\pandas\\core\\apply.py:1123\u001b[0m, in \u001b[0;36mSeriesApply.apply\u001b[1;34m(self)\u001b[0m\n\u001b[0;32m   1120\u001b[0m     \u001b[39mreturn\u001b[39;00m \u001b[39mself\u001b[39m\u001b[39m.\u001b[39mapply_str()\n\u001b[0;32m   1122\u001b[0m \u001b[39m# self.f is Callable\u001b[39;00m\n\u001b[1;32m-> 1123\u001b[0m \u001b[39mreturn\u001b[39;00m \u001b[39mself\u001b[39;49m\u001b[39m.\u001b[39;49mapply_standard()\n",
      "File \u001b[1;32mc:\\Users\\zickd\\OneDrive\\Documentos\\repositoriosGit\\osoetsy_csv\\.venv\\Lib\\site-packages\\pandas\\core\\apply.py:1174\u001b[0m, in \u001b[0;36mSeriesApply.apply_standard\u001b[1;34m(self)\u001b[0m\n\u001b[0;32m   1172\u001b[0m     \u001b[39melse\u001b[39;00m:\n\u001b[0;32m   1173\u001b[0m         values \u001b[39m=\u001b[39m obj\u001b[39m.\u001b[39mastype(\u001b[39mobject\u001b[39m)\u001b[39m.\u001b[39m_values\n\u001b[1;32m-> 1174\u001b[0m         mapped \u001b[39m=\u001b[39m lib\u001b[39m.\u001b[39;49mmap_infer(\n\u001b[0;32m   1175\u001b[0m             values,\n\u001b[0;32m   1176\u001b[0m             f,\n\u001b[0;32m   1177\u001b[0m             convert\u001b[39m=\u001b[39;49m\u001b[39mself\u001b[39;49m\u001b[39m.\u001b[39;49mconvert_dtype,\n\u001b[0;32m   1178\u001b[0m         )\n\u001b[0;32m   1180\u001b[0m \u001b[39mif\u001b[39;00m \u001b[39mlen\u001b[39m(mapped) \u001b[39mand\u001b[39;00m \u001b[39misinstance\u001b[39m(mapped[\u001b[39m0\u001b[39m], ABCSeries):\n\u001b[0;32m   1181\u001b[0m     \u001b[39m# GH#43986 Need to do list(mapped) in order to get treated as nested\u001b[39;00m\n\u001b[0;32m   1182\u001b[0m     \u001b[39m#  See also GH#25959 regarding EA support\u001b[39;00m\n\u001b[0;32m   1183\u001b[0m     \u001b[39mreturn\u001b[39;00m obj\u001b[39m.\u001b[39m_constructor_expanddim(\u001b[39mlist\u001b[39m(mapped), index\u001b[39m=\u001b[39mobj\u001b[39m.\u001b[39mindex)\n",
      "File \u001b[1;32mc:\\Users\\zickd\\OneDrive\\Documentos\\repositoriosGit\\osoetsy_csv\\.venv\\Lib\\site-packages\\pandas\\_libs\\lib.pyx:2924\u001b[0m, in \u001b[0;36mpandas._libs.lib.map_infer\u001b[1;34m()\u001b[0m\n",
      "Cell \u001b[1;32mIn[18], line 15\u001b[0m, in \u001b[0;36mnormalizar_fecha\u001b[1;34m(Fch_Nac)\u001b[0m\n\u001b[0;32m     14\u001b[0m \u001b[39mdef\u001b[39;00m \u001b[39mnormalizar_fecha\u001b[39m(Fch_Nac):\n\u001b[1;32m---> 15\u001b[0m     fecha_normalizada \u001b[39m=\u001b[39m datetime\u001b[39m.\u001b[39;49mstrptime(Fch_Nac, \u001b[39m\"\u001b[39m\u001b[39m%d\u001b[39;00m\u001b[39m%\u001b[39m\u001b[39mm\u001b[39m\u001b[39m%\u001b[39m\u001b[39mY\u001b[39m\u001b[39m\"\u001b[39m)\u001b[39m.\u001b[39mstrftime(\u001b[39m\"\u001b[39m\u001b[39m%d\u001b[39;00m\u001b[39m/\u001b[39m\u001b[39m%\u001b[39m\u001b[39mm/\u001b[39m\u001b[39m%\u001b[39m\u001b[39mY\u001b[39m\u001b[39m\"\u001b[39m)\n\u001b[0;32m     16\u001b[0m     \u001b[39mreturn\u001b[39;00m fecha_normalizada\n",
      "\u001b[1;31mAttributeError\u001b[0m: module 'datetime' has no attribute 'strptime'"
     ]
    }
   ],
   "source": [
    "\n",
    "#armar el camp DNI juntando las los campos cuil titular y cuil familiar\n",
    "padon_1['dni']=padon_1['CUIL_Familiar'].fillna(padon_1['CUIL_Titular'])\n",
    "#limpiar el nuevo campo dni dejando solo los numeros \n",
    "padon_1['dni']=padon_1['dni'].apply(lambda x: re.sub('[^0-9]', '', str(x)))\n",
    "#dejar solo los numreros eliminar caracteres \n",
    "padon_1['dni2']=padon_1['dni'].apply(lambda x: x[2:10] if len(x)>= 8 else '0')\n",
    "#extraer el dni del cuil y dejar vacios los q son menores  a 8\n",
    "padon_1['dni2']=padon_1['dni2'].astype(int)\n",
    "#pasar el campo a int \n",
    "padon_1['Fch_Nac']=padon_1['Fch_Nac'].astype(str)\n",
    "#convertir fecha. \n",
    "print(padon_1['Fch_Nac'])\n",
    "padon_1=funciones.transformar_fecha(padon_1, 'Fch_Nac')\n",
    "\n",
    "# Función para normalizar la fecha\n",
    "def normalizar_fecha(fecha):\n",
    "    fecha_normalizada = datetime.strptime(fecha, \"%d%m%Y\").strftime(\"%d/%m/%Y\")\n",
    "    return fecha_normalizada\n",
    "\n",
    "# Aplicar la función a la columna \"fech_nacimiento\"\n",
    "df['fech_nacimiento'] = df['fech_nacimiento'].apply(normalizar_fecha)\n",
    "\n",
    "print(padon_1[['Fch_Nac','dni2']].head(30))\n"
   ]
  },
  {
   "attachments": {},
   "cell_type": "markdown",
   "metadata": {},
   "source": [
    "### Errores"
   ]
  },
  {
   "cell_type": "code",
   "execution_count": null,
   "metadata": {},
   "outputs": [],
   "source": [
    "condiciones = [\n",
    "    lambda row: row['dni'] is None or len(str(row['dni'])) < 8,\n",
    "    lambda row: row['FECHA DE NAC.*'] is None or (pd.to_datetime('today') - pd.to_datetime(row['FECHA DE NAC.*'])).days // 365.25 > 80,\n",
    "    lambda row: row['CUIL*'] >999999 and (pd.to_datetime('today') - pd.to_datetime(row['FECHA DE NAC.*'])).days / 365.25 > 25,\n",
    "    lambda row: row['LOCALIDAD*'] is None\n",
    "]\n",
    "mensajes = [\n",
    "    'Error en DNI',\n",
    "    'Error en la edad',\n",
    "    'familiar mayor de edad',\n",
    "    'localidad vacía'\n",
    "]\n",
    "\n",
    "def generar_columnas_error(row):\n",
    "    errores = {}\n",
    "    for i in range(len(condiciones)):\n",
    "        if condiciones[i](row):\n",
    "            columna_error = f'error{i+1}'\n",
    "            errores[columna_error] = mensajes[i]\n",
    "    return pd.Series(errores)\n",
    "\n",
    "df_errores = padon_1.apply(generar_columnas_error, axis=1)\n",
    "\n",
    "\n",
    "df_nuevo = pd.concat([padon_1, df_errores], axis=1)\n",
    "\n",
    "df_sin_error = df_nuevo[df_nuevo['error1'].notna() | df_nuevo['error2'].notna() | df_nuevo['error3'].notna()]\n",
    "\n",
    "df_sin_error.to_excel(r'C:\\Users\\zickd\\Downloads\\test_errores.xlsx', engine='openpyxl', index=False)\n",
    "\n",
    "df_sin_errores = df_nuevo[df_nuevo['error1'].isnull() & df_nuevo['error2'].isnull() & df_nuevo['error3'].isnull()]\n",
    "\n",
    "#df_errores.to_excel(r'C:\\Users\\zickd\\Downloads\\sin_errores.xlsx', engine='openpyxl', index=False)\n",
    "\n",
    "df_sin_errores.to_excel(r'C:\\Users\\zickd\\Downloads\\sin_errores.xlsx', engine='openpyxl', index=False)\n"
   ]
  },
  {
   "attachments": {},
   "cell_type": "markdown",
   "metadata": {},
   "source": [
    "### Merge archivos x DNI"
   ]
  },
  {
   "cell_type": "code",
   "execution_count": 11,
   "metadata": {},
   "outputs": [],
   "source": [
    "cruce_tis=pd.merge(padon_1, padron_2, left_on='dni2', right_on='Nro. Documento', how='left', indicator=True)\n",
    "#cruce_tis.to_excel(r'C:\\Users\\zickd\\Downloads\\merge.xlsx', engine='openpyxl', index=False)\n",
    "\n",
    "cruce_tis_filtro=cruce_tis[cruce_tis['_merge']=='left_only']\n",
    "\n",
    "#print(cruce_tis_filtro.head(5))"
   ]
  },
  {
   "attachments": {},
   "cell_type": "markdown",
   "metadata": {},
   "source": [
    "### exportar el cruce"
   ]
  },
  {
   "cell_type": "code",
   "execution_count": 12,
   "metadata": {},
   "outputs": [],
   "source": [
    "save_path = filedialog.askdirectory()\n",
    "#uso iloc por si las columnas tienen el mismo nombre, necesito la primeras 20 columnas\n",
    "cruce_tis_filtro.iloc[:, :28].to_excel(save_path + '\\cruce_meplife.xlsx', engine='openpyxl' ,index = False )\n",
    "\n"
   ]
  }
 ],
 "metadata": {
  "kernelspec": {
   "display_name": ".venv",
   "language": "python",
   "name": "python3"
  },
  "language_info": {
   "codemirror_mode": {
    "name": "ipython",
    "version": 3
   },
   "file_extension": ".py",
   "mimetype": "text/x-python",
   "name": "python",
   "nbconvert_exporter": "python",
   "pygments_lexer": "ipython3",
   "version": "3.11.3"
  },
  "orig_nbformat": 4,
  "vscode": {
   "interpreter": {
    "hash": "1f64b729a01f235b3ec02af186f3a50c3d881136f08176a7df610cc16261a174"
   }
  }
 },
 "nbformat": 4,
 "nbformat_minor": 2
}
