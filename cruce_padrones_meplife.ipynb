{
 "cells": [
  {
   "cell_type": "code",
   "execution_count": 12,
   "metadata": {},
   "outputs": [],
   "source": [
    "import pandas as pd\n",
    "import numpy as np\n",
    "import xlwt\n",
    "import xlrd\n",
    "from tkinter import filedialog\n",
    "import tkinter as tk\n",
    "import customtkinter as ctk\n",
    "from customtkinter import filedialog\n",
    "import funciones\n",
    "import datetime\n",
    "from datetime import datetime\n",
    "import re"
   ]
  },
  {
   "attachments": {},
   "cell_type": "markdown",
   "metadata": {},
   "source": [
    "### cargar archivo 1"
   ]
  },
  {
   "cell_type": "code",
   "execution_count": 19,
   "metadata": {},
   "outputs": [
    {
     "name": "stdout",
     "output_type": "stream",
     "text": [
      "<_io.TextIOWrapper name='C:/Users/23336058929/Downloads/UOETSYLRA JUNIO.xlsx' mode='r' encoding='cp1252'>\n",
      "      Codigo  CUIT_Empleador  CUIL_Titular  Parentesco  CUIL_Familiar  \\\n",
      "0     127406     20240830214   20240830214           0    20240830214   \n",
      "1     127406     20119590958   20119590958           0    20119590958   \n",
      "2     127406     27425694192   27425694192           0    27425694192   \n",
      "3     127406     27425694192   27425694192           3    20549159851   \n",
      "4     127406     27270992132   27270992132           0    27270992132   \n",
      "...      ...             ...           ...         ...            ...   \n",
      "1682  127406     20190072577   20190072577           0    20190072577   \n",
      "1683  127406     27321459590   27321459590           0    27321459590   \n",
      "1684  127406     27174774221   27174774221           0    27174774221   \n",
      "1685  127406     27174774221   27174774221           1    20149595150   \n",
      "1686  127406     27316755637   27316755637           0    27316755637   \n",
      "\n",
      "     Tipo_Doc   Nro_Doc       Apellido                      Nombre Sexo  ...  \\\n",
      "0          DU  24083021         ELISII   CHRISTIAN MAURICIO JAVIER    M  ...   \n",
      "1          DU  11959095       PEDEZERT            FERNANDO RICARDO    M  ...   \n",
      "2          DU  42569419   NINA RAMIREZ               TANIA SOLEDAD    F  ...   \n",
      "3          DU  54915985  ANDACABA NINA                ULISES UZIEL    M  ...   \n",
      "4          DU  27099213            RAU             CINTHIA BETIANA    F  ...   \n",
      "...       ...       ...            ...                         ...  ...  ...   \n",
      "1682       DU  19007257        ENRIQUE             MARTIN BENJAMIN    M  ...   \n",
      "1683       DU  32145959       GONZALEZ           ROMINA  ALEJANDRA    F  ...   \n",
      "1684       DU  17477422      MALDONADO                     CLAUDIA    F  ...   \n",
      "1685       DU  14959515    MAC DOUGALL                 SERGIO LUIS    M  ...   \n",
      "1686       DU  31675563          CRACI            VERONICA BEATRIZ    F  ...   \n",
      "\n",
      "        CP  Provincia  Tipo_domi    Telefono Revista Incapacidad  \\\n",
      "0     1650          2          1  1158319409      99           0   \n",
      "1     1628          2          1  1127915604      99           0   \n",
      "2     1627          2          1  1168116908      99           0   \n",
      "3     1627          2          1         NaN      99           0   \n",
      "4     1629          2          1  2304301189      99           0   \n",
      "...    ...        ...        ...         ...     ...         ...   \n",
      "1682  1667          2          1  1164135879      99           0   \n",
      "1683  1865          2          1         NaN      99           0   \n",
      "1684  1611          2          1  1167011882      99           0   \n",
      "1685  1611          2          1         NaN      99           0   \n",
      "1686  1406          2          1         NaN      99           0   \n",
      "\n",
      "     Tipo_Beneficiario Fch_Alta_OS   nro_gpo      nro_sss  \n",
      "0                    4     1112022  20001933  351968327.0  \n",
      "1                    4     1112022  20001941  351994841.0  \n",
      "2                    4     1112022  20001944  351974448.0  \n",
      "3                    4     1112022  20001944  351974448.0  \n",
      "4                    4     1112022  20001946  351989198.0  \n",
      "...                ...         ...       ...          ...  \n",
      "1682                 4     1062023  20005799          NaN  \n",
      "1683                 4     1052023  20005852  352276196.0  \n",
      "1684                 4     1062023  20006025  352691714.0  \n",
      "1685                 4     1062023  20006025  352691714.0  \n",
      "1686                 4     1062023  20006029  352641009.0  \n",
      "\n",
      "[1687 rows x 28 columns]\n"
     ]
    }
   ],
   "source": [
    "archivo = None\n",
    "while True:\n",
    "    archivo = funciones.seleccionar_archivo()\n",
    "    print(archivo)\n",
    "    if archivo:\n",
    "        ruta_archivo = archivo.name\n",
    "        try:\n",
    "            padon_1 = pd.read_excel(ruta_archivo, engine='openpyxl')\n",
    "            #padron = pd.read_csv(archivo, sep=\";\", encoding=\"ISO-8859-1\")\n",
    "            print(padon_1)\n",
    "            break\n",
    "        except UnicodeDecodeError:\n",
    "            print(\"Error de decodificación de caracteres. Intenta con otra codificación o archivo.\")\n",
    "            continue\n",
    "    else:\n",
    "        print(\"Archivo incorrecto. Por favor, vuelva a cargarlo.\")\n"
   ]
  },
  {
   "attachments": {},
   "cell_type": "markdown",
   "metadata": {},
   "source": [
    "### cargar archivo 2"
   ]
  },
  {
   "cell_type": "code",
   "execution_count": 22,
   "metadata": {},
   "outputs": [
    {
     "name": "stdout",
     "output_type": "stream",
     "text": [
      "<_io.TextIOWrapper name='C:/Users/23336058929/Downloads/20729.csv' mode='r' encoding='cp1252'>\n",
      "       Nro. OS      Plan del Afiliado Opcion  Nro. Grupo Familiar  \\\n",
      "0            7            Desregulado     SI             26407599   \n",
      "1            7            Desregulado     SI             26407599   \n",
      "2            6               Afiliado     SI             30694069   \n",
      "3           10            Desregulado     SI             31403090   \n",
      "4            1  Monotributista social     NO             36821087   \n",
      "...        ...                    ...    ...                  ...   \n",
      "15523        4            Desregulado     SI             21601831   \n",
      "15524        4            Desregulado     SI             21601831   \n",
      "15525        4            Desregulado     SI             21601831   \n",
      "15526        4            Desregulado     SI             21601831   \n",
      "15527        1               Afiliado     SI             36602782   \n",
      "\n",
      "         Nro. Afiliado Parentesco con el TITULAR Apellido Afiliado  \\\n",
      "0      020-26407599-00                   TITULAR              ABAD   \n",
      "1      020-26407599-02                    Hijo/a             TEVEZ   \n",
      "2      010-30694069-00                   TITULAR             ABADI   \n",
      "3      040-31403090-00                   TITULAR           ABALLAY   \n",
      "4      030-36821087-00                   TITULAR           ABALLAY   \n",
      "...                ...                       ...               ...   \n",
      "15523  030-21601831-04                    Hijo/a            MORTON   \n",
      "15524  030-21601831-05                    Hijo/a          SAFFORES   \n",
      "15525  030-21601831-06                    Hijo/a            MORTON   \n",
      "15526  030-21601831-07                    Hijo/a            MORTON   \n",
      "15527  010-36602782-00                   TITULAR         ZWIERCZYK   \n",
      "\n",
      "              Nombre Afiliado                Tipo Documento  Nro. Documento  \\\n",
      "0                      VANESA  Documento Nacional Identidad        26407599   \n",
      "1                       MATEO  Documento Nacional Identidad        47279801   \n",
      "2                  PEDRO RAUL  Documento Nacional Identidad        30694069   \n",
      "3          VERONICA ALEJANDRA  Documento Nacional Identidad        31403090   \n",
      "4      VICTORIA DULCE DANIELA  Documento Nacional Identidad        36821087   \n",
      "...                       ...                           ...             ...   \n",
      "15523        ANTHONY VALENTIN  Documento Nacional Identidad        54403271   \n",
      "15524          MICAELA XIMENA  Documento Nacional Identidad        48231861   \n",
      "15525         NAIARA CONTANZA  Documento Nacional Identidad        52668909   \n",
      "15526          ISABELLA ANAHI  Documento Nacional Identidad        56631137   \n",
      "15527           HECTOR DAMIAN  Documento Nacional Identidad        36602782   \n",
      "\n",
      "       ... Nro. Puerta Piso Departamento Barrio         Localidad  \\\n",
      "0      ...        3165  NaN          NaN    NaN     VICENTE LOPEZ   \n",
      "1      ...        3165  NaN          NaN    NaN     VICENTE LOPEZ   \n",
      "2      ...        4045  NaN          NaN    NaN             MERLO   \n",
      "3      ...           1  NaN          NaN    NaN  FLORENCIO VARELA   \n",
      "4      ...        1520  NaN          NaN    NaN   VIRREY DEL PINO   \n",
      "...    ...         ...  ...          ...    ...               ...   \n",
      "15523  ...        5523  NaN          NaN    NaN   ISIDRO CASANOVA   \n",
      "15524  ...        5523  NaN          NaN    NaN   ISIDRO CASANOVA   \n",
      "15525  ...        5523  NaN          NaN    NaN   ISIDRO CASANOVA   \n",
      "15526  ...        5523  NaN          NaN    NaN   ISIDRO CASANOVA   \n",
      "15527  ...        3057  NaN          NaN    NaN  FLORENCIO VARELA   \n",
      "\n",
      "          Provincia  Codigo Postal         Telefono        Celular  \\\n",
      "0      BUENOS AIRES           1638                      1135614959   \n",
      "1      BUENOS AIRES           1638              NaN            NaN   \n",
      "2      BUENOS AIRES           1722                    11 5937-8276   \n",
      "3      BUENOS AIRES           1888       1133164359                  \n",
      "4      BUENOS AIRES           1763  11 11 3818-6283                  \n",
      "...             ...            ...              ...            ...   \n",
      "15523  BUENOS AIRES            NaN              NaN            NaN   \n",
      "15524  BUENOS AIRES            NaN              NaN            NaN   \n",
      "15525  BUENOS AIRES            NaN              NaN            NaN   \n",
      "15526  BUENOS AIRES            NaN              NaN            NaN   \n",
      "15527  BUENOS AIRES           1888     11 4221-4317  11 1552280736   \n",
      "\n",
      "                         Email  \n",
      "0                          NaN  \n",
      "1                          NaN  \n",
      "2      pedro_abadi@hotmail.com  \n",
      "3                          NaN  \n",
      "4                          NaN  \n",
      "...                        ...  \n",
      "15523                      NaN  \n",
      "15524                      NaN  \n",
      "15525                      NaN  \n",
      "15526                      NaN  \n",
      "15527                      NaN  \n",
      "\n",
      "[15528 rows x 34 columns]\n"
     ]
    }
   ],
   "source": [
    "archivo = None\n",
    "while True:\n",
    "    archivo = funciones.seleccionar_archivo()\n",
    "    print(archivo)\n",
    "    if archivo:\n",
    "        ruta_archivo = archivo.name\n",
    "        try:\n",
    "            #padron_2 = pd.read_excel(ruta_archivo, engine='xlrd')\n",
    "            padron_2 = pd.read_csv(archivo, sep=\";\", encoding=\"ISO-8859-1\")\n",
    "            print(padron_2)\n",
    "            break\n",
    "        except UnicodeDecodeError:\n",
    "            print(\"Error de decodificación de caracteres. Intenta con otra codificación o archivo.\")\n",
    "            continue\n",
    "    else:\n",
    "        print(\"Archivo incorrecto. Por favor, vuelva a cargarlo.\")\n"
   ]
  },
  {
   "attachments": {},
   "cell_type": "markdown",
   "metadata": {},
   "source": [
    "### Normalizar DNI archivo convenio"
   ]
  },
  {
   "cell_type": "code",
   "execution_count": null,
   "metadata": {},
   "outputs": [],
   "source": [
    "print(padon_1.info())"
   ]
  },
  {
   "cell_type": "code",
   "execution_count": 20,
   "metadata": {},
   "outputs": [
    {
     "name": "stdout",
     "output_type": "stream",
     "text": [
      "       Fch_Nac      dni2\n",
      "0   01/07/1974  24083021\n",
      "1   25/02/1958  11959095\n",
      "2   20/12/1997  42569419\n",
      "3   12/08/2015  54915985\n",
      "4   01/01/1979  27099213\n",
      "5   28/10/2010  50639170\n",
      "6   08/11/1977  26323421\n",
      "7   25/01/2006  47402046\n",
      "8   22/08/1990  95996948\n",
      "9   23/01/1981  28686207\n",
      "10  15/09/1997  40845730\n",
      "11  05/11/2015  55144838\n",
      "12  25/07/1983  30462732\n",
      "13  14/12/1965  94572711\n",
      "14  24/03/2003  94978299\n",
      "15  15/02/1987  32883957\n",
      "16  09/09/2015  55038478\n",
      "17  12/12/2008  49242402\n",
      "18  26/01/2007  47788217\n",
      "19  06/11/1976  92999159\n",
      "20  22/02/1957  13340371\n",
      "21  28/06/1982  29571683\n",
      "22  16/05/1979  27096200\n",
      "23  20/09/1976  25483793\n",
      "24  13/03/2005  46574667\n",
      "25  04/07/1967  18322453\n",
      "26  27/03/1986  32469246\n",
      "27  13/10/1984  31244054\n",
      "28  18/10/1972  30245355\n",
      "29  16/01/1987  32605994\n"
     ]
    }
   ],
   "source": [
    "\n",
    "#armar el camp DNI juntando las los campos cuil titular y cuil familiar\n",
    "padon_1['dni']=padon_1['CUIL_Familiar'].fillna(padon_1['CUIL_Titular'])\n",
    "#limpiar el nuevo campo dni dejando solo los numeros \n",
    "padon_1['dni']=padon_1['dni'].apply(lambda x: re.sub('[^0-9]', '', str(x)))\n",
    "#dejar solo los numreros eliminar caracteres \n",
    "padon_1['dni2']=padon_1['dni'].apply(lambda x: x[2:10] if len(x)>= 8 else '0')\n",
    "#extraer el dni del cuil y dejar vacios los q son menores  a 8\n",
    "padon_1['dni2']=padon_1['dni2'].astype(int)\n",
    "#pasar el campo a int \n",
    "padon_1['Fch_Nac']=padon_1['Fch_Nac'].astype(str).str.zfill(8)\n",
    "#convertir fecha. \n",
    "#print(padon_1['Fch_Nac'])\n",
    "#padon_1=funciones.transformar_fecha(padon_1, 'Fch_Nac')\n",
    "\n",
    "#Función para normalizar la fecha\n",
    "def normalizar_fecha(fecha):\n",
    "    fecha_normalizada = datetime.strptime(fecha, \"%d%m%Y\").strftime(\"%d/%m/%Y\")\n",
    "    return fecha_normalizada\n",
    "\n",
    "#Aplicar la función a la columna \"fech_nacimiento\"\n",
    "padon_1['Fch_Nac'] = padon_1['Fch_Nac'].apply(normalizar_fecha)\n",
    "print(padon_1[['Fch_Nac','dni2']].head(30))\n",
    "\n",
    "padon_1.to_excel(r\"C:\\Users\\23336058929\\Downloads\\padon1.xlsx\", engine='openpyxl')"
   ]
  },
  {
   "attachments": {},
   "cell_type": "markdown",
   "metadata": {},
   "source": [
    "### Errores"
   ]
  },
  {
   "cell_type": "code",
   "execution_count": 23,
   "metadata": {},
   "outputs": [
    {
     "ename": "KeyError",
     "evalue": "'FECHA DE NAC.*'",
     "output_type": "error",
     "traceback": [
      "\u001b[1;31m---------------------------------------------------------------------------\u001b[0m",
      "\u001b[1;31mKeyError\u001b[0m                                  Traceback (most recent call last)",
      "File \u001b[1;32mc:\\Users\\23336058929\\Documents\\REPOSITORIOS_GIT\\osoetsy_csv\\.venv\\Lib\\site-packages\\pandas\\core\\indexes\\base.py:3802\u001b[0m, in \u001b[0;36mIndex.get_loc\u001b[1;34m(self, key, method, tolerance)\u001b[0m\n\u001b[0;32m   3801\u001b[0m \u001b[39mtry\u001b[39;00m:\n\u001b[1;32m-> 3802\u001b[0m     \u001b[39mreturn\u001b[39;00m \u001b[39mself\u001b[39;49m\u001b[39m.\u001b[39;49m_engine\u001b[39m.\u001b[39;49mget_loc(casted_key)\n\u001b[0;32m   3803\u001b[0m \u001b[39mexcept\u001b[39;00m \u001b[39mKeyError\u001b[39;00m \u001b[39mas\u001b[39;00m err:\n",
      "File \u001b[1;32mc:\\Users\\23336058929\\Documents\\REPOSITORIOS_GIT\\osoetsy_csv\\.venv\\Lib\\site-packages\\pandas\\_libs\\index.pyx:138\u001b[0m, in \u001b[0;36mpandas._libs.index.IndexEngine.get_loc\u001b[1;34m()\u001b[0m\n",
      "File \u001b[1;32mc:\\Users\\23336058929\\Documents\\REPOSITORIOS_GIT\\osoetsy_csv\\.venv\\Lib\\site-packages\\pandas\\_libs\\index.pyx:165\u001b[0m, in \u001b[0;36mpandas._libs.index.IndexEngine.get_loc\u001b[1;34m()\u001b[0m\n",
      "File \u001b[1;32mpandas\\_libs\\hashtable_class_helper.pxi:5745\u001b[0m, in \u001b[0;36mpandas._libs.hashtable.PyObjectHashTable.get_item\u001b[1;34m()\u001b[0m\n",
      "File \u001b[1;32mpandas\\_libs\\hashtable_class_helper.pxi:5753\u001b[0m, in \u001b[0;36mpandas._libs.hashtable.PyObjectHashTable.get_item\u001b[1;34m()\u001b[0m\n",
      "\u001b[1;31mKeyError\u001b[0m: 'FECHA DE NAC.*'",
      "\nThe above exception was the direct cause of the following exception:\n",
      "\u001b[1;31mKeyError\u001b[0m                                  Traceback (most recent call last)",
      "Cell \u001b[1;32mIn[23], line 22\u001b[0m\n\u001b[0;32m     19\u001b[0m             errores[columna_error] \u001b[39m=\u001b[39m mensajes[i]\n\u001b[0;32m     20\u001b[0m     \u001b[39mreturn\u001b[39;00m pd\u001b[39m.\u001b[39mSeries(errores)\n\u001b[1;32m---> 22\u001b[0m df_errores \u001b[39m=\u001b[39m padon_1\u001b[39m.\u001b[39;49mapply(generar_columnas_error, axis\u001b[39m=\u001b[39;49m\u001b[39m1\u001b[39;49m)\n\u001b[0;32m     25\u001b[0m df_nuevo \u001b[39m=\u001b[39m pd\u001b[39m.\u001b[39mconcat([padon_1, df_errores], axis\u001b[39m=\u001b[39m\u001b[39m1\u001b[39m)\n\u001b[0;32m     27\u001b[0m df_sin_error \u001b[39m=\u001b[39m df_nuevo[df_nuevo[\u001b[39m'\u001b[39m\u001b[39merror1\u001b[39m\u001b[39m'\u001b[39m]\u001b[39m.\u001b[39mnotna() \u001b[39m|\u001b[39m df_nuevo[\u001b[39m'\u001b[39m\u001b[39merror2\u001b[39m\u001b[39m'\u001b[39m]\u001b[39m.\u001b[39mnotna() \u001b[39m|\u001b[39m df_nuevo[\u001b[39m'\u001b[39m\u001b[39merror3\u001b[39m\u001b[39m'\u001b[39m]\u001b[39m.\u001b[39mnotna()]\n",
      "File \u001b[1;32mc:\\Users\\23336058929\\Documents\\REPOSITORIOS_GIT\\osoetsy_csv\\.venv\\Lib\\site-packages\\pandas\\core\\frame.py:9568\u001b[0m, in \u001b[0;36mDataFrame.apply\u001b[1;34m(self, func, axis, raw, result_type, args, **kwargs)\u001b[0m\n\u001b[0;32m   9557\u001b[0m \u001b[39mfrom\u001b[39;00m \u001b[39mpandas\u001b[39;00m\u001b[39m.\u001b[39;00m\u001b[39mcore\u001b[39;00m\u001b[39m.\u001b[39;00m\u001b[39mapply\u001b[39;00m \u001b[39mimport\u001b[39;00m frame_apply\n\u001b[0;32m   9559\u001b[0m op \u001b[39m=\u001b[39m frame_apply(\n\u001b[0;32m   9560\u001b[0m     \u001b[39mself\u001b[39m,\n\u001b[0;32m   9561\u001b[0m     func\u001b[39m=\u001b[39mfunc,\n\u001b[1;32m   (...)\u001b[0m\n\u001b[0;32m   9566\u001b[0m     kwargs\u001b[39m=\u001b[39mkwargs,\n\u001b[0;32m   9567\u001b[0m )\n\u001b[1;32m-> 9568\u001b[0m \u001b[39mreturn\u001b[39;00m op\u001b[39m.\u001b[39;49mapply()\u001b[39m.\u001b[39m__finalize__(\u001b[39mself\u001b[39m, method\u001b[39m=\u001b[39m\u001b[39m\"\u001b[39m\u001b[39mapply\u001b[39m\u001b[39m\"\u001b[39m)\n",
      "File \u001b[1;32mc:\\Users\\23336058929\\Documents\\REPOSITORIOS_GIT\\osoetsy_csv\\.venv\\Lib\\site-packages\\pandas\\core\\apply.py:764\u001b[0m, in \u001b[0;36mFrameApply.apply\u001b[1;34m(self)\u001b[0m\n\u001b[0;32m    761\u001b[0m \u001b[39melif\u001b[39;00m \u001b[39mself\u001b[39m\u001b[39m.\u001b[39mraw:\n\u001b[0;32m    762\u001b[0m     \u001b[39mreturn\u001b[39;00m \u001b[39mself\u001b[39m\u001b[39m.\u001b[39mapply_raw()\n\u001b[1;32m--> 764\u001b[0m \u001b[39mreturn\u001b[39;00m \u001b[39mself\u001b[39;49m\u001b[39m.\u001b[39;49mapply_standard()\n",
      "File \u001b[1;32mc:\\Users\\23336058929\\Documents\\REPOSITORIOS_GIT\\osoetsy_csv\\.venv\\Lib\\site-packages\\pandas\\core\\apply.py:891\u001b[0m, in \u001b[0;36mFrameApply.apply_standard\u001b[1;34m(self)\u001b[0m\n\u001b[0;32m    890\u001b[0m \u001b[39mdef\u001b[39;00m \u001b[39mapply_standard\u001b[39m(\u001b[39mself\u001b[39m):\n\u001b[1;32m--> 891\u001b[0m     results, res_index \u001b[39m=\u001b[39m \u001b[39mself\u001b[39;49m\u001b[39m.\u001b[39;49mapply_series_generator()\n\u001b[0;32m    893\u001b[0m     \u001b[39m# wrap results\u001b[39;00m\n\u001b[0;32m    894\u001b[0m     \u001b[39mreturn\u001b[39;00m \u001b[39mself\u001b[39m\u001b[39m.\u001b[39mwrap_results(results, res_index)\n",
      "File \u001b[1;32mc:\\Users\\23336058929\\Documents\\REPOSITORIOS_GIT\\osoetsy_csv\\.venv\\Lib\\site-packages\\pandas\\core\\apply.py:907\u001b[0m, in \u001b[0;36mFrameApply.apply_series_generator\u001b[1;34m(self)\u001b[0m\n\u001b[0;32m    904\u001b[0m \u001b[39mwith\u001b[39;00m option_context(\u001b[39m\"\u001b[39m\u001b[39mmode.chained_assignment\u001b[39m\u001b[39m\"\u001b[39m, \u001b[39mNone\u001b[39;00m):\n\u001b[0;32m    905\u001b[0m     \u001b[39mfor\u001b[39;00m i, v \u001b[39min\u001b[39;00m \u001b[39menumerate\u001b[39m(series_gen):\n\u001b[0;32m    906\u001b[0m         \u001b[39m# ignore SettingWithCopy here in case the user mutates\u001b[39;00m\n\u001b[1;32m--> 907\u001b[0m         results[i] \u001b[39m=\u001b[39m \u001b[39mself\u001b[39;49m\u001b[39m.\u001b[39;49mf(v)\n\u001b[0;32m    908\u001b[0m         \u001b[39mif\u001b[39;00m \u001b[39misinstance\u001b[39m(results[i], ABCSeries):\n\u001b[0;32m    909\u001b[0m             \u001b[39m# If we have a view on v, we need to make a copy because\u001b[39;00m\n\u001b[0;32m    910\u001b[0m             \u001b[39m#  series_generator will swap out the underlying data\u001b[39;00m\n\u001b[0;32m    911\u001b[0m             results[i] \u001b[39m=\u001b[39m results[i]\u001b[39m.\u001b[39mcopy(deep\u001b[39m=\u001b[39m\u001b[39mFalse\u001b[39;00m)\n",
      "Cell \u001b[1;32mIn[23], line 17\u001b[0m, in \u001b[0;36mgenerar_columnas_error\u001b[1;34m(row)\u001b[0m\n\u001b[0;32m     15\u001b[0m errores \u001b[39m=\u001b[39m {}\n\u001b[0;32m     16\u001b[0m \u001b[39mfor\u001b[39;00m i \u001b[39min\u001b[39;00m \u001b[39mrange\u001b[39m(\u001b[39mlen\u001b[39m(condiciones)):\n\u001b[1;32m---> 17\u001b[0m     \u001b[39mif\u001b[39;00m condiciones[i](row):\n\u001b[0;32m     18\u001b[0m         columna_error \u001b[39m=\u001b[39m \u001b[39mf\u001b[39m\u001b[39m'\u001b[39m\u001b[39merror\u001b[39m\u001b[39m{\u001b[39;00mi\u001b[39m+\u001b[39m\u001b[39m1\u001b[39m\u001b[39m}\u001b[39;00m\u001b[39m'\u001b[39m\n\u001b[0;32m     19\u001b[0m         errores[columna_error] \u001b[39m=\u001b[39m mensajes[i]\n",
      "Cell \u001b[1;32mIn[23], line 3\u001b[0m, in \u001b[0;36m<lambda>\u001b[1;34m(row)\u001b[0m\n\u001b[0;32m      1\u001b[0m condiciones \u001b[39m=\u001b[39m [\n\u001b[0;32m      2\u001b[0m     \u001b[39mlambda\u001b[39;00m row: row[\u001b[39m'\u001b[39m\u001b[39mdni\u001b[39m\u001b[39m'\u001b[39m] \u001b[39mis\u001b[39;00m \u001b[39mNone\u001b[39;00m \u001b[39mor\u001b[39;00m \u001b[39mlen\u001b[39m(\u001b[39mstr\u001b[39m(row[\u001b[39m'\u001b[39m\u001b[39mdni\u001b[39m\u001b[39m'\u001b[39m])) \u001b[39m<\u001b[39m \u001b[39m8\u001b[39m,\n\u001b[1;32m----> 3\u001b[0m     \u001b[39mlambda\u001b[39;00m row: row[\u001b[39m'\u001b[39;49m\u001b[39mFECHA DE NAC.*\u001b[39;49m\u001b[39m'\u001b[39;49m] \u001b[39mis\u001b[39;00m \u001b[39mNone\u001b[39;00m \u001b[39mor\u001b[39;00m (pd\u001b[39m.\u001b[39mto_datetime(\u001b[39m'\u001b[39m\u001b[39mtoday\u001b[39m\u001b[39m'\u001b[39m) \u001b[39m-\u001b[39m pd\u001b[39m.\u001b[39mto_datetime(row[\u001b[39m'\u001b[39m\u001b[39mFECHA DE NAC.*\u001b[39m\u001b[39m'\u001b[39m]))\u001b[39m.\u001b[39mdays \u001b[39m/\u001b[39m\u001b[39m/\u001b[39m \u001b[39m365.25\u001b[39m \u001b[39m>\u001b[39m \u001b[39m80\u001b[39m,\n\u001b[0;32m      4\u001b[0m     \u001b[39mlambda\u001b[39;00m row: row[\u001b[39m'\u001b[39m\u001b[39mCUIL*\u001b[39m\u001b[39m'\u001b[39m] \u001b[39m>\u001b[39m\u001b[39m999999\u001b[39m \u001b[39mand\u001b[39;00m (pd\u001b[39m.\u001b[39mto_datetime(\u001b[39m'\u001b[39m\u001b[39mtoday\u001b[39m\u001b[39m'\u001b[39m) \u001b[39m-\u001b[39m pd\u001b[39m.\u001b[39mto_datetime(row[\u001b[39m'\u001b[39m\u001b[39mFECHA DE NAC.*\u001b[39m\u001b[39m'\u001b[39m]))\u001b[39m.\u001b[39mdays \u001b[39m/\u001b[39m \u001b[39m365.25\u001b[39m \u001b[39m>\u001b[39m \u001b[39m25\u001b[39m,\n\u001b[0;32m      5\u001b[0m     \u001b[39mlambda\u001b[39;00m row: row[\u001b[39m'\u001b[39m\u001b[39mLOCALIDAD*\u001b[39m\u001b[39m'\u001b[39m] \u001b[39mis\u001b[39;00m \u001b[39mNone\u001b[39;00m\n\u001b[0;32m      6\u001b[0m ]\n\u001b[0;32m      7\u001b[0m mensajes \u001b[39m=\u001b[39m [\n\u001b[0;32m      8\u001b[0m     \u001b[39m'\u001b[39m\u001b[39mError en DNI\u001b[39m\u001b[39m'\u001b[39m,\n\u001b[0;32m      9\u001b[0m     \u001b[39m'\u001b[39m\u001b[39mError en la edad\u001b[39m\u001b[39m'\u001b[39m,\n\u001b[0;32m     10\u001b[0m     \u001b[39m'\u001b[39m\u001b[39mfamiliar mayor de edad\u001b[39m\u001b[39m'\u001b[39m,\n\u001b[0;32m     11\u001b[0m     \u001b[39m'\u001b[39m\u001b[39mlocalidad vacía\u001b[39m\u001b[39m'\u001b[39m\n\u001b[0;32m     12\u001b[0m ]\n\u001b[0;32m     14\u001b[0m \u001b[39mdef\u001b[39;00m \u001b[39mgenerar_columnas_error\u001b[39m(row):\n",
      "File \u001b[1;32mc:\\Users\\23336058929\\Documents\\REPOSITORIOS_GIT\\osoetsy_csv\\.venv\\Lib\\site-packages\\pandas\\core\\series.py:981\u001b[0m, in \u001b[0;36mSeries.__getitem__\u001b[1;34m(self, key)\u001b[0m\n\u001b[0;32m    978\u001b[0m     \u001b[39mreturn\u001b[39;00m \u001b[39mself\u001b[39m\u001b[39m.\u001b[39m_values[key]\n\u001b[0;32m    980\u001b[0m \u001b[39melif\u001b[39;00m key_is_scalar:\n\u001b[1;32m--> 981\u001b[0m     \u001b[39mreturn\u001b[39;00m \u001b[39mself\u001b[39;49m\u001b[39m.\u001b[39;49m_get_value(key)\n\u001b[0;32m    983\u001b[0m \u001b[39mif\u001b[39;00m is_hashable(key):\n\u001b[0;32m    984\u001b[0m     \u001b[39m# Otherwise index.get_value will raise InvalidIndexError\u001b[39;00m\n\u001b[0;32m    985\u001b[0m     \u001b[39mtry\u001b[39;00m:\n\u001b[0;32m    986\u001b[0m         \u001b[39m# For labels that don't resolve as scalars like tuples and frozensets\u001b[39;00m\n",
      "File \u001b[1;32mc:\\Users\\23336058929\\Documents\\REPOSITORIOS_GIT\\osoetsy_csv\\.venv\\Lib\\site-packages\\pandas\\core\\series.py:1089\u001b[0m, in \u001b[0;36mSeries._get_value\u001b[1;34m(self, label, takeable)\u001b[0m\n\u001b[0;32m   1086\u001b[0m     \u001b[39mreturn\u001b[39;00m \u001b[39mself\u001b[39m\u001b[39m.\u001b[39m_values[label]\n\u001b[0;32m   1088\u001b[0m \u001b[39m# Similar to Index.get_value, but we do not fall back to positional\u001b[39;00m\n\u001b[1;32m-> 1089\u001b[0m loc \u001b[39m=\u001b[39m \u001b[39mself\u001b[39;49m\u001b[39m.\u001b[39;49mindex\u001b[39m.\u001b[39;49mget_loc(label)\n\u001b[0;32m   1090\u001b[0m \u001b[39mreturn\u001b[39;00m \u001b[39mself\u001b[39m\u001b[39m.\u001b[39mindex\u001b[39m.\u001b[39m_get_values_for_loc(\u001b[39mself\u001b[39m, loc, label)\n",
      "File \u001b[1;32mc:\\Users\\23336058929\\Documents\\REPOSITORIOS_GIT\\osoetsy_csv\\.venv\\Lib\\site-packages\\pandas\\core\\indexes\\base.py:3804\u001b[0m, in \u001b[0;36mIndex.get_loc\u001b[1;34m(self, key, method, tolerance)\u001b[0m\n\u001b[0;32m   3802\u001b[0m     \u001b[39mreturn\u001b[39;00m \u001b[39mself\u001b[39m\u001b[39m.\u001b[39m_engine\u001b[39m.\u001b[39mget_loc(casted_key)\n\u001b[0;32m   3803\u001b[0m \u001b[39mexcept\u001b[39;00m \u001b[39mKeyError\u001b[39;00m \u001b[39mas\u001b[39;00m err:\n\u001b[1;32m-> 3804\u001b[0m     \u001b[39mraise\u001b[39;00m \u001b[39mKeyError\u001b[39;00m(key) \u001b[39mfrom\u001b[39;00m \u001b[39merr\u001b[39;00m\n\u001b[0;32m   3805\u001b[0m \u001b[39mexcept\u001b[39;00m \u001b[39mTypeError\u001b[39;00m:\n\u001b[0;32m   3806\u001b[0m     \u001b[39m# If we have a listlike key, _check_indexing_error will raise\u001b[39;00m\n\u001b[0;32m   3807\u001b[0m     \u001b[39m#  InvalidIndexError. Otherwise we fall through and re-raise\u001b[39;00m\n\u001b[0;32m   3808\u001b[0m     \u001b[39m#  the TypeError.\u001b[39;00m\n\u001b[0;32m   3809\u001b[0m     \u001b[39mself\u001b[39m\u001b[39m.\u001b[39m_check_indexing_error(key)\n",
      "\u001b[1;31mKeyError\u001b[0m: 'FECHA DE NAC.*'"
     ]
    }
   ],
   "source": [
    "condiciones = [\n",
    "    lambda row: row['dni'] is None or len(str(row['dni'])) < 8,\n",
    "    lambda row: row['Fch_Nac'] is None or (pd.to_datetime('today') - pd.to_datetime(row['Fch_Nac'])).days // 365.25 > 80,\n",
    "    lambda row: row['CUIL*'] >999999 and (pd.to_datetime('today') - pd.to_datetime(row['Fch_Nac'])).days / 365.25 > 25,\n",
    "    lambda row: row['LOCALIDAD*'] is None\n",
    "]\n",
    "mensajes = [\n",
    "    'Error en DNI',\n",
    "    'Error en la edad',\n",
    "    'familiar mayor de edad',\n",
    "    'localidad vacía'\n",
    "]\n",
    "\n",
    "def generar_columnas_error(row):\n",
    "    errores = {}\n",
    "    for i in range(len(condiciones)):\n",
    "        if condiciones[i](row):\n",
    "            columna_error = f'error{i+1}'\n",
    "            errores[columna_error] = mensajes[i]\n",
    "    return pd.Series(errores)\n",
    "\n",
    "df_errores = padon_1.apply(generar_columnas_error, axis=1)\n",
    "\n",
    "\n",
    "df_nuevo = pd.concat([padon_1, df_errores], axis=1)\n",
    "\n",
    "df_sin_error = df_nuevo[df_nuevo['error1'].notna() | df_nuevo['error2'].notna() | df_nuevo['error3'].notna()]\n",
    "\n",
    "df_sin_error.to_excel(r'C:\\Users\\zickd\\Downloads\\test_errores.xlsx', engine='openpyxl', index=False)\n",
    "\n",
    "df_sin_errores = df_nuevo[df_nuevo['error1'].isnull() & df_nuevo['error2'].isnull() & df_nuevo['error3'].isnull()]\n",
    "\n",
    "#df_errores.to_excel(r'C:\\Users\\zickd\\Downloads\\sin_errores.xlsx', engine='openpyxl', index=False)\n",
    "\n",
    "df_sin_errores.to_excel(r'C:\\Users\\zickd\\Downloads\\sin_errores.xlsx', engine='openpyxl', index=False)\n"
   ]
  },
  {
   "attachments": {},
   "cell_type": "markdown",
   "metadata": {},
   "source": [
    "### Merge archivos x DNI"
   ]
  },
  {
   "cell_type": "code",
   "execution_count": null,
   "metadata": {},
   "outputs": [],
   "source": [
    "cruce_tis=pd.merge(padon_1, padron_2, left_on='dni2', right_on='Nro. Documento', how='left', indicator=True)\n",
    "#cruce_tis.to_excel(r'C:\\Users\\zickd\\Downloads\\merge.xlsx', engine='openpyxl', index=False)\n",
    "\n",
    "cruce_tis_filtro=cruce_tis[cruce_tis['_merge']=='left_only']\n",
    "\n",
    "#print(cruce_tis_filtro.head(5))"
   ]
  },
  {
   "attachments": {},
   "cell_type": "markdown",
   "metadata": {},
   "source": [
    "### exportar el cruce"
   ]
  },
  {
   "cell_type": "code",
   "execution_count": null,
   "metadata": {},
   "outputs": [],
   "source": [
    "save_path = filedialog.askdirectory()\n",
    "#uso iloc por si las columnas tienen el mismo nombre, necesito la primeras 20 columnas\n",
    "cruce_tis_filtro.iloc[:, :28].to_excel(save_path + '\\cruce_meplife.xlsx', engine='openpyxl' ,index = False )\n",
    "\n"
   ]
  }
 ],
 "metadata": {
  "kernelspec": {
   "display_name": ".venv",
   "language": "python",
   "name": "python3"
  },
  "language_info": {
   "codemirror_mode": {
    "name": "ipython",
    "version": 3
   },
   "file_extension": ".py",
   "mimetype": "text/x-python",
   "name": "python",
   "nbconvert_exporter": "python",
   "pygments_lexer": "ipython3",
   "version": "3.11.3"
  },
  "orig_nbformat": 4,
  "vscode": {
   "interpreter": {
    "hash": "1f64b729a01f235b3ec02af186f3a50c3d881136f08176a7df610cc16261a174"
   }
  }
 },
 "nbformat": 4,
 "nbformat_minor": 2
}
