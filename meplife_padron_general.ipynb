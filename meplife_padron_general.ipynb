{
 "cells": [
  {
   "cell_type": "code",
   "execution_count": 1,
   "metadata": {},
   "outputs": [],
   "source": [
    "#instalar xlwt \n",
    "import pandas as pd\n",
    "import numpy as np\n",
    "import xlwt\n",
    "from tkinter import filedialog\n",
    "import tkinter as tk\n",
    "import funciones\n",
    "from funciones import seleccionar_archivo, transformar_fecha\n"
   ]
  },
  {
   "cell_type": "code",
   "execution_count": null,
   "metadata": {},
   "outputs": [],
   "source": [
    "archivo = None\n",
    "while True:\n",
    "    archivo = funciones.seleccionar_archivo()\n",
    "    print(archivo)\n",
    "    if archivo:\n",
    "        ruta_archivo = archivo.name\n",
    "        try:\n",
    "            padon_1 = pd.read_excel(ruta_archivo, engine='openpyxl')\n",
    "            #padron = pd.read_csv(archivo, sep=\";\", encoding=\"ISO-8859-1\")\n",
    "            print(padon_1)\n",
    "            break\n",
    "        except UnicodeDecodeError:\n",
    "            print(\"Error de decodificación de caracteres. Intenta con otra codificación o archivo.\")\n",
    "            continue\n",
    "    else:\n",
    "        print(\"Archivo incorrecto. Por favor, vuelva a cargarlo.\")"
   ]
  },
  {
   "cell_type": "code",
   "execution_count": null,
   "metadata": {},
   "outputs": [],
   "source": [
    "padron = pd.read_excel(r'G:\\Mi unidad\\osoetsylra\\importaciones_TIS_SD_ETC_a_sidefi\\EVP\\AGREGAR A EPV MATANZA DOS 05-06-2023.xlsx')\n",
    "print(padron.head(5))"
   ]
  },
  {
   "cell_type": "code",
   "execution_count": null,
   "metadata": {},
   "outputs": [],
   "source": [
    "padron[['provincia2','localidad']] = padron['Localidad'].str.split('-',expand = True, n=1)\n",
    "print(padron.head(5))"
   ]
  },
  {
   "cell_type": "code",
   "execution_count": 22,
   "metadata": {},
   "outputs": [],
   "source": [
    "#padron[['provincia','localidads']] = padron['Provincia'].str.split('-',expand = True, n=1)\n",
    "diccionario_sedes = {'CHILE':'10', 'SAN MARTIN':'12', 'SAN JUSTO':'11', 'QUILMES':'14' }\n",
    "padron['SEDE'] = padron['SEDE'].replace(diccionario_sedes)"
   ]
  },
  {
   "cell_type": "code",
   "execution_count": null,
   "metadata": {},
   "outputs": [],
   "source": [
    "#padron = padron.drop(['CUIT_Empleador','Piso','Dpto','CP']\n",
    "#, axis = 1)"
   ]
  },
  {
   "cell_type": "code",
   "execution_count": null,
   "metadata": {},
   "outputs": [],
   "source": [
    "padron= padron.loc[:, ['CUIT_Empleador','CUIL_Titular','CUIL_Familiar','APELLIDO','NOMBRE','Calle','Nro',\n",
    "                        'Localidad','Telefono','nro_sss','Fch_Alta_OS','Fch_Nac','Nacionalidad','Sexo','Estado_Civil','Parentesco','SEDE',\n",
    "                        'provincia2','Incapacidad']]\n",
    "padron.dtypes"
   ]
  },
  {
   "attachments": {},
   "cell_type": "markdown",
   "metadata": {},
   "source": [
    "# Transformar Fechas"
   ]
  },
  {
   "cell_type": "code",
   "execution_count": 23,
   "metadata": {},
   "outputs": [],
   "source": [
    "padron['FECHA DE ALTA*']= padron['FECHA DE ALTA*'].apply(transformar_fecha)"
   ]
  },
  {
   "cell_type": "code",
   "execution_count": null,
   "metadata": {},
   "outputs": [],
   "source": [
    "padron.to_excel(r'G:\\Mi unidad\\osoetsylra\\importaciones_TIS_SD_ETC_a_sidefi\\EVP\\EPV MATANZA DOS 05-06-2023.xlsx', engine='openpyxl', index=False)\n",
    "print(padron)\n"
   ]
  }
 ],
 "metadata": {
  "kernelspec": {
   "display_name": "Python 3",
   "language": "python",
   "name": "python3"
  },
  "language_info": {
   "codemirror_mode": {
    "name": "ipython",
    "version": 3
   },
   "file_extension": ".py",
   "mimetype": "text/x-python",
   "name": "python",
   "nbconvert_exporter": "python",
   "pygments_lexer": "ipython3",
   "version": "3.11.0 (main, Oct 24 2022, 18:26:48) [MSC v.1933 64 bit (AMD64)]"
  },
  "orig_nbformat": 4,
  "vscode": {
   "interpreter": {
    "hash": "c261aea317cc0286b3b3261fbba9abdec21eaa57589985bb7a274bf54d6cc0a7"
   }
  }
 },
 "nbformat": 4,
 "nbformat_minor": 2
}
