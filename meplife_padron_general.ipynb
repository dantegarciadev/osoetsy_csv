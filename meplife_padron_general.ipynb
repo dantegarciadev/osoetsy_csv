{
 "cells": [
  {
   "cell_type": "code",
   "execution_count": 1,
   "metadata": {},
   "outputs": [],
   "source": [
    "#instalar xlwt \n",
    "import pandas as pd\n",
    "import numpy as np\n",
    "import xlwt\n",
    "from tkinter import filedialog\n",
    "import tkinter as tk\n",
    "import funciones\n"
   ]
  },
  {
   "cell_type": "code",
   "execution_count": 16,
   "metadata": {},
   "outputs": [
    {
     "name": "stdout",
     "output_type": "stream",
     "text": [
      "<_io.TextIOWrapper name='G:/Mi unidad/osoetsylra/importaciones_TIS_SD_ETC_a_sidefi/meplife/PADRON ABRIL 2023MEPLIFE.csv' mode='r' encoding='cp1252'>\n"
     ]
    }
   ],
   "source": [
    "archivo = None\n",
    "while True:\n",
    "    archivo = funciones.seleccionar_archivo()\n",
    "    print(archivo)\n",
    "    if archivo:\n",
    "        padron = pd.read_csv(archivo, sep= \";\")\n",
    "        break \n",
    "    elif not archivo:\n",
    "        print(\"archivo erroneo vuelva a cargarlo\")\n"
   ]
  },
  {
   "cell_type": "code",
   "execution_count": 2,
   "metadata": {},
   "outputs": [
    {
     "name": "stdout",
     "output_type": "stream",
     "text": [
      "   Codigo  CUIT_Empleador  CUIL_Titular  Parentesco  CUIL_Familiar Tipo_Doc   \n",
      "0  127406     20240830214   20240830214           0    20240830214       DU  \\\n",
      "1  127406     20119590958   20119590958           0    20119590958       DU   \n",
      "2  127406     27425694192   27425694192           0    27425694192       DU   \n",
      "3  127406     27425694192   27425694192           3    20549159851       DU   \n",
      "4  127406     27270992132   27270992132           0    27270992132       DU   \n",
      "\n",
      "    Nro_Doc       APELLIDO                      NOMBRE Sexo  ...    CP   \n",
      "0  24083021         ELISII   CHRISTIAN MAURICIO JAVIER    M  ...  1650  \\\n",
      "1  11959095       PEDEZERT            FERNANDO RICARDO    M  ...  1628   \n",
      "2  42569419   NINA RAMIREZ               TANIA SOLEDAD    F  ...  1627   \n",
      "3  54915985  ANDACABA NINA                ULISES UZIEL    M  ...  1627   \n",
      "4  27099213            RAU             CINTHIA BETIANA    F  ...  1629   \n",
      "\n",
      "  Provincia  Tipo_domi    Telefono Revista Incapacidad Tipo_Beneficiario   \n",
      "0         2          1  1158319409      99           0                 4  \\\n",
      "1         2          1  1127915604      99           0                 4   \n",
      "2         2          1  1168116908      99           0                 4   \n",
      "3         2          1         NaN      99           0                 4   \n",
      "4         2          1  2304301189      99           0                 4   \n",
      "\n",
      "  Fch_Alta_OS      nro_sss        SEDE  \n",
      "0  01-11-2022  351968327.0  SAN MARTIN  \n",
      "1  01-11-2022  351994841.0       CHILE  \n",
      "2  01-11-2022  351974448.0  SAN MARTIN  \n",
      "3  01-11-2022  351974448.0  SAN MARTIN  \n",
      "4  01-11-2022  351989198.0  SAN MARTIN  \n",
      "\n",
      "[5 rows x 28 columns]\n"
     ]
    }
   ],
   "source": [
    "padron = pd.read_excel(r'G:\\Mi unidad\\osoetsylra\\importaciones_TIS_SD_ETC_a_sidefi\\meplife\\PADRON ABRIL 2023MEPLIFE.xlsx')\n",
    "print(padron.head(5))"
   ]
  },
  {
   "cell_type": "code",
   "execution_count": 3,
   "metadata": {},
   "outputs": [
    {
     "name": "stdout",
     "output_type": "stream",
     "text": [
      "   Codigo  CUIT_Empleador  CUIL_Titular  Parentesco  CUIL_Familiar Tipo_Doc   \n",
      "0  127406     20240830214   20240830214           0    20240830214       DU  \\\n",
      "1  127406     20119590958   20119590958           0    20119590958       DU   \n",
      "2  127406     27425694192   27425694192           0    27425694192       DU   \n",
      "3  127406     27425694192   27425694192           3    20549159851       DU   \n",
      "4  127406     27270992132   27270992132           0    27270992132       DU   \n",
      "\n",
      "    Nro_Doc       APELLIDO                      NOMBRE Sexo  ...  Tipo_domi   \n",
      "0  24083021         ELISII   CHRISTIAN MAURICIO JAVIER    M  ...          1  \\\n",
      "1  11959095       PEDEZERT            FERNANDO RICARDO    M  ...          1   \n",
      "2  42569419   NINA RAMIREZ               TANIA SOLEDAD    F  ...          1   \n",
      "3  54915985  ANDACABA NINA                ULISES UZIEL    M  ...          1   \n",
      "4  27099213            RAU             CINTHIA BETIANA    F  ...          1   \n",
      "\n",
      "     Telefono  Revista Incapacidad Tipo_Beneficiario Fch_Alta_OS      nro_sss   \n",
      "0  1158319409       99           0                 4  01-11-2022  351968327.0  \\\n",
      "1  1127915604       99           0                 4  01-11-2022  351994841.0   \n",
      "2  1168116908       99           0                 4  01-11-2022  351974448.0   \n",
      "3         NaN       99           0                 4  01-11-2022  351974448.0   \n",
      "4  2304301189       99           0                 4  01-11-2022  351989198.0   \n",
      "\n",
      "         SEDE     provincia2      localidad  \n",
      "0  SAN MARTIN  Buenos Aires    Billinghurst  \n",
      "1       CHILE  Buenos Aires      Loma Verde  \n",
      "2  SAN MARTIN  Buenos Aires          Matheu  \n",
      "3  SAN MARTIN  Buenos Aires          Matheu  \n",
      "4  SAN MARTIN  Buenos Aires           Pilar  \n",
      "\n",
      "[5 rows x 30 columns]\n"
     ]
    }
   ],
   "source": [
    "padron[['provincia2','localidad']] = padron['Localidad'].str.split('-',expand = True, n=1)\n",
    "print(padron.head(5))"
   ]
  },
  {
   "cell_type": "code",
   "execution_count": 4,
   "metadata": {},
   "outputs": [],
   "source": [
    "#padron[['provincia','localidads']] = padron['Provincia'].str.split('-',expand = True, n=1)\n",
    "diccionario_sedes = {'CHILE':'10', 'SAN MARTIN':'12' }\n",
    "padron['SEDE'] = padron['SEDE'].replace(diccionario_sedes)"
   ]
  },
  {
   "cell_type": "code",
   "execution_count": null,
   "metadata": {},
   "outputs": [],
   "source": [
    "#padron = padron.drop(['CUIT_Empleador','Piso','Dpto','CP']\n",
    "#, axis = 1)"
   ]
  },
  {
   "cell_type": "code",
   "execution_count": 8,
   "metadata": {},
   "outputs": [
    {
     "data": {
      "text/plain": [
       "CUIT_Empleador      int64\n",
       "CUIL_Titular        int64\n",
       "CUIL_Familiar       int64\n",
       "APELLIDO           object\n",
       "NOMBRE             object\n",
       "Calle              object\n",
       "Nro                object\n",
       "Localidad          object\n",
       "Telefono           object\n",
       "nro_sss           float64\n",
       "Fch_Alta_OS        object\n",
       "Fch_Nac            object\n",
       "Nacionalidad        int64\n",
       "Sexo               object\n",
       "Estado_Civil        int64\n",
       "Parentesco          int64\n",
       "SEDE               object\n",
       "provincia2         object\n",
       "Incapacidad         int64\n",
       "dtype: object"
      ]
     },
     "execution_count": 8,
     "metadata": {},
     "output_type": "execute_result"
    }
   ],
   "source": [
    "padron= padron.loc[:, ['CUIT_Empleador','CUIL_Titular','CUIL_Familiar','APELLIDO','NOMBRE','Calle','Nro',\n",
    "                        'Localidad','Telefono','nro_sss','Fch_Alta_OS','Fch_Nac','Nacionalidad','Sexo','Estado_Civil','Parentesco','SEDE',\n",
    "                        'provincia2','Incapacidad']]\n",
    "padron.dtypes"
   ]
  },
  {
   "attachments": {},
   "cell_type": "markdown",
   "metadata": {},
   "source": [
    "# Transformar Fechas"
   ]
  },
  {
   "cell_type": "code",
   "execution_count": null,
   "metadata": {},
   "outputs": [],
   "source": [
    "\n",
    "\n",
    "from datetime import datetime\n",
    "\n",
    "datetime.strptime('01071974', '%d%m%Y').strftime('%d-%m-%Y')\n",
    "\n",
    "\n",
    "#padron['Fch_Alta_OS'] = padron['Fch_Alta_OS'].astype(str).str.zfill(8)\n",
    "#padron\n"
   ]
  },
  {
   "cell_type": "code",
   "execution_count": 14,
   "metadata": {},
   "outputs": [
    {
     "name": "stdout",
     "output_type": "stream",
     "text": [
      "      CUIT_Empleador  CUIL_Titular  CUIL_Familiar       APELLIDO   \n",
      "0        20240830214   20240830214    20240830214         ELISII  \\\n",
      "1        20119590958   20119590958    20119590958       PEDEZERT   \n",
      "2        27425694192   27425694192    27425694192   NINA RAMIREZ   \n",
      "3        27425694192   27425694192    20549159851  ANDACABA NINA   \n",
      "4        27270992132   27270992132    27270992132            RAU   \n",
      "...              ...           ...            ...            ...   \n",
      "1633     20213330072   20213330072    20213330072     ARGAÃ‘ARAZ   \n",
      "1634     27160492991   27160492991    27160492991         ROMERO   \n",
      "1635     23171729769   23171729769    23171729769        BELIZAN   \n",
      "1636     23171729769   23171729769    27500665683        BELIZAN   \n",
      "1637     23384867774   23384867774    23384867774       VILLEGAS   \n",
      "\n",
      "                          NOMBRE             Calle   Nro   \n",
      "0      CHRISTIAN MAURICIO JAVIER  GUIDO SPANO PH 2  5446  \\\n",
      "1               FERNANDO RICARDO            chubut   415   \n",
      "2                  TANIA SOLEDAD          belgrano    21   \n",
      "3                   ULISES UZIEL          belgrano    21   \n",
      "4                CINTHIA BETIANA        EL HORNERO  5398   \n",
      "...                          ...               ...   ...   \n",
      "1633                   FRANCISCO       SIN DEFINIR   NaN   \n",
      "1634             GLADYS CRISTINA       SIN DEFINIR   NaN   \n",
      "1635             MARCELO CLAUDIO       SIN DEFINIR   NaN   \n",
      "1636              LEILA VICTORIA       SIN DEFINIR   NaN   \n",
      "1637             MICAELA CECILIA             MZ.21   150   \n",
      "\n",
      "                             Localidad    Telefono      nro_sss Fch_Alta_OS   \n",
      "0          Buenos Aires - Billinghurst  1158319409  351968327.0  01-11-2022  \\\n",
      "1            Buenos Aires - Loma Verde  1127915604  351994841.0  01-11-2022   \n",
      "2                Buenos Aires - Matheu  1168116908  351974448.0  01-11-2022   \n",
      "3                Buenos Aires - Matheu         NaN  351974448.0  01-11-2022   \n",
      "4                 Buenos Aires - Pilar  2304301189  351989198.0  01-11-2022   \n",
      "...                                ...         ...          ...         ...   \n",
      "1633   Capital Federal - CABA - Flores         NaN  352599994.0  01-05-2023   \n",
      "1634   Capital Federal - CABA - Flores         NaN  352600017.0  01-05-2023   \n",
      "1635   Capital Federal - CABA - Flores         NaN  352600037.0  01-05-2023   \n",
      "1636   Capital Federal - CABA - Flores         NaN  352600037.0  01-05-2023   \n",
      "1637  Buenos Aires - Jose Clemente Paz  1124579830  352477363.0  01-04-2023   \n",
      "\n",
      "         Fch_Nac  Nacionalidad Sexo  Estado_Civil  Parentesco SEDE   \n",
      "0     01-07-1974            12    M             1           0   12  \\\n",
      "1     25-02-1958            12    M             1           0   10   \n",
      "2     20-12-1997            12    F             1           0   12   \n",
      "3     12-08-2015            12    M             1           3   12   \n",
      "4     01-01-1979            12    F             1           0   12   \n",
      "...          ...           ...  ...           ...         ...  ...   \n",
      "1633  11-07-1970            12    M             1           0   10   \n",
      "1634  17-11-1962            12    F             1           0   10   \n",
      "1635  20-05-1964            12    M             1           0   10   \n",
      "1636  25-01-2010            12    F             1           3   10   \n",
      "1637  27-10-1994            12    F             1           0   12   \n",
      "\n",
      "            provincia2  Incapacidad  \n",
      "0        Buenos Aires             0  \n",
      "1        Buenos Aires             0  \n",
      "2        Buenos Aires             0  \n",
      "3        Buenos Aires             0  \n",
      "4        Buenos Aires             0  \n",
      "...                ...          ...  \n",
      "1633  Capital Federal             0  \n",
      "1634  Capital Federal             0  \n",
      "1635  Capital Federal             0  \n",
      "1636  Capital Federal             0  \n",
      "1637     Buenos Aires             0  \n",
      "\n",
      "[1638 rows x 19 columns]\n"
     ]
    }
   ],
   "source": [
    "padron.to_excel(r'G:\\Mi unidad\\osoetsylra\\importaciones_TIS_SD_ETC_a_sidefi\\meplife\\abril2023final.xlsx', engine='openpyxl', index='False')\n",
    "print(padron)\n"
   ]
  }
 ],
 "metadata": {
  "kernelspec": {
   "display_name": "Python 3",
   "language": "python",
   "name": "python3"
  },
  "language_info": {
   "codemirror_mode": {
    "name": "ipython",
    "version": 3
   },
   "file_extension": ".py",
   "mimetype": "text/x-python",
   "name": "python",
   "nbconvert_exporter": "python",
   "pygments_lexer": "ipython3",
   "version": "3.11.0"
  },
  "orig_nbformat": 4,
  "vscode": {
   "interpreter": {
    "hash": "c261aea317cc0286b3b3261fbba9abdec21eaa57589985bb7a274bf54d6cc0a7"
   }
  }
 },
 "nbformat": 4,
 "nbformat_minor": 2
}
