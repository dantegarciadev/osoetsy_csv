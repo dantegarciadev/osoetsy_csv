{
 "cells": [
  {
   "cell_type": "code",
   "execution_count": 6,
   "metadata": {},
   "outputs": [],
   "source": [
    "#instalar xlwt \n",
    "import pandas as pd\n",
    "import numpy as np\n",
    "import xlwt\n",
    "from tkinter import filedialog\n",
    "import tkinter as tk\n",
    "from funciones import seleccionar_archivo, transformar_fecha\n"
   ]
  },
  {
   "cell_type": "code",
   "execution_count": 1,
   "metadata": {},
   "outputs": [
    {
     "ename": "NameError",
     "evalue": "name 'funciones' is not defined",
     "output_type": "error",
     "traceback": [
      "\u001b[1;31m---------------------------------------------------------------------------\u001b[0m",
      "\u001b[1;31mNameError\u001b[0m                                 Traceback (most recent call last)",
      "Cell \u001b[1;32mIn[1], line 3\u001b[0m\n\u001b[0;32m      1\u001b[0m archivo \u001b[39m=\u001b[39m \u001b[39mNone\u001b[39;00m\n\u001b[0;32m      2\u001b[0m \u001b[39mwhile\u001b[39;00m \u001b[39mTrue\u001b[39;00m:\n\u001b[1;32m----> 3\u001b[0m     archivo \u001b[39m=\u001b[39m funciones\u001b[39m.\u001b[39mseleccionar_archivo()\n\u001b[0;32m      4\u001b[0m     \u001b[39mprint\u001b[39m(archivo)\n\u001b[0;32m      5\u001b[0m     \u001b[39mif\u001b[39;00m archivo:\n",
      "\u001b[1;31mNameError\u001b[0m: name 'funciones' is not defined"
     ]
    }
   ],
   "source": [
    "archivo = None\n",
    "while True:\n",
    "    archivo = seleccionar_archivo()\n",
    "    print(archivo)\n",
    "    if archivo:\n",
    "        padron = pd.read_csv(archivo, sep= \";\")\n",
    "        break \n",
    "    elif not archivo:\n",
    "        print(\"archivo erroneo vuelva a cargarlo\")\n"
   ]
  },
  {
   "cell_type": "code",
   "execution_count": 21,
   "metadata": {},
   "outputs": [
    {
     "name": "stdout",
     "output_type": "stream",
     "text": [
      "   CUIL TITULAR* CUIL ADHRENTE APELLIDO*          NOMBRES* DOMICILIO (calle)*   \n",
      "0    27308743085           NaN    ROMANO  YANINA ALEJANDRA         DEL BAÑADO  \\\n",
      "1    27444138055           NaN  GANDULFO         GERALDINE           NORQUINS   \n",
      "2    27444138055   27542088260    ZOCINE            MAYLIS           NORQUINS   \n",
      "3    27418516076           NaN     NUÑEZ         GERALDINE         ALBARRACIN   \n",
      "4    23369512404           NaN   PANTOJA       KAREN BELEN         CNEL ARENA   \n",
      "\n",
      "  Domicilio (altura)*  LOCALIDAD*    TELEFONO  N° DE FORMULARIO   \n",
      "0                 993  R CASTILLO  1138051121          16083115  \\\n",
      "1                2415  R CASTILLO  1124678572          16083262   \n",
      "2                2415  R CASTILLO  1124678572          16083262   \n",
      "3                1681  I CASANOVA  1170194684          16085276   \n",
      "4                 761       MORON  1128647425          16085328   \n",
      "\n",
      "  FECHA DE ALTA*       FECHA DE NAC.*  NACIONALIDAD* Sexo*  Estado Civil*   \n",
      "0     01-08-2022  1984-08-18 00:00:00             12     F              1  \\\n",
      "1     01-08-2022  1997-02-21 00:00:00             12     F              1   \n",
      "2     01-08-2022  2014-08-01 00:00:00             12     F              1   \n",
      "3     01-08-2022  1999-05-10 00:00:00             12     F              1   \n",
      "4     01-08-2022  1992-07-02 00:00:00             12     F              1   \n",
      "\n",
      "   Parentesco*       SEDE Discapacidad*  \n",
      "0            0  SAN JUSTO            NO  \n",
      "1            0  SAN JUSTO            NO  \n",
      "2            2  SAN JUSTO            NO  \n",
      "3            0  SAN JUSTO            NO  \n",
      "4            0  SAN JUSTO            NO  \n"
     ]
    }
   ],
   "source": [
    "padron = pd.read_excel(r'G:\\Mi unidad\\osoetsylra\\importaciones_TIS_SD_ETC_a_sidefi\\EVP\\AGREGAR A EPV MATANZA DOS 05-06-2023.xlsx')\n",
    "print(padron.head(5))"
   ]
  },
  {
   "cell_type": "code",
   "execution_count": 3,
   "metadata": {},
   "outputs": [
    {
     "name": "stdout",
     "output_type": "stream",
     "text": [
      "   Codigo  CUIT_Empleador  CUIL_Titular  Parentesco  CUIL_Familiar Tipo_Doc   \n",
      "0  127406     20240830214   20240830214           0    20240830214       DU  \\\n",
      "1  127406     20119590958   20119590958           0    20119590958       DU   \n",
      "2  127406     27425694192   27425694192           0    27425694192       DU   \n",
      "3  127406     27425694192   27425694192           3    20549159851       DU   \n",
      "4  127406     27270992132   27270992132           0    27270992132       DU   \n",
      "\n",
      "    Nro_Doc       APELLIDO                      NOMBRE Sexo  ...  Tipo_domi   \n",
      "0  24083021         ELISII   CHRISTIAN MAURICIO JAVIER    M  ...          1  \\\n",
      "1  11959095       PEDEZERT            FERNANDO RICARDO    M  ...          1   \n",
      "2  42569419   NINA RAMIREZ               TANIA SOLEDAD    F  ...          1   \n",
      "3  54915985  ANDACABA NINA                ULISES UZIEL    M  ...          1   \n",
      "4  27099213            RAU             CINTHIA BETIANA    F  ...          1   \n",
      "\n",
      "     Telefono  Revista Incapacidad Tipo_Beneficiario Fch_Alta_OS      nro_sss   \n",
      "0  1158319409       99           0                 4  01-11-2022  351968327.0  \\\n",
      "1  1127915604       99           0                 4  01-11-2022  351994841.0   \n",
      "2  1168116908       99           0                 4  01-11-2022  351974448.0   \n",
      "3         NaN       99           0                 4  01-11-2022  351974448.0   \n",
      "4  2304301189       99           0                 4  01-11-2022  351989198.0   \n",
      "\n",
      "         SEDE     provincia2      localidad  \n",
      "0  SAN MARTIN  Buenos Aires    Billinghurst  \n",
      "1       CHILE  Buenos Aires      Loma Verde  \n",
      "2  SAN MARTIN  Buenos Aires          Matheu  \n",
      "3  SAN MARTIN  Buenos Aires          Matheu  \n",
      "4  SAN MARTIN  Buenos Aires           Pilar  \n",
      "\n",
      "[5 rows x 30 columns]\n"
     ]
    }
   ],
   "source": [
    "padron[['provincia2','localidad']] = padron['Localidad'].str.split('-',expand = True, n=1)\n",
    "print(padron.head(5))"
   ]
  },
  {
   "cell_type": "code",
   "execution_count": 22,
   "metadata": {},
   "outputs": [],
   "source": [
    "#padron[['provincia','localidads']] = padron['Provincia'].str.split('-',expand = True, n=1)\n",
    "diccionario_sedes = {'CHILE':'10', 'SAN MARTIN':'12', 'SAN JUSTO':'11', 'QUILMES':'14' }\n",
    "padron['SEDE'] = padron['SEDE'].replace(diccionario_sedes)"
   ]
  },
  {
   "cell_type": "code",
   "execution_count": null,
   "metadata": {},
   "outputs": [],
   "source": [
    "#padron = padron.drop(['CUIT_Empleador','Piso','Dpto','CP']\n",
    "#, axis = 1)"
   ]
  },
  {
   "cell_type": "code",
   "execution_count": 8,
   "metadata": {},
   "outputs": [
    {
     "data": {
      "text/plain": [
       "CUIT_Empleador      int64\n",
       "CUIL_Titular        int64\n",
       "CUIL_Familiar       int64\n",
       "APELLIDO           object\n",
       "NOMBRE             object\n",
       "Calle              object\n",
       "Nro                object\n",
       "Localidad          object\n",
       "Telefono           object\n",
       "nro_sss           float64\n",
       "Fch_Alta_OS        object\n",
       "Fch_Nac            object\n",
       "Nacionalidad        int64\n",
       "Sexo               object\n",
       "Estado_Civil        int64\n",
       "Parentesco          int64\n",
       "SEDE               object\n",
       "provincia2         object\n",
       "Incapacidad         int64\n",
       "dtype: object"
      ]
     },
     "execution_count": 8,
     "metadata": {},
     "output_type": "execute_result"
    }
   ],
   "source": [
    "padron= padron.loc[:, ['CUIT_Empleador','CUIL_Titular','CUIL_Familiar','APELLIDO','NOMBRE','Calle','Nro',\n",
    "                        'Localidad','Telefono','nro_sss','Fch_Alta_OS','Fch_Nac','Nacionalidad','Sexo','Estado_Civil','Parentesco','SEDE',\n",
    "                        'provincia2','Incapacidad']]\n",
    "padron.dtypes"
   ]
  },
  {
   "attachments": {},
   "cell_type": "markdown",
   "metadata": {},
   "source": [
    "# Transformar Fechas"
   ]
  },
  {
   "cell_type": "code",
   "execution_count": 23,
   "metadata": {},
   "outputs": [],
   "source": [
    "padron['FECHA DE ALTA*']= padron['FECHA DE ALTA*'].apply(transformar_fecha)"
   ]
  },
  {
   "cell_type": "code",
   "execution_count": 25,
   "metadata": {},
   "outputs": [
    {
     "name": "stdout",
     "output_type": "stream",
     "text": [
      "     CUIL TITULAR* CUIL ADHRENTE     APELLIDO*                  NOMBRES*   \n",
      "0      27308743085           NaN        ROMANO          YANINA ALEJANDRA  \\\n",
      "1      27444138055           NaN      GANDULFO                 GERALDINE   \n",
      "2      27444138055   27542088260        ZOCINE                    MAYLIS   \n",
      "3      27418516076           NaN         NUÑEZ                 GERALDINE   \n",
      "4      23369512404           NaN       PANTOJA               KAREN BELEN   \n",
      "..             ...           ...           ...                       ...   \n",
      "170    27343639827   27585269323  GUILLEN DIAZ         HENUTMIRE YEXALEM   \n",
      "171    27343639827   20522650200  CRESPO DIAZ              JOSE ALBERTO    \n",
      "172    20270217711           NaN      GUILLEN            ARNALDO ANDRES    \n",
      "173    27954099250           NaN       BERDEJO  EDITH OLIVIA CONCEPCION    \n",
      "174    27945559107           NaN        OSORIO               NARA YAMILA   \n",
      "\n",
      "    DOMICILIO (calle)* Domicilio (altura)*       LOCALIDAD*    TELEFONO   \n",
      "0           DEL BAÑADO                 993       R CASTILLO  1138051121  \\\n",
      "1             NORQUINS                2415       R CASTILLO  1124678572   \n",
      "2             NORQUINS                2415       R CASTILLO  1124678572   \n",
      "3           ALBARRACIN                1681       I CASANOVA  1170194684   \n",
      "4           CNEL ARENA                 761            MORON  1128647425   \n",
      "..                 ...                 ...              ...         ...   \n",
      "170             ALAGON                6895  GONZALEZ CATAN   1154955098   \n",
      "171             ALAGON                6895  GONZALEZ CATAN   1154955098   \n",
      "172             ALAGON                6895  GONZALEZ CATAN   1161619009   \n",
      "173             ATALCO                4055  GONZALEZ CATAN   1168005261   \n",
      "174     JUAN B. JUSTO                 6845   GONZALEZ CATAN  1165548800   \n",
      "\n",
      "     N° DE FORMULARIO FECHA DE ALTA*       FECHA DE NAC.*  NACIONALIDAD*   \n",
      "0            16083115     01/08/2022  1984-08-18 00:00:00             12  \\\n",
      "1            16083262     01/08/2022  1997-02-21 00:00:00             12   \n",
      "2            16083262     01/08/2022  2014-08-01 00:00:00             12   \n",
      "3            16085276     01/08/2022  1999-05-10 00:00:00             12   \n",
      "4            16085328     01/08/2022  1992-07-02 00:00:00             12   \n",
      "..                ...            ...                  ...            ...   \n",
      "170          16453545     01/09/2022  2020-09-13 00:00:00             12   \n",
      "171          16453545     01/09/2022  2011-05-09 00:00:00             12   \n",
      "172          16345354     01/09/2022  1978-12-18 00:00:00             12   \n",
      "173          16456546     01/09/2022  1982-12-12 00:00:00            132   \n",
      "174          15355453     01/09/2022  2000-02-05 00:00:00            132   \n",
      "\n",
      "    Sexo*  Estado Civil*  Parentesco* SEDE Discapacidad*  \n",
      "0       F              1            0   11            NO  \n",
      "1       F              1            0   11            NO  \n",
      "2       F              1            2   11            NO  \n",
      "3       F              1            0   11            NO  \n",
      "4       F              1            0   11            NO  \n",
      "..    ...            ...          ...  ...           ...  \n",
      "170     F              1            2   11            NO  \n",
      "171     M              1            2   11            NO  \n",
      "172     M              2            0   11            NO  \n",
      "173     F              1            0   11            NO  \n",
      "174     F              0            0   11            NO  \n",
      "\n",
      "[175 rows x 17 columns]\n"
     ]
    }
   ],
   "source": [
    "padron.to_excel(r'G:\\Mi unidad\\osoetsylra\\importaciones_TIS_SD_ETC_a_sidefi\\EVP\\EPV MATANZA DOS 05-06-2023.xlsx', engine='openpyxl', index=False)\n",
    "print(padron)\n"
   ]
  }
 ],
 "metadata": {
  "kernelspec": {
   "display_name": "Python 3",
   "language": "python",
   "name": "python3"
  },
  "language_info": {
   "codemirror_mode": {
    "name": "ipython",
    "version": 3
   },
   "file_extension": ".py",
   "mimetype": "text/x-python",
   "name": "python",
   "nbconvert_exporter": "python",
   "pygments_lexer": "ipython3",
   "version": "3.11.0 (main, Oct 24 2022, 18:26:48) [MSC v.1933 64 bit (AMD64)]"
  },
  "orig_nbformat": 4,
  "vscode": {
   "interpreter": {
    "hash": "c261aea317cc0286b3b3261fbba9abdec21eaa57589985bb7a274bf54d6cc0a7"
   }
  }
 },
 "nbformat": 4,
 "nbformat_minor": 2
}
