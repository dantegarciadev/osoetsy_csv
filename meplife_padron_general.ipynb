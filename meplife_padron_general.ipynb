{
 "cells": [
  {
   "cell_type": "code",
   "execution_count": null,
   "metadata": {},
   "outputs": [],
   "source": [
    "import pandas as pd\n",
    "import numpy as np\n",
    "padron = pd.read_csv('uoetsylra_final.csv', header=0, delimiter=';')\n",
    "print(padron.head(5))"
   ]
  },
  {
   "cell_type": "code",
   "execution_count": null,
   "metadata": {},
   "outputs": [],
   "source": [
    "padron[['provincia','localidad']] = padron['Localidad'].str.split('-',expand = True)\n"
   ]
  },
  {
   "cell_type": "code",
   "execution_count": null,
   "metadata": {},
   "outputs": [],
   "source": [
    "padron[['provincia','localidads']] = padron['Localidad'].str.split('-',expand = True, n=1)\n"
   ]
  },
  {
   "cell_type": "code",
   "execution_count": null,
   "metadata": {},
   "outputs": [],
   "source": [
    "padron = padron.drop(['CUIT_Empleador','Piso','Dpto','CP']\n",
    ", axis = 1)"
   ]
  },
  {
   "cell_type": "code",
   "execution_count": null,
   "metadata": {},
   "outputs": [],
   "source": [
    "padron= padron.loc[:, ['CUIL_Titular','CUIL_Familiar','Apellido','Nombre','Calle','Nro',\n",
    "                        'localidads','Telefono','Fch_Alta_OS','Fch_Nac','Nacionalidad','Estado_Civil','Parentesco'\n",
    "                        ,'provincia','Incapacidad'\n",
    "]]\n",
    "padron.dtypes"
   ]
  },
  {
   "attachments": {},
   "cell_type": "markdown",
   "metadata": {},
   "source": [
    "# Transformar Fechas"
   ]
  },
  {
   "cell_type": "code",
   "execution_count": null,
   "metadata": {},
   "outputs": [],
   "source": [
    "\n",
    "\n",
    "from datetime import datetime\n",
    "\n",
    "datetime.strptime('01071974', '%d%m%Y').strftime('%d-%m-%Y')\n",
    "\n",
    "\n",
    "#padron['Fch_Alta_OS'] = padron['Fch_Alta_OS'].astype(str).str.zfill(8)\n",
    "#padron\n"
   ]
  }
 ],
 "metadata": {
  "kernelspec": {
   "display_name": "Python 3",
   "language": "python",
   "name": "python3"
  },
  "language_info": {
   "codemirror_mode": {
    "name": "ipython",
    "version": 3
   },
   "file_extension": ".py",
   "mimetype": "text/x-python",
   "name": "python",
   "nbconvert_exporter": "python",
   "pygments_lexer": "ipython3",
   "version": "3.11.2"
  },
  "orig_nbformat": 4,
  "vscode": {
   "interpreter": {
    "hash": "c261aea317cc0286b3b3261fbba9abdec21eaa57589985bb7a274bf54d6cc0a7"
   }
  }
 },
 "nbformat": 4,
 "nbformat_minor": 2
}
