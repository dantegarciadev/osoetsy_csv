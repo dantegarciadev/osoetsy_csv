{
 "cells": [
  {
   "cell_type": "code",
   "execution_count": 9,
   "metadata": {},
   "outputs": [
    {
     "name": "stdout",
     "output_type": "stream",
     "text": [
      "   Codigo  CUIT_Empleador  CUIL_Titular  Parentesco  CUIL_Familiar Tipo_Doc  \\\n",
      "0  127406     20240830214   20240830214           0    20240830214       DU   \n",
      "1  127406     20119590958   20119590958           0    20119590958       DU   \n",
      "2  127406     27425694192   27425694192           0    27425694192       DU   \n",
      "3  127406     27425694192   27425694192           3    20549159851       DU   \n",
      "4  127406     27270992132   27270992132           0    27270992132       DU   \n",
      "\n",
      "    Nro_Doc       Apellido                      Nombre  Estado_Civil  ...  \\\n",
      "0  24083021         ELISII   CHRISTIAN MAURICIO JAVIER             1  ...   \n",
      "1  11959095       PEDEZERT            FERNANDO RICARDO             1  ...   \n",
      "2  42569419   NINA RAMIREZ               TANIA SOLEDAD             1  ...   \n",
      "3  54915985  ANDACABA NINA                ULISES UZIEL             1  ...   \n",
      "4  27099213            RAU             CINTHIA BETIANA             1  ...   \n",
      "\n",
      "   Revista  Incapacidad Tipo_Beneficiario Fch_Alta_OS   nro_gpo  \\\n",
      "0       99            0                 4     1112022  20001933   \n",
      "1       99            0                 4     1112022  20001941   \n",
      "2       99            0                 4     1112022  20001944   \n",
      "3       99            0                 4     1112022  20001944   \n",
      "4       99            0                 4     1112022  20001946   \n",
      "\n",
      "                               cod_sucursal             cod_clasif cod_estado  \\\n",
      "0  16,17,23,25,26,27,13,11,5,20,21,3,8,9,22  8,9,10,16,17,18,25,26    1,4,5,6   \n",
      "1  16,17,23,25,26,27,13,11,5,20,21,3,8,9,22  8,9,10,16,17,18,25,26    1,4,5,6   \n",
      "2  16,17,23,25,26,27,13,11,5,20,21,3,8,9,22  8,9,10,16,17,18,25,26    1,4,5,6   \n",
      "3  16,17,23,25,26,27,13,11,5,20,21,3,8,9,22  8,9,10,16,17,18,25,26    1,4,5,6   \n",
      "4  16,17,23,25,26,27,13,11,5,20,21,3,8,9,22  8,9,10,16,17,18,25,26    1,4,5,6   \n",
      "\n",
      "  cod_anio cod_mes  \n",
      "0     2023     NaN  \n",
      "1     2023     NaN  \n",
      "2     2023     NaN  \n",
      "3     2023     NaN  \n",
      "4     2023     NaN  \n",
      "\n",
      "[5 rows x 31 columns]\n"
     ]
    }
   ],
   "source": [
    "import pandas as pd\n",
    "padron = pd.read_csv('UOETSYLRA_PADRON_LISTO.csv', header=0, delimiter=';')\n",
    "print(padron.head(5))"
   ]
  },
  {
   "cell_type": "code",
   "execution_count": null,
   "metadata": {},
   "outputs": [],
   "source": [
    "padron[['provincia','localidad']] = padron['Localidad'].str.split('-',expand = True)\n"
   ]
  },
  {
   "cell_type": "code",
   "execution_count": 33,
   "metadata": {},
   "outputs": [],
   "source": [
    "padron[['provincia','localidads']] = padron['Localidad'].str.split('-',expand = True, n=1)\n"
   ]
  },
  {
   "cell_type": "code",
   "execution_count": 59,
   "metadata": {},
   "outputs": [],
   "source": [
    "padron = padron.drop(['CUIT_Empleador','Piso','Dpto','CP']\n",
    ", axis = 1)"
   ]
  },
  {
   "cell_type": "code",
   "execution_count": 93,
   "metadata": {},
   "outputs": [
    {
     "data": {
      "text/plain": [
       "CUIL_Titular      int64\n",
       "CUIL_Familiar     int64\n",
       "Apellido         object\n",
       "Nombre           object\n",
       "Calle            object\n",
       "Nro              object\n",
       "localidads       object\n",
       "Telefono         object\n",
       "Fch_Alta_OS      object\n",
       "Fch_Nac          object\n",
       "Nacionalidad      int64\n",
       "Estado_Civil      int64\n",
       "Parentesco        int64\n",
       "provincia        object\n",
       "Incapacidad       int64\n",
       "dtype: object"
      ]
     },
     "execution_count": 93,
     "metadata": {},
     "output_type": "execute_result"
    }
   ],
   "source": [
    "padron= padron.loc[:, ['CUIL_Titular','CUIL_Familiar','Apellido','Nombre','Calle','Nro',\n",
    "                        'localidads','Telefono','Fch_Alta_OS','Fch_Nac','Nacionalidad','Estado_Civil','Parentesco'\n",
    "                        ,'provincia','Incapacidad'\n",
    "]]\n",
    "padron.dtypes"
   ]
  },
  {
   "attachments": {},
   "cell_type": "markdown",
   "metadata": {},
   "source": [
    "# Transformar Fechas"
   ]
  },
  {
   "cell_type": "code",
   "execution_count": 92,
   "metadata": {},
   "outputs": [
    {
     "ename": "TypeError",
     "evalue": "strptime() argument 1 must be str, not Series",
     "output_type": "error",
     "traceback": [
      "\u001b[1;31m---------------------------------------------------------------------------\u001b[0m",
      "\u001b[1;31mTypeError\u001b[0m                                 Traceback (most recent call last)",
      "Cell \u001b[1;32mIn[92], line 4\u001b[0m\n\u001b[0;32m      1\u001b[0m \u001b[39mfrom\u001b[39;00m \u001b[39mdatetime\u001b[39;00m \u001b[39mimport\u001b[39;00m datetime\n\u001b[0;32m      3\u001b[0m fecha_cadena \u001b[39m=\u001b[39m padron[\u001b[39m'\u001b[39m\u001b[39mFch_Nac\u001b[39m\u001b[39m'\u001b[39m]\u001b[39m.\u001b[39mastype(\u001b[39mstr\u001b[39m)\u001b[39m.\u001b[39mstr\u001b[39m.\u001b[39mzfill(\u001b[39m8\u001b[39m)\n\u001b[1;32m----> 4\u001b[0m fecha \u001b[39m=\u001b[39m datetime\u001b[39m.\u001b[39;49mstrptime(padron[\u001b[39m'\u001b[39;49m\u001b[39mFch_Nac\u001b[39;49m\u001b[39m'\u001b[39;49m], \u001b[39m\"\u001b[39;49m\u001b[39m%d\u001b[39;49;00m\u001b[39m%\u001b[39;49m\u001b[39mm\u001b[39;49m\u001b[39m%\u001b[39;49m\u001b[39mY\u001b[39;49m\u001b[39m\"\u001b[39;49m)\n\u001b[0;32m      7\u001b[0m \u001b[39m#padron['Fch_Alta_OS'] = padron['Fch_Alta_OS'].astype(str).str.zfill(8)\u001b[39;00m\n\u001b[0;32m      8\u001b[0m \u001b[39m#padron\u001b[39;00m\n",
      "\u001b[1;31mTypeError\u001b[0m: strptime() argument 1 must be str, not Series"
     ]
    }
   ],
   "source": [
    "\n",
    "\n",
    "from datetime import datetime\n",
    "\n",
    "datetime.strptime('01071974', '%d%m%Y').strftime('%d-%m-%Y')\n",
    "\n",
    "\n",
    "#padron['Fch_Alta_OS'] = padron['Fch_Alta_OS'].astype(str).str.zfill(8)\n",
    "#padron\n"
   ]
  }
 ],
 "metadata": {
  "kernelspec": {
   "display_name": "Python 3",
   "language": "python",
   "name": "python3"
  },
  "language_info": {
   "codemirror_mode": {
    "name": "ipython",
    "version": 3
   },
   "file_extension": ".py",
   "mimetype": "text/x-python",
   "name": "python",
   "nbconvert_exporter": "python",
   "pygments_lexer": "ipython3",
   "version": "3.11.0"
  },
  "orig_nbformat": 4,
  "vscode": {
   "interpreter": {
    "hash": "c261aea317cc0286b3b3261fbba9abdec21eaa57589985bb7a274bf54d6cc0a7"
   }
  }
 },
 "nbformat": 4,
 "nbformat_minor": 2
}
