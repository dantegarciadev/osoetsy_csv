{
 "cells": [
  {
   "cell_type": "code",
   "execution_count": 1,
   "metadata": {},
   "outputs": [
    {
     "name": "stdout",
     "output_type": "stream",
     "text": [
      "   CUIL_Titular  CUIL_Familiar Apellido              Nombre  \\\n",
      "0   27263234214    27263234214    AVILA      MARIA FERNANDA   \n",
      "1   27263234214    27474020466  CABRERA      FERNANDA ABRIL   \n",
      "2   20304627329    20304627329  HERMOSA        JULIO DAMIAN   \n",
      "3   27314678953    27314678953    GOMEZ   GABRIELA VERONICA   \n",
      "4   27279299618    27279299618   ALANIZ        GLORIA NORMA   \n",
      "\n",
      "                 Calle   Nro Localidad    Telefono  N-Formulario  Fch_Alta_OS  \\\n",
      "0             san juan   240   Alberti  1139264055           NaN      1112022   \n",
      "1             san juan   240   Alberti         NaN           NaN      1112022   \n",
      "2                SALTA   346   Alberti   113465890           NaN      1112022   \n",
      "3  COMBATE SAN LORENZO  3382   Alberti  1167026366           NaN      1012023   \n",
      "4            EL CALLAO  3832   Alberti  1127292833           NaN      1042023   \n",
      "\n",
      "    Fch_Nac  Nacionalidad Sexo  Estado_Civil  Parentesco  SEDE  Incapacidad  \n",
      "0   8111977            12    F             1           0   NaN            0  \n",
      "1  25012006            12    F             1           3   NaN            0  \n",
      "2  25071983            12    M             1           0   NaN            0  \n",
      "3  29011985            12    F             2           0   NaN            0  \n",
      "4  19121979            12    F             1           0   NaN            0  \n"
     ]
    }
   ],
   "source": [
    "import pandas as pd\n",
    "padron = pd.read_csv('uoetsylra_final.csv', header=0, delimiter=';')\n",
    "print(padron.head(5))"
   ]
  },
  {
   "cell_type": "code",
   "execution_count": null,
   "metadata": {},
   "outputs": [],
   "source": [
    "padron[['provincia','localidad']] = padron['Localidad'].str.split('-',expand = True)\n"
   ]
  },
  {
   "cell_type": "code",
   "execution_count": null,
   "metadata": {},
   "outputs": [],
   "source": [
    "padron[['provincia','localidads']] = padron['Localidad'].str.split('-',expand = True, n=1)\n"
   ]
  },
  {
   "cell_type": "code",
   "execution_count": null,
   "metadata": {},
   "outputs": [],
   "source": [
    "padron = padron.drop(['CUIT_Empleador','Piso','Dpto','CP']\n",
    ", axis = 1)"
   ]
  },
  {
   "cell_type": "code",
   "execution_count": null,
   "metadata": {},
   "outputs": [],
   "source": [
    "padron= padron.loc[:, ['CUIL_Titular','CUIL_Familiar','Apellido','Nombre','Calle','Nro',\n",
    "                        'localidads','Telefono','Fch_Alta_OS','Fch_Nac','Nacionalidad','Estado_Civil','Parentesco'\n",
    "                        ,'provincia','Incapacidad'\n",
    "]]\n",
    "padron.dtypes"
   ]
  },
  {
   "attachments": {},
   "cell_type": "markdown",
   "metadata": {},
   "source": [
    "# Transformar Fechas"
   ]
  },
  {
   "cell_type": "code",
   "execution_count": null,
   "metadata": {},
   "outputs": [],
   "source": [
    "\n",
    "\n",
    "from datetime import datetime\n",
    "\n",
    "datetime.strptime('01071974', '%d%m%Y').strftime('%d-%m-%Y')\n",
    "\n",
    "\n",
    "#padron['Fch_Alta_OS'] = padron['Fch_Alta_OS'].astype(str).str.zfill(8)\n",
    "#padron\n"
   ]
  }
 ],
 "metadata": {
  "kernelspec": {
   "display_name": "Python 3",
   "language": "python",
   "name": "python3"
  },
  "language_info": {
   "codemirror_mode": {
    "name": "ipython",
    "version": 3
   },
   "file_extension": ".py",
   "mimetype": "text/x-python",
   "name": "python",
   "nbconvert_exporter": "python",
   "pygments_lexer": "ipython3",
   "version": "3.11.2"
  },
  "orig_nbformat": 4,
  "vscode": {
   "interpreter": {
    "hash": "c261aea317cc0286b3b3261fbba9abdec21eaa57589985bb7a274bf54d6cc0a7"
   }
  }
 },
 "nbformat": 4,
 "nbformat_minor": 2
}
