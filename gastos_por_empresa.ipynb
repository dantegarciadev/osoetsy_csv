{
 "cells": [
  {
   "cell_type": "code",
   "execution_count": 4,
   "metadata": {},
   "outputs": [],
   "source": [
    "import pandas as pd\n",
    "import numpy as np\n",
    "import xlwt\n",
    "import xlrd\n",
    "from tkinter import filedialog\n",
    "import tkinter as tk\n",
    "import customtkinter as ctk\n",
    "from customtkinter import filedialog\n",
    "import funciones\n",
    "import openpyxl\n",
    "import dbfread\n",
    "import glob\n",
    "from pandastable import Table, TableModel # Importar clases de pandastable"
   ]
  },
  {
   "cell_type": "markdown",
   "metadata": {},
   "source": [
    "### cargar padron con empresas"
   ]
  },
  {
   "cell_type": "code",
   "execution_count": 7,
   "metadata": {},
   "outputs": [
    {
     "name": "stdout",
     "output_type": "stream",
     "text": [
      "C:/Users/zickd/OneDrive/Escritorio/EMPRESAS_2.DBF\n",
      "        OS_NOMBRE                           NOMBRE DEPBEN_NOM  \\\n",
      "0      OSOETSYLRA  ABALLAY, VICTORIA DULCE DANIELA         30   \n",
      "1      OSOETSYLRA              ABALOS, ANITA ESTER         10   \n",
      "2      OSOETSYLRA            ABALOS, SILVIA ANALIA         20   \n",
      "3      OSOETSYLRA            ABASTO, ALEXIS MARTIN         10   \n",
      "4      OSOETSYLRA              ABATE, GISELA NOELI         10   \n",
      "...           ...                              ...        ...   \n",
      "18510  OSOETSYLRA               ZUÑIGA TAPIA, RENE         70   \n",
      "18511  OSOETSYLRA              ZUÑIGA, BELLA DOYEL         20   \n",
      "18512  OSOETSYLRA          ZUÑIGA, CARLOS JONATHAN         20   \n",
      "18513  OSOETSYLRA         ZWIERCZYK, HECTOR DAMIAN         10   \n",
      "18514  OSOETSYLRA                ÑAHUINCOPA, FELIX         10   \n",
      "\n",
      "                                              EMP_NOMBRE  \\\n",
      "0                              (27368210876) 27368210876   \n",
      "1                                                          \n",
      "2                                                          \n",
      "3                                                          \n",
      "4                         (24312088920) AQUINO ELIZABETH   \n",
      "...                                                  ...   \n",
      "18510                                                      \n",
      "18511                                                      \n",
      "18512                                                      \n",
      "18513  (30643566407) 30643566407, (30707841237) 30707...   \n",
      "18514                                                      \n",
      "\n",
      "                   ESTADO_AFI                       TIPOBEN_NO  BEN_ID  \\\n",
      "0               Con Cobertura         07-MONOT. EFECTOR SOCIAL   69608   \n",
      "1      Sin Cobertura por Baja       00-RELACION DE DEPENDENCIA    9844   \n",
      "2      Sin Cobertura por Baja       00-RELACION DE DEPENDENCIA   11263   \n",
      "3      Sin Cobertura por Baja       00-RELACION DE DEPENDENCIA   11859   \n",
      "4               Con Cobertura       00-RELACION DE DEPENDENCIA   52984   \n",
      "...                       ...                              ...     ...   \n",
      "18510  Sin Cobertura por Baja       00-RELACION DE DEPENDENCIA   17799   \n",
      "18511  Sin Cobertura por Baja       00-RELACION DE DEPENDENCIA    8872   \n",
      "18512           Con Cobertura       00-RELACION DE DEPENDENCIA   23346   \n",
      "18513           Con Cobertura       00-RELACION DE DEPENDENCIA   13579   \n",
      "18514  Sin Cobertura por Baja  08-DESEMPLEO ANSES (LEY 24.013)   17741   \n",
      "\n",
      "                NUMERO  \n",
      "0        0303682108700  \n",
      "1             17033001  \n",
      "2             27625865  \n",
      "3             30201920  \n",
      "4        0103599528100  \n",
      "...                ...  \n",
      "18510         94689801  \n",
      "18511    0203189444702  \n",
      "18512    0203189444700  \n",
      "18513    0103660278200  \n",
      "18514         94608718  \n",
      "\n",
      "[18515 rows x 8 columns]\n",
      "        OS_NOMBRE                           NOMBRE DEPBEN_NOM  \\\n",
      "0      OSOETSYLRA  ABALLAY, VICTORIA DULCE DANIELA         30   \n",
      "1      OSOETSYLRA              ABALOS, ANITA ESTER         10   \n",
      "2      OSOETSYLRA            ABALOS, SILVIA ANALIA         20   \n",
      "3      OSOETSYLRA            ABASTO, ALEXIS MARTIN         10   \n",
      "4      OSOETSYLRA              ABATE, GISELA NOELI         10   \n",
      "...           ...                              ...        ...   \n",
      "18510  OSOETSYLRA               ZUÑIGA TAPIA, RENE         70   \n",
      "18511  OSOETSYLRA              ZUÑIGA, BELLA DOYEL         20   \n",
      "18512  OSOETSYLRA          ZUÑIGA, CARLOS JONATHAN         20   \n",
      "18513  OSOETSYLRA         ZWIERCZYK, HECTOR DAMIAN         10   \n",
      "18514  OSOETSYLRA                ÑAHUINCOPA, FELIX         10   \n",
      "\n",
      "                                              EMP_NOMBRE  \\\n",
      "0                              (27368210876) 27368210876   \n",
      "1                                                          \n",
      "2                                                          \n",
      "3                                                          \n",
      "4                         (24312088920) AQUINO ELIZABETH   \n",
      "...                                                  ...   \n",
      "18510                                                      \n",
      "18511                                                      \n",
      "18512                                                      \n",
      "18513  (30643566407) 30643566407, (30707841237) 30707...   \n",
      "18514                                                      \n",
      "\n",
      "                   ESTADO_AFI                       TIPOBEN_NO  BEN_ID  \\\n",
      "0               Con Cobertura         07-MONOT. EFECTOR SOCIAL   69608   \n",
      "1      Sin Cobertura por Baja       00-RELACION DE DEPENDENCIA    9844   \n",
      "2      Sin Cobertura por Baja       00-RELACION DE DEPENDENCIA   11263   \n",
      "3      Sin Cobertura por Baja       00-RELACION DE DEPENDENCIA   11859   \n",
      "4               Con Cobertura       00-RELACION DE DEPENDENCIA   52984   \n",
      "...                       ...                              ...     ...   \n",
      "18510  Sin Cobertura por Baja       00-RELACION DE DEPENDENCIA   17799   \n",
      "18511  Sin Cobertura por Baja       00-RELACION DE DEPENDENCIA    8872   \n",
      "18512           Con Cobertura       00-RELACION DE DEPENDENCIA   23346   \n",
      "18513           Con Cobertura       00-RELACION DE DEPENDENCIA   13579   \n",
      "18514  Sin Cobertura por Baja  08-DESEMPLEO ANSES (LEY 24.013)   17741   \n",
      "\n",
      "                NUMERO  \n",
      "0        0303682108700  \n",
      "1             17033001  \n",
      "2             27625865  \n",
      "3             30201920  \n",
      "4        0103599528100  \n",
      "...                ...  \n",
      "18510         94689801  \n",
      "18511    0203189444702  \n",
      "18512    0203189444700  \n",
      "18513    0103660278200  \n",
      "18514         94608718  \n",
      "\n",
      "[18515 rows x 8 columns]\n"
     ]
    }
   ],
   "source": [
    "padron_empresas = funciones.subir_dbf()\n",
    "print(padron_empresas)"
   ]
  },
  {
   "cell_type": "markdown",
   "metadata": {},
   "source": [
    "### Cargar informe practicas facturadas"
   ]
  },
  {
   "cell_type": "code",
   "execution_count": 10,
   "metadata": {},
   "outputs": [
    {
     "name": "stdout",
     "output_type": "stream",
     "text": [
      "<_io.TextIOWrapper name='C:/Users/zickd/OneDrive/Escritorio/liquidaciones_mensual.xls' mode='r' encoding='cp1252'>\n",
      "WARNING *** file size (781039) not 512 + multiple of sector size (512)\n",
      "WARNING *** OLE2 inconsistency: SSCS size is 0 but SSAT size is non-zero\n",
      "*** No CODEPAGE record, no encoding_override: will use 'iso-8859-1'\n",
      "os_nombre            object\n",
      "nombre               object\n",
      "edad                  int64\n",
      "ord_fec      datetime64[ns]\n",
      "nomsol               object\n",
      "ori_nom              object\n",
      "ord_area             object\n",
      "nomencla             object\n",
      "nom_nom              object\n",
      "it_itot             float64\n",
      "ben_id                int64\n",
      "numero                int64\n",
      "dtype: object\n"
     ]
    }
   ],
   "source": [
    "archivo = None\n",
    "while True:\n",
    "    archivo = funciones.seleccionar_archivo()\n",
    "    print(archivo)\n",
    "    if archivo:\n",
    "        ruta_archivo = archivo.name\n",
    "        try:\n",
    "            padon_1 = pd.read_excel(ruta_archivo, engine='xlrd')\n",
    "            #padron = pd.read_csv(archivo, sep=\";\", encoding=\"ISO-8859-1\")Z\n",
    "            print(padon_1.dtypes)\n",
    "            break\n",
    "        except UnicodeDecodeError:\n",
    "            print(\"Error de decodificación de caracteres. Intenta con otra codificación o archivo.\")\n",
    "            continue\n",
    "    else:\n",
    "        print(\"Archivo incorrecto. Por favor, vuelva a cargarlo.\")"
   ]
  },
  {
   "cell_type": "code",
   "execution_count": 15,
   "metadata": {},
   "outputs": [],
   "source": [
    "gastos_final =  pd.merge(padron_empresas, padon_1, left_on ='BEN_ID', right_on= 'ben_id', how = 'right', indicator=True)\n",
    "patch = funciones.seleccionar_directorio()\n",
    "gastos_final.to_excel(patch + '\\gastos_final.xlsx')"
   ]
  }
 ],
 "metadata": {
  "kernelspec": {
   "display_name": ".venv",
   "language": "python",
   "name": "python3"
  },
  "language_info": {
   "codemirror_mode": {
    "name": "ipython",
    "version": 3
   },
   "file_extension": ".py",
   "mimetype": "text/x-python",
   "name": "python",
   "nbconvert_exporter": "python",
   "pygments_lexer": "ipython3",
   "version": "3.11.4"
  }
 },
 "nbformat": 4,
 "nbformat_minor": 2
}
