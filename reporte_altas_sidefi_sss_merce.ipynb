{
 "cells": [
  {
   "cell_type": "code",
   "execution_count": 19,
   "metadata": {},
   "outputs": [
    {
     "data": {
      "text/plain": [
       "'es_ES.UTF-8'"
      ]
     },
     "execution_count": 19,
     "metadata": {},
     "output_type": "execute_result"
    }
   ],
   "source": [
    "import pandas as pd\n",
    "import numpy as np\n",
    "import xlwt\n",
    "import xlrd\n",
    "from tkinter import filedialog\n",
    "import tkinter as tk\n",
    "import customtkinter as ctk\n",
    "from customtkinter import filedialog\n",
    "import funciones\n",
    "import re\n",
    "import openpyxl\n",
    "import datetime\n",
    "import os\n",
    "import locale # es un set de variables de entorno que define el formato de fecha y hora, \n",
    "#el lenguaje, los encoding, el formato numérico, -entre otras cosas- del sistema\n",
    "locale.setlocale(locale.LC_ALL,'es_ES.UTF-8')# Setea la variable LC_ALL al conjunto de código \n",
    "#UTF-8 con descripción español España"
   ]
  },
  {
   "cell_type": "markdown",
   "metadata": {},
   "source": [
    "### SUBIR PADRON SSS"
   ]
  },
  {
   "cell_type": "code",
   "execution_count": 20,
   "metadata": {},
   "outputs": [
    {
     "name": "stdout",
     "output_type": "stream",
     "text": [
      "<_io.TextIOWrapper name='C:/Users/zickd/Downloads/REVISION FINAL BIMENSUAL/Padron-127406/Padron-127406.txt' mode='r' encoding='cp1252'>\n",
      "       Código de Obra Social  CUIT del empleador  CUIL del Titular  \\\n",
      "0                     127406         30654855168       20259881553   \n",
      "1                     127406         20281485521       20250982888   \n",
      "2                     127406         30547981029       20224362456   \n",
      "3                     127406         30703846447       20292999675   \n",
      "4                     127406         33637617449       27268033802   \n",
      "...                      ...                 ...               ...   \n",
      "14834                 127406         20400988529       20400988529   \n",
      "14835                 127406         27229268207       27229268207   \n",
      "14836                 127406         30714359661       23164430359   \n",
      "14837                 127406         27385620077       27385620077   \n",
      "14838                 127406         30676122601       20361636415   \n",
      "\n",
      "       Código de Parentesco         Cuil Tipo Documento  Número Documento  \\\n",
      "0                         3  20556830291             DU          55683029   \n",
      "1                         3  20528731903             DU          52873190   \n",
      "2                         0  20224362456             DU          22436245   \n",
      "3                         0  20292999675             DU          29299967   \n",
      "4                         0  27268033802             DU          26803380   \n",
      "...                     ...          ...            ...               ...   \n",
      "14834                     0  20400988529             DU          40098852   \n",
      "14835                     0  27229268207             DU          22926820   \n",
      "14836                     0  23164430359             DU          16443035   \n",
      "14837                     0  27385620077             DU          38562007   \n",
      "14838                     0  20361636415             DU          36163641   \n",
      "\n",
      "                    Apellido y Nombre Sexo  Estado Civil  ...  \\\n",
      "0      SANTIAGO LAUTARO NAHUEL           M             1  ...   \n",
      "1      OLMOS BRIAN EDMUNDO               M             1  ...   \n",
      "2      REYES CHRISTIAN ANDRES            M             2  ...   \n",
      "3      SANDOVAL JESUS ISMAEL             M             1  ...   \n",
      "4      SPINELLA SABRINA MARIANA          F             1  ...   \n",
      "...                               ...  ...           ...  ...   \n",
      "14834  PARODI OCAMPO ELIAS               M             1  ...   \n",
      "14835  PALERMO FLORENCIA ELENA           F             1  ...   \n",
      "14836  AYALA DANIEL HUMBERTO             M             1  ...   \n",
      "14837  VAZQUEZ PATRICIA IVANA            F             1  ...   \n",
      "14838  FERNANDEZ RAUL MANUEL             M             1  ...   \n",
      "\n",
      "       Fecha de alta en la Obra Social  Fecha de cierre de la presentación  \\\n",
      "0                              9012017                            31012017   \n",
      "1                             25012017                            31012017   \n",
      "2                              1062022                            29022024   \n",
      "3                             27022024                            31072024   \n",
      "4                              1022024                            31072024   \n",
      "...                                ...                                 ...   \n",
      "14834                          1072024                            31072024   \n",
      "14835                          1102024                            29022024   \n",
      "14836                          1102024                            31032022   \n",
      "14837                          1102024                            30062024   \n",
      "14838                          1102024                            28022021   \n",
      "\n",
      "      Valida CUIL CUIL informado por la OS  \\\n",
      "0             100                            \n",
      "1             100                            \n",
      "2             100                            \n",
      "3             100                            \n",
      "4             100                            \n",
      "...           ...                      ...   \n",
      "14834         100                            \n",
      "14835         100                            \n",
      "14836         100                            \n",
      "14837         100                            \n",
      "14838         100                            \n",
      "\n",
      "      Tipo beneficiario informado en la DDJJ (Declaración Jurada del empleador)  \\\n",
      "0                                                      0                          \n",
      "1                                                      0                          \n",
      "2                                                      0                          \n",
      "3                                                      0                          \n",
      "4                                                                                 \n",
      "...                                                  ...                          \n",
      "14834                                                  4                          \n",
      "14835                                                  4                          \n",
      "14836                                                  0                          \n",
      "14837                                                  4                          \n",
      "14838                                                  0                          \n",
      "\n",
      "      CUIT empleador informante en la DDJJ Obra Social declarada en la DDJJ  \\\n",
      "0                              30654855168                           127406   \n",
      "1                              20281485521                           127406   \n",
      "2                              30547981029                           127406   \n",
      "3                              30703846447                           127406   \n",
      "4                                                                         0   \n",
      "...                                    ...                              ...   \n",
      "14834                                                                127406   \n",
      "14835                                                                401704   \n",
      "14836                          30714359661                           124001   \n",
      "14837                                                                126205   \n",
      "14838                          30676122601                           124001   \n",
      "\n",
      "      Ultimo período declarado por el empleador en la DDJJ  \\\n",
      "0                                                 202409     \n",
      "1                                                 202409     \n",
      "2                                                 202407     \n",
      "3                                                 202408     \n",
      "4                                                      0     \n",
      "...                                                  ...     \n",
      "14834                                             202409     \n",
      "14835                                             202409     \n",
      "14836                                             202409     \n",
      "14837                                             202409     \n",
      "14838                                             202409     \n",
      "\n",
      "       Obra Social elegida (en caso de opción)  \\\n",
      "0                                            0   \n",
      "1                                            0   \n",
      "2                                       127406   \n",
      "3                                            0   \n",
      "4                                            0   \n",
      "...                                        ...   \n",
      "14834                                   127406   \n",
      "14835                                   127406   \n",
      "14836                                   127406   \n",
      "14837                                   127406   \n",
      "14838                                   127406   \n",
      "\n",
      "       Período desde de vigencia de la opción  \n",
      "0                                           0  \n",
      "1                                           0  \n",
      "2                                      202206  \n",
      "3                                           0  \n",
      "4                                           0  \n",
      "...                                       ...  \n",
      "14834                                  202407  \n",
      "14835                                  202410  \n",
      "14836                                  202410  \n",
      "14837                                  202410  \n",
      "14838                                  202410  \n",
      "\n",
      "[14839 rows x 34 columns]\n"
     ]
    }
   ],
   "source": [
    "archivo = None\n",
    "while True:\n",
    "    archivo = funciones.seleccionar_archivo()\n",
    "    print(archivo)\n",
    "    if archivo:\n",
    "        ruta_archivo =  archivo.name # es para obtner la direccion correcta del archivo con extencion.\n",
    "        columnas = [    \"Código de Obra Social\",\n",
    "                        \"CUIT del empleador\",\n",
    "                        \"CUIL del Titular\",\n",
    "                        \"Código de Parentesco\",\n",
    "                        \"Cuil\",\n",
    "                        \"Tipo Documento\",\n",
    "                        \"Número Documento\",\n",
    "                        \"Apellido y Nombre\",\n",
    "                        \"Sexo\",\n",
    "                        \"Estado Civil\",\n",
    "                        \"Fecha de Nacimiento\",\n",
    "                        \"Nacionalidad\",\n",
    "                        \"Calle\",\n",
    "                        \"Número de puerta\",\n",
    "                        \"Piso\",\n",
    "                        \"Departamento\",\n",
    "                        \"Localidad\",\n",
    "                        \"Código Postal\",\n",
    "                        \"Provincia\",\n",
    "                        \"Tipo de Domicilio\",\n",
    "                        \"Teléfono\",\n",
    "                        \"Situación revista\",\n",
    "                        \"Incapacidad\",\n",
    "                        \"Tipo de beneficiario titular\",\n",
    "                        \"Fecha de alta en la Obra Social\",\n",
    "                        \"Fecha de cierre de la presentación\",\n",
    "                        \"Valida CUIL\",\n",
    "                        \"CUIL informado por la OS\",\n",
    "                        \"Tipo beneficiario informado en la DDJJ (Declaración Jurada del empleador)\",\n",
    "                        \"CUIT empleador informante en la DDJJ\",\n",
    "                        \"Obra Social declarada en la DDJJ\",\n",
    "                        \"Ultimo período declarado por el empleador en la DDJJ\",\n",
    "                        \"Obra Social elegida (en caso de opción)\",\n",
    "                        \"Período desde de vigencia de la opción\"\n",
    "                        ]\n",
    "        try:\n",
    "            padron_sss = pd.read_csv(ruta_archivo, sep='|', names=columnas)\n",
    "\n",
    "            print (padron_sss)\n",
    "            break\n",
    "        except UnicodeDecodeError:\n",
    "            print(\"Error de decodificación de caracteres. Intenta con otra codificación o archivo.\")\n",
    "            continue\n",
    "    else:\n",
    "        print(\"Archivo incorrecto. Por favor, vuelva a cargarlo.\")"
   ]
  },
  {
   "cell_type": "markdown",
   "metadata": {},
   "source": [
    "## cargar padron de sidefi"
   ]
  },
  {
   "cell_type": "code",
   "execution_count": 21,
   "metadata": {},
   "outputs": [
    {
     "name": "stdout",
     "output_type": "stream",
     "text": [
      "<_io.TextIOWrapper name='C:/Users/zickd/Downloads/REVISION FINAL BIMENSUAL/padron_final_sidefi - copia.csv' mode='r' encoding='cp1252'>\n",
      "       Nro. OS  Plan del Afiliado Opcion  Nro. Grupo Familiar  \\\n",
      "0           12                 10     SI             39013779   \n",
      "1           12                 10     SI             31100017   \n",
      "2           12                 10     SI             30428101   \n",
      "3           14                100     NO             93877988   \n",
      "4           14                100     NO             93877988   \n",
      "...        ...                ...    ...                  ...   \n",
      "10487       12                 10     SI             39309677   \n",
      "10488       12                 10     SI             25383247   \n",
      "10489       12                 10     SI             25383247   \n",
      "10490       12                 10     SI             18808358   \n",
      "10491        1                100     SI             36602782   \n",
      "\n",
      "         Nro. Afiliado Parentesco con el TITULAR Apellido Afiliado  \\\n",
      "0      100-39013779-02                    Hijo/a      ABALLAY SECO   \n",
      "1      100-31100017-00                   TITULAR            ABALOS   \n",
      "2      040-30428101-03                    Hijo/a            ABALOS   \n",
      "3      040-93877988-00                   TITULAR          ABENDAÑO   \n",
      "4      040-93877988-02    Hijo/a Discapacitado/a          ABENDAÑO   \n",
      "...                ...                       ...               ...   \n",
      "10487  100-39309677-00                   TITULAR            ZURITA   \n",
      "10488  100-25383247-02                    Hijo/a    ZURITA MORALES   \n",
      "10489  100-25383247-03                    Hijo/a    ZURITA MORALES   \n",
      "10490  100-18808358-00                   TITULAR    ZURITA NOGUERA   \n",
      "10491  010-36602782-00                   TITULAR         ZWIERCZYK   \n",
      "\n",
      "         Nombre Afiliado                Tipo Documento  Nro. Documento  ...  \\\n",
      "0          MAINQUE ROMAN  Documento Nacional Identidad        48480303  ...   \n",
      "1            VICTOR HUGO  Documento Nacional Identidad        31100017  ...   \n",
      "2       EMILIANO JOAQUIN  Documento Nacional Identidad        49085107  ...   \n",
      "3          EDGAR ANTONIO  Documento Nacional Identidad        93877988  ...   \n",
      "4         DANIEL ANTONIO  Documento Nacional Identidad        55696119  ...   \n",
      "...                  ...                           ...             ...  ...   \n",
      "10487      JAVIER HECTOR  Documento Nacional Identidad        39309677  ...   \n",
      "10488       AXEL FACUNDO  Documento Nacional Identidad        49757189  ...   \n",
      "10489      MATIAS LEONEL  Documento Nacional Identidad        54631111  ...   \n",
      "10490  FRANCISCO AURELIO  Documento Nacional Identidad        18808358  ...   \n",
      "10491      HECTOR DAMIAN  Documento Nacional Identidad        36602782  ...   \n",
      "\n",
      "       Nro. Puerta  Piso Departamento Barrio         Localidad     Provincia  \\\n",
      "0             1358   NaN          NaN    NaN   CAPITAL FEDERAL  BUENOS AIRES   \n",
      "1                0   NaN          NaN    NaN   CAPITAL FEDERAL  BUENOS AIRES   \n",
      "2             1447   NaN          NaN    NaN    TRISTAN SUAREZ  BUENOS AIRES   \n",
      "3             2381   0.0            .    NaN   CAPITAL FEDERAL  BUENOS AIRES   \n",
      "4             2381   0.0            .    NaN   CAPITAL FEDERAL  BUENOS AIRES   \n",
      "...            ...   ...          ...    ...               ...           ...   \n",
      "10487            0   NaN          NaN    NaN   CAPITAL FEDERAL  BUENOS AIRES   \n",
      "10488         4830   NaN          NaN    NaN   CAPITAL FEDERAL  BUENOS AIRES   \n",
      "10489         4830   NaN          NaN    NaN   CAPITAL FEDERAL  BUENOS AIRES   \n",
      "10490            0   NaN          NaN    NaN   CAPITAL FEDERAL  BUENOS AIRES   \n",
      "10491         3057   NaN          NaN    NaN  FLORENCIO VARELA  BUENOS AIRES   \n",
      "\n",
      "       Codigo Postal      Telefono        Celular                     Email  \n",
      "0               1001           NaN            NaN                       NaN  \n",
      "1               1001    3884870178                                      NaN  \n",
      "2               1752           NaN            NaN                       NaN  \n",
      "3               1437             0   0 1561071901  margavasquez38@gmail.com  \n",
      "4               1437           NaN            NaN                       NaN  \n",
      "...              ...           ...            ...                       ...  \n",
      "10487           1001    3624223952                                      NaN  \n",
      "10488           1001           NaN            NaN                       NaN  \n",
      "10489           1001           NaN            NaN                       NaN  \n",
      "10490           1001    3624719502                                      NaN  \n",
      "10491           1888  11 4221-4317  11 1552280736                       NaN  \n",
      "\n",
      "[10492 rows x 34 columns]\n"
     ]
    }
   ],
   "source": [
    "archivo = None\n",
    "while True:\n",
    "    archivo = funciones.seleccionar_archivo()\n",
    "    print(archivo)\n",
    "    if archivo:\n",
    "        ruta_archivo = archivo.name\n",
    "        try:\n",
    "            #padron = pd.read_excel(ruta_archivo)\n",
    "            padron = pd.read_csv(archivo, sep=\";\", encoding=\"UTF-8\")\n",
    "            print(padron)\n",
    "            break\n",
    "        except UnicodeDecodeError:\n",
    "            print(\"Error de decodificación de caracteres. Intenta con otra codificación o archivo.\")\n",
    "            continue\n",
    "    else:\n",
    "        print(\"Archivo incorrecto. Por favor, vuelva a cargarlo.\")"
   ]
  },
  {
   "cell_type": "code",
   "execution_count": 22,
   "metadata": {},
   "outputs": [
    {
     "data": {
      "text/plain": [
       "Index(['Nro. OS', 'Plan del Afiliado', 'Opcion', 'Nro. Grupo Familiar',\n",
       "       'Nro. Afiliado', 'Parentesco con el TITULAR', 'Apellido Afiliado',\n",
       "       'Nombre Afiliado', 'Tipo Documento', 'Nro. Documento', 'Nro. CUIL',\n",
       "       'Fecha Nacimiento', 'Sexo', 'Nacionalidad', 'Estado Civil',\n",
       "       'Legajo Interno', 'Nro. Cuenta', 'Fecha Alta', 'Fecha Baja',\n",
       "       'Observacion Baja', 'Tipo Afiliado', 'Dependencia', 'Observacion',\n",
       "       'Calle', 'Nro. Puerta', 'Piso', 'Departamento', 'Barrio', 'Localidad',\n",
       "       'Provincia', 'Codigo Postal', 'Telefono', 'Celular', 'Email'],\n",
       "      dtype='object')"
      ]
     },
     "execution_count": 22,
     "metadata": {},
     "output_type": "execute_result"
    }
   ],
   "source": [
    "padron.columns"
   ]
  },
  {
   "cell_type": "markdown",
   "metadata": {},
   "source": [
    "###  transformar dependencia y Nr OS en sidefi "
   ]
  },
  {
   "cell_type": "code",
   "execution_count": 23,
   "metadata": {},
   "outputs": [],
   "source": [
    "padron['Dependencia']=padron['Dependencia'].astype(str)\n",
    "\n",
    "dependencias = {\n",
    "\"10\" : \"CABA\",\n",
    "\"20\" : \"ZONA NORTE Y NOROESTE\",\n",
    "\"30\" : \"ZONA OESTE\",\n",
    "\"40\" : \"ZONA SUR\",\n",
    "\"50\" : \"LA PLATA\",\n",
    "\"60\" : \"MAR DEL PLATA\",\n",
    "\"70\" : \"PERGAMINO\",\n",
    "\"80\" : \"ROSARIO\",\n",
    "\"90\" : \"CORDOBA\",\n",
    "\"100\" : \"MENDOZA\",\n",
    "\"110\" : \"TUCUMAN\"\n",
    "}\n",
    "\n",
    "convenios ={\n",
    "    1 : \"osoetsylra\",\n",
    "    4 : \"SD\",\n",
    "    5 : \"TIS\",\n",
    "    7 : \"EVP\",\n",
    "    10: \"MEPLIFE\",\n",
    "    12: \"0405MEPLIFE\",\n",
    "    11: \"osoetsylra\",\n",
    "    14: \"osoetsylra\",\n",
    "    15: \"osoetsylra\"\n",
    "}\n",
    "\n",
    "padron['Dependencia']=padron['Dependencia'].replace(dependencias)\n",
    "padron['Dependencia'].head(5)\n",
    "padron['Nro. OS']=padron['Nro. OS'].replace(convenios)\n",
    "\n",
    "# creo la columna desregulados para poder trabajarla con la redistribucion del padron x sedes.\n",
    "padron['desregulados'] = padron['Nro. OS'].eq('osoetsylra')\n",
    "padron['Nro. Documento'] = padron['Nro. Documento'].astype(\"Int64\")\n",
    "\n"
   ]
  },
  {
   "cell_type": "code",
   "execution_count": 24,
   "metadata": {},
   "outputs": [
    {
     "data": {
      "text/plain": [
       "0        48480303\n",
       "1        31100017\n",
       "2        49085107\n",
       "3        93877988\n",
       "4        55696119\n",
       "           ...   \n",
       "10487    39309677\n",
       "10488    49757189\n",
       "10489    54631111\n",
       "10490    18808358\n",
       "10491    36602782\n",
       "Name: Nro. Documento, Length: 10492, dtype: Int64"
      ]
     },
     "execution_count": 24,
     "metadata": {},
     "output_type": "execute_result"
    }
   ],
   "source": [
    "padron['Nro. Documento']"
   ]
  },
  {
   "cell_type": "markdown",
   "metadata": {},
   "source": [
    "## Cruzar los datos "
   ]
  },
  {
   "cell_type": "code",
   "execution_count": 25,
   "metadata": {},
   "outputs": [
    {
     "data": {
      "text/plain": [
       "Index(['Nro. OS', 'Plan del Afiliado', 'Opcion', 'Nro. Grupo Familiar',\n",
       "       'Nro. Afiliado', 'Parentesco con el TITULAR', 'Apellido Afiliado',\n",
       "       'Nombre Afiliado', 'Tipo Documento_x', 'Nro. Documento', 'Nro. CUIL',\n",
       "       'Fecha Nacimiento', 'Sexo_x', 'Nacionalidad_x', 'Estado Civil_x',\n",
       "       'Legajo Interno', 'Nro. Cuenta', 'Fecha Alta', 'Fecha Baja',\n",
       "       'Observacion Baja', 'Tipo Afiliado', 'Dependencia', 'Observacion',\n",
       "       'Calle_x', 'Nro. Puerta', 'Piso_x', 'Departamento_x', 'Barrio',\n",
       "       'Localidad_x', 'Provincia_x', 'Codigo Postal', 'Telefono', 'Celular',\n",
       "       'Email', 'desregulados', 'Código de Obra Social', 'CUIT del empleador',\n",
       "       'CUIL del Titular', 'Código de Parentesco', 'Cuil', 'Tipo Documento_y',\n",
       "       'Número Documento', 'Apellido y Nombre', 'Sexo_y', 'Estado Civil_y',\n",
       "       'Fecha de Nacimiento', 'Nacionalidad_y', 'Calle_y', 'Número de puerta',\n",
       "       'Piso_y', 'Departamento_y', 'Localidad_y', 'Código Postal',\n",
       "       'Provincia_y', 'Tipo de Domicilio', 'Teléfono', 'Situación revista',\n",
       "       'Incapacidad', 'Tipo de beneficiario titular',\n",
       "       'Fecha de alta en la Obra Social', 'Fecha de cierre de la presentación',\n",
       "       'Valida CUIL', 'CUIL informado por la OS',\n",
       "       'Tipo beneficiario informado en la DDJJ (Declaración Jurada del empleador)',\n",
       "       'CUIT empleador informante en la DDJJ',\n",
       "       'Obra Social declarada en la DDJJ',\n",
       "       'Ultimo período declarado por el empleador en la DDJJ',\n",
       "       'Obra Social elegida (en caso de opción)',\n",
       "       'Período desde de vigencia de la opción', '_merge'],\n",
       "      dtype='object')"
      ]
     },
     "execution_count": 25,
     "metadata": {},
     "output_type": "execute_result"
    }
   ],
   "source": [
    "cruce_sidefi = pd.merge(padron, padron_sss, left_on='Nro. Documento', right_on='Número Documento', how='outer', indicator=True)\n",
    "cruce_sidefi\n",
    "#save_path = filedialog.askdirectory()\n",
    "#cruce_sidefi.to_excel(save_path + '\\cruce_sss.xlsx', engine='openpyxl' ,index = False )\n",
    "cruce_sidefi.columns"
   ]
  },
  {
   "cell_type": "code",
   "execution_count": 26,
   "metadata": {},
   "outputs": [
    {
     "data": {
      "text/plain": [
       "0    False\n",
       "1    False\n",
       "2    False\n",
       "3     True\n",
       "4     True\n",
       "Name: desregulados, dtype: object"
      ]
     },
     "execution_count": 26,
     "metadata": {},
     "output_type": "execute_result"
    }
   ],
   "source": [
    "cruce_sidefi['Tipo de beneficiario titular'].fillna(20, inplace=True)\n",
    "cruce_sidefi['Tipo de beneficiario titular'].astype(int)\n",
    "cruce_sidefi['desregulados'].head()\n"
   ]
  },
  {
   "cell_type": "markdown",
   "metadata": {},
   "source": [
    "###  modelado tabla final"
   ]
  },
  {
   "cell_type": "code",
   "execution_count": 27,
   "metadata": {},
   "outputs": [],
   "source": [
    "# crear nuevos campos codem y monotributo\n",
    "\n",
    "cruce_sidefi[\"CODEM\"] = \"\"\n",
    "cruce_sidefi[\"MONOTRIBUTO SSS\"] = \"\"\n",
    "\n",
    "cruce_sidefi['Dependencia'].head(5)\n",
    "tipo_benef= {\n",
    "0:\"RELACION DE DEPENDENCIA\",\n",
    "1:\"PASANTES\",\n",
    "2:\"JUBILADOS DEL SISTEMA NACIONAL DEL SEGURO DE SALUD\",\n",
    "3:\"ADHERENTES VOLUNTARIOS\",\n",
    "4:\"PEQUEÑOS CONTRIBUYENTES – MONOTRIBUTISTAS (LEY 25.865)\",\n",
    "5:\"SERVICIO DOMESTICO (LEY 26.068)\",\n",
    "6:\"JUBILADOS DEL REGISTRO PARA LA ATENCION DE ESPAÑOLES\",\n",
    "7:\"MONOTRIBUTISTAS EFECTORES SOCIALES\",\n",
    "8:\"BENEFICIARIOS DE SEGURO DE DESEMPLEO (LEY 24.013)\",\n",
    "9:\"BENEFICIARIOS DE SEGURO DE DESEMPLEO (LEY 25.191) (RENATRE)\",\n",
    "10:\"JUBILADOS Y PENSIONADOS DEL INSTITUTO NACIONAL DE SERVICIOS SOCIALES\",\n",
    "11:\"JUBILADOS Y PENSIONADOS DE OTROS SISTEMAS\",\n",
    "12:\"RELACION DE DEPENDENCIA (SIN APORTES Y CONTRIBUCION POR SJP)\",\n",
    "20:\"\"\n",
    "}\n",
    "cruce_dic = {\n",
    "    \"left_only\":\"Sidefi\",\n",
    "    \"both\":\"ambos\",\n",
    "    \"right_only\":\"SSS\"\n",
    "    }\n",
    "cruce_sidefi['_merge'].replace(cruce_dic, inplace=True)\n",
    "cruce_sidefi.rename(columns={'_merge':'padron sidefi/sss'}, inplace= True)\n",
    "\n",
    "cruce_sidefi['Tipo de beneficiario titular'].replace(tipo_benef, inplace=True)\n",
    "cruce_sidefi['Tipo Afiliado'].replace(tipo_benef, inplace=True)\n",
    "\n",
    "parentesco = {\n",
    "0 : \"titular\",\n",
    "1 : \"conyuge\",\n",
    "2 : \"concubino/a\",\n",
    "3 : \"hijo soltero menor 21\",\n",
    "4 : \"hijo soltero 21 a 25 cursando estudios\",\n",
    "5 : \"hijo del conyuge soltero menor 21\",\n",
    "1 : \"hijo del conyuge soltero 21 a 25 cursando estudios\",\n",
    "1 : \"menor bajo guardia o tutela\",\n",
    "8 : \"familiar a cargo\",\n",
    "9 : \"mayor 25, discapacitado\"\n",
    "}\n",
    "\n",
    "cruce_sidefi['Código de Parentesco'].replace(parentesco, inplace = True)\n",
    "\n",
    "cruce_sidefi=cruce_sidefi[[\n",
    "\"Nro. OS\",\n",
    "\"Plan del Afiliado\",\n",
    "\"Parentesco con el TITULAR\",\n",
    "\"Apellido Afiliado\",\n",
    "\"Nombre Afiliado\",\n",
    "\"Nro. Documento\",\n",
    "\"Nro. CUIL\",\n",
    "\"Fecha Nacimiento\",\n",
    "\"Fecha Alta\",\n",
    "\"Fecha Baja\",\n",
    "\"Observacion Baja\",\n",
    "\"Tipo Afiliado\",\n",
    "\"Dependencia\",\n",
    "\"Localidad_x\",\n",
    "\"Provincia_x\",\n",
    "\"CUIL del Titular\",\n",
    "\"Código de Parentesco\",\n",
    "\"Cuil\",\n",
    "\"Número Documento\",\n",
    "\"Apellido y Nombre\",\n",
    "\"Sexo_y\",\n",
    "\"Fecha de Nacimiento\",\n",
    "\"Localidad_y\",\n",
    "\"Código Postal\",\n",
    "\"Provincia_y\",\n",
    "\"Teléfono\",\n",
    "\"Incapacidad\",\n",
    "\"Tipo de beneficiario titular\",\n",
    "\"Fecha de alta en la Obra Social\",\n",
    "\"CUIL informado por la OS\",\n",
    "\"Obra Social elegida (en caso de opción)\",\n",
    "\"Período desde de vigencia de la opción\",\n",
    "\"padron sidefi/sss\",\n",
    "\"CODEM\",\n",
    "\"MONOTRIBUTO SSS\",\n",
    "\"desregulados\"\n",
    "]]"
   ]
  },
  {
   "cell_type": "markdown",
   "metadata": {},
   "source": [
    "### redistribucion de padrones por sedes"
   ]
  },
  {
   "cell_type": "code",
   "execution_count": 28,
   "metadata": {},
   "outputs": [],
   "source": [
    "ahora = datetime.datetime.now()    # Formatear la fecha y hora como una cadena con el formato \"aaaa-mm-dd hh:mm:ss\"\n",
    "fecha = ahora.strftime(\"%Y-%m-%d %H-%M-%S\")\n",
    "\n",
    "groups = cruce_sidefi.groupby('Dependencia') # Agrupar el dataframe por la columna sede\n",
    "dfs = [] # Crear una lista vacía para almacenar los dataframes separados\n",
    "for name, group in groups: # Iterar sobre los grupos y añadir cada dataframe a la lista\n",
    "    dfs.append(group)\n",
    "    #print(name) # Imprimir la lista de dataframes\n",
    "# Configurar los padrones que van a trabajar entre varias sedes \n",
    "#path = funciones.seleccionar_directorio()\n",
    "#dfs[11].to_excel(path + '/' + \"prueba.xlsx\", index=False) # Guardar el dataframe en el archivo excel sin el índice\n",
    "# 2: la plata, 0: caba , 1:cordoba , 3:mar del plata, 4: mendoza, 5:pegamino, 6:rosario, 7:tucuman\n",
    "# 8: zona norte, 9: zona oeste, 10: zona sur"
   ]
  },
  {
   "cell_type": "markdown",
   "metadata": {},
   "source": [
    "### <span style=\"color:pink\">Distribución del padrón</span>\n",
    "- **Mendoza** (+ SMT 60% desregulados)\n",
    "- **BsAs - San Martín**\n"
   ]
  },
  {
   "cell_type": "code",
   "execution_count": 29,
   "metadata": {},
   "outputs": [],
   "source": [
    "# San martin\n",
    "dfs[8]=dfs[8].sort_values(by = \"Nro. OS\" , ascending = False) # ordeno el dataframe por convenio, para que no quden mezclados los responsables, y cuando se asignen los responsables tengan continuidad con los diff convenios\n",
    "total_desregulado = dfs[8][dfs[8]['desregulados'] == False] # filtro los desregualdos \"false\" del df \"dfs[8]\" \n",
    "filas_mendoza = int(len(total_desregulado) * 0.6) #calculo el 60% de los \"false\" filtrados \n",
    "dfs[8]['asignado'] = 'vanesa' #creo una columna nueva con los valores \"vanesa\"\n",
    "mendoza_indices = total_desregulado.iloc[:filas_mendoza].index # aca asigno el 60% al indice solo a los Falses\n",
    "dfs[8].loc[mendoza_indices, 'asignado'] = 'Alejandro'"
   ]
  },
  {
   "cell_type": "markdown",
   "metadata": {},
   "source": [
    "- **BsAs - Chile**\n",
    "- **Rosario** (+ Chile Desregulados 100%)"
   ]
  },
  {
   "cell_type": "code",
   "execution_count": 30,
   "metadata": {},
   "outputs": [],
   "source": [
    "#CABA\n",
    "dfs[0]=dfs[0].sort_values(by = \"Nro. OS\" , ascending = False) # ordeno el dataframe por convenio, para que no quden mezclados los responsables, y cuando se asignen los responsables tengan continuidad con los diff convenios\n",
    "total_desregulado = dfs[0][dfs[0]['desregulados'] == False] # filtro los desregualdos \"false\" del df \"dfs[8]\" \n",
    "filas_rosario = len(total_desregulado) #es el total de los \"false\" filtrados \n",
    "dfs[0]['asignado'] = 'Orne-Xime-Vero' #creo una columna nueva con los valores \"vanesa\"\n",
    "rosario_indices = total_desregulado.iloc[:filas_rosario].index # aca asigno el 60% al indice solo a los Falses\n",
    "dfs[0].loc[rosario_indices, 'asignado'] = 'Yamila-Neiva'"
   ]
  },
  {
   "cell_type": "markdown",
   "metadata": {},
   "source": [
    "- **BsAs - San Justo**\n",
    "- **BsAs - Pergamino** (+ SJT 35% desregulados)\n",
    "- **Tucumán** (35% SJT Desregulados)"
   ]
  },
  {
   "cell_type": "code",
   "execution_count": 31,
   "metadata": {},
   "outputs": [
    {
     "name": "stdout",
     "output_type": "stream",
     "text": [
      "10                SD\n",
      "11                SD\n",
      "16       0405MEPLIFE\n",
      "17       0405MEPLIFE\n",
      "18        osoetsylra\n",
      "            ...     \n",
      "10502     osoetsylra\n",
      "10503     osoetsylra\n",
      "10506    0405MEPLIFE\n",
      "10510    0405MEPLIFE\n",
      "10521    0405MEPLIFE\n",
      "Name: Nro. OS, Length: 2408, dtype: object\n"
     ]
    }
   ],
   "source": [
    "print(dfs[9][\"Nro. OS\"])"
   ]
  },
  {
   "cell_type": "code",
   "execution_count": 32,
   "metadata": {},
   "outputs": [],
   "source": [
    "# San Justo\n",
    "dfs[9]=dfs[9].sort_values(by = \"Nro. OS\" , ascending = False) # ordeno el dataframe por convenio, para que no quden mezclados los responsables, y cuando se asignen los responsables tengan continuidad con los diff convenios\n",
    "total_desregulado = dfs[9][dfs[9]['desregulados'] == False] # filtro los desregualdos \"false\" del df \"dfs[8]\" \n",
    "filas_pergamino = int(len(total_desregulado) * 0.35) #calculo el 60% de los \"false\" filtrados \n",
    "dfs[9]['asignado'] = 'Yanina' #creo una columna nueva con los valores \"vanesa\"\n",
    "pergamino_indices = total_desregulado.iloc[:filas_pergamino].index # aca asigno el 60% al indice solo a los Falses\n",
    "dfs[9].loc[pergamino_indices, 'asignado'] = 'Nancy'\n",
    "#calcular el rango para san tucuman : claudia\n",
    "inicio_tucuman = filas_pergamino\n",
    "fin_tucuman = inicio_tucuman + filas_pergamino\n",
    "# asignar este 35% a las filas de desregulados a claudia\n",
    "tucuman_indices = total_desregulado.iloc[inicio_tucuman:fin_tucuman].index\n",
    "dfs[9].loc[tucuman_indices,'asignado'] = 'Claudia'"
   ]
  },
  {
   "cell_type": "markdown",
   "metadata": {},
   "source": [
    "- **BsAs - Quilmes** (+ La Plata)\n",
    "- **Córdoba** (+ MDQ) (+ 40% desregulados Quilmes)\n",
    "- **Mendoza** (+ 40% QM desregulados)"
   ]
  },
  {
   "cell_type": "code",
   "execution_count": 33,
   "metadata": {},
   "outputs": [
    {
     "data": {
      "text/plain": [
       "354"
      ]
     },
     "execution_count": 33,
     "metadata": {},
     "output_type": "execute_result"
    }
   ],
   "source": [
    "# Quilmes\n",
    "dfs[10]=dfs[10].sort_values(by = \"Nro. OS\" , ascending = False) # ordeno el dataframe por convenio, para que no quden mezclados los responsables, y cuando se asignen los responsables tengan continuidad con los diff convenios\n",
    "total_desregulado = dfs[10][dfs[10]['desregulados'] == False] # filtro los desregualdos \"false\" del df \"dfs[10]\" \n",
    "filas_cordoba = int(len(total_desregulado) * 0.4) #calculo el 60% de los \"false\" filtrados \n",
    "dfs[10]['asignado'] = 'Micaela' #creo una columna nueva con los valores \"vanesa\"\n",
    "cordoba_indices = total_desregulado.iloc[:filas_cordoba].index # aca asigno el 25% al indice solo a los Falses\n",
    "dfs[10].loc[cordoba_indices, 'asignado'] = 'Maria Jose'\n",
    "#calcular el rango para san tucuman : claudia\n",
    "inicio_mendoza = filas_cordoba\n",
    "fin_mendoza = inicio_mendoza + filas_cordoba\n",
    "# asignar este 35% a las filas de desregulados a claudia\n",
    "mendoza_indices = total_desregulado.iloc[inicio_mendoza:fin_mendoza].index\n",
    "dfs[10].loc[mendoza_indices,'asignado'] = 'ALejandro'\n",
    "\n",
    "filas_cordoba\n"
   ]
  },
  {
   "cell_type": "code",
   "execution_count": 34,
   "metadata": {},
   "outputs": [],
   "source": [
    "dfs[0].to_excel('prueba_znorte.xlsx')"
   ]
  },
  {
   "cell_type": "markdown",
   "metadata": {},
   "source": [
    "### guardar el excel por  sede"
   ]
  },
  {
   "cell_type": "code",
   "execution_count": 35,
   "metadata": {},
   "outputs": [
    {
     "name": "stdout",
     "output_type": "stream",
     "text": [
      "Se ha guardado el archivo C:/Users/zickd/Downloads/REVISION FINAL BIMENSUAL\\CABA\\CABA Octubre 31 2024\\CABA Octubre 31 2024.xlsx\n",
      "Se ha guardado el archivo C:/Users/zickd/Downloads/REVISION FINAL BIMENSUAL\\CORDOBA\\CORDOBA Octubre 31 2024\\CORDOBA Octubre 31 2024.xlsx\n",
      "Se ha guardado el archivo C:/Users/zickd/Downloads/REVISION FINAL BIMENSUAL\\LA PLATA\\LA PLATA Octubre 31 2024\\LA PLATA Octubre 31 2024.xlsx\n",
      "Se ha guardado el archivo C:/Users/zickd/Downloads/REVISION FINAL BIMENSUAL\\MAR DEL PLATA\\MAR DEL PLATA Octubre 31 2024\\MAR DEL PLATA Octubre 31 2024.xlsx\n",
      "Se ha guardado el archivo C:/Users/zickd/Downloads/REVISION FINAL BIMENSUAL\\MENDOZA\\MENDOZA Octubre 31 2024\\MENDOZA Octubre 31 2024.xlsx\n",
      "Se ha guardado el archivo C:/Users/zickd/Downloads/REVISION FINAL BIMENSUAL\\PERGAMINO\\PERGAMINO Octubre 31 2024\\PERGAMINO Octubre 31 2024.xlsx\n",
      "Se ha guardado el archivo C:/Users/zickd/Downloads/REVISION FINAL BIMENSUAL\\ROSARIO\\ROSARIO Octubre 31 2024\\ROSARIO Octubre 31 2024.xlsx\n",
      "Se ha guardado el archivo C:/Users/zickd/Downloads/REVISION FINAL BIMENSUAL\\TUCUMAN\\TUCUMAN Octubre 31 2024\\TUCUMAN Octubre 31 2024.xlsx\n",
      "Se ha guardado el archivo C:/Users/zickd/Downloads/REVISION FINAL BIMENSUAL\\ZONA NORTE Y NOROESTE\\ZONA NORTE Y NOROESTE Octubre 31 2024\\ZONA NORTE Y NOROESTE Octubre 31 2024.xlsx\n",
      "Se ha guardado el archivo C:/Users/zickd/Downloads/REVISION FINAL BIMENSUAL\\ZONA OESTE\\ZONA OESTE Octubre 31 2024\\ZONA OESTE Octubre 31 2024.xlsx\n",
      "Se ha guardado el archivo C:/Users/zickd/Downloads/REVISION FINAL BIMENSUAL\\ZONA SUR\\ZONA SUR Octubre 31 2024\\ZONA SUR Octubre 31 2024.xlsx\n"
     ]
    }
   ],
   "source": [
    "ahora = datetime.datetime.now()    # Formatear la fecha y hora como una cadena con el formato \"aaaa-mm-dd hh:mm:ss\"\n",
    "mes = ahora.strftime(\"%B\").capitalize()\n",
    "dia = ahora.day  # Obtener el día en número\n",
    "anio = ahora.year  # Obtener el año en número\n",
    "fecha = f\"{mes} {dia} {anio}\"\n",
    "\n",
    "save_path = filedialog.askdirectory()\n",
    "cruce_sidefi.to_excel(save_path + '\\devoluciones2_septiembre2023.xlsx', engine='openpyxl' ,index = False )\n",
    "\n",
    "# Definir funciones de estilo para cada rango de columnas\n",
    "def highlight_col1(columns):\n",
    "    return ['background-color: #33ffff' if col != '' else '' for col in columns]\n",
    "\n",
    "def highlight_col2(columns):\n",
    "    return ['background-color: #74FC69' if col != '' else '' for col in columns]\n",
    "\n",
    "\n",
    "### guardarlos con los nombres correspondientes\n",
    "for df in dfs: # Iterar sobre la lista de dataframes\n",
    "    sede = df['Dependencia'].iloc[0] # Obtener el nombre de la sede del primer elemento del grupo \n",
    "    #df.drop('desregulados', axis = 1, inplace=True)\n",
    "    styled_df = df.style.apply(highlight_col1, subset=df.columns[0:15])  # Aplicar a las columnas de 'A' a 'E'\n",
    "    styled_df = styled_df.apply(highlight_col2, subset=df.columns[15:32])  # Aplicar a las columnas de 'F' a 'J'\n",
    "    directorio = os.path.join(save_path, sede, sede + \" \" + fecha)\n",
    "    os.makedirs(directorio, exist_ok=True)\n",
    "    filename = os.path.join(directorio, sede+ \" \" + fecha + '.xlsx')\n",
    "    #filename = directorio + '/' + sede + '.xlsx' # Crear el nombre del archivo con la ruta de la carpeta y el nombre del convenio\n",
    "    styled_df.to_excel(filename, index=False) # Guardar el dataframe en el archivo excel sin el índice\n",
    "    print(f\"Se ha guardado el archivo {filename}\") # Imprimir un mensaje de confirmación"
   ]
  },
  {
   "cell_type": "code",
   "execution_count": null,
   "metadata": {},
   "outputs": [],
   "source": []
  }
 ],
 "metadata": {
  "kernelspec": {
   "display_name": ".venv",
   "language": "python",
   "name": "python3"
  },
  "language_info": {
   "codemirror_mode": {
    "name": "ipython",
    "version": 3
   },
   "file_extension": ".py",
   "mimetype": "text/x-python",
   "name": "python",
   "nbconvert_exporter": "python",
   "pygments_lexer": "ipython3",
   "version": "3.11.8"
  }
 },
 "nbformat": 4,
 "nbformat_minor": 2
}
