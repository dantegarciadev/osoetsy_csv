{
 "cells": [
  {
   "cell_type": "code",
   "execution_count": null,
   "metadata": {},
   "outputs": [],
   "source": [
    "import pandas as pd\n",
    "import numpy as np\n",
    "import xlwt\n",
    "import xlrd\n",
    "from tkinter import filedialog\n",
    "import tkinter as tk\n",
    "import customtkinter as ctk\n",
    "from customtkinter import filedialog\n",
    "import funciones\n",
    "import re\n",
    "import openpyxl\n",
    "import datetime\n",
    "import os\n",
    "import locale # es un set de variables de entorno que define el formato de fecha y hora, \n",
    "#el lenguaje, los encoding, el formato numérico, -entre otras cosas- del sistema\n",
    "locale.setlocale(locale.LC_ALL,'es_ES.UTF-8')# Setea la variable LC_ALL al conjunto de código \n",
    "#UTF-8 con descripción español España"
   ]
  },
  {
   "cell_type": "markdown",
   "metadata": {},
   "source": [
    "### SUBIR PADRON SSS"
   ]
  },
  {
   "cell_type": "code",
   "execution_count": null,
   "metadata": {},
   "outputs": [],
   "source": [
    "archivo = None\n",
    "while True:\n",
    "    archivo = funciones.seleccionar_archivo()\n",
    "    print(archivo)\n",
    "    if archivo:\n",
    "        ruta_archivo =  archivo.name # es para obtner la direccion correcta del archivo con extencion.\n",
    "        columnas = [    \"Código de Obra Social\",\n",
    "                        \"CUIT del empleador\",\n",
    "                        \"CUIL del Titular\",\n",
    "                        \"Código de Parentesco\",\n",
    "                        \"Cuil\",\n",
    "                        \"Tipo Documento\",\n",
    "                        \"Número Documento\",\n",
    "                        \"Apellido y Nombre\",\n",
    "                        \"Sexo\",\n",
    "                        \"Estado Civil\",\n",
    "                        \"Fecha de Nacimiento\",\n",
    "                        \"Nacionalidad\",\n",
    "                        \"Calle\",\n",
    "                        \"Número de puerta\",\n",
    "                        \"Piso\",\n",
    "                        \"Departamento\",\n",
    "                        \"Localidad\",\n",
    "                        \"Código Postal\",\n",
    "                        \"Provincia\",\n",
    "                        \"Tipo de Domicilio\",\n",
    "                        \"Teléfono\",\n",
    "                        \"Situación revista\",\n",
    "                        \"Incapacidad\",\n",
    "                        \"Tipo de beneficiario titular\",\n",
    "                        \"Fecha de alta en la Obra Social\",\n",
    "                        \"Fecha de cierre de la presentación\",\n",
    "                        \"Valida CUIL\",\n",
    "                        \"CUIL informado por la OS\",\n",
    "                        \"Tipo beneficiario informado en la DDJJ (Declaración Jurada del empleador)\",\n",
    "                        \"CUIT empleador informante en la DDJJ\",\n",
    "                        \"Obra Social declarada en la DDJJ\",\n",
    "                        \"Ultimo período declarado por el empleador en la DDJJ\",\n",
    "                        \"Obra Social elegida (en caso de opción)\",\n",
    "                        \"Período desde de vigencia de la opción\"\n",
    "                        ]\n",
    "        try:\n",
    "            padron_sss = pd.read_csv(ruta_archivo, sep='|', names=columnas)\n",
    "\n",
    "            print (padron_sss)\n",
    "            break\n",
    "        except UnicodeDecodeError:\n",
    "            print(\"Error de decodificación de caracteres. Intenta con otra codificación o archivo.\")\n",
    "            continue\n",
    "    else:\n",
    "        print(\"Archivo incorrecto. Por favor, vuelva a cargarlo.\")"
   ]
  },
  {
   "cell_type": "markdown",
   "metadata": {},
   "source": [
    "## cargar padron de sidefi"
   ]
  },
  {
   "cell_type": "code",
   "execution_count": null,
   "metadata": {},
   "outputs": [],
   "source": [
    "archivo = None\n",
    "while True:\n",
    "    archivo = funciones.seleccionar_archivo()\n",
    "    print(archivo)\n",
    "    if archivo:\n",
    "        ruta_archivo = archivo.name\n",
    "        try:\n",
    "            #padron = pd.read_excel(ruta_archivo)\n",
    "            padron = pd.read_csv(archivo, sep=\";\", encoding=\"UTF-8\")\n",
    "            print(padron)\n",
    "            break\n",
    "        except UnicodeDecodeError:\n",
    "            print(\"Error de decodificación de caracteres. Intenta con otra codificación o archivo.\")\n",
    "            continue\n",
    "    else:\n",
    "        print(\"Archivo incorrecto. Por favor, vuelva a cargarlo.\")"
   ]
  },
  {
   "cell_type": "code",
   "execution_count": null,
   "metadata": {},
   "outputs": [],
   "source": [
    "padron.columns"
   ]
  },
  {
   "cell_type": "markdown",
   "metadata": {},
   "source": [
    "###  transformar dependencia y Nr OS en sidefi "
   ]
  },
  {
   "cell_type": "code",
   "execution_count": 23,
   "metadata": {},
   "outputs": [],
   "source": [
    "padron['Dependencia']=padron['Dependencia'].astype(str)\n",
    "\n",
    "dependencias = {\n",
    "\"10\" : \"CABA\",\n",
    "\"20\" : \"ZONA NORTE Y NOROESTE\",\n",
    "\"30\" : \"ZONA OESTE\",\n",
    "\"40\" : \"ZONA SUR\",\n",
    "\"50\" : \"LA PLATA\",\n",
    "\"60\" : \"MAR DEL PLATA\",\n",
    "\"70\" : \"PERGAMINO\",\n",
    "\"80\" : \"ROSARIO\",\n",
    "\"90\" : \"CORDOBA\",\n",
    "\"100\" : \"MENDOZA\",\n",
    "\"110\" : \"TUCUMAN\"\n",
    "}\n",
    "\n",
    "convenios ={\n",
    "    1 : \"osoetsylra\",\n",
    "    4 : \"SD\",\n",
    "    5 : \"TIS\",\n",
    "    7 : \"EVP\",\n",
    "    10: \"MEPLIFE\",\n",
    "    12: \"0405MEPLIFE\",\n",
    "    11: \"osoetsylra\",\n",
    "    14: \"osoetsylra\",\n",
    "    15: \"osoetsylra\"\n",
    "}\n",
    "\n",
    "padron['Dependencia']=padron['Dependencia'].replace(dependencias)\n",
    "padron['Dependencia'].head(5)\n",
    "padron['Nro. OS']=padron['Nro. OS'].replace(convenios)\n",
    "\n",
    "# creo la columna desregulados para poder trabajarla con la redistribucion del padron x sedes.\n",
    "padron['desregulados'] = padron['Nro. OS'].eq('osoetsylra')\n",
    "padron['Nro. Documento'] = padron['Nro. Documento'].astype(\"Int64\")\n",
    "\n"
   ]
  },
  {
   "cell_type": "code",
   "execution_count": null,
   "metadata": {},
   "outputs": [],
   "source": [
    "padron['Nro. Documento']"
   ]
  },
  {
   "cell_type": "markdown",
   "metadata": {},
   "source": [
    "## Cruzar los datos "
   ]
  },
  {
   "cell_type": "code",
   "execution_count": null,
   "metadata": {},
   "outputs": [],
   "source": [
    "cruce_sidefi = pd.merge(padron, padron_sss, left_on='Nro. Documento', right_on='Número Documento', how='outer', indicator=True)\n",
    "cruce_sidefi\n",
    "#save_path = filedialog.askdirectory()\n",
    "#cruce_sidefi.to_excel(save_path + '\\cruce_sss.xlsx', engine='openpyxl' ,index = False )\n",
    "cruce_sidefi.columns"
   ]
  },
  {
   "cell_type": "code",
   "execution_count": null,
   "metadata": {},
   "outputs": [],
   "source": [
    "cruce_sidefi['Tipo de beneficiario titular'].fillna(20, inplace=True)\n",
    "cruce_sidefi['Tipo de beneficiario titular'].astype(int)\n",
    "cruce_sidefi['desregulados'].head()\n"
   ]
  },
  {
   "cell_type": "markdown",
   "metadata": {},
   "source": [
    "###  modelado tabla final"
   ]
  },
  {
   "cell_type": "code",
   "execution_count": 27,
   "metadata": {},
   "outputs": [],
   "source": [
    "# crear nuevos campos codem y monotributo\n",
    "\n",
    "cruce_sidefi[\"CODEM\"] = \"\"\n",
    "cruce_sidefi[\"MONOTRIBUTO SSS\"] = \"\"\n",
    "\n",
    "cruce_sidefi['Dependencia'].head(5)\n",
    "tipo_benef= {\n",
    "0:\"RELACION DE DEPENDENCIA\",\n",
    "1:\"PASANTES\",\n",
    "2:\"JUBILADOS DEL SISTEMA NACIONAL DEL SEGURO DE SALUD\",\n",
    "3:\"ADHERENTES VOLUNTARIOS\",\n",
    "4:\"PEQUEÑOS CONTRIBUYENTES – MONOTRIBUTISTAS (LEY 25.865)\",\n",
    "5:\"SERVICIO DOMESTICO (LEY 26.068)\",\n",
    "6:\"JUBILADOS DEL REGISTRO PARA LA ATENCION DE ESPAÑOLES\",\n",
    "7:\"MONOTRIBUTISTAS EFECTORES SOCIALES\",\n",
    "8:\"BENEFICIARIOS DE SEGURO DE DESEMPLEO (LEY 24.013)\",\n",
    "9:\"BENEFICIARIOS DE SEGURO DE DESEMPLEO (LEY 25.191) (RENATRE)\",\n",
    "10:\"JUBILADOS Y PENSIONADOS DEL INSTITUTO NACIONAL DE SERVICIOS SOCIALES\",\n",
    "11:\"JUBILADOS Y PENSIONADOS DE OTROS SISTEMAS\",\n",
    "12:\"RELACION DE DEPENDENCIA (SIN APORTES Y CONTRIBUCION POR SJP)\",\n",
    "20:\"\"\n",
    "}\n",
    "cruce_dic = {\n",
    "    \"left_only\":\"Sidefi\",\n",
    "    \"both\":\"ambos\",\n",
    "    \"right_only\":\"SSS\"\n",
    "    }\n",
    "cruce_sidefi['_merge'].replace(cruce_dic, inplace=True)\n",
    "cruce_sidefi.rename(columns={'_merge':'padron sidefi/sss'}, inplace= True)\n",
    "\n",
    "cruce_sidefi['Tipo de beneficiario titular'].replace(tipo_benef, inplace=True)\n",
    "cruce_sidefi['Tipo Afiliado'].replace(tipo_benef, inplace=True)\n",
    "\n",
    "parentesco = {\n",
    "0 : \"titular\",\n",
    "1 : \"conyuge\",\n",
    "2 : \"concubino/a\",\n",
    "3 : \"hijo soltero menor 21\",\n",
    "4 : \"hijo soltero 21 a 25 cursando estudios\",\n",
    "5 : \"hijo del conyuge soltero menor 21\",\n",
    "1 : \"hijo del conyuge soltero 21 a 25 cursando estudios\",\n",
    "1 : \"menor bajo guardia o tutela\",\n",
    "8 : \"familiar a cargo\",\n",
    "9 : \"mayor 25, discapacitado\"\n",
    "}\n",
    "\n",
    "cruce_sidefi['Código de Parentesco'].replace(parentesco, inplace = True)\n",
    "\n",
    "cruce_sidefi=cruce_sidefi[[\n",
    "\"Nro. OS\",\n",
    "\"Plan del Afiliado\",\n",
    "\"Parentesco con el TITULAR\",\n",
    "\"Apellido Afiliado\",\n",
    "\"Nombre Afiliado\",\n",
    "\"Nro. Documento\",\n",
    "\"Nro. CUIL\",\n",
    "\"Fecha Nacimiento\",\n",
    "\"Fecha Alta\",\n",
    "\"Fecha Baja\",\n",
    "\"Observacion Baja\",\n",
    "\"Tipo Afiliado\",\n",
    "\"Dependencia\",\n",
    "\"Localidad_x\",\n",
    "\"Provincia_x\",\n",
    "\"CUIL del Titular\",\n",
    "\"Código de Parentesco\",\n",
    "\"Cuil\",\n",
    "\"Número Documento\",\n",
    "\"Apellido y Nombre\",\n",
    "\"Sexo_y\",\n",
    "\"Fecha de Nacimiento\",\n",
    "\"Localidad_y\",\n",
    "\"Código Postal\",\n",
    "\"Provincia_y\",\n",
    "\"Teléfono\",\n",
    "\"Incapacidad\",\n",
    "\"Tipo de beneficiario titular\",\n",
    "\"Fecha de alta en la Obra Social\",\n",
    "\"CUIL informado por la OS\",\n",
    "\"Obra Social elegida (en caso de opción)\",\n",
    "\"Período desde de vigencia de la opción\",\n",
    "\"padron sidefi/sss\",\n",
    "\"CODEM\",\n",
    "\"MONOTRIBUTO SSS\",\n",
    "\"desregulados\"\n",
    "]]"
   ]
  },
  {
   "cell_type": "markdown",
   "metadata": {},
   "source": [
    "### redistribucion de padrones por sedes"
   ]
  },
  {
   "cell_type": "code",
   "execution_count": 28,
   "metadata": {},
   "outputs": [],
   "source": [
    "ahora = datetime.datetime.now()    # Formatear la fecha y hora como una cadena con el formato \"aaaa-mm-dd hh:mm:ss\"\n",
    "fecha = ahora.strftime(\"%Y-%m-%d %H-%M-%S\")\n",
    "\n",
    "groups = cruce_sidefi.groupby('Dependencia') # Agrupar el dataframe por la columna sede\n",
    "dfs = [] # Crear una lista vacía para almacenar los dataframes separados\n",
    "for name, group in groups: # Iterar sobre los grupos y añadir cada dataframe a la lista\n",
    "    dfs.append(group)\n",
    "    #print(name) # Imprimir la lista de dataframes\n",
    "# Configurar los padrones que van a trabajar entre varias sedes \n",
    "#path = funciones.seleccionar_directorio()\n",
    "#dfs[11].to_excel(path + '/' + \"prueba.xlsx\", index=False) # Guardar el dataframe en el archivo excel sin el índice\n",
    "# 2: la plata, 0: caba , 1:cordoba , 3:mar del plata, 4: mendoza, 5:pegamino, 6:rosario, 7:tucuman\n",
    "# 8: zona norte, 9: zona oeste, 10: zona sur"
   ]
  },
  {
   "cell_type": "markdown",
   "metadata": {},
   "source": [
    "### <span style=\"color:pink\">Distribución del padrón</span>\n",
    "- **Mendoza** (+ SMT 60% desregulados)\n",
    "- **BsAs - San Martín**\n"
   ]
  },
  {
   "cell_type": "code",
   "execution_count": 29,
   "metadata": {},
   "outputs": [],
   "source": [
    "# San martin\n",
    "dfs[8]=dfs[8].sort_values(by = \"Nro. OS\" , ascending = False) # ordeno el dataframe por convenio, para que no quden mezclados los responsables, y cuando se asignen los responsables tengan continuidad con los diff convenios\n",
    "total_desregulado = dfs[8][dfs[8]['desregulados'] == False] # filtro los desregualdos \"false\" del df \"dfs[8]\" \n",
    "filas_mendoza = int(len(total_desregulado) * 0.6) #calculo el 60% de los \"false\" filtrados \n",
    "dfs[8]['asignado'] = 'vanesa' #creo una columna nueva con los valores \"vanesa\"\n",
    "mendoza_indices = total_desregulado.iloc[:filas_mendoza].index # aca asigno el 60% al indice solo a los Falses\n",
    "dfs[8].loc[mendoza_indices, 'asignado'] = 'Alejandro'"
   ]
  },
  {
   "cell_type": "markdown",
   "metadata": {},
   "source": [
    "- **BsAs - Chile**\n",
    "- **Rosario** (+ Chile Desregulados 100%)"
   ]
  },
  {
   "cell_type": "code",
   "execution_count": 30,
   "metadata": {},
   "outputs": [],
   "source": [
    "#CABA\n",
    "dfs[0]=dfs[0].sort_values(by = \"Nro. OS\" , ascending = False) # ordeno el dataframe por convenio, para que no quden mezclados los responsables, y cuando se asignen los responsables tengan continuidad con los diff convenios\n",
    "total_desregulado = dfs[0][dfs[0]['desregulados'] == False] # filtro los desregualdos \"false\" del df \"dfs[8]\" \n",
    "filas_rosario = len(total_desregulado) #es el total de los \"false\" filtrados \n",
    "dfs[0]['asignado'] = 'Orne-Xime-Vero' #creo una columna nueva con los valores \"vanesa\"\n",
    "rosario_indices = total_desregulado.iloc[:filas_rosario].index # aca asigno el 60% al indice solo a los Falses\n",
    "dfs[0].loc[rosario_indices, 'asignado'] = 'Yamila-Neiva'"
   ]
  },
  {
   "cell_type": "markdown",
   "metadata": {},
   "source": [
    "- **BsAs - San Justo**\n",
    "- **BsAs - Pergamino** (+ SJT 35% desregulados)\n",
    "- **Tucumán** (35% SJT Desregulados)"
   ]
  },
  {
   "cell_type": "code",
   "execution_count": null,
   "metadata": {},
   "outputs": [],
   "source": [
    "print(dfs[9][\"Nro. OS\"])"
   ]
  },
  {
   "cell_type": "code",
   "execution_count": 32,
   "metadata": {},
   "outputs": [],
   "source": [
    "# San Justo\n",
    "dfs[9]=dfs[9].sort_values(by = \"Nro. OS\" , ascending = False) # ordeno el dataframe por convenio, para que no quden mezclados los responsables, y cuando se asignen los responsables tengan continuidad con los diff convenios\n",
    "total_desregulado = dfs[9][dfs[9]['desregulados'] == False] # filtro los desregualdos \"false\" del df \"dfs[8]\" \n",
    "filas_pergamino = int(len(total_desregulado) * 0.35) #calculo el 60% de los \"false\" filtrados \n",
    "dfs[9]['asignado'] = 'Yanina' #creo una columna nueva con los valores \"vanesa\"\n",
    "pergamino_indices = total_desregulado.iloc[:filas_pergamino].index # aca asigno el 60% al indice solo a los Falses\n",
    "dfs[9].loc[pergamino_indices, 'asignado'] = 'Nancy'\n",
    "#calcular el rango para san tucuman : claudia\n",
    "inicio_tucuman = filas_pergamino\n",
    "fin_tucuman = inicio_tucuman + filas_pergamino\n",
    "# asignar este 35% a las filas de desregulados a claudia\n",
    "tucuman_indices = total_desregulado.iloc[inicio_tucuman:fin_tucuman].index\n",
    "dfs[9].loc[tucuman_indices,'asignado'] = 'Claudia'"
   ]
  },
  {
   "cell_type": "markdown",
   "metadata": {},
   "source": [
    "- **BsAs - Quilmes** (+ La Plata)\n",
    "- **Córdoba** (+ MDQ) (+ 40% desregulados Quilmes)\n",
    "- **Mendoza** (+ 40% QM desregulados)"
   ]
  },
  {
   "cell_type": "code",
   "execution_count": null,
   "metadata": {},
   "outputs": [],
   "source": [
    "# Quilmes\n",
    "dfs[10]=dfs[10].sort_values(by = \"Nro. OS\" , ascending = False) # ordeno el dataframe por convenio, para que no quden mezclados los responsables, y cuando se asignen los responsables tengan continuidad con los diff convenios\n",
    "total_desregulado = dfs[10][dfs[10]['desregulados'] == False] # filtro los desregualdos \"false\" del df \"dfs[10]\" \n",
    "filas_cordoba = int(len(total_desregulado) * 0.4) #calculo el 60% de los \"false\" filtrados \n",
    "dfs[10]['asignado'] = 'Micaela' #creo una columna nueva con los valores \"vanesa\"\n",
    "cordoba_indices = total_desregulado.iloc[:filas_cordoba].index # aca asigno el 25% al indice solo a los Falses\n",
    "dfs[10].loc[cordoba_indices, 'asignado'] = 'Maria Jose'\n",
    "#calcular el rango para san tucuman : claudia\n",
    "inicio_mendoza = filas_cordoba\n",
    "fin_mendoza = inicio_mendoza + filas_cordoba\n",
    "# asignar este 35% a las filas de desregulados a claudia\n",
    "mendoza_indices = total_desregulado.iloc[inicio_mendoza:fin_mendoza].index\n",
    "dfs[10].loc[mendoza_indices,'asignado'] = 'ALejandro'\n",
    "\n",
    "filas_cordoba\n"
   ]
  },
  {
   "cell_type": "code",
   "execution_count": 34,
   "metadata": {},
   "outputs": [],
   "source": [
    "dfs[0].to_excel('prueba_znorte.xlsx')"
   ]
  },
  {
   "cell_type": "markdown",
   "metadata": {},
   "source": [
    "### guardar el excel por  sede"
   ]
  },
  {
   "cell_type": "code",
   "execution_count": null,
   "metadata": {},
   "outputs": [],
   "source": [
    "ahora = datetime.datetime.now()    # Formatear la fecha y hora como una cadena con el formato \"aaaa-mm-dd hh:mm:ss\"\n",
    "mes = ahora.strftime(\"%B\").capitalize()\n",
    "dia = ahora.day  # Obtener el día en número\n",
    "anio = ahora.year  # Obtener el año en número\n",
    "fecha = f\"{mes} {dia} {anio}\"\n",
    "\n",
    "save_path = filedialog.askdirectory()\n",
    "cruce_sidefi.to_excel(save_path + '\\devoluciones2_septiembre2023.xlsx', engine='openpyxl' ,index = False )\n",
    "\n",
    "# Definir funciones de estilo para cada rango de columnas\n",
    "def highlight_col1(columns):\n",
    "    return ['background-color: #33ffff' if col != '' else '' for col in columns]\n",
    "\n",
    "def highlight_col2(columns):\n",
    "    return ['background-color: #74FC69' if col != '' else '' for col in columns]\n",
    "\n",
    "\n",
    "### guardarlos con los nombres correspondientes\n",
    "for df in dfs: # Iterar sobre la lista de dataframes\n",
    "    sede = df['Dependencia'].iloc[0] # Obtener el nombre de la sede del primer elemento del grupo \n",
    "    #df.drop('desregulados', axis = 1, inplace=True)\n",
    "    styled_df = df.style.apply(highlight_col1, subset=df.columns[0:15])  # Aplicar a las columnas de 'A' a 'E'\n",
    "    styled_df = styled_df.apply(highlight_col2, subset=df.columns[15:32])  # Aplicar a las columnas de 'F' a 'J'\n",
    "    directorio = os.path.join(save_path, sede, sede + \" \" + fecha)\n",
    "    os.makedirs(directorio, exist_ok=True)\n",
    "    filename = os.path.join(directorio, sede+ \" \" + fecha + '.xlsx')\n",
    "    #filename = directorio + '/' + sede + '.xlsx' # Crear el nombre del archivo con la ruta de la carpeta y el nombre del convenio\n",
    "    styled_df.to_excel(filename, index=False) # Guardar el dataframe en el archivo excel sin el índice\n",
    "    print(f\"Se ha guardado el archivo {filename}\") # Imprimir un mensaje de confirmación"
   ]
  },
  {
   "cell_type": "code",
   "execution_count": null,
   "metadata": {},
   "outputs": [],
   "source": []
  }
 ],
 "metadata": {
  "kernelspec": {
   "display_name": ".venv",
   "language": "python",
   "name": "python3"
  },
  "language_info": {
   "codemirror_mode": {
    "name": "ipython",
    "version": 3
   },
   "file_extension": ".py",
   "mimetype": "text/x-python",
   "name": "python",
   "nbconvert_exporter": "python",
   "pygments_lexer": "ipython3",
   "version": "3.11.8"
  }
 },
 "nbformat": 4,
 "nbformat_minor": 2
}
