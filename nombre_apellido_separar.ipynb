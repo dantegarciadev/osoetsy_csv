{
 "cells": [
  {
   "cell_type": "code",
   "execution_count": 1,
   "metadata": {},
   "outputs": [],
   "source": [
    "import pandas as pd\n",
    "import numpy as np\n",
    "import xlwt\n",
    "import xlrd\n",
    "from tkinter import filedialog\n",
    "import tkinter as tk\n",
    "import customtkinter as ctk\n",
    "from customtkinter import filedialog\n",
    "import funciones\n",
    "import openpyxl"
   ]
  },
  {
   "cell_type": "code",
   "execution_count": 2,
   "metadata": {},
   "outputs": [
    {
     "name": "stdout",
     "output_type": "stream",
     "text": [
      "      CUIL  TITULAR  CUIL FAMILIAR    APELLIDO                 NOMBRE  \\\n",
      "0       20121598583    20121598583        IMAZ          ALBERTO OSCAR   \n",
      "1       20122219659    20122219659    ORELLANO          RUBEN ALBERTO   \n",
      "2       20124965943    20124965943  LEGUIZAMON         MARCOS TEOFILO   \n",
      "3       20126737999    20126737999      CHAVEZ           JUAN ALBERTO   \n",
      "4       20127410993    20127410993       GOMEZ            ALDO VICTOR   \n",
      "...             ...            ...         ...                    ...   \n",
      "8326    27961039008    27961039008        LEON    VAZQUEZ MARIA ELENA   \n",
      "8327    27961039008    20463513873     BENITEZ  SANTIAGO ARI SANTIAGO   \n",
      "8328    27961168517    27961168517      ACOSTA    VERA MARIA JOSEFINA   \n",
      "8329    27961168517    20566313740       SOLIS         THIAGO NICOLAS   \n",
      "8330    27961168517    20585129020       SOLIS            DANTE TADEO   \n",
      "\n",
      "     DOMICILIO (calle)* Domicilio (altura)*  CODIGO POSTAL*  \\\n",
      "0        128 E/ 15 Y 16                 S/N          1923.0   \n",
      "1               BECQUER                1751          1744.0   \n",
      "2           ECHEVERRIA                  391          1755.0   \n",
      "3           LUIS VERNET                2540          1832.0   \n",
      "4                FATUR                 2868          1757.0   \n",
      "...                 ...                 ...             ...   \n",
      "8326             CANADA                 704          1744.0   \n",
      "8327             CANADA                 704          1744.0   \n",
      "8328    LOS NOGALES 974                 NaN          1842.0   \n",
      "8329    LOS NOGALES 974                 NaN          1842.0   \n",
      "8330    LOS NOGALES 974                 NaN          1842.0   \n",
      "\n",
      "                 LOCALIDAD*    TELEFONO  Formulario  FECHA DE ALTA*  \\\n",
      "0                   Berisso  2214376625     15828745     2022-03-01   \n",
      "1                    Moreno  1156407731     16050179     2022-07-01   \n",
      "2                  Castillo  1103355585     15541410     2022-03-01   \n",
      "3           Lomas De Zamora         NaN     16046689     2022-07-01   \n",
      "4     Gregorio De Laferrere  1122813634    351167016     2022-02-01   \n",
      "...                     ...         ...          ...            ...   \n",
      "8326                 Moreno  1135726509     16052666     2022-07-01   \n",
      "8327                 Moreno  1135726509     16052666     2023-02-01   \n",
      "8328              El Jaguel   208669332     15859643     2022-03-01   \n",
      "8329              El Jaguel   208669332     15859643     2023-02-01   \n",
      "8330              El Jaguel   208669332     15859643     2023-02-01   \n",
      "\n",
      "     FECHA DE NAC.*  NACIONALIDAD* Sexo*  Estado Civil*  Parentesco*  Sede  \\\n",
      "0        1958-08-12             12     M              1            0   NaN   \n",
      "1        1958-05-13             12     M              1            0   NaN   \n",
      "2        1958-07-03             12     M              1            0   NaN   \n",
      "3        1959-02-23             12     M              1            0   NaN   \n",
      "4        1956-09-09             12     M              1            0   NaN   \n",
      "...             ...            ...   ...            ...          ...   ...   \n",
      "8326     1982-05-03            133     F              1            0   NaN   \n",
      "8327     2005-02-03             12     M              0            2   NaN   \n",
      "8328     1990-12-01            133     F              1            0   NaN   \n",
      "8329     2017-09-11             12     M              0            2   NaN   \n",
      "8330     2020-07-30             12     M              0            2   NaN   \n",
      "\n",
      "     Discapacidad* Convenio  \n",
      "0               NO      LSD  \n",
      "1               NO      EPV  \n",
      "2               NO      TIS  \n",
      "3               NO      EPV  \n",
      "4               NO      LSD  \n",
      "...            ...      ...  \n",
      "8326            NO      EPV  \n",
      "8327            NO      EPV  \n",
      "8328            NO      LSD  \n",
      "8329            NO      LSD  \n",
      "8330            NO      LSD  \n",
      "\n",
      "[8331 rows x 19 columns]\n"
     ]
    }
   ],
   "source": [
    "#cargar excel o csv\n",
    "archivo = None #definimos la variable para usarla en las otras funciones\n",
    "while True: #creamos un bicle infinito hasta que se cumpla la condicion\n",
    "    archivo = funciones.seleccionar_archivo()#llamar a la funcion para abrir el archivo.\n",
    "    if archivo:\n",
    "        ruta_archivo = archivo.name\n",
    "        try: \n",
    "            nombre_ap = pd.read_excel(ruta_archivo)\n",
    "            print(nombre_ap)\n",
    "            break\n",
    "        except UnicodeDecodeError:\n",
    "            print(\"Error de codificación de caracteres. Intenta con otra codificación o archivo.\")\n",
    "            continue\n",
    "    else:\n",
    "        print(\"Archivo incorrecto. Por favor, vuelva a cargarlo\")\n",
    "\n"
   ]
  },
  {
   "cell_type": "code",
   "execution_count": null,
   "metadata": {},
   "outputs": [],
   "source": []
  }
 ],
 "metadata": {
  "kernelspec": {
   "display_name": ".venv",
   "language": "python",
   "name": "python3"
  },
  "language_info": {
   "codemirror_mode": {
    "name": "ipython",
    "version": 3
   },
   "file_extension": ".py",
   "mimetype": "text/x-python",
   "name": "python",
   "nbconvert_exporter": "python",
   "pygments_lexer": "ipython3",
   "version": "3.11.4"
  },
  "orig_nbformat": 4
 },
 "nbformat": 4,
 "nbformat_minor": 2
}
