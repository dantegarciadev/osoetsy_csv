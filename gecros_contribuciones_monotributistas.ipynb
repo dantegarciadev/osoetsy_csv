{
 "cells": [
  {
   "cell_type": "code",
   "execution_count": 37,
   "metadata": {},
   "outputs": [],
   "source": [
    "import pandas as pd\n",
    "import numpy as np\n",
    "import xlwt\n",
    "import xlrd\n",
    "from tkinter import filedialog\n",
    "import tkinter as tk\n",
    "import customtkinter as ctk\n",
    "from customtkinter import filedialog\n",
    "import funciones\n",
    "import openpyxl\n",
    "import dbfread\n",
    "import glob\n",
    "from pandastable import Table, TableModel # Importar clases de pandastable"
   ]
  },
  {
   "cell_type": "markdown",
   "metadata": {},
   "source": [
    "### Subir reporte danilo"
   ]
  },
  {
   "cell_type": "code",
   "execution_count": 38,
   "metadata": {},
   "outputs": [
    {
     "name": "stdout",
     "output_type": "stream",
     "text": [
      "<_io.TextIOWrapper name='G:/Mi unidad/osoetsylra/liquidaciones/cruce_contribuciones_para_distribuir/transferncias AFIP reporte de errores en importacion Gecros octubre 2023 completo.xlsx' mode='r' encoding='cp1252'>\n",
      "             cuit  cuil                                    descripcion  \\\n",
      "0     20401847341   NaN  401: Contrib. Patr. sin Empl. para distribuir   \n",
      "1     20401847341   NaN  401: Contrib. Patr. sin Empl. para distribuir   \n",
      "2     20401847341   NaN  401: Contrib. Patr. sin Empl. para distribuir   \n",
      "3     20148029165   NaN  401: Contrib. Patr. sin Empl. para distribuir   \n",
      "4     20241060366   NaN  401: Contrib. Patr. sin Empl. para distribuir   \n",
      "...           ...   ...                                            ...   \n",
      "8666  27959478606   NaN  401: Contrib. Patr. sin Empl. para distribuir   \n",
      "8667  27959819152   NaN  401: Contrib. Patr. sin Empl. para distribuir   \n",
      "8668  27960117943   NaN  401: Contrib. Patr. sin Empl. para distribuir   \n",
      "8669  27961039008   NaN  401: Contrib. Patr. sin Empl. para distribuir   \n",
      "8670  27961168517   NaN  401: Contrib. Patr. sin Empl. para distribuir   \n",
      "\n",
      "      obrasocial  periodo  sueldo  aporte   contri  otrosconc      fecha  \n",
      "0            NaN     2204       0       0     3.74          0 2023-10-05  \n",
      "1            NaN     2210       0       0     2.12          0 2023-10-05  \n",
      "2            NaN     2302       0       0     4.68          0 2023-10-05  \n",
      "3            NaN     2309       0       0     0.15          0 2023-10-25  \n",
      "4            NaN     2304       0       0     1.92          0 2023-10-25  \n",
      "...          ...      ...     ...     ...      ...        ...        ...  \n",
      "8666         NaN     2308       0       0  2755.58          0 2023-10-20  \n",
      "8667         NaN     2308       0       0  1377.78          0 2023-10-20  \n",
      "8668         NaN     2308       0       0  6888.94          0 2023-10-20  \n",
      "8669         NaN     2308       0       0  4133.37          0 2023-10-20  \n",
      "8670         NaN     2308       0       0  4133.37          0 2023-10-20  \n",
      "\n",
      "[8671 rows x 10 columns]\n"
     ]
    }
   ],
   "source": [
    "archivo = None\n",
    "while True:\n",
    "    archivo=funciones.seleccionar_archivo()\n",
    "    print(archivo)\n",
    "    if archivo:\n",
    "        ruta_archivo = archivo.name\n",
    "        try:\n",
    "            \n",
    "            #dbf = dbfread.DBF(ruta_archivo)\n",
    "            monotributo = pd.read_excel(ruta_archivo, sheet_name=0)\n",
    "            print(monotributo)\n",
    "            break\n",
    "        except UnicodeDecodeError:\n",
    "            print(\"Error de decodificación de caracteres. Intenta con otra codificación o archivo.\")\n",
    "            continue\n",
    "    else:\n",
    "        print(\"Archivo incorrecto. Por favor, vuelva a cargarlo.\")"
   ]
  },
  {
   "cell_type": "code",
   "execution_count": 39,
   "metadata": {},
   "outputs": [
    {
     "data": {
      "text/plain": [
       "cuit                    int64\n",
       "cuil                  float64\n",
       "descripcion            object\n",
       "obrasocial            float64\n",
       "periodo                 int64\n",
       "sueldo                  int64\n",
       "aporte                  int64\n",
       "contri                float64\n",
       "otrosconc               int64\n",
       "fecha          datetime64[ns]\n",
       "dtype: object"
      ]
     },
     "execution_count": 39,
     "metadata": {},
     "output_type": "execute_result"
    }
   ],
   "source": [
    "monotributo.dtypes"
   ]
  },
  {
   "cell_type": "markdown",
   "metadata": {},
   "source": [
    "###  Importar padron total gecros monotrbutistas"
   ]
  },
  {
   "cell_type": "code",
   "execution_count": 40,
   "metadata": {},
   "outputs": [
    {
     "name": "stdout",
     "output_type": "stream",
     "text": [
      "<_io.TextIOWrapper name='C:/Users/zickd/OneDrive/Escritorio/LIQUIDACION23.xlsx' mode='r' encoding='cp1252'>\n",
      "                OS_NOMBRE          CUIL                    NOMPLAN PARENTESCO  \\\n",
      "0              OSOETSYLRA  2.092946e+10                  Afiliados    TITULAR   \n",
      "1              OSOETSYLRA  2.436609e+10                   Plan 100    TITULAR   \n",
      "2                 MEPLIFE  2.740914e+10  monotributista social mep    TITULAR   \n",
      "3              OSOETSYLRA  2.727502e+10                Desempleado    TITULAR   \n",
      "4              OSOETSYLRA  2.038062e+10                   Plan 100    TITULAR   \n",
      "...                   ...           ...                        ...        ...   \n",
      "66363  OTRAS AFILIACIONES  2.734093e+10                  Afiliados    TITULAR   \n",
      "66364  OTRAS AFILIACIONES  2.736203e+10                  Afiliados    TITULAR   \n",
      "66365             MEPLIFE  2.337400e+10  monotributista social mep    TITULAR   \n",
      "66366  OTRAS AFILIACIONES  2.720696e+10                  Afiliados    TITULAR   \n",
      "66367          OSOETSYLRA  2.036513e+10                Desregulado    TITULAR   \n",
      "\n",
      "       FECHA_BAJA                             EMP_NOMBRE         APELLIDO  \\\n",
      "0             NaN  (30516283781) TALLERES JUJUY S.A.C.I.    MAMANI MAMANI   \n",
      "1             NaN                                    NaN         ALBORNOZ   \n",
      "2             NaN              (27409138468) 27409138468           ROMERO   \n",
      "3      31/08/2017                                    NaN            ERAZO   \n",
      "4      26/11/2023                                    NaN  MANSILLA CRESPO   \n",
      "...           ...                                    ...              ...   \n",
      "66363  30/11/2013                                    NaN           ROMERO   \n",
      "66364  01/09/2013                                    NaN            LEIVA   \n",
      "66365  01/04/2023              (23374003534) 23374003534            PEREZ   \n",
      "66366         NaN                                    NaN         SINCLAIR   \n",
      "66367  30/01/2016                                    NaN           CAÐETE   \n",
      "\n",
      "                     NOMBRES                       TIPOBEN_NO  \\\n",
      "0               ARIEL FRANCO       00-RELACION DE DEPENDENCIA   \n",
      "1               NAHUEL OSCAR       00-RELACION DE DEPENDENCIA   \n",
      "2             VANESA SOLEDAD         07-MONOT. EFECTOR SOCIAL   \n",
      "3             GLADIS BEATRIZ  08-DESEMPLEO ANSES (LEY 24.013)   \n",
      "4         EZEQUIEL ALEJANDRO       00-RELACION DE DEPENDENCIA   \n",
      "...                      ...                              ...   \n",
      "66363  MARIA DE LOS MILAGROS       00-RELACION DE DEPENDENCIA   \n",
      "66364        EDITH ALEJANDRA       00-RELACION DE DEPENDENCIA   \n",
      "66365       LUCRECIA BEATRIZ         07-MONOT. EFECTOR SOCIAL   \n",
      "66366        GABRIELA MARIEL       00-RELACION DE DEPENDENCIA   \n",
      "66367          JORGE LEANDRO       00-RELACION DE DEPENDENCIA   \n",
      "\n",
      "                   ESTADO_AFI  \n",
      "0               Con Cobertura  \n",
      "1               Con Cobertura  \n",
      "2               Con Cobertura  \n",
      "3      Sin Cobertura por Baja  \n",
      "4      Sin Cobertura por Baja  \n",
      "...                       ...  \n",
      "66363  Sin Cobertura por Baja  \n",
      "66364  Sin Cobertura por Baja  \n",
      "66365           Con Cobertura  \n",
      "66366           Con Cobertura  \n",
      "66367  Sin Cobertura por Baja  \n",
      "\n",
      "[66368 rows x 10 columns]\n"
     ]
    }
   ],
   "source": [
    "#cargar primero el padron de sidefi\n",
    "archivo = None\n",
    "while True:\n",
    "    archivo = funciones.seleccionar_archivo()\n",
    "    print(archivo)\n",
    "    if archivo:\n",
    "        ruta_archivo = archivo.name\n",
    "        try:\n",
    "            padron = pd.read_excel(ruta_archivo)\n",
    "            #padron = pd.read_csv(archivo, sep=\";\", encoding=\"ISO-8859-1\")\n",
    "            print(padron)\n",
    "            break\n",
    "        except UnicodeDecodeError:\n",
    "            print(\"Error de decodificación de caracteres. Intenta con otra codificación o archivo.\")\n",
    "            continue\n",
    "    else:\n",
    "        print(\"Archivo incorrecto. Por favor, vuelva a cargarlo.\")"
   ]
  },
  {
   "cell_type": "code",
   "execution_count": 41,
   "metadata": {},
   "outputs": [],
   "source": [
    "padron['CUIL'] = pd.to_numeric(padron['CUIL'], errors='coerce').fillna(0).astype('Int64')"
   ]
  },
  {
   "cell_type": "code",
   "execution_count": 42,
   "metadata": {},
   "outputs": [
    {
     "data": {
      "text/plain": [
       "0    20929460368\n",
       "1    24366090777\n",
       "2    27409138468\n",
       "3    27275022255\n",
       "4    20380615240\n",
       "Name: CUIL, dtype: Int64"
      ]
     },
     "execution_count": 42,
     "metadata": {},
     "output_type": "execute_result"
    }
   ],
   "source": [
    "padron['CUIL'].head()"
   ]
  },
  {
   "cell_type": "markdown",
   "metadata": {},
   "source": [
    "#### Cruce de archivos! "
   ]
  },
  {
   "cell_type": "code",
   "execution_count": 43,
   "metadata": {},
   "outputs": [],
   "source": [
    "liquidaciones_monot = pd.merge(monotributo, padron, left_on= 'cuit', right_on='CUIL', how='left', indicator=True)"
   ]
  },
  {
   "cell_type": "code",
   "execution_count": 47,
   "metadata": {},
   "outputs": [],
   "source": [
    "path = funciones.seleccionar_directorio()\n",
    "liquidaciones_monot.to_excel(path + '\\cruce_errores.xlsx', index=False)"
   ]
  },
  {
   "cell_type": "code",
   "execution_count": 48,
   "metadata": {},
   "outputs": [
    {
     "name": "stdout",
     "output_type": "stream",
     "text": [
      "<class 'pandas.core.frame.DataFrame'>\n",
      "Int64Index: 8672 entries, 0 to 8671\n",
      "Data columns (total 21 columns):\n",
      " #   Column       Non-Null Count  Dtype         \n",
      "---  ------       --------------  -----         \n",
      " 0   cuit         8672 non-null   int64         \n",
      " 1   cuil         0 non-null      float64       \n",
      " 2   descripcion  8672 non-null   object        \n",
      " 3   obrasocial   0 non-null      float64       \n",
      " 4   periodo      8672 non-null   int64         \n",
      " 5   sueldo       8672 non-null   int64         \n",
      " 6   aporte       8672 non-null   int64         \n",
      " 7   contri       8672 non-null   float64       \n",
      " 8   otrosconc    8672 non-null   int64         \n",
      " 9   fecha        8672 non-null   datetime64[ns]\n",
      " 10  OS_NOMBRE    6400 non-null   object        \n",
      " 11  CUIL         6400 non-null   Int64         \n",
      " 12  NOMPLAN      6400 non-null   object        \n",
      " 13  PARENTESCO   6400 non-null   object        \n",
      " 14  FECHA_BAJA   1982 non-null   object        \n",
      " 15  EMP_NOMBRE   6394 non-null   object        \n",
      " 16  APELLIDO     6400 non-null   object        \n",
      " 17  NOMBRES      6400 non-null   object        \n",
      " 18  TIPOBEN_NO   6400 non-null   object        \n",
      " 19  ESTADO_AFI   6400 non-null   object        \n",
      " 20  _merge       8672 non-null   category      \n",
      "dtypes: Int64(1), category(1), datetime64[ns](1), float64(3), int64(5), object(10)\n",
      "memory usage: 1.4+ MB\n"
     ]
    },
    {
     "ename": "",
     "evalue": "",
     "output_type": "error",
     "traceback": [
      "\u001b[1;31mThe Kernel crashed while executing code in the the current cell or a previous cell. Please review the code in the cell(s) to identify a possible cause of the failure. Click <a href='https://aka.ms/vscodeJupyterKernelCrash'>here</a> for more info. View Jupyter <a href='command:jupyter.viewOutput'>log</a> for further details."
     ]
    }
   ],
   "source": [
    "liquidaciones_monot.info()"
   ]
  }
 ],
 "metadata": {
  "kernelspec": {
   "display_name": ".venv",
   "language": "python",
   "name": "python3"
  },
  "language_info": {
   "codemirror_mode": {
    "name": "ipython",
    "version": 3
   },
   "file_extension": ".py",
   "mimetype": "text/x-python",
   "name": "python",
   "nbconvert_exporter": "python",
   "pygments_lexer": "ipython3",
   "version": "3.11.4"
  }
 },
 "nbformat": 4,
 "nbformat_minor": 2
}
