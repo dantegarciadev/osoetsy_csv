{
 "cells": [
  {
   "cell_type": "code",
   "execution_count": 1,
   "metadata": {},
   "outputs": [],
   "source": [
    "import pandas as pd\n",
    "import numpy as np\n",
    "import xlwt\n",
    "import xlrd\n",
    "from tkinter import filedialog\n",
    "import tkinter as tk\n",
    "import customtkinter as ctk\n",
    "from customtkinter import filedialog\n",
    "import funciones\n",
    "import openpyxl\n",
    "import dbfread\n",
    "import glob\n",
    "from pandastable import Table, TableModel # Importar clases de pandastable"
   ]
  },
  {
   "cell_type": "markdown",
   "metadata": {},
   "source": [
    "### Subir reporte danilo"
   ]
  },
  {
   "cell_type": "code",
   "execution_count": 2,
   "metadata": {},
   "outputs": [
    {
     "name": "stdout",
     "output_type": "stream",
     "text": [
      "<_io.TextIOWrapper name='G:/Mi unidad/osoetsylra/liquidaciones/cruce_contribuciones_para_distribuir/julio a septiembre/errores transferencias de aportes todas juntas desde el 01-05-2023 al 14-0...-2023.xlsx' mode='r' encoding='cp1252'>\n",
      "              cuit  cuil                                    descripcion  \\\n",
      "0      27286249766   NaN  401: Contrib. Patr. sin Empl. para distribuir   \n",
      "1      27286249766   NaN  401: Contrib. Patr. sin Empl. para distribuir   \n",
      "2      27286249766   NaN  401: Contrib. Patr. sin Empl. para distribuir   \n",
      "3      27286249766   NaN  401: Contrib. Patr. sin Empl. para distribuir   \n",
      "4      27286249766   NaN  401: Contrib. Patr. sin Empl. para distribuir   \n",
      "...            ...   ...                                            ...   \n",
      "26280  33585878109   NaN  401: Contrib. Patr. sin Empl. para distribuir   \n",
      "26281  30590892544   NaN  401: Contrib. Patr. sin Empl. para distribuir   \n",
      "26282  30676122601   NaN  401: Contrib. Patr. sin Empl. para distribuir   \n",
      "26283  30681750610   NaN  401: Contrib. Patr. sin Empl. para distribuir   \n",
      "26284  30709889172   NaN  401: Contrib. Patr. sin Empl. para distribuir   \n",
      "\n",
      "       obrasocial  periodo  sueldo  aporte    contri  otrosconc      fecha  \n",
      "0             NaN     2201       0       0      7.94          0 2023-05-03  \n",
      "1             NaN     2206       0       0     14.07          0 2023-05-03  \n",
      "2             NaN     2210       0       0      9.40          0 2023-05-03  \n",
      "3             NaN     2212       0       0      4.16          0 2023-05-03  \n",
      "4             NaN     2301       0       0      3.85          0 2023-05-03  \n",
      "...           ...      ...     ...     ...       ...        ...        ...  \n",
      "26280         NaN     1801       0       0      1.14          0 2023-09-13  \n",
      "26281         NaN     1912       0       0    -12.33          0 2023-09-14  \n",
      "26282         NaN     1912       0       0    -18.94          0 2023-09-14  \n",
      "26283         NaN     2308       0       0  12756.13          0 2023-09-14  \n",
      "26284         NaN     2002       0       0   -138.47          0 2023-09-14  \n",
      "\n",
      "[26285 rows x 10 columns]\n"
     ]
    }
   ],
   "source": [
    "archivo = None\n",
    "while True:\n",
    "    archivo=funciones.seleccionar_archivo()\n",
    "    print(archivo)\n",
    "    if archivo:\n",
    "        ruta_archivo = archivo.name\n",
    "        try:\n",
    "            \n",
    "            #dbf = dbfread.DBF(ruta_archivo)\n",
    "            monotributo = pd.read_excel(ruta_archivo, sheet_name=0)\n",
    "            print(monotributo)\n",
    "            break\n",
    "        except UnicodeDecodeError:\n",
    "            print(\"Error de decodificación de caracteres. Intenta con otra codificación o archivo.\")\n",
    "            continue\n",
    "    else:\n",
    "        print(\"Archivo incorrecto. Por favor, vuelva a cargarlo.\")"
   ]
  },
  {
   "cell_type": "code",
   "execution_count": 3,
   "metadata": {},
   "outputs": [
    {
     "name": "stdout",
     "output_type": "stream",
     "text": [
      "<class 'pandas.core.frame.DataFrame'>\n",
      "RangeIndex: 26285 entries, 0 to 26284\n",
      "Data columns (total 10 columns):\n",
      " #   Column       Non-Null Count  Dtype         \n",
      "---  ------       --------------  -----         \n",
      " 0   cuit         26285 non-null  int64         \n",
      " 1   cuil         0 non-null      float64       \n",
      " 2   descripcion  26285 non-null  object        \n",
      " 3   obrasocial   0 non-null      float64       \n",
      " 4   periodo      26285 non-null  int64         \n",
      " 5   sueldo       26285 non-null  int64         \n",
      " 6   aporte       26285 non-null  int64         \n",
      " 7   contri       26285 non-null  float64       \n",
      " 8   otrosconc    26285 non-null  int64         \n",
      " 9   fecha        26285 non-null  datetime64[ns]\n",
      "dtypes: datetime64[ns](1), float64(3), int64(5), object(1)\n",
      "memory usage: 2.0+ MB\n"
     ]
    }
   ],
   "source": [
    "monotributo.info()"
   ]
  },
  {
   "cell_type": "markdown",
   "metadata": {},
   "source": [
    "###  Importar padron total gecros monotrbutistas"
   ]
  },
  {
   "cell_type": "code",
   "execution_count": 4,
   "metadata": {},
   "outputs": [
    {
     "name": "stdout",
     "output_type": "stream",
     "text": [
      "<_io.TextIOWrapper name='G:/Mi unidad/osoetsylra/liquidaciones/cruce_contribuciones_para_distribuir/LIQUIDACIONES2.xlsx' mode='r' encoding='cp1252'>\n",
      "       OS_NOMBRE          CUIL SEXO      NOMPLAN PARENTESCO  \\\n",
      "0      EVP (TIS)           NaN    F  Desregulado     HIJO/A   \n",
      "1      EVP (TIS)           NaN    F  Desregulado     HIJO/A   \n",
      "2      EVP (TIS)           NaN    F  Desregulado    TITULAR   \n",
      "3      EVP (TIS)           NaN    F  Desregulado    TITULAR   \n",
      "4      EVP (TIS)           NaN    F  Desregulado    TITULAR   \n",
      "...          ...           ...  ...          ...        ...   \n",
      "66921    VISITAR  2.756850e+10    F    Afiliados     HIJO/A   \n",
      "66922    VISITAR  2.758200e+10    F    Afiliados     HIJO/A   \n",
      "66923    VISITAR  2.758853e+10    F    Afiliados     HIJO/A   \n",
      "66924    VISITAR  2.793704e+10    F    Afiliados    TITULAR   \n",
      "66925    VISITAR  2.795855e+10    F    Afiliados    TITULAR   \n",
      "\n",
      "                APELLIDO              NOMBRES                  TIPOBEN_NO  \n",
      "0                  PEREZ       ORIANA GISSELE    07-MONOT. EFECTOR SOCIAL  \n",
      "1              RODRIGUEZ  FERNANDA A FERNANDA    07-MONOT. EFECTOR SOCIAL  \n",
      "2                   VEGA     VERONICA NATALIA    07-MONOT. EFECTOR SOCIAL  \n",
      "3                 VIDELA         LIDIA RAMONA    07-MONOT. EFECTOR SOCIAL  \n",
      "4               VILLALBA       AILEN AGUSTINA    07-MONOT. EFECTOR SOCIAL  \n",
      "...                  ...                  ...                         ...  \n",
      "66921       GOMEZ AQUINO      BIANCA ISABELLA  00-RELACION DE DEPENDENCIA  \n",
      "66922               BRUN            FRANCESCA  00-RELACION DE DEPENDENCIA  \n",
      "66923  CORONEL VELAZQUEZ                JUANA  00-RELACION DE DEPENDENCIA  \n",
      "66924    DOMINGUEZ PEREZ                NANCY  00-RELACION DE DEPENDENCIA  \n",
      "66925       SUAREZ ROJAS         ORIANA SINAY  00-RELACION DE DEPENDENCIA  \n",
      "\n",
      "[66926 rows x 8 columns]\n"
     ]
    }
   ],
   "source": [
    "#cargar primero el padron de sidefi\n",
    "archivo = None\n",
    "while True:\n",
    "    archivo = funciones.seleccionar_archivo()\n",
    "    print(archivo)\n",
    "    if archivo:\n",
    "        ruta_archivo = archivo.name\n",
    "        try:\n",
    "            padron = pd.read_excel(ruta_archivo)\n",
    "            #padron = pd.read_csv(archivo, sep=\";\", encoding=\"ISO-8859-1\")\n",
    "            print(padron)\n",
    "            break\n",
    "        except UnicodeDecodeError:\n",
    "            print(\"Error de decodificación de caracteres. Intenta con otra codificación o archivo.\")\n",
    "            continue\n",
    "    else:\n",
    "        print(\"Archivo incorrecto. Por favor, vuelva a cargarlo.\")"
   ]
  },
  {
   "cell_type": "code",
   "execution_count": 5,
   "metadata": {},
   "outputs": [
    {
     "data": {
      "text/plain": [
       "0    0\n",
       "1    0\n",
       "2    0\n",
       "3    0\n",
       "4    0\n",
       "Name: CUIL, dtype: Int64"
      ]
     },
     "execution_count": 5,
     "metadata": {},
     "output_type": "execute_result"
    }
   ],
   "source": [
    "padron['CUIL'] = pd.to_numeric(padron['CUIL'], errors='coerce').fillna(0).astype('Int64')\n",
    "padron['CUIL'].head()"
   ]
  },
  {
   "cell_type": "markdown",
   "metadata": {},
   "source": [
    "#### Cruce de archivos! "
   ]
  },
  {
   "cell_type": "code",
   "execution_count": 6,
   "metadata": {},
   "outputs": [
    {
     "data": {
      "text/plain": [
       "Index(['cuit', 'cuil', 'descripcion', 'obrasocial', 'periodo', 'sueldo',\n",
       "       'aporte', 'contri', 'otrosconc', 'fecha', 'OS_NOMBRE', 'CUIL', 'SEXO',\n",
       "       'NOMPLAN', 'PARENTESCO', 'APELLIDO', 'NOMBRES', 'TIPOBEN_NO', '_merge',\n",
       "       'Razón Social'],\n",
       "      dtype='object')"
      ]
     },
     "execution_count": 6,
     "metadata": {},
     "output_type": "execute_result"
    }
   ],
   "source": [
    "liquidaciones_monot = pd.merge(monotributo, padron, left_on= 'cuit', right_on='CUIL', how='inner', indicator=True)\n",
    "liquidaciones_monot[\"Razón Social\"]=\" \"\n",
    "liquidaciones_monot['periodo'] = liquidaciones_monot['periodo'].astype(str).apply(lambda x: \"20\" + x)\n",
    "liquidaciones_monot['periodo'] = liquidaciones_monot['periodo'].astype(int)\n",
    "liquidaciones_monot.columns"
   ]
  },
  {
   "cell_type": "code",
   "execution_count": 7,
   "metadata": {},
   "outputs": [
    {
     "name": "stdout",
     "output_type": "stream",
     "text": [
      "0        202201\n",
      "1        202206\n",
      "2        202210\n",
      "3        202212\n",
      "4        202301\n",
      "          ...  \n",
      "19442    202205\n",
      "19443    202206\n",
      "19444    202207\n",
      "19445    202208\n",
      "19446    202307\n",
      "Name: periodo, Length: 19447, dtype: int32\n"
     ]
    }
   ],
   "source": [
    "print(liquidaciones_monot[\"periodo\"])"
   ]
  },
  {
   "cell_type": "code",
   "execution_count": 8,
   "metadata": {},
   "outputs": [],
   "source": [
    "aportes_a_importar = liquidaciones_monot[[\"cuit\",\n",
    "\"Razón Social\",\n",
    "\"periodo\",\n",
    "\"fecha\",\n",
    "\"CUIL\",\n",
    "\"APELLIDO\",\n",
    "\"NOMBRES\",\n",
    "\"sueldo\",\n",
    "\"aporte\",\n",
    "\"contri\",\n",
    "\"otrosconc\"\n",
    "]]"
   ]
  },
  {
   "cell_type": "code",
   "execution_count": 9,
   "metadata": {},
   "outputs": [
    {
     "name": "stderr",
     "output_type": "stream",
     "text": [
      "C:\\Users\\zickd\\AppData\\Local\\Temp\\ipykernel_3136\\4046240144.py:3: FutureWarning: As the xlwt package is no longer maintained, the xlwt engine will be removed in a future version of pandas. This is the only engine in pandas that supports writing in the xls format. Install openpyxl and write to an xlsx file instead. You can set the option io.excel.xls.writer to 'xlwt' to silence this warning. While this option is deprecated and will also raise a warning, it can be globally set and the warning suppressed.\n",
      "  aportes_a_importar.to_excel(path + '\\cruce_erroresocutubre.xls', index = False, engine='xlwt', header = False)\n"
     ]
    }
   ],
   "source": [
    "path = funciones.seleccionar_directorio()\n",
    "liquidaciones_monot.to_excel(path + '\\cruce_erroresoctubre_raw.xlsx', index=False)\n",
    "aportes_a_importar.to_excel(path + '\\cruce_erroresocutubre.xls', index = False, engine='xlwt', header = False)"
   ]
  },
  {
   "cell_type": "code",
   "execution_count": 48,
   "metadata": {},
   "outputs": [
    {
     "name": "stdout",
     "output_type": "stream",
     "text": [
      "<class 'pandas.core.frame.DataFrame'>\n",
      "Int64Index: 8672 entries, 0 to 8671\n",
      "Data columns (total 21 columns):\n",
      " #   Column       Non-Null Count  Dtype         \n",
      "---  ------       --------------  -----         \n",
      " 0   cuit         8672 non-null   int64         \n",
      " 1   cuil         0 non-null      float64       \n",
      " 2   descripcion  8672 non-null   object        \n",
      " 3   obrasocial   0 non-null      float64       \n",
      " 4   periodo      8672 non-null   int64         \n",
      " 5   sueldo       8672 non-null   int64         \n",
      " 6   aporte       8672 non-null   int64         \n",
      " 7   contri       8672 non-null   float64       \n",
      " 8   otrosconc    8672 non-null   int64         \n",
      " 9   fecha        8672 non-null   datetime64[ns]\n",
      " 10  OS_NOMBRE    6400 non-null   object        \n",
      " 11  CUIL         6400 non-null   Int64         \n",
      " 12  NOMPLAN      6400 non-null   object        \n",
      " 13  PARENTESCO   6400 non-null   object        \n",
      " 14  FECHA_BAJA   1982 non-null   object        \n",
      " 15  EMP_NOMBRE   6394 non-null   object        \n",
      " 16  APELLIDO     6400 non-null   object        \n",
      " 17  NOMBRES      6400 non-null   object        \n",
      " 18  TIPOBEN_NO   6400 non-null   object        \n",
      " 19  ESTADO_AFI   6400 non-null   object        \n",
      " 20  _merge       8672 non-null   category      \n",
      "dtypes: Int64(1), category(1), datetime64[ns](1), float64(3), int64(5), object(10)\n",
      "memory usage: 1.4+ MB\n"
     ]
    },
    {
     "ename": "",
     "evalue": "",
     "output_type": "error",
     "traceback": [
      "\u001b[1;31mThe Kernel crashed while executing code in the the current cell or a previous cell. Please review the code in the cell(s) to identify a possible cause of the failure. Click <a href='https://aka.ms/vscodeJupyterKernelCrash'>here</a> for more info. View Jupyter <a href='command:jupyter.viewOutput'>log</a> for further details."
     ]
    }
   ],
   "source": [
    "liquidaciones_monot.info()"
   ]
  }
 ],
 "metadata": {
  "kernelspec": {
   "display_name": ".venv",
   "language": "python",
   "name": "python3"
  },
  "language_info": {
   "codemirror_mode": {
    "name": "ipython",
    "version": 3
   },
   "file_extension": ".py",
   "mimetype": "text/x-python",
   "name": "python",
   "nbconvert_exporter": "python",
   "pygments_lexer": "ipython3",
   "version": "3.11.4"
  }
 },
 "nbformat": 4,
 "nbformat_minor": 2
}
