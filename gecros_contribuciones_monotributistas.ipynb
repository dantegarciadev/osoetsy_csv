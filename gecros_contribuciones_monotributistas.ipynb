{
 "cells": [
  {
   "cell_type": "code",
   "execution_count": 3,
   "metadata": {},
   "outputs": [],
   "source": [
    "import pandas as pd\n",
    "import numpy as np\n",
    "import xlwt\n",
    "import xlrd\n",
    "from tkinter import filedialog\n",
    "import tkinter as tk\n",
    "import customtkinter as ctk\n",
    "from customtkinter import filedialog\n",
    "import funciones\n",
    "import openpyxl\n",
    "import dbfread\n",
    "import glob\n",
    "from pandastable import Table, TableModel # Importar clases de pandastable"
   ]
  },
  {
   "cell_type": "markdown",
   "metadata": {},
   "source": [
    "### Subir reporte danilo"
   ]
  },
  {
   "cell_type": "code",
   "execution_count": 4,
   "metadata": {},
   "outputs": [
    {
     "name": "stdout",
     "output_type": "stream",
     "text": [
      "<_io.TextIOWrapper name='C:/Users/zickd/Downloads/transferncias AFIP reporte de errores en importacion Gecros desde el 15-09-23 al 30-09-23.xlsx' mode='r' encoding='cp1252'>\n",
      "           cuit  cuil                                    descripcion  \\\n",
      "0   20406560814   NaN  401: Contrib. Patr. sin Empl. para distribuir   \n",
      "1   20406560814   NaN  401: Contrib. Patr. sin Empl. para distribuir   \n",
      "2   20231981188   NaN  401: Contrib. Patr. sin Empl. para distribuir   \n",
      "3   20231981188   NaN  401: Contrib. Patr. sin Empl. para distribuir   \n",
      "4   20231981188   NaN  401: Contrib. Patr. sin Empl. para distribuir   \n",
      "..          ...   ...                                            ...   \n",
      "92  27181363105   NaN  401: Contrib. Patr. sin Empl. para distribuir   \n",
      "93  27453149183   NaN  401: Contrib. Patr. sin Empl. para distribuir   \n",
      "94  27453149183   NaN  401: Contrib. Patr. sin Empl. para distribuir   \n",
      "95  27453149183   NaN  401: Contrib. Patr. sin Empl. para distribuir   \n",
      "96  27453149183   NaN  401: Contrib. Patr. sin Empl. para distribuir   \n",
      "\n",
      "    obrasocial  periodo  sueldo  aporte  contri  otrosconc      fecha  \n",
      "0          NaN     2306       0       0    0.07          0 2023-09-20  \n",
      "1          NaN     2308       0       0    0.29          0 2023-09-20  \n",
      "2          NaN     2206       0       0    0.03          0 2023-09-18  \n",
      "3          NaN     2207       0       0    0.02          0 2023-09-18  \n",
      "4          NaN     2209       0       0    0.04          0 2023-09-18  \n",
      "..         ...      ...     ...     ...     ...        ...        ...  \n",
      "92         NaN     2305       0       0   28.87          0 2023-09-25  \n",
      "93         NaN     2302       0       0   48.65          0 2023-09-25  \n",
      "94         NaN     2305       0       0   10.68          0 2023-09-25  \n",
      "95         NaN     2306       0       0   11.53          0 2023-09-25  \n",
      "96         NaN     2308       0       0    2.02          0 2023-09-25  \n",
      "\n",
      "[97 rows x 10 columns]\n"
     ]
    }
   ],
   "source": [
    "archivo = None\n",
    "while True:\n",
    "    archivo=funciones.seleccionar_archivo()\n",
    "    print(archivo)\n",
    "    if archivo:\n",
    "        ruta_archivo = archivo.name\n",
    "        try:\n",
    "            \n",
    "            #dbf = dbfread.DBF(ruta_archivo)\n",
    "            monotributo = pd.read_excel(ruta_archivo, sheet_name=0)\n",
    "            print(monotributo)\n",
    "            break\n",
    "        except UnicodeDecodeError:\n",
    "            print(\"Error de decodificación de caracteres. Intenta con otra codificación o archivo.\")\n",
    "            continue\n",
    "    else:\n",
    "        print(\"Archivo incorrecto. Por favor, vuelva a cargarlo.\")"
   ]
  },
  {
   "cell_type": "code",
   "execution_count": 5,
   "metadata": {},
   "outputs": [
    {
     "data": {
      "text/plain": [
       "cuit           97\n",
       "cuil            0\n",
       "descripcion    97\n",
       "obrasocial      0\n",
       "periodo        97\n",
       "sueldo         97\n",
       "aporte         97\n",
       "contri         97\n",
       "otrosconc      97\n",
       "fecha          97\n",
       "dtype: int64"
      ]
     },
     "execution_count": 5,
     "metadata": {},
     "output_type": "execute_result"
    }
   ],
   "source": [
    "monotributo.count()"
   ]
  },
  {
   "cell_type": "markdown",
   "metadata": {},
   "source": [
    "###  Importar padron total gecros monotrbutistas"
   ]
  },
  {
   "cell_type": "code",
   "execution_count": 6,
   "metadata": {},
   "outputs": [
    {
     "name": "stdout",
     "output_type": "stream",
     "text": [
      "<_io.TextIOWrapper name='C:/Users/zickd/Downloads/PADRON_GECROS.xlsx' mode='r' encoding='cp1252'>\n",
      "       OS_NOMBRE          CUIL SEXO      NOMPLAN PARENTESCO  \\\n",
      "0      EVP (TIS)           NaN    F  Desregulado     HIJO/A   \n",
      "1      EVP (TIS)           NaN    F  Desregulado     HIJO/A   \n",
      "2      EVP (TIS)           NaN    F  Desregulado    TITULAR   \n",
      "3      EVP (TIS)           NaN    F  Desregulado    TITULAR   \n",
      "4      EVP (TIS)           NaN    F  Desregulado    TITULAR   \n",
      "...          ...           ...  ...          ...        ...   \n",
      "66942    VISITAR  2.756850e+10    F    Afiliados     HIJO/A   \n",
      "66943    VISITAR  2.758200e+10    F    Afiliados     HIJO/A   \n",
      "66944    VISITAR  2.758853e+10    F    Afiliados     HIJO/A   \n",
      "66945    VISITAR  2.793704e+10    F    Afiliados    TITULAR   \n",
      "66946    VISITAR  2.795855e+10    F    Afiliados    TITULAR   \n",
      "\n",
      "                APELLIDO              NOMBRES                  TIPOBEN_NO  \n",
      "0                  PEREZ       ORIANA GISSELE    07-MONOT. EFECTOR SOCIAL  \n",
      "1              RODRIGUEZ  FERNANDA A FERNANDA    07-MONOT. EFECTOR SOCIAL  \n",
      "2                   VEGA     VERONICA NATALIA    07-MONOT. EFECTOR SOCIAL  \n",
      "3                 VIDELA         LIDIA RAMONA    07-MONOT. EFECTOR SOCIAL  \n",
      "4               VILLALBA       AILEN AGUSTINA    07-MONOT. EFECTOR SOCIAL  \n",
      "...                  ...                  ...                         ...  \n",
      "66942       GOMEZ AQUINO      BIANCA ISABELLA  00-RELACION DE DEPENDENCIA  \n",
      "66943               BRUN            FRANCESCA  00-RELACION DE DEPENDENCIA  \n",
      "66944  CORONEL VELAZQUEZ                JUANA  00-RELACION DE DEPENDENCIA  \n",
      "66945    DOMINGUEZ PEREZ                NANCY  00-RELACION DE DEPENDENCIA  \n",
      "66946       SUAREZ ROJAS         ORIANA SINAY  00-RELACION DE DEPENDENCIA  \n",
      "\n",
      "[66947 rows x 8 columns]\n"
     ]
    }
   ],
   "source": [
    "#cargar primero el padron de sidefi\n",
    "archivo = None\n",
    "while True:\n",
    "    archivo = funciones.seleccionar_archivo()\n",
    "    print(archivo)\n",
    "    if archivo:\n",
    "        ruta_archivo = archivo.name\n",
    "        try:\n",
    "            padron = pd.read_excel(ruta_archivo)\n",
    "            #padron = pd.read_csv(archivo, sep=\";\", encoding=\"ISO-8859-1\")\n",
    "            print(padron)\n",
    "            break\n",
    "        except UnicodeDecodeError:\n",
    "            print(\"Error de decodificación de caracteres. Intenta con otra codificación o archivo.\")\n",
    "            continue\n",
    "    else:\n",
    "        print(\"Archivo incorrecto. Por favor, vuelva a cargarlo.\")"
   ]
  },
  {
   "cell_type": "code",
   "execution_count": 7,
   "metadata": {},
   "outputs": [
    {
     "data": {
      "text/plain": [
       "0    0\n",
       "1    0\n",
       "2    0\n",
       "3    0\n",
       "4    0\n",
       "Name: CUIL, dtype: Int64"
      ]
     },
     "execution_count": 7,
     "metadata": {},
     "output_type": "execute_result"
    }
   ],
   "source": [
    "padron['CUIL'] = pd.to_numeric(padron['CUIL'], errors='coerce').fillna(0).astype('Int64')\n",
    "padron['CUIL'].head()"
   ]
  },
  {
   "cell_type": "markdown",
   "metadata": {},
   "source": [
    "#### Cruce de archivos! "
   ]
  },
  {
   "cell_type": "code",
   "execution_count": 8,
   "metadata": {},
   "outputs": [
    {
     "data": {
      "text/plain": [
       "Index(['cuit', 'cuil', 'descripcion', 'obrasocial', 'periodo', 'sueldo',\n",
       "       'aporte', 'contri', 'otrosconc', 'fecha', 'OS_NOMBRE', 'CUIL', 'SEXO',\n",
       "       'NOMPLAN', 'PARENTESCO', 'APELLIDO', 'NOMBRES', 'TIPOBEN_NO', '_merge',\n",
       "       'Razón Social'],\n",
       "      dtype='object')"
      ]
     },
     "execution_count": 8,
     "metadata": {},
     "output_type": "execute_result"
    }
   ],
   "source": [
    "liquidaciones_monot = pd.merge(monotributo, padron, left_on= 'cuit', right_on='CUIL', how='inner', indicator=True)\n",
    "liquidaciones_monot[\"Razón Social\"]=\" \"\n",
    "liquidaciones_monot['periodo'] = liquidaciones_monot['periodo'].astype(str).apply(lambda x: \"20\" + x)\n",
    "liquidaciones_monot['periodo'] = liquidaciones_monot['periodo'].astype(int)\n",
    "liquidaciones_monot.columns"
   ]
  },
  {
   "cell_type": "code",
   "execution_count": 9,
   "metadata": {},
   "outputs": [
    {
     "name": "stdout",
     "output_type": "stream",
     "text": [
      "0     202208\n",
      "1     202303\n",
      "2     202204\n",
      "3     202205\n",
      "4     202206\n",
      "5     202207\n",
      "6     202208\n",
      "7     202209\n",
      "8     202210\n",
      "9     202211\n",
      "10    202212\n",
      "11    202301\n",
      "12    202302\n",
      "13    202303\n",
      "14    202304\n",
      "15    202306\n",
      "16    202307\n",
      "17    202303\n",
      "18    202306\n",
      "19    202308\n",
      "20    202306\n",
      "21    202307\n",
      "22    202308\n",
      "23    201912\n",
      "Name: periodo, dtype: int32\n"
     ]
    }
   ],
   "source": [
    "print(liquidaciones_monot[\"periodo\"])"
   ]
  },
  {
   "cell_type": "code",
   "execution_count": 10,
   "metadata": {},
   "outputs": [],
   "source": [
    "aportes_a_importar = liquidaciones_monot[[\"cuit\",\n",
    "\"Razón Social\",\n",
    "\"periodo\",\n",
    "\"fecha\",\n",
    "\"CUIL\",\n",
    "\"APELLIDO\",\n",
    "\"NOMBRES\",\n",
    "\"sueldo\",\n",
    "\"aporte\",\n",
    "\"contri\",\n",
    "\"otrosconc\"\n",
    "]]"
   ]
  },
  {
   "cell_type": "code",
   "execution_count": 11,
   "metadata": {},
   "outputs": [
    {
     "name": "stderr",
     "output_type": "stream",
     "text": [
      "C:\\Users\\zickd\\AppData\\Local\\Temp\\ipykernel_13652\\383208089.py:3: FutureWarning: As the xlwt package is no longer maintained, the xlwt engine will be removed in a future version of pandas. This is the only engine in pandas that supports writing in the xls format. Install openpyxl and write to an xlsx file instead. You can set the option io.excel.xls.writer to 'xlwt' to silence this warning. While this option is deprecated and will also raise a warning, it can be globally set and the warning suppressed.\n",
      "  aportes_a_importar.to_excel(path + '\\cruce_desde el 15-09-23 al 30-09-23.xls', index = False, engine='xlwt', header = False)\n"
     ]
    }
   ],
   "source": [
    "path = funciones.seleccionar_directorio()\n",
    "liquidaciones_monot.to_excel(path + '\\cruce_desde el 15-09-23 al 30-09-23_raw.xlsx', index=False)\n",
    "aportes_a_importar.to_excel(path + '\\cruce_desde el 15-09-23 al 30-09-23.xls', index = False, engine='xlwt', header = False)"
   ]
  },
  {
   "cell_type": "code",
   "execution_count": 12,
   "metadata": {},
   "outputs": [
    {
     "name": "stdout",
     "output_type": "stream",
     "text": [
      "<class 'pandas.core.frame.DataFrame'>\n",
      "Int64Index: 24 entries, 0 to 23\n",
      "Data columns (total 11 columns):\n",
      " #   Column        Non-Null Count  Dtype         \n",
      "---  ------        --------------  -----         \n",
      " 0   cuit          24 non-null     int64         \n",
      " 1   Razón Social  24 non-null     object        \n",
      " 2   periodo       24 non-null     int32         \n",
      " 3   fecha         24 non-null     datetime64[ns]\n",
      " 4   CUIL          24 non-null     Int64         \n",
      " 5   APELLIDO      24 non-null     object        \n",
      " 6   NOMBRES       24 non-null     object        \n",
      " 7   sueldo        24 non-null     int64         \n",
      " 8   aporte        24 non-null     int64         \n",
      " 9   contri        24 non-null     float64       \n",
      " 10  otrosconc     24 non-null     int64         \n",
      "dtypes: Int64(1), datetime64[ns](1), float64(1), int32(1), int64(4), object(3)\n",
      "memory usage: 2.2+ KB\n"
     ]
    }
   ],
   "source": [
    "aportes_a_importar.info()"
   ]
  }
 ],
 "metadata": {
  "kernelspec": {
   "display_name": ".venv",
   "language": "python",
   "name": "python3"
  },
  "language_info": {
   "codemirror_mode": {
    "name": "ipython",
    "version": 3
   },
   "file_extension": ".py",
   "mimetype": "text/x-python",
   "name": "python",
   "nbconvert_exporter": "python",
   "pygments_lexer": "ipython3",
   "version": "3.11.5"
  }
 },
 "nbformat": 4,
 "nbformat_minor": 2
}
