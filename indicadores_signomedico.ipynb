{
 "cells": [
  {
   "cell_type": "code",
   "execution_count": 10,
   "metadata": {},
   "outputs": [],
   "source": [
    "import pandas as pd\n",
    "import numpy as np\n",
    "import xlwt\n",
    "import xlrd\n",
    "from tkinter import filedialog\n",
    "import tkinter as tk\n",
    "import customtkinter as ctk\n",
    "from customtkinter import filedialog\n",
    "import funciones\n",
    "import openpyxl\n",
    "import dbfread  \n"
   ]
  },
  {
   "cell_type": "markdown",
   "metadata": {},
   "source": [
    "### test cargar db"
   ]
  },
  {
   "cell_type": "code",
   "execution_count": null,
   "metadata": {},
   "outputs": [],
   "source": [
    "prueba = funciones.subir_dbf()\n",
    "print(prueba['IT_ITOT'])\n"
   ]
  },
  {
   "cell_type": "markdown",
   "metadata": {},
   "source": [
    "#### leer DBF simpe"
   ]
  },
  {
   "cell_type": "code",
   "execution_count": null,
   "metadata": {},
   "outputs": [],
   "source": [
    "class MyFieldParser(dbfread.FieldParser):\n",
    "\n",
    "    # Sobrescribir el método parseN\n",
    "    def parseN(self, field, data):\n",
    "        # Si el campo es \"importe\", intentar convertir el valor a cadena\n",
    "        if field.name == \"importe\":\n",
    "            try:\n",
    "                return str(data)\n",
    "            # Si hay un error, devolver el valor original\n",
    "            except ValueError:\n",
    "                return data\n",
    "        # Si el campo no es \"importe\", devolver el valor original\n",
    "        else:\n",
    "            return data\n",
    "        \n",
    "archivo = None\n",
    "while True:\n",
    "    archivo = funciones.seleccionar_archivo()\n",
    "    print(archivo)\n",
    "    if archivo:\n",
    "        ruta_archivo = archivo.name\n",
    "        try:\n",
    "            dbf =  dbfread.DBF( ruta_archivo, load=True, parserclass=MyFieldParser)\n",
    "            indicadores = pd.DataFrame(dbf)\n",
    "            #indicadores = pd.read_excel(ruta_archivo, engine='openpyxl')\n",
    "            #padron = pd.read_csv(archivo, sep=\";\", encoding=\"ISO-8859-1\")\n",
    "            \n",
    "            break\n",
    "        except UnicodeDecodeError:\n",
    "            print(\"Error de decodificación de caracteres. Intenta con otra codificación o archivo.\")\n",
    "            continue\n",
    "    else:\n",
    "        print(\"Archivo incorrecto. Por favor, vuelva a cargarlo.\")\n"
   ]
  },
  {
   "cell_type": "code",
   "execution_count": null,
   "metadata": {},
   "outputs": [],
   "source": [
    "prueba['IT_ITOT'].tail"
   ]
  },
  {
   "cell_type": "code",
   "execution_count": null,
   "metadata": {},
   "outputs": [],
   "source": [
    "print(prueba.columns)"
   ]
  },
  {
   "attachments": {},
   "cell_type": "markdown",
   "metadata": {},
   "source": [
    "### modelado"
   ]
  },
  {
   "cell_type": "code",
   "execution_count": null,
   "metadata": {},
   "outputs": [],
   "source": [
    "diccionario = {\n",
    "'CONSULTA':[420301,\n",
    "420132,\n",
    "420125,\n",
    "420134,\n",
    "420126,\n",
    "420127,\n",
    "420130,\n",
    "420121,\n",
    "420117,\n",
    "420129,\n",
    "420110,\n",
    "420104,\n",
    "420145,\n",
    "420105,\n",
    "420102,\n",
    "420109,\n",
    "420128,\n",
    "420108,\n",
    "420101,\n",
    "420103,\n",
    "1,\n",
    "420120,\n",
    "3,\n",
    "420133,\n",
    "420107,\n",
    "420112,\n",
    "420143,\n",
    "420135,\n",
    "420106,\n",
    "101,\n",
    "420303,\n",
    "420144,\n",
    "420141]}\n",
    "\n",
    "# creo la funcion para iterar el diciccionario\n",
    "\n",
    "def aplicar_categoria(codigo):\n",
    "    for categoria, codigos in diccionario.items():\n",
    "        if codigo in codigos:\n",
    "            return categoria\n",
    "    return \"practica\"\n",
    "\n",
    "\n",
    "# Crear campo pais\n",
    "#indicadores['PAIS'] = 'ARGENTINA' + ',' + indicadores['PROV_AFI'] + ',' + indicadores['LOCAAFI']\n",
    "prueba['PAIS'] = 'ARGENTINA' + ',' + prueba['PROV_AFI'] + ',' + prueba['LOCAAFI']\n",
    "# separar el campo patologias y el campo coberturas especiales\n",
    "prueba[\"COB_ESP\"] = prueba[\"COB_ESP\"].str.replace(\"\\\\(\\\\d+\\\\/\\\\d+\\\\/\\\\d+-\\\\d+\\\\/\\\\d+\\\\/\\\\d+\\\\)|\\\\/\\\\d+\", \"\")\n",
    "            "
   ]
  },
  {
   "attachments": {},
   "cell_type": "markdown",
   "metadata": {},
   "source": [
    "### aplicar diccionario y crear nuevo campo practicas_consultas"
   ]
  },
  {
   "cell_type": "code",
   "execution_count": null,
   "metadata": {},
   "outputs": [],
   "source": [
    "#indicadores['CONSULTAS_PRACTICAS']=indicadores['IT_COD'].apply(aplicar_categoria)\n",
    "prueba['CONSULTAS_PRACTICAS']=prueba['IT_COD'].apply(aplicar_categoria)\n",
    "\n",
    "#print(indicadores[['IT_COD','CONSULTAS_PRACTICAS']])\n",
    "#save_path = filedialog.askdirectory()\n",
    "#test\n",
    "#indicadores2 = indicadores[[\n",
    "indicadores2 = prueba[[\n",
    "\"ORD_ID\",\n",
    "\"ORD_NUMERO\",\n",
    "\"ORD_PERI\",\n",
    "\"EXP_ID\",\n",
    "\"OS_NOMBRE\",\n",
    "\"NOMBRE\",\n",
    "\"SEXO\",\n",
    "\"EDAD\",\n",
    "\"LOCAAFI\",\n",
    "\"ORD_FSOL\",\n",
    "\"ORD_FEC\",\n",
    "\"NOMSOL\",\n",
    "\"ORD_ORI\",\n",
    "\"ORI_NOM\",\n",
    "\"LOCAORI\",\n",
    "\"ORD_AREA\",\n",
    "\"NOMENCLA\",\n",
    "\"IT_COD\",\n",
    "\"NOM_NOM\",\n",
    "\"CONSULTAS_PRACTICAS\",\n",
    "\"CANTIDAD\",\n",
    "\"IT_ITOT\",\n",
    "\"MOT_NOM\",\n",
    "\"NOMGTS\",\n",
    "\"TEXP_NOMBR\",\n",
    "\"PLAN_NOMBR\",\n",
    "\"MONODROGA\",\n",
    "\"ACCION\",\n",
    "\"PAIS\",\n",
    "\"PROV_AFI\",\n",
    "\"IT_OBS\",\n",
    "\"TIPOORIGEN\",\n",
    "\"AGENTE_GTS\",\n",
    "\"COB_ESP\",\n",
    "\"DOC_ID\",\n",
    "\"FECHAALTA\"\n",
    "]]\n",
    "indicadores2.columns= indicadores2.columns.str.lower()\n",
    "#indicadores2['it_itot'] = indicadores2['it_itot'].replace('b':'',   regex=True)\n",
    "#indicadores2.to_excel(save_path + '\\indicadoresv5.xlsx', engine='openpyxl' ,index = False )\n",
    "#indicadores2.to_csv(save_path + '\\indicadoresv5.csv' ,index = False )\n",
    "print(indicadores2['it_itot'])"
   ]
  },
  {
   "cell_type": "markdown",
   "metadata": {},
   "source": [
    "### SUBIR EL EXCEL CORREGIDO"
   ]
  },
  {
   "cell_type": "code",
   "execution_count": null,
   "metadata": {},
   "outputs": [],
   "source": [
    "#cargar primero el excel o csv\n",
    "archivo = None\n",
    "while True:\n",
    "    archivo = funciones.seleccionar_archivo()\n",
    "    print(archivo)\n",
    "    if archivo:\n",
    "        ruta_archivo = archivo.name\n",
    "        try:\n",
    "            indicadores3 = pd.read_excel(ruta_archivo)\n",
    "            #padron = pd.read_csv(archivo, sep=\";\", encoding=\"ISO-8859-1\")\n",
    "            print(indicadores)\n",
    "            break\n",
    "        except UnicodeDecodeError:\n",
    "            print(\"Error de decodificación de caracteres. Intenta con otra codificación o archivo.\")\n",
    "            continue\n",
    "    else:\n",
    "        print(\"Archivo incorrecto. Por favor, vuelva a cargarlo.\")\n"
   ]
  },
  {
   "cell_type": "code",
   "execution_count": null,
   "metadata": {},
   "outputs": [],
   "source": [
    "indicadores2['it_itot'] = indicadores2['it_itot'].astype(str).str.replace('.',',')"
   ]
  },
  {
   "cell_type": "markdown",
   "metadata": {},
   "source": [
    "### GUARDAR EL DATAFRAME EN UNA HOJA DE GSHEET"
   ]
  },
  {
   "cell_type": "code",
   "execution_count": 6,
   "metadata": {},
   "outputs": [],
   "source": [
    "import pygsheets\n",
    "import pandas as pd\n",
    "\n",
    "path='C:\\\\Users\\zickd\\\\OneDrive\\Documentos\\\\repos_git\\\\signomedico-398902-d596060414cb.json'\n",
    "gc=pygsheets.authorize(service_account_file=path)\n",
    "sh = gc.open_by_url('https://docs.google.com/spreadsheets/d/10IKRk1MISpvgmRxH1pj_63Kt8PMEEJGvJp8I6unsa3c/edit?usp=drive_link')\n",
    "wk1=sh[0] # first worksheet \n",
    "#wk1.clear() # to remove all data from sheet\n",
    "wk1.set_dataframe(indicadores2,(1,1), extend=True, copy_head=True)"
   ]
  },
  {
   "cell_type": "code",
   "execution_count": null,
   "metadata": {},
   "outputs": [],
   "source": [
    "print(dbfread.__version__)\n",
    "indicadores2['cob_esp']\n",
    "\n"
   ]
  }
 ],
 "metadata": {
  "kernelspec": {
   "display_name": ".venv",
   "language": "python",
   "name": "python3"
  },
  "language_info": {
   "codemirror_mode": {
    "name": "ipython",
    "version": 3
   },
   "file_extension": ".py",
   "mimetype": "text/x-python",
   "name": "python",
   "nbconvert_exporter": "python",
   "pygments_lexer": "ipython3",
   "version": "3.11.4"
  },
  "orig_nbformat": 4,
  "vscode": {
   "interpreter": {
    "hash": "1f64b729a01f235b3ec02af186f3a50c3d881136f08176a7df610cc16261a174"
   }
  }
 },
 "nbformat": 4,
 "nbformat_minor": 2
}
