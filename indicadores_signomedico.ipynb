{
 "cells": [
  {
   "cell_type": "code",
   "execution_count": 6,
   "metadata": {},
   "outputs": [],
   "source": [
    "import pandas as pd\n",
    "import numpy as np\n",
    "import xlwt\n",
    "import xlrd\n",
    "from tkinter import filedialog\n",
    "import tkinter as tk\n",
    "import customtkinter as ctk\n",
    "from customtkinter import filedialog\n",
    "import funciones\n",
    "import openpyxl\n",
    "import dbfread  \n"
   ]
  },
  {
   "cell_type": "markdown",
   "metadata": {},
   "source": [
    "#### leer DBF simpe"
   ]
  },
  {
   "cell_type": "code",
   "execution_count": 9,
   "metadata": {},
   "outputs": [
    {
     "name": "stdout",
     "output_type": "stream",
     "text": [
      "<_io.TextIOWrapper name='C:/Users/zickd/Downloads/INDICADORESV52.DBF' mode='r' encoding='cp1252'>\n"
     ]
    }
   ],
   "source": [
    "\n",
    "archivo = None\n",
    "while True:\n",
    "    archivo = funciones.seleccionar_archivo()\n",
    "    print(archivo)\n",
    "    if archivo:\n",
    "        ruta_archivo = archivo.name\n",
    "        try:\n",
    "            dbf =  dbfread.DBF( ruta_archivo)\n",
    "            indicadores = pd.DataFrame(dbf)\n",
    "            #indicadores = pd.read_excel(ruta_archivo, engine='openpyxl')\n",
    "            #padron = pd.read_csv(archivo, sep=\";\", encoding=\"ISO-8859-1\")\n",
    "            \n",
    "            break\n",
    "        except UnicodeDecodeError:\n",
    "            print(\"Error de decodificación de caracteres. Intenta con otra codificación o archivo.\")\n",
    "            continue\n",
    "    else:\n",
    "        print(\"Archivo incorrecto. Por favor, vuelva a cargarlo.\")\n"
   ]
  },
  {
   "attachments": {},
   "cell_type": "markdown",
   "metadata": {},
   "source": [
    "### modelado"
   ]
  },
  {
   "cell_type": "code",
   "execution_count": 10,
   "metadata": {},
   "outputs": [],
   "source": [
    "diccionario = {\n",
    "'CONSULTA':[420301,\n",
    "420132,\n",
    "420125,\n",
    "420134,\n",
    "420126,\n",
    "420127,\n",
    "420130,\n",
    "420121,\n",
    "420117,\n",
    "420129,\n",
    "420110,\n",
    "420104,\n",
    "420145,\n",
    "420105,\n",
    "420102,\n",
    "420109,\n",
    "420128,\n",
    "420108,\n",
    "420101,\n",
    "420103,\n",
    "1,\n",
    "420120,\n",
    "3,\n",
    "420133,\n",
    "420107,\n",
    "420112,\n",
    "420143,\n",
    "420135,\n",
    "420106,\n",
    "101,\n",
    "420303,\n",
    "420144,\n",
    "420141]}\n",
    "\n",
    "# creo la funcion para iterar el diciccionario\n",
    "\n",
    "def aplicar_categoria(codigo):\n",
    "    for categoria, codigos in diccionario.items():\n",
    "        if codigo in codigos:\n",
    "            return categoria\n",
    "    return \"practica\"\n",
    "\n",
    "\n",
    "# Crear campo pais\n",
    "indicadores['PAIS'] = 'ARGENTINA' + ',' + indicadores['PROV_AFI'] + ',' + indicadores['LOCAAFI']\n",
    "\n",
    "            "
   ]
  },
  {
   "attachments": {},
   "cell_type": "markdown",
   "metadata": {},
   "source": [
    "### aplicar diccionario y crear nuevo campo practicas_consultas"
   ]
  },
  {
   "cell_type": "code",
   "execution_count": 4,
   "metadata": {},
   "outputs": [
    {
     "name": "stdout",
     "output_type": "stream",
     "text": [
      "       IT_COD CONSULTAS_PRACTICAS\n",
      "0      990030            practica\n",
      "1      990024            practica\n",
      "2      990010            practica\n",
      "3      990010            practica\n",
      "4      990034            practica\n",
      "...       ...                 ...\n",
      "27148  660297            practica\n",
      "27149  660475            practica\n",
      "27150  660481            practica\n",
      "27151  660539            practica\n",
      "27152  660711            practica\n",
      "\n",
      "[27153 rows x 2 columns]\n"
     ]
    }
   ],
   "source": [
    "indicadores['CONSULTAS_PRACTICAS']=indicadores['IT_COD'].apply(aplicar_categoria)\n",
    "print(indicadores[['IT_COD','CONSULTAS_PRACTICAS']])\n",
    "save_path = filedialog.askdirectory()\n",
    "#test\n",
    "indicadores2 = indicadores[[\n",
    "\"ORD_ID\",\n",
    "\"ORD_NUMERO\",\n",
    "\"ORD_PERI\",\n",
    "\"EXP_ID\",\n",
    "\"OS_NOMBRE\",\n",
    "\"NOMBRE\",\n",
    "\"SEXO\",\n",
    "\"EDAD\",\n",
    "\"LOCAAFI\",\n",
    "\"ORD_FSOL\",\n",
    "\"ORD_FEC\",\n",
    "\"NOMSOL\",\n",
    "\"ORD_ORI\",\n",
    "\"ORI_NOM\",\n",
    "\"LOCAORI\",\n",
    "\"ORD_AREA\",\n",
    "\"NOMENCLA\",\n",
    "\"IT_COD\",\n",
    "\"NOM_NOM\",\n",
    "\"CONSULTAS_PRACTICAS\",\n",
    "\"CANTIDAD\",\n",
    "\"IT_ITOT\",\n",
    "\"MOT_NOM\",\n",
    "\"NOMGTS\",\n",
    "\"TEXP_NOMBR\",\n",
    "\"PLAN_NOMBR\",\n",
    "\"MONODROGA\",\n",
    "\"ACCION\",\n",
    "\"PAIS\",\n",
    "\"PROV_AFI\",\n",
    "\"IT_OBS\",\n",
    "\"TIPOORIGEN\",\n",
    "\"AGENTE_GTS\",\n",
    "\"COB_ESP\",\n",
    "\"DOC_ID\",\n",
    "\"FECHAALTA\"\n",
    "]]\n",
    "indicadores2.columns= indicadores2.columns.str.lower()\n",
    "#indicadores2.to_excel(save_path + '\\indicadoresv5.xlsx', engine='openpyxl' ,index = False )\n",
    "indicadores2.to_csv(save_path + '\\indicadoresv5.csv' ,index = False )"
   ]
  },
  {
   "cell_type": "markdown",
   "metadata": {},
   "source": [
    "### SUBIR EL EXCEL CORREGIDO"
   ]
  },
  {
   "cell_type": "code",
   "execution_count": 5,
   "metadata": {},
   "outputs": [
    {
     "name": "stdout",
     "output_type": "stream",
     "text": [
      "<_io.TextIOWrapper name='C:/Users/zickd/Downloads/indicadoresv5.xlsx' mode='r' encoding='cp1252'>\n",
      "       ORD_ID ORD_NUMERO  EXP_ID   OS_NOMBRE                  NOMBRE SEXO  \\\n",
      "0       25549  Amb-33444    8032  OSOETSYLRA    INEXISTENTE,AFILIADO    M   \n",
      "1       25550  Amb-33445    8033  OSOETSYLRA    INEXISTENTE,AFILIADO    M   \n",
      "2       25639  Amb-33536    8037     VISITAR    GONZALEZ,MARíA BELEN    F   \n",
      "3       25641  Amb-33562    8052  OSOETSYLRA    PEON,RENZO VALENTINO    M   \n",
      "4       25642  Amb-33569    8053  OSOETSYLRA        SOSA,AXEL HERNAN    M   \n",
      "...       ...        ...     ...         ...                     ...  ...   \n",
      "27148   42333      43593   11950     VISITAR  GIMENEZ,LEANDRO JAVIER    M   \n",
      "27149   42333      43593   11950     VISITAR  GIMENEZ,LEANDRO JAVIER    M   \n",
      "27150   42333      43593   11950     VISITAR  GIMENEZ,LEANDRO JAVIER    M   \n",
      "27151   42333      43593   11950     VISITAR  GIMENEZ,LEANDRO JAVIER    M   \n",
      "27152   42333      43593   11950     VISITAR  GIMENEZ,LEANDRO JAVIER    M   \n",
      "\n",
      "       EDAD          LOCAAFI    ORD_FSOL     ORD_FEC  ...      PROV_AFI  \\\n",
      "0        46     3 DE FEBRERO  2023-01-01  2023-01-31  ...  BUENOS AIRES   \n",
      "1        46     3 DE FEBRERO  2023-01-01  2023-01-31  ...  BUENOS AIRES   \n",
      "2        29          ROSARIO  2023-01-03  2023-01-03  ...      SANTA FE   \n",
      "3         7    PABLO PODESTA  2023-01-03  2022-12-30  ...  BUENOS AIRES   \n",
      "4        14  LOMAS DE ZAMORA  2022-12-06  2022-12-06  ...  BUENOS AIRES   \n",
      "...     ...              ...         ...         ...  ...           ...   \n",
      "27148    32        PERGAMINO  2023-05-15  2023-06-02  ...  BUENOS AIRES   \n",
      "27149    32        PERGAMINO  2023-05-15  2023-06-02  ...  BUENOS AIRES   \n",
      "27150    32        PERGAMINO  2023-05-15  2023-06-02  ...  BUENOS AIRES   \n",
      "27151    32        PERGAMINO  2023-05-15  2023-06-02  ...  BUENOS AIRES   \n",
      "27152    32        PERGAMINO  2023-05-15  2023-06-02  ...  BUENOS AIRES   \n",
      "\n",
      "                          IT_OBS                         TIPOORIGEN  \\\n",
      "0                                                         Sin Datos   \n",
      "1                                                         Sin Datos   \n",
      "2             CAMBIO DE BATERIAS                          Sin Datos   \n",
      "3      LABORATORIO X PRESUPUESTO                        Laboratorio   \n",
      "4                                                        Transporte   \n",
      "...                          ...                                ...   \n",
      "27148                             Clínicas, Sanatorios y Hospitales   \n",
      "27149                             Clínicas, Sanatorios y Hospitales   \n",
      "27150                             Clínicas, Sanatorios y Hospitales   \n",
      "27151                             Clínicas, Sanatorios y Hospitales   \n",
      "27152                             Clínicas, Sanatorios y Hospitales   \n",
      "\n",
      "                                              AGENTE_GTS COB_ESP    DOC_ID  \\\n",
      "0                                     SIFEME S.A - 10032          11111111   \n",
      "1                                     SIFEME S.A - 10032          11111111   \n",
      "2                             CREMER ACUMULADORES - 8951          37435917   \n",
      "3      LABORATORIO DE NEUROQUIMICA DR N.A. CHAMOLES S...          55343552   \n",
      "4                            REMIS EXPRESS S.A.S. - 9143          49173917   \n",
      "...                                                  ...     ...       ...   \n",
      "27148                                     Sin Configurar          35209576   \n",
      "27149                                     Sin Configurar          35209576   \n",
      "27150                                     Sin Configurar          35209576   \n",
      "27151                                     Sin Configurar          35209576   \n",
      "27152                                     Sin Configurar          35209576   \n",
      "\n",
      "        FECHAALTA ORD_PERI                                    PAIS  \\\n",
      "0      01/10/2020   202301     ARGENTINA,BUENOS AIRES,3 DE FEBRERO   \n",
      "1      01/10/2020   202301     ARGENTINA,BUENOS AIRES,3 DE FEBRERO   \n",
      "2      23/08/2013   202301              ARGENTINA,SANTA FE,ROSARIO   \n",
      "3      04/09/2019   202301    ARGENTINA,BUENOS AIRES,PABLO PODESTA   \n",
      "4      01/02/2012   202301  ARGENTINA,BUENOS AIRES,LOMAS DE ZAMORA   \n",
      "...           ...      ...                                     ...   \n",
      "27148  02/12/2022   202307        ARGENTINA,BUENOS AIRES,PERGAMINO   \n",
      "27149  02/12/2022   202307        ARGENTINA,BUENOS AIRES,PERGAMINO   \n",
      "27150  02/12/2022   202307        ARGENTINA,BUENOS AIRES,PERGAMINO   \n",
      "27151  02/12/2022   202307        ARGENTINA,BUENOS AIRES,PERGAMINO   \n",
      "27152  02/12/2022   202307        ARGENTINA,BUENOS AIRES,PERGAMINO   \n",
      "\n",
      "       CONSULTAS_PRACTICAS  \n",
      "0                 practica  \n",
      "1                 practica  \n",
      "2                 practica  \n",
      "3                 practica  \n",
      "4                 practica  \n",
      "...                    ...  \n",
      "27148             practica  \n",
      "27149             practica  \n",
      "27150             practica  \n",
      "27151             practica  \n",
      "27152             practica  \n",
      "\n",
      "[27153 rows x 36 columns]\n"
     ]
    }
   ],
   "source": [
    "#cargar primero el excel o csv\n",
    "archivo = None\n",
    "while True:\n",
    "    archivo = funciones.seleccionar_archivo()\n",
    "    print(archivo)\n",
    "    if archivo:\n",
    "        ruta_archivo = archivo.name\n",
    "        try:\n",
    "            indicadores3 = pd.read_excel(ruta_archivo)\n",
    "            #padron = pd.read_csv(archivo, sep=\";\", encoding=\"ISO-8859-1\")\n",
    "            print(indicadores)\n",
    "            break\n",
    "        except UnicodeDecodeError:\n",
    "            print(\"Error de decodificación de caracteres. Intenta con otra codificación o archivo.\")\n",
    "            continue\n",
    "    else:\n",
    "        print(\"Archivo incorrecto. Por favor, vuelva a cargarlo.\")\n"
   ]
  },
  {
   "cell_type": "code",
   "execution_count": null,
   "metadata": {},
   "outputs": [],
   "source": [
    "indicadores3.style.format({'it_tot': '{:,.2f}'})"
   ]
  },
  {
   "cell_type": "code",
   "execution_count": null,
   "metadata": {},
   "outputs": [],
   "source": [
    "indicadores['IT_ITOT']"
   ]
  },
  {
   "cell_type": "markdown",
   "metadata": {},
   "source": [
    "### GUARDAR EL DATAFRAME EN UNA HOJA DE GSHEET"
   ]
  },
  {
   "cell_type": "code",
   "execution_count": 5,
   "metadata": {},
   "outputs": [],
   "source": [
    "import pygsheets\n",
    "import pandas as pd\n",
    "\n",
    "path='C:\\\\Users\\zickd\\\\OneDrive\\Documentos\\\\repos_git\\\\signomedico-398902-d596060414cb.json'\n",
    "gc=pygsheets.authorize(service_account_file=path)\n",
    "sh = gc.open_by_url('https://docs.google.com/spreadsheets/d/10IKRk1MISpvgmRxH1pj_63Kt8PMEEJGvJp8I6unsa3c/edit?usp=drive_link')\n",
    "wk1=sh[0] # first worksheet \n",
    "#wk1.clear() # to remove all data from sheet\n",
    "wk1.set_dataframe(indicadores2,(1,1), extend=True, copy_head=True)"
   ]
  },
  {
   "cell_type": "code",
   "execution_count": 12,
   "metadata": {},
   "outputs": [
    {
     "name": "stdout",
     "output_type": "stream",
     "text": [
      "2.0.7\n"
     ]
    }
   ],
   "source": [
    "print(dbfread.__version__)\n",
    "\n"
   ]
  }
 ],
 "metadata": {
  "kernelspec": {
   "display_name": ".venv",
   "language": "python",
   "name": "python3"
  },
  "language_info": {
   "codemirror_mode": {
    "name": "ipython",
    "version": 3
   },
   "file_extension": ".py",
   "mimetype": "text/x-python",
   "name": "python",
   "nbconvert_exporter": "python",
   "pygments_lexer": "ipython3",
   "version": "3.11.4"
  },
  "orig_nbformat": 4,
  "vscode": {
   "interpreter": {
    "hash": "1f64b729a01f235b3ec02af186f3a50c3d881136f08176a7df610cc16261a174"
   }
  }
 },
 "nbformat": 4,
 "nbformat_minor": 2
}
