{
 "cells": [
  {
   "cell_type": "code",
   "execution_count": 1,
   "metadata": {},
   "outputs": [],
   "source": [
    "import pandas as pd\n",
    "import numpy as np\n",
    "import xlwt\n",
    "import xlrd\n",
    "from tkinter import filedialog\n",
    "import tkinter as tk\n",
    "import customtkinter as ctk\n",
    "from customtkinter import filedialog\n",
    "import funciones"
   ]
  },
  {
   "cell_type": "code",
   "execution_count": 2,
   "metadata": {},
   "outputs": [
    {
     "name": "stdout",
     "output_type": "stream",
     "text": [
      "<_io.TextIOWrapper name='C:/Users/zickd/Downloads/indicadoresv4.xls' mode='r' encoding='cp1252'>\n",
      "WARNING *** OLE2 inconsistency: SSCS size is 0 but SSAT size is non-zero\n",
      "*** No CODEPAGE record, no encoding_override: will use 'iso-8859-1'\n",
      "       ord_id  it_id    to_nom ord_numero  ord_peri  exp_id  os_id  \\\n",
      "0       25549      1  Sin Bono  Amb-33444    202301    8032      2   \n",
      "1       25550      1  Sin Bono  Amb-33445    202301    8033      2   \n",
      "2       25639      1  Sin Bono  Amb-33536    202301    8037      4   \n",
      "3       25641      1  Sin Bono  Amb-33562    202301    8052      2   \n",
      "4       25642      1  Sin Bono  Amb-33569    202301    8053      2   \n",
      "...       ...    ...       ...        ...       ...     ...    ...   \n",
      "13629   35314      1  Sin Bono  Amb-44400    202304    9726      2   \n",
      "13630   35315      1  Sin Bono      38943    202304    9726      2   \n",
      "13631   35315      2  Sin Bono      38943    202304    9726      2   \n",
      "13632   35316      1  Sin Bono      38941    202304    9726      2   \n",
      "13633   35317      1  Sin Bono  Amb-44401    202306   10174      2   \n",
      "\n",
      "        os_nombre  ben_id        numero  ...    doc_id grupo_etario  \\\n",
      "0      OSOETSYLRA    9372  101111111100  ...  11111111          NaN   \n",
      "1      OSOETSYLRA    9372  101111111100  ...  11111111          NaN   \n",
      "2         VISITAR    7133  801779457302  ...  37435917          NaN   \n",
      "3      OSOETSYLRA    8029  103024836503  ...  55343552          NaN   \n",
      "4      OSOETSYLRA    8805  403353653903  ...  49173917          NaN   \n",
      "...           ...     ...           ...  ...       ...          ...   \n",
      "13629  OSOETSYLRA    7854  102307764100  ...  23077641          NaN   \n",
      "13630  OSOETSYLRA    3947  102220213801  ...  21650140          NaN   \n",
      "13631  OSOETSYLRA    3947  102220213801  ...  21650140          NaN   \n",
      "13632  OSOETSYLRA    3947  102220213801  ...  21650140          NaN   \n",
      "13633  OSOETSYLRA    9077  302145524705  ...  48987429          NaN   \n",
      "\n",
      "       especialidadesesp especialidadesay1  especialidadesay2  \\\n",
      "0                    NaN               NaN                NaN   \n",
      "1                    NaN               NaN                NaN   \n",
      "2                    NaN               NaN                NaN   \n",
      "3                    NaN               NaN                NaN   \n",
      "4                    NaN               NaN                NaN   \n",
      "...                  ...               ...                ...   \n",
      "13629                NaN               NaN                NaN   \n",
      "13630                NaN               NaN                NaN   \n",
      "13631                NaN               NaN                NaN   \n",
      "13632                NaN               NaN                NaN   \n",
      "13633                NaN               NaN                NaN   \n",
      "\n",
      "      especialidadesay3 especialidadesane especialidadesgts   fechaalta  \\\n",
      "0                   NaN               NaN               NaN  01/10/2020   \n",
      "1                   NaN               NaN               NaN  01/10/2020   \n",
      "2                   NaN               NaN               NaN  23/08/2013   \n",
      "3                   NaN               NaN               NaN  04/09/2019   \n",
      "4                   NaN               NaN               NaN  01/02/2012   \n",
      "...                 ...               ...               ...         ...   \n",
      "13629               NaN               NaN               NaN  05/04/2017   \n",
      "13630               NaN               NaN               NaN  01/01/2015   \n",
      "13631               NaN               NaN               NaN  01/01/2015   \n",
      "13632               NaN               NaN               NaN  01/01/2015   \n",
      "13633               NaN               NaN               NaN  22/01/2009   \n",
      "\n",
      "      fechaultimareincorporacion  \n",
      "0                            NaN  \n",
      "1                            NaN  \n",
      "2                            NaN  \n",
      "3                            NaN  \n",
      "4                            NaN  \n",
      "...                          ...  \n",
      "13629                        NaN  \n",
      "13630                        NaN  \n",
      "13631                        NaN  \n",
      "13632                        NaN  \n",
      "13633                        NaN  \n",
      "\n",
      "[13634 rows x 119 columns]\n"
     ]
    }
   ],
   "source": [
    "#cargar primero el excel o csv\n",
    "archivo = None\n",
    "while True:\n",
    "    archivo = funciones.seleccionar_archivo()\n",
    "    print(archivo)\n",
    "    if archivo:\n",
    "        ruta_archivo = archivo.name\n",
    "        try:\n",
    "            indicadores = pd.read_excel(ruta_archivo, engine='xlrd')\n",
    "            #padron = pd.read_csv(archivo, sep=\";\", encoding=\"ISO-8859-1\")\n",
    "            print(indicadores)\n",
    "            break\n",
    "        except UnicodeDecodeError:\n",
    "            print(\"Error de decodificación de caracteres. Intenta con otra codificación o archivo.\")\n",
    "            continue\n",
    "    else:\n",
    "        print(\"Archivo incorrecto. Por favor, vuelva a cargarlo.\")\n"
   ]
  },
  {
   "attachments": {},
   "cell_type": "markdown",
   "metadata": {},
   "source": [
    "### modelado"
   ]
  },
  {
   "cell_type": "code",
   "execution_count": null,
   "metadata": {},
   "outputs": [],
   "source": [
    "diccionario = {''}"
   ]
  }
 ],
 "metadata": {
  "kernelspec": {
   "display_name": ".venv",
   "language": "python",
   "name": "python3"
  },
  "language_info": {
   "codemirror_mode": {
    "name": "ipython",
    "version": 3
   },
   "file_extension": ".py",
   "mimetype": "text/x-python",
   "name": "python",
   "nbconvert_exporter": "python",
   "pygments_lexer": "ipython3",
   "version": "3.11.3"
  },
  "orig_nbformat": 4
 },
 "nbformat": 4,
 "nbformat_minor": 2
}
