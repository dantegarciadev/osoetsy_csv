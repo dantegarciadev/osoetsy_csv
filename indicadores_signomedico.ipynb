{
 "cells": [
  {
   "cell_type": "code",
   "execution_count": 2,
   "metadata": {},
   "outputs": [],
   "source": [
    "import pandas as pd\n",
    "import numpy as np\n",
    "import xlwt\n",
    "import xlrd\n",
    "from tkinter import filedialog\n",
    "import tkinter as tk\n",
    "import customtkinter as ctk\n",
    "from customtkinter import filedialog\n",
    "import funciones\n",
    "import openpyxl\n",
    "import dbfread  \n"
   ]
  },
  {
   "cell_type": "markdown",
   "metadata": {},
   "source": [
    "### test cargar db"
   ]
  },
  {
   "cell_type": "code",
   "execution_count": 8,
   "metadata": {},
   "outputs": [
    {
     "name": "stdout",
     "output_type": "stream",
     "text": [
      "C:/Users/zickd/Downloads/INDICADORESV53.DBF\n",
      "       ORD_ID ORD_NUMERO  EXP_ID   OS_NOMBRE                      NOMBRE SEXO  \\\n",
      "0       34620  Amb-43725   10132  OSOETSYLRA        INEXISTENTE,AFILIADO    M   \n",
      "1       34621  Amb-43728   10133  OSOETSYLRA        INEXISTENTE,AFILIADO    M   \n",
      "2       34946  Amb-44006   10155  OSOETSYLRA         OJEDA,LAUTARO URIEL    M   \n",
      "3       34947  Amb-44009   10156  OSOETSYLRA         OJEDA,LAUTARO URIEL    M   \n",
      "4       34948  Amb-44010   10157  OSOETSYLRA         OJEDA,LAUTARO URIEL    M   \n",
      "...       ...        ...     ...         ...                         ...  ...   \n",
      "20893   49079      51343   12154  OSOETSYLRA  ESPOSITO,PATRICIA CAROLINA    F   \n",
      "20894   49080      51342   12154  OSOETSYLRA  ESPOSITO,PATRICIA CAROLINA    F   \n",
      "20895   49081      51340   12154  OSOETSYLRA  ESPOSITO,PATRICIA CAROLINA    F   \n",
      "20896   49082  Amb-58807   13020  OSOETSYLRA      AGUIRRE,GENESIS OLIVIA    F   \n",
      "20897   49083  Amb-58809   13021  OSOETSYLRA      DISCIOSCIA,ALAN TOBIAS    M   \n",
      "\n",
      "       EDAD         LOCAAFI    ORD_FSOL     ORD_FEC  ...  \\\n",
      "0        47    3 DE FEBRERO  2023-06-01  2023-06-30  ...   \n",
      "1        47    3 DE FEBRERO  2023-06-01  2023-06-30  ...   \n",
      "2        16      PONTEVEDRA  2023-06-05  2023-06-05  ...   \n",
      "3        16      PONTEVEDRA  2023-06-05  2023-06-05  ...   \n",
      "4        16      PONTEVEDRA  2023-06-05  2023-06-05  ...   \n",
      "...     ...             ...         ...         ...  ...   \n",
      "20893    42       BENAVIDEZ  2023-07-22  2023-09-13  ...   \n",
      "20894    42       BENAVIDEZ  2023-07-22  2023-09-20  ...   \n",
      "20895    42       BENAVIDEZ  2023-09-20  2023-09-20  ...   \n",
      "20896     0  VILLA MARTELLI  2023-12-05  2023-12-05  ...   \n",
      "20897    18      AVELLANEDA  2023-12-05  2023-12-05  ...   \n",
      "\n",
      "                             MONODROGA                   ACCION      PROV_AFI  \\\n",
      "0                                                                BUENOS AIRES   \n",
      "1                                                                BUENOS AIRES   \n",
      "2                                                                BUENOS AIRES   \n",
      "3                                                                BUENOS AIRES   \n",
      "4                                                                BUENOS AIRES   \n",
      "...                                ...                      ...           ...   \n",
      "20893                                                            BUENOS AIRES   \n",
      "20894                                                            BUENOS AIRES   \n",
      "20895                                                            BUENOS AIRES   \n",
      "20896  amino cidos+carbohidratos+asoc.  F¢rmula de continuaci¢n  BUENOS AIRES   \n",
      "20897                                                            BUENOS AIRES   \n",
      "\n",
      "                            IT_OBS                         TIPOORIGEN  \\\n",
      "0                                                           Sin Datos   \n",
      "1                                                           Sin Datos   \n",
      "2                   leche vital rr                PROVEEDORES INSUMOS   \n",
      "3           LECHE SECALBUMX 250GMS                PROVEEDORES INSUMOS   \n",
      "4      PAÑALES PLENITUD PROTEC XXG                PROVEEDORES INSUMOS   \n",
      "...                            ...                                ...   \n",
      "20893                               Clínicas, Sanatorios y Hospitales   \n",
      "20894                               Clínicas, Sanatorios y Hospitales   \n",
      "20895                               Clínicas, Sanatorios y Hospitales   \n",
      "20896                                                       Farmacias   \n",
      "20897                                             PROVEEDORES INSUMOS   \n",
      "\n",
      "                                    AGENTE_GTS  \\\n",
      "0                           SIFEME S.A - 10032   \n",
      "1                           SIFEME S.A - 10032   \n",
      "2                SERRANO CARLOS JAVIER - 10369   \n",
      "3                SERRANO CARLOS JAVIER - 10369   \n",
      "4                SERRANO CARLOS JAVIER - 10369   \n",
      "...                                        ...   \n",
      "20893                           Sin Configurar   \n",
      "20894  CENTROMET S.A (CTRO MED. TALAR) - 10096   \n",
      "20895  CENTROMET S.A (CTRO MED. TALAR) - 10096   \n",
      "20896             SMAILA ALEXIS MATIAS - 10099   \n",
      "20897                     BRAVA CANITAS - 9497   \n",
      "\n",
      "                                    COB_ESP    DOC_ID   FECHAALTA  ORD_PERI  \n",
      "0                                            11111111  01/10/2020    202306  \n",
      "1                                            11111111  01/10/2020    202306  \n",
      "2      Discapacidad (19/10/2018-18/10/2023)  48025812  27/02/2018    202306  \n",
      "3      Discapacidad (19/10/2018-18/10/2023)  48025812  27/02/2018    202306  \n",
      "4      Discapacidad (19/10/2018-18/10/2023)  48025812  27/02/2018    202306  \n",
      "...                                     ...       ...         ...       ...  \n",
      "20893                                        29299041  05/03/2014    202309  \n",
      "20894                                        29299041  05/03/2014    202309  \n",
      "20895                                        29299041  05/03/2014    202309  \n",
      "20896                                        70030618  15/09/2023    202310  \n",
      "20897                                        46571324  21/02/2022    202312  \n",
      "\n",
      "[20898 rows x 34 columns]\n",
      "0         160437.00\n",
      "1         110246.00\n",
      "2         518400.00\n",
      "3         116000.00\n",
      "4         255760.00\n",
      "            ...    \n",
      "20893        559.87\n",
      "20894       4632.30\n",
      "20895       4081.50\n",
      "20896     104000.00\n",
      "20897    8500019.00\n",
      "Name: IT_ITOT, Length: 20898, dtype: float64\n"
     ]
    }
   ],
   "source": [
    "prueba = funciones.subir_dbf()\n",
    "print(prueba['IT_ITOT'])\n"
   ]
  },
  {
   "cell_type": "markdown",
   "metadata": {},
   "source": [
    "#### leer DBF simpe"
   ]
  },
  {
   "cell_type": "code",
   "execution_count": 3,
   "metadata": {},
   "outputs": [
    {
     "name": "stdout",
     "output_type": "stream",
     "text": [
      "<_io.TextIOWrapper name='C:/Users/zickd/Downloads/INDICADORESV53.DBF' mode='r' encoding='cp1252'>\n"
     ]
    }
   ],
   "source": [
    "class MyFieldParser(dbfread.FieldParser):\n",
    "\n",
    "    # Sobrescribir el método parseN\n",
    "    def parseN(self, field, data):\n",
    "        # Si el campo es \"importe\", intentar convertir el valor a cadena\n",
    "        if field.name == \"importe\":\n",
    "            try:\n",
    "                return str(data)\n",
    "            # Si hay un error, devolver el valor original\n",
    "            except ValueError:\n",
    "                return data\n",
    "        # Si el campo no es \"importe\", devolver el valor original\n",
    "        else:\n",
    "            return data\n",
    "        \n",
    "archivo = None\n",
    "while True:\n",
    "    archivo = funciones.seleccionar_archivo()\n",
    "    print(archivo)\n",
    "    if archivo:\n",
    "        ruta_archivo = archivo.name\n",
    "        try:\n",
    "            dbf =  dbfread.DBF( ruta_archivo, load=True, parserclass=MyFieldParser)\n",
    "            indicadores = pd.DataFrame(dbf)\n",
    "            #indicadores = pd.read_excel(ruta_archivo, engine='openpyxl')\n",
    "            #padron = pd.read_csv(archivo, sep=\";\", encoding=\"ISO-8859-1\")\n",
    "            \n",
    "            break\n",
    "        except UnicodeDecodeError:\n",
    "            print(\"Error de decodificación de caracteres. Intenta con otra codificación o archivo.\")\n",
    "            continue\n",
    "    else:\n",
    "        print(\"Archivo incorrecto. Por favor, vuelva a cargarlo.\")\n"
   ]
  },
  {
   "cell_type": "code",
   "execution_count": 9,
   "metadata": {},
   "outputs": [
    {
     "data": {
      "text/plain": [
       "0      160437.00\n",
       "1      110246.00\n",
       "2      518400.00\n",
       "3      116000.00\n",
       "4      255760.00\n",
       "5        7537.50\n",
       "6       10752.00\n",
       "7       93828.50\n",
       "8      111200.00\n",
       "9      172510.00\n",
       "10      14016.00\n",
       "11       3156.00\n",
       "12     266000.00\n",
       "13       2800.00\n",
       "14      26500.00\n",
       "15     377520.00\n",
       "16       7806.73\n",
       "17       9500.00\n",
       "18       3500.00\n",
       "19     136800.00\n",
       "20      74800.00\n",
       "21      15200.00\n",
       "22    2565262.50\n",
       "23        979.00\n",
       "24      24500.00\n",
       "25       2289.00\n",
       "26       2063.00\n",
       "27       2574.00\n",
       "28       2574.00\n",
       "29       4900.00\n",
       "Name: IT_ITOT, dtype: float64"
      ]
     },
     "execution_count": 9,
     "metadata": {},
     "output_type": "execute_result"
    }
   ],
   "source": [
    "prueba['IT_ITOT'].head(30)"
   ]
  },
  {
   "attachments": {},
   "cell_type": "markdown",
   "metadata": {},
   "source": [
    "### modelado"
   ]
  },
  {
   "cell_type": "code",
   "execution_count": 12,
   "metadata": {},
   "outputs": [],
   "source": [
    "diccionario = {\n",
    "'CONSULTA':[420301,\n",
    "420132,\n",
    "420125,\n",
    "420134,\n",
    "420126,\n",
    "420127,\n",
    "420130,\n",
    "420121,\n",
    "420117,\n",
    "420129,\n",
    "420110,\n",
    "420104,\n",
    "420145,\n",
    "420105,\n",
    "420102,\n",
    "420109,\n",
    "420128,\n",
    "420108,\n",
    "420101,\n",
    "420103,\n",
    "1,\n",
    "420120,\n",
    "3,\n",
    "420133,\n",
    "420107,\n",
    "420112,\n",
    "420143,\n",
    "420135,\n",
    "420106,\n",
    "101,\n",
    "420303,\n",
    "420144,\n",
    "420141]}\n",
    "\n",
    "# creo la funcion para iterar el diciccionario\n",
    "\n",
    "def aplicar_categoria(codigo):\n",
    "    for categoria, codigos in diccionario.items():\n",
    "        if codigo in codigos:\n",
    "            return categoria\n",
    "    return \"practica\"\n",
    "\n",
    "\n",
    "# Crear campo pais\n",
    "#indicadores['PAIS'] = 'ARGENTINA' + ',' + indicadores['PROV_AFI'] + ',' + indicadores['LOCAAFI']\n",
    "prueba['PAIS'] = 'ARGENTINA' + ',' + prueba['PROV_AFI'] + ',' + prueba['LOCAAFI']\n",
    "            "
   ]
  },
  {
   "attachments": {},
   "cell_type": "markdown",
   "metadata": {},
   "source": [
    "### aplicar diccionario y crear nuevo campo practicas_consultas"
   ]
  },
  {
   "cell_type": "code",
   "execution_count": 13,
   "metadata": {},
   "outputs": [
    {
     "name": "stdout",
     "output_type": "stream",
     "text": [
      "0         160437.00\n",
      "1         110246.00\n",
      "2         518400.00\n",
      "3         116000.00\n",
      "4         255760.00\n",
      "            ...    \n",
      "20893        559.87\n",
      "20894       4632.30\n",
      "20895       4081.50\n",
      "20896     104000.00\n",
      "20897    8500019.00\n",
      "Name: it_itot, Length: 20898, dtype: float64\n"
     ]
    }
   ],
   "source": [
    "#indicadores['CONSULTAS_PRACTICAS']=indicadores['IT_COD'].apply(aplicar_categoria)\n",
    "prueba['CONSULTAS_PRACTICAS']=prueba['IT_COD'].apply(aplicar_categoria)\n",
    "\n",
    "#print(indicadores[['IT_COD','CONSULTAS_PRACTICAS']])\n",
    "#save_path = filedialog.askdirectory()\n",
    "#test\n",
    "#indicadores2 = indicadores[[\n",
    "indicadores2 = prueba[[\n",
    "\"ORD_ID\",\n",
    "\"ORD_NUMERO\",\n",
    "\"ORD_PERI\",\n",
    "\"EXP_ID\",\n",
    "\"OS_NOMBRE\",\n",
    "\"NOMBRE\",\n",
    "\"SEXO\",\n",
    "\"EDAD\",\n",
    "\"LOCAAFI\",\n",
    "\"ORD_FSOL\",\n",
    "\"ORD_FEC\",\n",
    "\"NOMSOL\",\n",
    "\"ORD_ORI\",\n",
    "\"ORI_NOM\",\n",
    "\"LOCAORI\",\n",
    "\"ORD_AREA\",\n",
    "\"NOMENCLA\",\n",
    "\"IT_COD\",\n",
    "\"NOM_NOM\",\n",
    "\"CONSULTAS_PRACTICAS\",\n",
    "\"CANTIDAD\",\n",
    "\"IT_ITOT\",\n",
    "\"MOT_NOM\",\n",
    "\"NOMGTS\",\n",
    "\"TEXP_NOMBR\",\n",
    "\"PLAN_NOMBR\",\n",
    "\"MONODROGA\",\n",
    "\"ACCION\",\n",
    "\"PAIS\",\n",
    "\"PROV_AFI\",\n",
    "\"IT_OBS\",\n",
    "\"TIPOORIGEN\",\n",
    "\"AGENTE_GTS\",\n",
    "\"COB_ESP\",\n",
    "\"DOC_ID\",\n",
    "\"FECHAALTA\"\n",
    "]]\n",
    "indicadores2.columns= indicadores2.columns.str.lower()\n",
    "#indicadores2['it_itot'] = indicadores2['it_itot'].replace('b':'',   regex=True)\n",
    "#indicadores2.to_excel(save_path + '\\indicadoresv5.xlsx', engine='openpyxl' ,index = False )\n",
    "#indicadores2.to_csv(save_path + '\\indicadoresv5.csv' ,index = False )\n",
    "print(indicadores2['it_itot'])"
   ]
  },
  {
   "cell_type": "markdown",
   "metadata": {},
   "source": [
    "### SUBIR EL EXCEL CORREGIDO"
   ]
  },
  {
   "cell_type": "code",
   "execution_count": 5,
   "metadata": {},
   "outputs": [
    {
     "name": "stdout",
     "output_type": "stream",
     "text": [
      "<_io.TextIOWrapper name='C:/Users/zickd/Downloads/indicadoresv5.xlsx' mode='r' encoding='cp1252'>\n",
      "       ORD_ID ORD_NUMERO  EXP_ID   OS_NOMBRE                  NOMBRE SEXO  \\\n",
      "0       25549  Amb-33444    8032  OSOETSYLRA    INEXISTENTE,AFILIADO    M   \n",
      "1       25550  Amb-33445    8033  OSOETSYLRA    INEXISTENTE,AFILIADO    M   \n",
      "2       25639  Amb-33536    8037     VISITAR    GONZALEZ,MARíA BELEN    F   \n",
      "3       25641  Amb-33562    8052  OSOETSYLRA    PEON,RENZO VALENTINO    M   \n",
      "4       25642  Amb-33569    8053  OSOETSYLRA        SOSA,AXEL HERNAN    M   \n",
      "...       ...        ...     ...         ...                     ...  ...   \n",
      "27148   42333      43593   11950     VISITAR  GIMENEZ,LEANDRO JAVIER    M   \n",
      "27149   42333      43593   11950     VISITAR  GIMENEZ,LEANDRO JAVIER    M   \n",
      "27150   42333      43593   11950     VISITAR  GIMENEZ,LEANDRO JAVIER    M   \n",
      "27151   42333      43593   11950     VISITAR  GIMENEZ,LEANDRO JAVIER    M   \n",
      "27152   42333      43593   11950     VISITAR  GIMENEZ,LEANDRO JAVIER    M   \n",
      "\n",
      "       EDAD          LOCAAFI    ORD_FSOL     ORD_FEC  ...      PROV_AFI  \\\n",
      "0        46     3 DE FEBRERO  2023-01-01  2023-01-31  ...  BUENOS AIRES   \n",
      "1        46     3 DE FEBRERO  2023-01-01  2023-01-31  ...  BUENOS AIRES   \n",
      "2        29          ROSARIO  2023-01-03  2023-01-03  ...      SANTA FE   \n",
      "3         7    PABLO PODESTA  2023-01-03  2022-12-30  ...  BUENOS AIRES   \n",
      "4        14  LOMAS DE ZAMORA  2022-12-06  2022-12-06  ...  BUENOS AIRES   \n",
      "...     ...              ...         ...         ...  ...           ...   \n",
      "27148    32        PERGAMINO  2023-05-15  2023-06-02  ...  BUENOS AIRES   \n",
      "27149    32        PERGAMINO  2023-05-15  2023-06-02  ...  BUENOS AIRES   \n",
      "27150    32        PERGAMINO  2023-05-15  2023-06-02  ...  BUENOS AIRES   \n",
      "27151    32        PERGAMINO  2023-05-15  2023-06-02  ...  BUENOS AIRES   \n",
      "27152    32        PERGAMINO  2023-05-15  2023-06-02  ...  BUENOS AIRES   \n",
      "\n",
      "                          IT_OBS                         TIPOORIGEN  \\\n",
      "0                                                         Sin Datos   \n",
      "1                                                         Sin Datos   \n",
      "2             CAMBIO DE BATERIAS                          Sin Datos   \n",
      "3      LABORATORIO X PRESUPUESTO                        Laboratorio   \n",
      "4                                                        Transporte   \n",
      "...                          ...                                ...   \n",
      "27148                             Clínicas, Sanatorios y Hospitales   \n",
      "27149                             Clínicas, Sanatorios y Hospitales   \n",
      "27150                             Clínicas, Sanatorios y Hospitales   \n",
      "27151                             Clínicas, Sanatorios y Hospitales   \n",
      "27152                             Clínicas, Sanatorios y Hospitales   \n",
      "\n",
      "                                              AGENTE_GTS COB_ESP    DOC_ID  \\\n",
      "0                                     SIFEME S.A - 10032          11111111   \n",
      "1                                     SIFEME S.A - 10032          11111111   \n",
      "2                             CREMER ACUMULADORES - 8951          37435917   \n",
      "3      LABORATORIO DE NEUROQUIMICA DR N.A. CHAMOLES S...          55343552   \n",
      "4                            REMIS EXPRESS S.A.S. - 9143          49173917   \n",
      "...                                                  ...     ...       ...   \n",
      "27148                                     Sin Configurar          35209576   \n",
      "27149                                     Sin Configurar          35209576   \n",
      "27150                                     Sin Configurar          35209576   \n",
      "27151                                     Sin Configurar          35209576   \n",
      "27152                                     Sin Configurar          35209576   \n",
      "\n",
      "        FECHAALTA ORD_PERI                                    PAIS  \\\n",
      "0      01/10/2020   202301     ARGENTINA,BUENOS AIRES,3 DE FEBRERO   \n",
      "1      01/10/2020   202301     ARGENTINA,BUENOS AIRES,3 DE FEBRERO   \n",
      "2      23/08/2013   202301              ARGENTINA,SANTA FE,ROSARIO   \n",
      "3      04/09/2019   202301    ARGENTINA,BUENOS AIRES,PABLO PODESTA   \n",
      "4      01/02/2012   202301  ARGENTINA,BUENOS AIRES,LOMAS DE ZAMORA   \n",
      "...           ...      ...                                     ...   \n",
      "27148  02/12/2022   202307        ARGENTINA,BUENOS AIRES,PERGAMINO   \n",
      "27149  02/12/2022   202307        ARGENTINA,BUENOS AIRES,PERGAMINO   \n",
      "27150  02/12/2022   202307        ARGENTINA,BUENOS AIRES,PERGAMINO   \n",
      "27151  02/12/2022   202307        ARGENTINA,BUENOS AIRES,PERGAMINO   \n",
      "27152  02/12/2022   202307        ARGENTINA,BUENOS AIRES,PERGAMINO   \n",
      "\n",
      "       CONSULTAS_PRACTICAS  \n",
      "0                 practica  \n",
      "1                 practica  \n",
      "2                 practica  \n",
      "3                 practica  \n",
      "4                 practica  \n",
      "...                    ...  \n",
      "27148             practica  \n",
      "27149             practica  \n",
      "27150             practica  \n",
      "27151             practica  \n",
      "27152             practica  \n",
      "\n",
      "[27153 rows x 36 columns]\n"
     ]
    }
   ],
   "source": [
    "#cargar primero el excel o csv\n",
    "archivo = None\n",
    "while True:\n",
    "    archivo = funciones.seleccionar_archivo()\n",
    "    print(archivo)\n",
    "    if archivo:\n",
    "        ruta_archivo = archivo.name\n",
    "        try:\n",
    "            indicadores3 = pd.read_excel(ruta_archivo)\n",
    "            #padron = pd.read_csv(archivo, sep=\";\", encoding=\"ISO-8859-1\")\n",
    "            print(indicadores)\n",
    "            break\n",
    "        except UnicodeDecodeError:\n",
    "            print(\"Error de decodificación de caracteres. Intenta con otra codificación o archivo.\")\n",
    "            continue\n",
    "    else:\n",
    "        print(\"Archivo incorrecto. Por favor, vuelva a cargarlo.\")\n"
   ]
  },
  {
   "cell_type": "code",
   "execution_count": null,
   "metadata": {},
   "outputs": [],
   "source": [
    "indicadores3.style.format({'it_tot': '{:,.2f}'})"
   ]
  },
  {
   "cell_type": "code",
   "execution_count": null,
   "metadata": {},
   "outputs": [],
   "source": [
    "indicadores['IT_ITOT']"
   ]
  },
  {
   "cell_type": "markdown",
   "metadata": {},
   "source": [
    "### GUARDAR EL DATAFRAME EN UNA HOJA DE GSHEET"
   ]
  },
  {
   "cell_type": "code",
   "execution_count": null,
   "metadata": {},
   "outputs": [],
   "source": [
    "import pygsheets\n",
    "import pandas as pd"
   ]
  },
  {
   "cell_type": "code",
   "execution_count": 1,
   "metadata": {},
   "outputs": [
    {
     "ename": "NameError",
     "evalue": "name 'indicadores2' is not defined",
     "output_type": "error",
     "traceback": [
      "\u001b[1;31m---------------------------------------------------------------------------\u001b[0m",
      "\u001b[1;31mNameError\u001b[0m                                 Traceback (most recent call last)",
      "\u001b[1;32mc:\\Users\\zickd\\OneDrive\\Documentos\\repos_git\\osoetsy_csv\\indicadores_signomedico.ipynb Cell 14\u001b[0m line \u001b[0;36m9\n\u001b[0;32m      <a href='vscode-notebook-cell:/c%3A/Users/zickd/OneDrive/Documentos/repos_git/osoetsy_csv/indicadores_signomedico.ipynb#X16sZmlsZQ%3D%3D?line=6'>7</a>\u001b[0m wk1\u001b[39m=\u001b[39msh[\u001b[39m0\u001b[39m] \u001b[39m# first worksheet \u001b[39;00m\n\u001b[0;32m      <a href='vscode-notebook-cell:/c%3A/Users/zickd/OneDrive/Documentos/repos_git/osoetsy_csv/indicadores_signomedico.ipynb#X16sZmlsZQ%3D%3D?line=7'>8</a>\u001b[0m \u001b[39m#wk1.clear() # to remove all data from sheet\u001b[39;00m\n\u001b[1;32m----> <a href='vscode-notebook-cell:/c%3A/Users/zickd/OneDrive/Documentos/repos_git/osoetsy_csv/indicadores_signomedico.ipynb#X16sZmlsZQ%3D%3D?line=8'>9</a>\u001b[0m wk1\u001b[39m.\u001b[39mset_dataframe(indicadores2,(\u001b[39m1\u001b[39m,\u001b[39m1\u001b[39m), extend\u001b[39m=\u001b[39m\u001b[39mTrue\u001b[39;00m, copy_head\u001b[39m=\u001b[39m\u001b[39mTrue\u001b[39;00m)\n",
      "\u001b[1;31mNameError\u001b[0m: name 'indicadores2' is not defined"
     ]
    }
   ],
   "source": [
    "import pygsheets\n",
    "import pandas as pd\n",
    "\n",
    "path='C:\\\\Users\\zickd\\\\OneDrive\\Documentos\\\\repos_git\\\\signomedico-398902-d596060414cb.json'\n",
    "gc=pygsheets.authorize(service_account_file=path)\n",
    "sh = gc.open_by_url('https://docs.google.com/spreadsheets/d/10IKRk1MISpvgmRxH1pj_63Kt8PMEEJGvJp8I6unsa3c/edit?usp=drive_link')\n",
    "wk1=sh[0] # first worksheet \n",
    "#wk1.clear() # to remove all data from sheet\n",
    "wk1.set_dataframe(indicadores2,(1,1), extend=True, copy_head=True)"
   ]
  },
  {
   "cell_type": "code",
   "execution_count": 12,
   "metadata": {},
   "outputs": [
    {
     "name": "stdout",
     "output_type": "stream",
     "text": [
      "2.0.7\n"
     ]
    }
   ],
   "source": [
    "print(dbfread.__version__)\n",
    "\n"
   ]
  }
 ],
 "metadata": {
  "kernelspec": {
   "display_name": ".venv",
   "language": "python",
   "name": "python3"
  },
  "language_info": {
   "codemirror_mode": {
    "name": "ipython",
    "version": 3
   },
   "file_extension": ".py",
   "mimetype": "text/x-python",
   "name": "python",
   "nbconvert_exporter": "python",
   "pygments_lexer": "ipython3",
   "version": "3.11.4"
  },
  "orig_nbformat": 4,
  "vscode": {
   "interpreter": {
    "hash": "1f64b729a01f235b3ec02af186f3a50c3d881136f08176a7df610cc16261a174"
   }
  }
 },
 "nbformat": 4,
 "nbformat_minor": 2
}
