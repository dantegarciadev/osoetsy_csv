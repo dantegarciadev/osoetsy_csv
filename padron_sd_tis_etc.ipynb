{
 "cells": [
  {
   "cell_type": "code",
   "execution_count": 1,
   "metadata": {},
   "outputs": [],
   "source": [
    "import pandas as pd\n",
    "import numpy as np\n",
    "from tkinter import filedialog\n",
    "import tkinter as tk\n",
    "import openpyxl\n",
    "import customtkinter as ctk\n",
    "from customtkinter import filedialog\n",
    "import funciones\n"
   ]
  },
  {
   "attachments": {},
   "cell_type": "markdown",
   "metadata": {},
   "source": [
    "### Subir el archivo y guardarlo en un dataframe"
   ]
  },
  {
   "cell_type": "code",
   "execution_count": 16,
   "metadata": {},
   "outputs": [
    {
     "name": "stdout",
     "output_type": "stream",
     "text": [
      "<_io.TextIOWrapper name='G:/Mi unidad/osoetsylra/importaciones_TIS_SD_ETC_a_sidefi/meplife/junio/UOETSYLRA JUNIO.xlsx' mode='r' encoding='cp1252'>\n",
      "      Codigo  CUIT_Empleador  CUIL_Titular  Parentesco  CUIL_Familiar   \n",
      "0     127406     20240830214   20240830214           0    20240830214  \\\n",
      "1     127406     20119590958   20119590958           0    20119590958   \n",
      "2     127406     27425694192   27425694192           0    27425694192   \n",
      "3     127406     27425694192   27425694192           3    20549159851   \n",
      "4     127406     27270992132   27270992132           0    27270992132   \n",
      "...      ...             ...           ...         ...            ...   \n",
      "1682  127406     20190072577   20190072577           0    20190072577   \n",
      "1683  127406     27321459590   27321459590           0    27321459590   \n",
      "1684  127406     27174774221   27174774221           0    27174774221   \n",
      "1685  127406     27174774221   27174774221           1    20149595150   \n",
      "1686  127406     27316755637   27316755637           0    27316755637   \n",
      "\n",
      "     Tipo_Doc   Nro_Doc       Apellido                      Nombre Sexo  ...   \n",
      "0          DU  24083021         ELISII   CHRISTIAN MAURICIO JAVIER    M  ...  \\\n",
      "1          DU  11959095       PEDEZERT            FERNANDO RICARDO    M  ...   \n",
      "2          DU  42569419   NINA RAMIREZ               TANIA SOLEDAD    F  ...   \n",
      "3          DU  54915985  ANDACABA NINA                ULISES UZIEL    M  ...   \n",
      "4          DU  27099213            RAU             CINTHIA BETIANA    F  ...   \n",
      "...       ...       ...            ...                         ...  ...  ...   \n",
      "1682       DU  19007257        ENRIQUE             MARTIN BENJAMIN    M  ...   \n",
      "1683       DU  32145959       GONZALEZ           ROMINA  ALEJANDRA    F  ...   \n",
      "1684       DU  17477422      MALDONADO                     CLAUDIA    F  ...   \n",
      "1685       DU  14959515    MAC DOUGALL                 SERGIO LUIS    M  ...   \n",
      "1686       DU  31675563          CRACI            VERONICA BEATRIZ    F  ...   \n",
      "\n",
      "        CP  Provincia  Tipo_domi    Telefono Revista Incapacidad   \n",
      "0     1650          2          1  1158319409      99           0  \\\n",
      "1     1628          2          1  1127915604      99           0   \n",
      "2     1627          2          1  1168116908      99           0   \n",
      "3     1627          2          1         NaN      99           0   \n",
      "4     1629          2          1  2304301189      99           0   \n",
      "...    ...        ...        ...         ...     ...         ...   \n",
      "1682  1667          2          1  1164135879      99           0   \n",
      "1683  1865          2          1         NaN      99           0   \n",
      "1684  1611          2          1  1167011882      99           0   \n",
      "1685  1611          2          1         NaN      99           0   \n",
      "1686  1406          2          1         NaN      99           0   \n",
      "\n",
      "     Tipo_Beneficiario Fch_Alta_OS   nro_gpo      nro_sss  \n",
      "0                    4     1112022  20001933  351968327.0  \n",
      "1                    4     1112022  20001941  351994841.0  \n",
      "2                    4     1112022  20001944  351974448.0  \n",
      "3                    4     1112022  20001944  351974448.0  \n",
      "4                    4     1112022  20001946  351989198.0  \n",
      "...                ...         ...       ...          ...  \n",
      "1682                 4     1062023  20005799          NaN  \n",
      "1683                 4     1052023  20005852  352276196.0  \n",
      "1684                 4     1062023  20006025  352691714.0  \n",
      "1685                 4     1062023  20006025  352691714.0  \n",
      "1686                 4     1062023  20006029  352641009.0  \n",
      "\n",
      "[1687 rows x 28 columns]\n"
     ]
    }
   ],
   "source": [
    "archivo = None\n",
    "while True:\n",
    "    archivo = funciones.seleccionar_archivo()\n",
    "    print(archivo)\n",
    "    if archivo:\n",
    "        ruta_archivo = archivo.name\n",
    "        try:\n",
    "            padon_1 = pd.read_excel(ruta_archivo, engine='openpyxl')\n",
    "            #padron = pd.read_csv(archivo, sep=\";\", encoding=\"ISO-8859-1\")\n",
    "            print(padon_1)\n",
    "            break\n",
    "        except UnicodeDecodeError:\n",
    "            print(\"Error de decodificación de caracteres. Intenta con otra codificación o archivo.\")\n",
    "            continue\n",
    "    else:\n",
    "        print(\"Archivo incorrecto. Por favor, vuelva a cargarlo.\")"
   ]
  },
  {
   "attachments": {},
   "cell_type": "markdown",
   "metadata": {},
   "source": [
    "### duplicados"
   ]
  },
  {
   "cell_type": "code",
   "execution_count": 17,
   "metadata": {},
   "outputs": [
    {
     "data": {
      "text/plain": [
       "Codigo                  0\n",
       "CUIT_Empleador          0\n",
       "CUIL_Titular            0\n",
       "Parentesco              0\n",
       "CUIL_Familiar           0\n",
       "Tipo_Doc                0\n",
       "Nro_Doc                 0\n",
       "Apellido                0\n",
       "Nombre                  0\n",
       "Sexo                    0\n",
       "Estado_Civil            0\n",
       "Fch_Nac                 0\n",
       "Nacionalidad            0\n",
       "Calle                   0\n",
       "Nro                  1484\n",
       "Piso                 1667\n",
       "Dpto                 1670\n",
       "Localidad               0\n",
       "CP                      0\n",
       "Provincia               0\n",
       "Tipo_domi               0\n",
       "Telefono             1470\n",
       "Revista                 0\n",
       "Incapacidad             0\n",
       "Tipo_Beneficiario       0\n",
       "Fch_Alta_OS             0\n",
       "nro_gpo                 0\n",
       "nro_sss                 5\n",
       "dtype: int64"
      ]
     },
     "execution_count": 17,
     "metadata": {},
     "output_type": "execute_result"
    }
   ],
   "source": [
    "padon_1.isnull().sum()"
   ]
  }
 ],
 "metadata": {
  "kernelspec": {
   "display_name": "Python 3",
   "language": "python",
   "name": "python3"
  },
  "language_info": {
   "codemirror_mode": {
    "name": "ipython",
    "version": 3
   },
   "file_extension": ".py",
   "mimetype": "text/x-python",
   "name": "python",
   "nbconvert_exporter": "python",
   "pygments_lexer": "ipython3",
   "version": "3.11.0"
  },
  "orig_nbformat": 4,
  "vscode": {
   "interpreter": {
    "hash": "c261aea317cc0286b3b3261fbba9abdec21eaa57589985bb7a274bf54d6cc0a7"
   }
  }
 },
 "nbformat": 4,
 "nbformat_minor": 2
}
