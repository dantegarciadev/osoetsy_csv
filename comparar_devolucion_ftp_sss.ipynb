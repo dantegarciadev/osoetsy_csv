{
 "cells": [
  {
   "cell_type": "code",
   "execution_count": 3,
   "metadata": {},
   "outputs": [],
   "source": [
    "import pandas as pd\n",
    "import numpy as np\n",
    "import xlwt\n",
    "import xlrd\n",
    "from tkinter import filedialog\n",
    "import tkinter as tk\n",
    "import customtkinter as ctk\n",
    "from customtkinter import filedialog\n",
    "import funciones"
   ]
  },
  {
   "cell_type": "code",
   "execution_count": 13,
   "metadata": {},
   "outputs": [
    {
     "name": "stdout",
     "output_type": "stream",
     "text": [
      "<_io.TextIOWrapper name='G:/Mi unidad/osoetsylra/importaciones_TIS_SD_ETC_a_sidefi/EVP/EVP_TUCUMAN_18_04_2023.xlsx' mode='r' encoding='cp1252'>\n"
     ]
    },
    {
     "ename": "TypeError",
     "evalue": "read_excel() got an unexpected keyword argument 'encoding'",
     "output_type": "error",
     "traceback": [
      "\u001b[1;31m---------------------------------------------------------------------------\u001b[0m",
      "\u001b[1;31mTypeError\u001b[0m                                 Traceback (most recent call last)",
      "Cell \u001b[1;32mIn[13], line 6\u001b[0m\n\u001b[0;32m      4\u001b[0m \u001b[39mprint\u001b[39m(archivo)\n\u001b[0;32m      5\u001b[0m \u001b[39mif\u001b[39;00m archivo:\n\u001b[1;32m----> 6\u001b[0m     padron \u001b[39m=\u001b[39m pd\u001b[39m.\u001b[39;49mread_excel(archivo, engine\u001b[39m=\u001b[39;49m\u001b[39m'\u001b[39;49m\u001b[39mopenpyxl\u001b[39;49m\u001b[39m'\u001b[39;49m, encoding\u001b[39m=\u001b[39;49m\u001b[39m'\u001b[39;49m\u001b[39mutf-8\u001b[39;49m\u001b[39m'\u001b[39;49m)\n\u001b[0;32m      7\u001b[0m     \u001b[39mbreak\u001b[39;00m \n\u001b[0;32m      8\u001b[0m \u001b[39melif\u001b[39;00m \u001b[39mnot\u001b[39;00m archivo:\n",
      "File \u001b[1;32mc:\\Users\\zickd\\Documents\\REPOS_GIT\\osoetsylra\\.venv\\Lib\\site-packages\\pandas\\util\\_decorators.py:211\u001b[0m, in \u001b[0;36mdeprecate_kwarg.<locals>._deprecate_kwarg.<locals>.wrapper\u001b[1;34m(*args, **kwargs)\u001b[0m\n\u001b[0;32m    209\u001b[0m     \u001b[39melse\u001b[39;00m:\n\u001b[0;32m    210\u001b[0m         kwargs[new_arg_name] \u001b[39m=\u001b[39m new_arg_value\n\u001b[1;32m--> 211\u001b[0m \u001b[39mreturn\u001b[39;00m func(\u001b[39m*\u001b[39;49margs, \u001b[39m*\u001b[39;49m\u001b[39m*\u001b[39;49mkwargs)\n",
      "File \u001b[1;32mc:\\Users\\zickd\\Documents\\REPOS_GIT\\osoetsylra\\.venv\\Lib\\site-packages\\pandas\\util\\_decorators.py:331\u001b[0m, in \u001b[0;36mdeprecate_nonkeyword_arguments.<locals>.decorate.<locals>.wrapper\u001b[1;34m(*args, **kwargs)\u001b[0m\n\u001b[0;32m    325\u001b[0m \u001b[39mif\u001b[39;00m \u001b[39mlen\u001b[39m(args) \u001b[39m>\u001b[39m num_allow_args:\n\u001b[0;32m    326\u001b[0m     warnings\u001b[39m.\u001b[39mwarn(\n\u001b[0;32m    327\u001b[0m         msg\u001b[39m.\u001b[39mformat(arguments\u001b[39m=\u001b[39m_format_argument_list(allow_args)),\n\u001b[0;32m    328\u001b[0m         \u001b[39mFutureWarning\u001b[39;00m,\n\u001b[0;32m    329\u001b[0m         stacklevel\u001b[39m=\u001b[39mfind_stack_level(),\n\u001b[0;32m    330\u001b[0m     )\n\u001b[1;32m--> 331\u001b[0m \u001b[39mreturn\u001b[39;00m func(\u001b[39m*\u001b[39;49margs, \u001b[39m*\u001b[39;49m\u001b[39m*\u001b[39;49mkwargs)\n",
      "\u001b[1;31mTypeError\u001b[0m: read_excel() got an unexpected keyword argument 'encoding'"
     ]
    }
   ],
   "source": [
    "archivo = None\n",
    "while True:\n",
    "    archivo = funciones.seleccionar_archivo()\n",
    "    print(archivo)\n",
    "    if archivo:\n",
    "        padron = pd.read_excel(archivo, engine='openpyxl')\n",
    "        break \n",
    "    elif not archivo:\n",
    "        print(\"archivo erroneo vuelva a cargarlo\")"
   ]
  },
  {
   "cell_type": "code",
   "execution_count": 7,
   "metadata": {},
   "outputs": [
    {
     "name": "stdout",
     "output_type": "stream",
     "text": [
      "     Nro. Documento Apellido Afiliado      Nombre Afiliado  Nro. OS  \\\n",
      "0          26472435            ACOSTA         MóNICA EDITH      1.0   \n",
      "1          28440864           AGUILAR        SILVINA NOEMI      3.0   \n",
      "2          26057108           PACHECO        BERNABé PABLO      3.0   \n",
      "3          93078387             ORTIZ    MARIA DE LA NIEVE      1.0   \n",
      "4          32581303           ALMARAZ       GISELE SOLEDAD      1.0   \n",
      "..              ...               ...                  ...      ...   \n",
      "105        25897946         GASPAROLI        MARIA CECILIA      1.0   \n",
      "106        37960159              VEGA  FLORENCIA DEL VALLE      3.0   \n",
      "107        95218193         GASPARYAN                IRINA      1.0   \n",
      "108        20389913            YBAÑEZ          MARCOS ABEL      1.0   \n",
      "109        32294305          ZAMBRANA        PAULA SILVANA      1.0   \n",
      "\n",
      "    Plan del Afiliado  \n",
      "0            Afiliado  \n",
      "1            Afiliado  \n",
      "2            Afiliado  \n",
      "3            Afiliado  \n",
      "4            Afiliado  \n",
      "..                ...  \n",
      "105          Afiliado  \n",
      "106          Afiliado  \n",
      "107          Afiliado  \n",
      "108          Afiliado  \n",
      "109          Afiliado  \n",
      "\n",
      "[110 rows x 5 columns]\n"
     ]
    }
   ],
   "source": [
    "print(padron)"
   ]
  }
 ],
 "metadata": {
  "kernelspec": {
   "display_name": ".venv",
   "language": "python",
   "name": "python3"
  },
  "language_info": {
   "codemirror_mode": {
    "name": "ipython",
    "version": 3
   },
   "file_extension": ".py",
   "mimetype": "text/x-python",
   "name": "python",
   "nbconvert_exporter": "python",
   "pygments_lexer": "ipython3",
   "version": "3.11.0"
  },
  "orig_nbformat": 4,
  "vscode": {
   "interpreter": {
    "hash": "1f64b729a01f235b3ec02af186f3a50c3d881136f08176a7df610cc16261a174"
   }
  }
 },
 "nbformat": 4,
 "nbformat_minor": 2
}
