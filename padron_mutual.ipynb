{
 "cells": [
  {
   "cell_type": "code",
   "execution_count": 7,
   "metadata": {},
   "outputs": [],
   "source": [
    "import pandas as pd\n",
    "import numpy as np\n",
    "import xlwt\n",
    "import xlrd\n",
    "from tkinter import filedialog\n",
    "import tkinter as tk\n",
    "import customtkinter as ctk\n",
    "from customtkinter import filedialog\n",
    "import funciones\n"
   ]
  },
  {
   "attachments": {},
   "cell_type": "markdown",
   "metadata": {},
   "source": [
    "### carga del archivo"
   ]
  },
  {
   "cell_type": "code",
   "execution_count": null,
   "metadata": {},
   "outputs": [],
   "source": [
    "archivo = None\n",
    "\n",
    "while True:\n",
    "    archivo=funciones.seleccionar_archivo()\n",
    "    print(archivo)\n",
    "    if archivo:\n",
    "        ruta_archivo=archivo.name\n",
    "        try:\n",
    "            mutual=pd.read_csv(ruta_archivo, sep=';', encoding='ISO-8859-1')\n",
    "            print(mutual)\n",
    "            break\n",
    "        except UnicodeDecodeError:\n",
    "            print(\"Error de decodificación de caracteres. Intenta con otra codificación o archivo.\")\n",
    "            continue\n",
    "    else:\n",
    "        print(\"Archivo incorrecto. Por favor, vuelva a cargarlo.\")\n"
   ]
  },
  {
   "attachments": {},
   "cell_type": "markdown",
   "metadata": {},
   "source": [
    "### Transformacion"
   ]
  },
  {
   "cell_type": "code",
   "execution_count": null,
   "metadata": {},
   "outputs": [],
   "source": [
    "mutual['Cuil/DNI'] = mutual['Cuil/DNI'].replace('-', '', regex = True)\n",
    "mutual['DNI'] = mutual['Cuil/DNI'].astype(str).str[2:10]\n",
    "print(mutual['DNI'].head(20))\n",
    "#Campo direccion\n",
    "mutual['Direccion Completa'] = mutual['TitularDomicilio'] + ' ' + mutual['TitularNroPuerta'].astype(str)\n",
    "print(mutual['Direccion Completa'])\n",
    "\n",
    "#sacar las provincias\n",
    "condicion_filtro=['CORDOBA','MENDOZA','SANTA FE','TUCUMAN']\n",
    "filtro = mutual['Provincia'].isin(condicion_filtro)\n",
    "mutual = mutual.drop(mutual[filtro].index)\n",
    "\n",
    "condicion_filtro=['PERGAMINO']\n",
    "filtro = mutual['Localidad'].isin(condicion_filtro)\n",
    "mutual = mutual.drop(mutual[filtro].index)\n"
   ]
  },
  {
   "attachments": {},
   "cell_type": "markdown",
   "metadata": {},
   "source": [
    "### Exportar el archivo"
   ]
  },
  {
   "cell_type": "code",
   "execution_count": 6,
   "metadata": {},
   "outputs": [],
   "source": [
    "mutual['P¢liza'] = ('')\n",
    "mutual['Otro ID'] = ('')\n",
    "mutual['Apellido Materno'] = ('')\n",
    "mutual['TE'] = ('')\n",
    "mutual['TE 2'] = ('')\n",
    "mutual['Fecha Inicio Vigencia'] = ('')\n",
    "mutual['Fecha Fin Vigencia'] = ('')\n",
    "padron_mutual = mutual[['DNI','P¢liza','Otro ID','Nombre', 'Apellido','Apellido Materno','TE','TE 2','Fecha Inicio Vigencia','Direccion Completa','Localidad','Provincia']]\n",
    "padron_mutual.head(5)\n",
    "save_path = filedialog.askdirectory()\n",
    "padron_mutual.to_excel(save_path + '\\padron_mutual.xlsx', engine='openpyxl', index=False)\n",
    "\n"
   ]
  },
  {
   "cell_type": "code",
   "execution_count": null,
   "metadata": {},
   "outputs": [],
   "source": [
    "print(mutual.columns)"
   ]
  }
 ],
 "metadata": {
  "kernelspec": {
   "display_name": ".venv",
   "language": "python",
   "name": "python3"
  },
  "language_info": {
   "codemirror_mode": {
    "name": "ipython",
    "version": 3
   },
   "file_extension": ".py",
   "mimetype": "text/x-python",
   "name": "python",
   "nbconvert_exporter": "python",
   "pygments_lexer": "ipython3",
   "version": "3.11.4"
  },
  "orig_nbformat": 4,
  "vscode": {
   "interpreter": {
    "hash": "1f64b729a01f235b3ec02af186f3a50c3d881136f08176a7df610cc16261a174"
   }
  }
 },
 "nbformat": 4,
 "nbformat_minor": 2
}
