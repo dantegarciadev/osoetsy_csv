{
 "cells": [
  {
   "cell_type": "code",
   "execution_count": 1,
   "metadata": {},
   "outputs": [],
   "source": [
    "import pandas as pd\n",
    "import numpy as np\n",
    "import xlwt\n",
    "import xlrd\n",
    "from tkinter import filedialog\n",
    "import tkinter as tk\n",
    "import customtkinter as ctk\n",
    "from customtkinter import filedialog\n",
    "import funciones\n"
   ]
  },
  {
   "attachments": {},
   "cell_type": "markdown",
   "metadata": {},
   "source": [
    "### carga del archivo"
   ]
  },
  {
   "cell_type": "code",
   "execution_count": 3,
   "metadata": {},
   "outputs": [
    {
     "name": "stdout",
     "output_type": "stream",
     "text": [
      "<_io.TextIOWrapper name='C:/Users/zickd/Downloads/mutual.csv' mode='r' encoding='cp1252'>\n",
      "        Afil.   Benef.       Apellido           Nombre       Cuil/DNI  \\\n",
      "0     22942.0  21101.0         AGUERO       Jorge Luis  20-94455219-8   \n",
      "1     24634.0  24860.0        ALARCON    LUCAS ARMANDO  20-38257639-0   \n",
      "2     19047.0  18240.0         BORDON     Anibal Jorge  20-21142907-1   \n",
      "3     25649.0  24866.0        BRANDAN   HECTOR GABRIEL  23-33210319-9   \n",
      "4     26231.0  25180.0  BRITOS CUENCA     JUAN GABRIEL  20-95613482-0   \n",
      "...       ...      ...            ...              ...            ...   \n",
      "1418  13989.0  13989.0       MARTINEZ  Matias Ezequiel  20-30023819-0   \n",
      "1419  28795.0  33602.0        PALASIO      LEONEL IVAN  20-40767060-5   \n",
      "1420  15023.0  15023.0       PASCUALI         Emiliano  23-32528636-9   \n",
      "1421  28220.0  32522.0           PINO     LUIS EDUARDO  20-32380187-9   \n",
      "1422   1693.0      NaN        PORCELO    RAMON ALFREDO  20-20760804-2   \n",
      "\n",
      "     Parentesco(Edad) FechaNacimiento Sexo EstadoCivil                Empresa  \\\n",
      "0        Titular (39)       23/4/1984    M   Soltero/a  4 DE NOVIEMBRE S.R.L.   \n",
      "1        Titular (29)        4/4/1994    M   Soltero/a  4 DE NOVIEMBRE S.R.L.   \n",
      "2        Titular (53)      18/12/1969    M    Casado/a  4 DE NOVIEMBRE S.R.L.   \n",
      "3        Titular (34)      20/12/1988    M   Soltero/a  4 DE NOVIEMBRE S.R.L.   \n",
      "4        Titular (35)       19/4/1988    M   Soltero/a  4 DE NOVIEMBRE S.R.L.   \n",
      "...               ...             ...  ...         ...                    ...   \n",
      "1418     Titular (40)       31/3/1983    M    Casado/a       ZELCAR WASH S.A.   \n",
      "1419     Titular (25)      26/12/1997    M   Soltero/a       ZELCAR WASH S.A.   \n",
      "1420     Titular (37)       2/10/1986    M   Soltero/a       ZELCAR WASH S.A.   \n",
      "1421     Titular (37)        6/1/1986    M   Soltero/a       ZELCAR WASH S.A.   \n",
      "1422     Titular (54)       23/6/1969    M   Soltero/a       ZELCAR WASH S.A.   \n",
      "\n",
      "      ...              Sede     Provincia             Localidad   Tel_prefijo  \\\n",
      "0     ...  BsAs - San Justo  BUENOS AIRES       CAPITAL FEDERAL  0.000000e+00   \n",
      "1     ...  BsAs - San Justo  BUENOS AIRES  SAN FRANCISCO SOLANO           NaN   \n",
      "2     ...  BsAs - San Justo  BUENOS AIRES                 MERLO -1.000000e+00   \n",
      "3     ...  BsAs - San Justo  BUENOS AIRES        GONZALEZ CATAN           NaN   \n",
      "4     ...  BsAs - San Justo  BUENOS AIRES       LOMAS DE ZAMORA           NaN   \n",
      "...   ...               ...           ...                   ...           ...   \n",
      "1418  ...  BsAs - San Justo  BUENOS AIRES           BELLA VISTA  1.137886e+09   \n",
      "1419  ...  BsAs - San Justo  BUENOS AIRES            EL PALOMAR           NaN   \n",
      "1420  ...  BsAs - San Justo  BUENOS AIRES               CASEROS  0.000000e+00   \n",
      "1421  ...  BsAs - San Justo  BUENOS AIRES             CIUDADELA           NaN   \n",
      "1422  ...  BsAs - San Justo  BUENOS AIRES             SAN JUSTO  0.000000e+00   \n",
      "\n",
      "                Tel_numero   Cel_prefijo   Cel_numero  \\\n",
      "0     1126767712 concubina           NaN   1165662960   \n",
      "1                 42126327           NaN   1169319346   \n",
      "2               2204864756           NaN   1166791358   \n",
      "3                      NaN           NaN   1130850524   \n",
      "4               1151077653           NaN   1551077675   \n",
      "...                    ...           ...          ...   \n",
      "1418              44680347  1.132425e+09   1533285151   \n",
      "1419                   NaN  1.100000e+01   1136388296   \n",
      "1420                   NaN           NaN   1125347799   \n",
      "1421                   NaN           NaN   1127110957   \n",
      "1422             5648-8668           NaN  152326-1685   \n",
      "\n",
      "                              Email                Condicion  Padron Afiliados  \n",
      "0           luisaguero344@gmail.com  Relacion de dependencia   MT - Sede Todas  \n",
      "1        luca1994alarcon@gamail.com  Relacion de dependencia   MT - Sede Todas  \n",
      "2        anibalbordon_7@hotmail.com  Relacion de dependencia   MT - Sede Todas  \n",
      "3         gabybrandan2018@gmail.com  Relacion de dependencia   MT - Sede Todas  \n",
      "4     juan-todopoderoso@hotmail.com  Relacion de dependencia   MT - Sede Todas  \n",
      "...                             ...                      ...               ...  \n",
      "1418           naty310887@gmail.com  Relacion de dependencia   MT - Sede Todas  \n",
      "1419            sosa45398@gmail.com  Relacion de dependencia   MT - Sede Todas  \n",
      "1420                            NaN  Relacion de dependencia   MT - Sede Todas  \n",
      "1421       luispinocaro66@gmail.com  Relacion de dependencia   MT - Sede Todas  \n",
      "1422                            NaN  Relacion de dependencia   MT - Sede Todas  \n",
      "\n",
      "[1423 rows x 29 columns]\n"
     ]
    }
   ],
   "source": [
    "archivo = None\n",
    "\n",
    "while True:\n",
    "    archivo=funciones.seleccionar_archivo()\n",
    "    print(archivo)\n",
    "    if archivo:\n",
    "        ruta_archivo=archivo.name\n",
    "        try:\n",
    "            mutual=pd.read_csv(ruta_archivo, sep=';', encoding='ISO-8859-1')\n",
    "            print(mutual)\n",
    "            break\n",
    "        except UnicodeDecodeError:\n",
    "            print(\"Error de decodificación de caracteres. Intenta con otra codificación o archivo.\")\n",
    "            continue\n",
    "    else:\n",
    "        print(\"Archivo incorrecto. Por favor, vuelva a cargarlo.\")\n"
   ]
  },
  {
   "attachments": {},
   "cell_type": "markdown",
   "metadata": {},
   "source": [
    "### Transformacion"
   ]
  },
  {
   "cell_type": "code",
   "execution_count": 4,
   "metadata": {},
   "outputs": [
    {
     "name": "stdout",
     "output_type": "stream",
     "text": [
      "0     94455219\n",
      "1     38257639\n",
      "2     21142907\n",
      "3     33210319\n",
      "4     95613482\n",
      "5     95404802\n",
      "6     20474919\n",
      "7     25845063\n",
      "8     36518507\n",
      "9     33638382\n",
      "10    39982816\n",
      "11    14883045\n",
      "12    94954591\n",
      "13    24279792\n",
      "14    29429016\n",
      "15    22827807\n",
      "16    35978907\n",
      "17    29930320\n",
      "18    38830676\n",
      "19    38845834\n",
      "Name: DNI, dtype: object\n",
      "0       CRISóSTOMO ÁLVAREZ  4757\n",
      "1                 CALLE 824 2329\n",
      "2                Saenz Peña 1541\n",
      "3             EDUARDO SAENZ 7255\n",
      "4                   FILARDI 2232\n",
      "                  ...           \n",
      "1418          Emilio Lamarca 742\n",
      "1419              RIO NEGRO 1241\n",
      "1420                LOURDES 3784\n",
      "1421      HIPOLITO YRIGOYEN  956\n",
      "1422               CASERATA 4158\n",
      "Name: Direccion Completa, Length: 1423, dtype: object\n"
     ]
    }
   ],
   "source": [
    "mutual['Cuil/DNI'] = mutual['Cuil/DNI'].replace('-', '', regex = True)\n",
    "mutual['DNI'] = mutual['Cuil/DNI'].astype(str).str[2:10]\n",
    "print(mutual['DNI'].head(20))\n",
    "#Campo direccion\n",
    "mutual['Direccion Completa'] = mutual['TitularDomicilio'] + ' ' + mutual['TitularNroPuerta'].astype(str)\n",
    "print(mutual['Direccion Completa'])\n",
    "\n",
    "#sacar las provincias\n",
    "condicion_filtro=['CORDOBA','MENDOZA','SANTA FE','TUCUMAN']\n",
    "filtro = mutual['Provincia'].isin(condicion_filtro)\n",
    "mutual = mutual.drop(mutual[filtro].index)\n",
    "\n",
    "condicion_filtro=['PERGAMINO']\n",
    "filtro = mutual['Localidad'].isin(condicion_filtro)\n",
    "mutual = mutual.drop(mutual[filtro].index)\n"
   ]
  },
  {
   "attachments": {},
   "cell_type": "markdown",
   "metadata": {},
   "source": [
    "### Exportar el archivo"
   ]
  },
  {
   "cell_type": "code",
   "execution_count": 5,
   "metadata": {},
   "outputs": [],
   "source": [
    "mutual['P¢liza'] = ('')\n",
    "mutual['Otro ID'] = ('')\n",
    "mutual['Apellido Materno'] = ('')\n",
    "mutual['TE'] = ('')\n",
    "mutual['TE 2'] = ('')\n",
    "mutual['Fecha Inicio Vigencia'] = ('')\n",
    "mutual['Fecha Fin Vigencia'] = ('')\n",
    "padron_mutual = mutual[['DNI','P¢liza','Otro ID','Nombre', 'Apellido','Apellido Materno','TE','TE 2','Fecha Inicio Vigencia','Direccion Completa','Localidad','Provincia']]\n",
    "padron_mutual.head(5)\n",
    "save_path = filedialog.askdirectory()\n",
    "padron_mutual.to_excel(save_path + '\\padron_mutual.xlsx', engine='openpyxl', index=False)\n",
    "\n"
   ]
  }
 ],
 "metadata": {
  "kernelspec": {
   "display_name": ".venv",
   "language": "python",
   "name": "python3"
  },
  "language_info": {
   "codemirror_mode": {
    "name": "ipython",
    "version": 3
   },
   "file_extension": ".py",
   "mimetype": "text/x-python",
   "name": "python",
   "nbconvert_exporter": "python",
   "pygments_lexer": "ipython3",
   "version": "3.11.4"
  },
  "orig_nbformat": 4,
  "vscode": {
   "interpreter": {
    "hash": "1f64b729a01f235b3ec02af186f3a50c3d881136f08176a7df610cc16261a174"
   }
  }
 },
 "nbformat": 4,
 "nbformat_minor": 2
}
