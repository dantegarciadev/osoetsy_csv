{
 "cells": [
  {
   "cell_type": "code",
   "execution_count": null,
   "metadata": {},
   "outputs": [],
   "source": [
    "import pandas as pd\n",
    "import numpy as np\n",
    "import xlwt\n",
    "import xlrd\n",
    "from tkinter import filedialog\n",
    "import tkinter as tk\n",
    "import customtkinter as ctk\n",
    "from customtkinter import filedialog\n",
    "import funciones\n"
   ]
  },
  {
   "attachments": {},
   "cell_type": "markdown",
   "metadata": {},
   "source": [
    "### carga del archivo"
   ]
  },
  {
   "cell_type": "code",
   "execution_count": 36,
   "metadata": {},
   "outputs": [
    {
     "name": "stdout",
     "output_type": "stream",
     "text": [
      "<_io.TextIOWrapper name='E:/Mi unidad/osoetsylra/padrones julio a enviar/padron_mutual.csv' mode='r' encoding='cp1252'>\n",
      "      Afil.   Benef.       Apellido          Nombre       Cuil/DNI  \\\n",
      "0     22942  21101.0         AGUERO      Jorge Luis  20-94455219-8   \n",
      "1     24634  24860.0        ALARCON   LUCAS ARMANDO  20-38257639-0   \n",
      "2     19047  18240.0         BORDON    Anibal Jorge  20-21142907-1   \n",
      "3     25649  24866.0        BRANDAN  HECTOR GABRIEL  23-33210319-9   \n",
      "4     26231  25180.0  BRITOS CUENCA    JUAN GABRIEL  20-95613482-0   \n",
      "...     ...      ...            ...             ...            ...   \n",
      "1420  15023  15023.0       PASCUALI        Emiliano  23-32528636-9   \n",
      "1421  28220  32522.0           PINO    LUIS EDUARDO  20-32380187-9   \n",
      "1422   1693      NaN        PORCELO   RAMON ALFREDO  20-20760804-2   \n",
      "1423  28584  34763.0           RIOS   MARCOS ANDRES  20-43707251-6   \n",
      "1424   4752      NaN           SOSA  Victor Enrique  20-92734254-6   \n",
      "\n",
      "     Parentesco(Edad) FechaNacimiento Sexo EstadoCivil                Empresa  \\\n",
      "0        Titular (39)       23/4/1984    M   Soltero/a  4 DE NOVIEMBRE S.R.L.   \n",
      "1        Titular (29)        4/4/1994    M   Soltero/a  4 DE NOVIEMBRE S.R.L.   \n",
      "2        Titular (53)      18/12/1969    M    Casado/a  4 DE NOVIEMBRE S.R.L.   \n",
      "3        Titular (34)      20/12/1988    M   Soltero/a  4 DE NOVIEMBRE S.R.L.   \n",
      "4        Titular (35)       19/4/1988    M   Soltero/a  4 DE NOVIEMBRE S.R.L.   \n",
      "...               ...             ...  ...         ...                    ...   \n",
      "1420     Titular (36)       2/10/1986    M   Soltero/a       ZELCAR WASH S.A.   \n",
      "1421     Titular (37)        6/1/1986    M   Soltero/a       ZELCAR WASH S.A.   \n",
      "1422     Titular (54)       23/6/1969    M   Soltero/a       ZELCAR WASH S.A.   \n",
      "1423     Titular (21)       28/9/2001    M   Soltero/a       ZELCAR WASH S.A.   \n",
      "1424     Titular (57)       30/7/1965    M    Casado/a  ZEUS DRY CLEAN S.R.L.   \n",
      "\n",
      "      ... TitularCPostal               Sede     Provincia  \\\n",
      "0     ...           1439   BsAs - San Justo  BUENOS AIRES   \n",
      "1     ...           1881   BsAs - San Justo  BUENOS AIRES   \n",
      "2     ...           1722   BsAs - San Justo  BUENOS AIRES   \n",
      "3     ...           1758   BsAs - San Justo  BUENOS AIRES   \n",
      "4     ...           1832   BsAs - San Justo  BUENOS AIRES   \n",
      "...   ...            ...                ...           ...   \n",
      "1420  ...           1678   BsAs - San Justo  BUENOS AIRES   \n",
      "1421  ...           1702   BsAs - San Justo  BUENOS AIRES   \n",
      "1422  ...           1754   BsAs - San Justo  BUENOS AIRES   \n",
      "1423  ...           1678   BsAs - San Justo  BUENOS AIRES   \n",
      "1424  ...           1623  BsAs - San Martin  BUENOS AIRES   \n",
      "\n",
      "                 Localidad Tel_prefijo            Tel_numero  Cel_prefijo  \\\n",
      "0          CAPITAL FEDERAL         0.0  1126767712 concubina          NaN   \n",
      "1     SAN FRANCISCO SOLANO         NaN              42126327          NaN   \n",
      "2                    MERLO        -1.0            2204864756          NaN   \n",
      "3           GONZALEZ CATAN         NaN                   NaN          NaN   \n",
      "4          LOMAS DE ZAMORA         NaN            1151077653          NaN   \n",
      "...                    ...         ...                   ...          ...   \n",
      "1420               CASEROS         0.0                   NaN          NaN   \n",
      "1421             CIUDADELA         NaN                   NaN          NaN   \n",
      "1422             SAN JUSTO         0.0             5648-8668          NaN   \n",
      "1423               CASEROS         NaN                   NaN          NaN   \n",
      "1424   INGENIERO MASCHWITZ        -1.0          03488-444557          NaN   \n",
      "\n",
      "        Cel_numero                          Email                Condicion  \n",
      "0       1165662960        luisaguero344@gmail.com  Relacion de dependencia  \n",
      "1       1169319346     luca1994alarcon@gamail.com  Relacion de dependencia  \n",
      "2       1166791358     anibalbordon_7@hotmail.com  Relacion de dependencia  \n",
      "3       1130850524      gabybrandan2018@gmail.com  Relacion de dependencia  \n",
      "4       1551077675  juan-todopoderoso@hotmail.com  Relacion de dependencia  \n",
      "...            ...                            ...                      ...  \n",
      "1420    1125347799                            NaN  Relacion de dependencia  \n",
      "1421    1127110957       luispinocaro66@gmail.com  Relacion de dependencia  \n",
      "1422   152326-1685                            NaN  Relacion de dependencia  \n",
      "1423   113412-9539                            NaN  Relacion de dependencia  \n",
      "1424  03488-153114                            NaN  Relacion de dependencia  \n",
      "\n",
      "[1425 rows x 28 columns]\n"
     ]
    }
   ],
   "source": [
    "archivo = None\n",
    "\n",
    "while True:\n",
    "    archivo=funciones.seleccionar_archivo()\n",
    "    print(archivo)\n",
    "    if archivo:\n",
    "        ruta_archivo=archivo.name\n",
    "        try:\n",
    "            mutual=pd.read_csv(ruta_archivo, sep=';', encoding='ISO-8859-1')\n",
    "            print(mutual)\n",
    "            break\n",
    "        except UnicodeDecodeError:\n",
    "            print(\"Error de decodificación de caracteres. Intenta con otra codificación o archivo.\")\n",
    "            continue\n",
    "    else:\n",
    "        print(\"Archivo incorrecto. Por favor, vuelva a cargarlo.\")\n"
   ]
  },
  {
   "attachments": {},
   "cell_type": "markdown",
   "metadata": {},
   "source": [
    "### Transformacion"
   ]
  },
  {
   "cell_type": "code",
   "execution_count": 41,
   "metadata": {},
   "outputs": [
    {
     "name": "stdout",
     "output_type": "stream",
     "text": [
      "0     94455219\n",
      "1     38257639\n",
      "2     21142907\n",
      "3     33210319\n",
      "4     95613482\n",
      "5     95404802\n",
      "6     20474919\n",
      "7     25845063\n",
      "8     36518507\n",
      "9     33638382\n",
      "10    39982816\n",
      "11    14883045\n",
      "12    94954591\n",
      "13    24279792\n",
      "14    29429016\n",
      "15    22827807\n",
      "16    35978907\n",
      "17    29930320\n",
      "18    38427901\n",
      "19    38845834\n",
      "Name: DNI, dtype: object\n",
      "0           CRISóSTOMO ÁLVAREZ  4757\n",
      "1                     CALLE 824 2329\n",
      "2                    Saenz Peña 1541\n",
      "3                 EDUARDO SAENZ 7255\n",
      "4                       FILARDI 2232\n",
      "                    ...             \n",
      "1420                    LOURDES 3784\n",
      "1421          HIPOLITO YRIGOYEN  956\n",
      "1422                   CASERATA 4158\n",
      "1423             ARGIVEL ANDRES 1770\n",
      "1424    Nuestra Señora de Hitati 127\n",
      "Name: Direccion Completa, Length: 1425, dtype: object\n"
     ]
    }
   ],
   "source": [
    "mutual['Cuil/DNI'] = mutual['Cuil/DNI'].replace('-', '', regex = True)\n",
    "mutual['DNI'] = mutual['Cuil/DNI'].astype(str).str[2:10]\n",
    "print(mutual['DNI'].head(20))\n",
    "#Campo direccion\n",
    "mutual['Direccion Completa'] = mutual['TitularDomicilio'] + ' ' + mutual['TitularNroPuerta'].astype(str)\n",
    "print(mutual['Direccion Completa'])\n",
    "\n",
    "#sacar las provincias\n",
    "condicion_filtro=['Monotributo social DESREGULADO MEP','Monotributo social DESREGULADO EPV','Monotributo social DESREGULADO SD',\n",
    "               'Monotributo social DESREGULADO TIS','Monotributo social DESREGULADO MEP','Desempleado']\n",
    "filtro = padronCapita['Condicion'].isin(condicionFiltro)\n",
    "padronCapita = padronCapita.drop(padronCapita[filtro].index)\n"
   ]
  },
  {
   "attachments": {},
   "cell_type": "markdown",
   "metadata": {},
   "source": [
    "### Exportar el archivo"
   ]
  },
  {
   "cell_type": "code",
   "execution_count": 50,
   "metadata": {},
   "outputs": [],
   "source": [
    "mutual['P¢liza'] = ('')\n",
    "mutual['Otro ID'] = ('')\n",
    "mutual['Apellido Materno'] = ('')\n",
    "mutual['TE'] = ('')\n",
    "mutual['TE 2'] = ('')\n",
    "mutual['Fecha Inicio Vigencia'] = ('')\n",
    "mutual['Fecha Fin Vigencia'] = ('')\n",
    "padron_mutual = mutual[['DNI','P¢liza','Otro ID','Nombre', 'Apellido','Apellido Materno','TE','TE 2','Fecha Inicio Vigencia','Direccion Completa','Localidad','Provincia']]\n",
    "padron_mutual.head(5)\n",
    "save_path = filedialog.askdirectory()\n",
    "padron_mutual.to_excel(save_path + '\\padron_mutual.xlsx', engine='openpyxl', index=False)\n",
    "\n"
   ]
  }
 ],
 "metadata": {
  "kernelspec": {
   "display_name": ".venv",
   "language": "python",
   "name": "python3"
  },
  "language_info": {
   "codemirror_mode": {
    "name": "ipython",
    "version": 3
   },
   "file_extension": ".py",
   "mimetype": "text/x-python",
   "name": "python",
   "nbconvert_exporter": "python",
   "pygments_lexer": "ipython3",
   "version": "3.11.3"
  },
  "orig_nbformat": 4
 },
 "nbformat": 4,
 "nbformat_minor": 2
}
