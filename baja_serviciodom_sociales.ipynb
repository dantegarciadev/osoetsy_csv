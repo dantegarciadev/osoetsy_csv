{
 "cells": [
  {
   "cell_type": "code",
   "execution_count": 20,
   "metadata": {},
   "outputs": [],
   "source": [
    "import pandas as pd\n",
    "import numpy as np\n",
    "import xlwt\n",
    "import xlrd\n",
    "from tkinter import filedialog\n",
    "import tkinter as tk\n",
    "import customtkinter as ctk\n",
    "from customtkinter import filedialog\n",
    "import funciones\n",
    "import re\n",
    "import openpyxl"
   ]
  },
  {
   "cell_type": "markdown",
   "metadata": {},
   "source": [
    "### cruce de los archivos"
   ]
  },
  {
   "cell_type": "code",
   "execution_count": 21,
   "metadata": {},
   "outputs": [
    {
     "name": "stdout",
     "output_type": "stream",
     "text": [
      "<_io.TextIOWrapper name='C:/Users/zickd/Downloads/18255.csv' mode='r' encoding='cp1252'>\n",
      "Afil.               float64\n",
      "Benef.                int64\n",
      "Apellido             object\n",
      "Nombre               object\n",
      "Cuil/DNI             object\n",
      "dni                   int64\n",
      "Parentesco(Edad)     object\n",
      "FechaNacimiento      object\n",
      "Sexo                 object\n",
      "EstadoCivil          object\n",
      "Empresa              object\n",
      "TipoEmpresa          object\n",
      "SD                   object\n",
      "MT                   object\n",
      "OS                   object\n",
      "TitularDomicilio     object\n",
      "TitularNroPuerta      int64\n",
      "TitularPiso         float64\n",
      "TitularDpto          object\n",
      "TitularCPostal       object\n",
      "Sede                 object\n",
      "Provincia            object\n",
      "Localidad            object\n",
      "Tel_prefijo         float64\n",
      "Tel_numero           object\n",
      "Cel_prefijo         float64\n",
      "Cel_numero           object\n",
      "Email                object\n",
      "Condicion            object\n",
      "Padron Afiliados     object\n",
      "dtype: object\n"
     ]
    }
   ],
   "source": [
    "#  cargar padron de sidefi\n",
    "archivo = None\n",
    "while True:\n",
    "    archivo = funciones.seleccionar_archivo()\n",
    "    print(archivo)\n",
    "    if archivo:\n",
    "        ruta_archivo = archivo.name\n",
    "        try:\n",
    "            padron_sidefi = pd.read_csv(ruta_archivo, sep= \";\", encoding= \"ISO-8859-1\" )\n",
    "            print(padron_sidefi.dtypes)\n",
    "            break\n",
    "        except UnicodeDecodeError:\n",
    "            print(\"Error de decodificación de caracteres. Intenta con otra codificación o archivo.\")\n",
    "            continue\n",
    "    else:\n",
    "        print(\"Archivo incorrecto. Por favor, vuelva a cargarlo.\")\n"
   ]
  },
  {
   "cell_type": "code",
   "execution_count": 23,
   "metadata": {},
   "outputs": [
    {
     "name": "stdout",
     "output_type": "stream",
     "text": [
      "<_io.TextIOWrapper name='C:/Users/zickd/Downloads/afiliados (1).csv' mode='r' encoding='cp1252'>\n",
      "id                             int64\n",
      "id_estado                      int64\n",
      "id_plan                        int64\n",
      "id_sede                        int64\n",
      "id_empresa                     int64\n",
      "nombre                        object\n",
      "apellido                      object\n",
      "doc                           object\n",
      "id_tipo_doc                    int64\n",
      "pass                          object\n",
      "telefono                      object\n",
      "mail                          object\n",
      "localidad                     object\n",
      "cp                            object\n",
      "nro_credencial                object\n",
      "vto_credencial                object\n",
      "domicilio_residencia          object\n",
      "domicilio_correspondencia     object\n",
      "doc_titular                  float64\n",
      "tipo_doc_titular             float64\n",
      "fecha_baja                    object\n",
      "dtype: object\n"
     ]
    }
   ],
   "source": [
    "## cargar csv de la app\n",
    "archivo = None\n",
    "while True:\n",
    "    archivo = funciones.seleccionar_archivo()\n",
    "    print(archivo)\n",
    "    if archivo:\n",
    "        ruta_archivo = archivo.name\n",
    "        try:\n",
    "            app_signo = pd.read_csv(ruta_archivo, sep= \"|\", encoding= \"ISO-8859-1\" )\n",
    "            print(app_signo.dtypes)\n",
    "            break\n",
    "        except UnicodeDecodeError:\n",
    "            print(\"Error de decodificación de caracteres. Intenta con otra codificación o archivo.\")\n",
    "            continue\n",
    "    else:\n",
    "        print(\"Archivo incorrecto. Por favor, vuelva a cargarlo.\")\n"
   ]
  },
  {
   "cell_type": "code",
   "execution_count": 24,
   "metadata": {},
   "outputs": [],
   "source": [
    "# limpiar DNI\n",
    "app_signo[\"doc\"]= app_signo[\"doc\"].astype(str)\n",
    "app_signo[\"doc\"] = app_signo[\"doc\"].apply(lambda x: re.sub(r\"[^0-9]\", \"\", x))\n",
    "app_signo[\"doc\"] = pd.to_numeric(app_signo[\"doc\"], errors='coerce')\n",
    "app_signo[\"doc\"] = app_signo[\"doc\"].fillna(0)\n",
    "app_signo[\"doc\"]=app_signo[\"doc\"].astype(int)"
   ]
  },
  {
   "cell_type": "code",
   "execution_count": 25,
   "metadata": {},
   "outputs": [],
   "source": [
    "app_signo[\"doc\"]=app_signo[\"doc\"].fillna(0)\n",
    "app_signo[\"doc\"] = pd.to_numeric(app_signo[\"doc\"], errors='coerce')\n",
    "app_signo[\"doc\"]=app_signo[\"doc\"].fillna(0)\n"
   ]
  },
  {
   "cell_type": "markdown",
   "metadata": {},
   "source": [
    "### Merge"
   ]
  },
  {
   "cell_type": "code",
   "execution_count": 28,
   "metadata": {},
   "outputs": [],
   "source": [
    "efector_social = pd.merge(padron_sidefi, app_signo, left_on='dni', right_on= 'doc', how= 'left', indicator=True )\n",
    "\n",
    "save_path = filedialog.askdirectory()\n",
    "efector_social.to_excel(save_path + '\\efector_social.xlsx', engine='openpyxl' ,index = False )\n"
   ]
  }
 ],
 "metadata": {
  "kernelspec": {
   "display_name": ".venv",
   "language": "python",
   "name": "python3"
  },
  "language_info": {
   "codemirror_mode": {
    "name": "ipython",
    "version": 3
   },
   "file_extension": ".py",
   "mimetype": "text/x-python",
   "name": "python",
   "nbconvert_exporter": "python",
   "pygments_lexer": "ipython3",
   "version": "3.11.4"
  }
 },
 "nbformat": 4,
 "nbformat_minor": 2
}
